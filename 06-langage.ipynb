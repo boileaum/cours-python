{
 "cells": [
  {
   "cell_type": "markdown",
   "metadata": {
    "slideshow": {
     "slide_type": "slide"
    }
   },
   "source": [
    "# Le langage [3/3]\n",
    "\n",
    "![](fig/python-logo.png)\n",
    "\n",
    "- Structurer un programme\n",
    "- Notions de programmation objet\n",
    "- Classes en Python\n",
    "- Suite du micro-projet\n",
    "- Usages avancés\n",
    "\n",
    "***\n",
    "\n",
    "*Contenu sous licence [CC BY-SA 4.0](https://creativecommons.org/licenses/by-sa/4.0), fortement inspiré de <https://fitzinger.pages.math.unistra.fr/formation-python/>*"
   ]
  },
  {
   "cell_type": "markdown",
   "metadata": {
    "slideshow": {
     "slide_type": "slide"
    }
   },
   "source": [
    "## Structurer un programme\n",
    "\n",
    "### Pourquoi faire ?\n",
    "\n",
    "L'exemple du micro-projet est un script linéaire qui n'est pas réutilisable directement depuis un autre programe."
   ]
  },
  {
   "cell_type": "code",
   "execution_count": null,
   "metadata": {
    "slideshow": {
     "slide_type": "-"
    }
   },
   "outputs": [],
   "source": [
    "%edit ../J2/exos/meteo_json.py\n",
    "\"\"\"\n",
    "Process a weather forecast json file to plot the time evolution of today's\n",
    "temperature in Strasbourg\n",
    "\"\"\"\n",
    "\n",
    "import urllib.request, urllib.error, urllib.parse\n",
    "import json\n",
    "import matplotlib.pyplot as plt\n",
    "import matplotlib.image as mpimg\n",
    "import numpy as np\n",
    "\n",
    "jsonfile_url = \"http://www.prevision-meteo.ch/services/json/Strasbourg\"\n",
    "\n",
    "f = urllib.request.urlopen(jsonfile_url)  # open url\n",
    "json = json.loads(f.read().decode('utf8'))  # Read JSON file\n",
    "\n",
    "day = json['fcst_day_0']  # point the current day data\n",
    "day_hd = day['hourly_data']  # point to hourly data\n",
    "\n",
    "# Get tempe = [[h1, T1], [h2, T2], ...] list\n",
    "# where h1 is the time in hour and T2 is the temperature in deg. C\n",
    "tempe = []\n",
    "for hour, data in day_hd.items():\n",
    "    # get first part of time in \"00H00\" format and remove \"H00\"\n",
    "    # get temperature at 2m above ground 'TMP2m'\n",
    "    tempe.append([int(hour[:-3]), data['TMP2m']])\n",
    "# Alternative form using list comprehension:\n",
    "# tempe = [[int(hour[:-3]), data['TMP2m']] for hour, data in day_hd.iteritems()]\n",
    "\n",
    "tempe.sort()  # Sort temperatures according to the hour of day\n",
    "t = np.array(tempe).transpose()  # Transpose list of (hour, tempe)\n",
    "\n",
    "# Plot T = T(hour)\n",
    "fig = plt.figure()  # initialise figure\n",
    "title = \"{} {}\".format(day['day_long'], day['date'])\n",
    "fig.suptitle(title, fontsize=14, fontweight='bold')\n",
    "\n",
    "ax = fig.add_subplot(111)  # initialise a plot area\n",
    "fig.subplots_adjust(top=0.85)\n",
    "ax.set_title('Day temperature')\n",
    "ax.set_xlabel('Time [h]')\n",
    "ax.set_ylabel('Temperature [deg. C]')\n",
    "\n",
    "ax.plot(t[0], t[1])  # plot t[1] (tempe) as a function of t[0] (hour)\n",
    "\n",
    "# Add meteo icon to plot\n",
    "icon = urllib.request.urlopen(day['icon_big'])  # Open weather icon\n",
    "\n",
    "axicon = fig.add_axes([0.8, 0.8, 0.15, 0.15])\n",
    "img = mpimg.imread(icon)  # initialise image\n",
    "axicon.set_xticks([])  # Remove axes ticks\n",
    "axicon.set_yticks([])\n",
    "axicon.imshow(img)  # trigger the image show"
   ]
  },
  {
   "cell_type": "markdown",
   "metadata": {
    "slideshow": {
     "slide_type": "subslide"
    }
   },
   "source": [
    "Si on veut le réutiliser, il faut le structurer en fonctions que l'on peut appeler depuis un programme principal."
   ]
  },
  {
   "cell_type": "code",
   "execution_count": null,
   "metadata": {},
   "outputs": [],
   "source": [
    "%edit ../J2/exos/meteo_json_func.py\n",
    "#!/usr/bin/env python3\n",
    "\"\"\"\n",
    "Process a weather forecast json file to plot the time evolution of temperature\n",
    "of a given day in a given city\n",
    "\"\"\"\n",
    "\n",
    "import urllib.request\n",
    "import json\n",
    "import matplotlib.pyplot as plt\n",
    "import matplotlib.image as mpimg\n",
    "import numpy as np\n",
    "\n",
    "\n",
    "def get_city_from_user():\n",
    "    \"\"\"From user input, return a meteo json dictionary corresponding to city\"\"\"\n",
    "\n",
    "    while True:  # Infinite loop to handle city name input\n",
    "        city_name = input(\"Entrer la ville :\\n\")\n",
    "        jsonfile_url = \"http://www.prevision-meteo.ch/services/json/\"\\\n",
    "                       + city_name\n",
    "        f = urllib.request.urlopen(jsonfile_url)  # open url\n",
    "        city_json = json.loads(f.read().decode('utf8'))\n",
    "        if 'errors' in city_json:\n",
    "            print(\"{} n'existe pas dans la base. Essayez un autre nom.\"\n",
    "                  .format(city_name))\n",
    "        else:\n",
    "            return city_json\n",
    "\n",
    "\n",
    "def plot_day_tempe(city_json, day_key):\n",
    "    \"\"\"Plot Temperature vs hour from a json dictionary for a given day_key\"\"\"\n",
    "\n",
    "    city_name = city_json['city_info']['name']\n",
    "    day = city_json[day_key]\n",
    "    day_hd = day['hourly_data']  # point to hourly data\n",
    "\n",
    "    # Get tempe = [[h1, T1], [h2, T2], ...] list\n",
    "    # where h1 is the time in hour and T2 is the temperature in deg. C\n",
    "    tempe = []\n",
    "    for hour, data in day_hd.items():\n",
    "        # get first part of time in \"00H00\" format and remove \"H00\"\n",
    "        # get temperature at 2m above ground 'TMP2m'\n",
    "        tempe.append([int(hour[:-3]), data['TMP2m']])\n",
    "    # Alternative form using list comprehension:\n",
    "    # tempe = [[int(hour[:-3]), data['TMP2m']] for hour, data in day_hd.iteritems()]\n",
    "\n",
    "    tempe.sort()  # Sort temperatures according to the hour of day\n",
    "    t = np.array(tempe).transpose()  # Transpose list of (hour, tempe)\n",
    "\n",
    "    # Plot T = T(hour)\n",
    "    fig = plt.figure()  # initialise figure\n",
    "    title = \"{} {} à {}\".format(day['day_long'], day['date'], city_name)\n",
    "    fig.suptitle(title, fontsize=14, fontweight='bold')\n",
    "\n",
    "    ax = fig.add_subplot(111)  # initialise a plot area\n",
    "    fig.subplots_adjust(top=0.85)\n",
    "    ax.set_title('Evolution horaire')\n",
    "    ax.set_xlabel('Temps [h]')\n",
    "    ax.set_ylabel('Température [deg. C]')\n",
    "\n",
    "    ax.plot(t[0], t[1])  # plot t[1] (tempe) as a function of t[0] (hour)\n",
    "\n",
    "    # Add meteo icon to plot\n",
    "    icon = urllib.request.urlopen(day['icon_big'])  # Open weather icon\n",
    "\n",
    "    axicon = fig.add_axes([0.8, 0.8, 0.15, 0.15])\n",
    "    img = mpimg.imread(icon)  # initialise image\n",
    "    axicon.set_xticks([])  # Remove axes ticks\n",
    "    axicon.set_yticks([])\n",
    "    axicon.imshow(img)  # trigger the image show\n",
    "    plt.show()  # trigger the figure show\n",
    "\n",
    "\n",
    "def get_day(city_json):\n",
    "    \"\"\"From user input, return the day key in json dictonary\"\"\"\n",
    "\n",
    "    days = {day: data['day_long'] for day, data in city_json.items()\n",
    "            if day[:8] == \"fcst_day\"}  # Create {'fcst_day_#': week-day}\n",
    "    question = \"Choisir le jour :\\n\"\n",
    "    days_list = []  # Build ['fcst_day_#', week-day] sorted list\n",
    "    # This i-loop is required because \"days\" is not sorted:\n",
    "    for i in range(5):\n",
    "        key = \"fcst_day_{}\".format(i)\n",
    "        days_list.append([key, days[key]])\n",
    "        question = question + \"{}) {}\\n\".format(i, days[key])\n",
    "    while True:\n",
    "        try:\n",
    "            choice = int(input(question))  # Prompt user for day index\n",
    "            return days_list[choice][0]  # Return 'fcst_day_#'\n",
    "        except:\n",
    "            print(\"Entrée non valide.\")\n",
    "\n",
    "\n",
    "if __name__ == '__main__':\n",
    "    # This block is not executed if this file is imported as a module\n",
    "    city_json = get_city_from_user()  # get json dict from user input\n",
    "    day_key = get_day(city_json)  # get day key from user input\n",
    "    plot_day_tempe(city_json, day_key)  # plot day temperature evolution\n"
   ]
  },
  {
   "cell_type": "markdown",
   "metadata": {
    "slideshow": {
     "slide_type": "subslide"
    }
   },
   "source": [
    "Si on définit une nouvelle fonction pour récupérer le dictionnaire de la ville :"
   ]
  },
  {
   "cell_type": "code",
   "execution_count": null,
   "metadata": {},
   "outputs": [],
   "source": [
    "import sys\n",
    "\n",
    "def get_city(city_name):\n",
    "    \"\"\"return a meteo json dictionary corresponding to city_name\"\"\"\n",
    "\n",
    "    jsonfile_url = \"http://www.prevision-meteo.ch/services/json/\"\\\n",
    "                   + city_name\n",
    "    f = urllib.request.urlopen(jsonfile_url)  # open url\n",
    "    city_json = json.load(f)\n",
    "    if 'errors' in city_json:\n",
    "        msg = \"La ville n'est pas dans la base\"\n",
    "        sys.exit(msg)\n",
    "    else:\n",
    "        return city_json"
   ]
  },
  {
   "cell_type": "markdown",
   "metadata": {
    "slideshow": {
     "slide_type": "subslide"
    }
   },
   "source": [
    "On peut maintenant importer ses fonctions séparément :"
   ]
  },
  {
   "cell_type": "code",
   "execution_count": null,
   "metadata": {},
   "outputs": [],
   "source": [
    "city_json = get_city(\"Toulouse\")\n",
    "plot_day_tempe(city_json, 'fcst_day_1')"
   ]
  },
  {
   "cell_type": "markdown",
   "metadata": {
    "slideshow": {
     "slide_type": "slide"
    }
   },
   "source": [
    "## Notions de programmation orientée objet\n",
    "\n",
    "La [programmation orientée objet](https://fr.wikipedia.org/wiki/Programmation_orient%C3%A9e_objet) est un paradigme de programmation qui introduit en particulier les concepts suivants :\n",
    "\n",
    "- encapsulation\n",
    "- classes\n",
    "- objets\n",
    "- héritage"
   ]
  },
  {
   "cell_type": "markdown",
   "metadata": {
    "slideshow": {
     "slide_type": "subslide"
    }
   },
   "source": [
    "### Encapsulation\n",
    "\n",
    "L'encapsulation est la manière d'associer les données et les méthodes qui s'y appliquent dans un même type appelé objet."
   ]
  },
  {
   "cell_type": "markdown",
   "metadata": {
    "slideshow": {
     "slide_type": "fragment"
    }
   },
   "source": [
    "### Classes\n",
    "    \n",
    "- les classes définissent ces types par leurs attributs et leurs méthodes\n",
    "- les méthodes sont des fonctions qui permettent d'agir sur les attributs des objets."
   ]
  },
  {
   "cell_type": "markdown",
   "metadata": {
    "slideshow": {
     "slide_type": "fragment"
    }
   },
   "source": [
    "### Objets\n",
    "\n",
    "Les objets sont les instances de ces classes. Ils sont créés en *appelant* la classe comme une fonction :\n",
    "\n",
    "    a = MaClasse(45, True, 'toto')\n",
    "    b = MaClasse(78, False, 'titi')\n",
    "\n",
    "L'objet **`a`** est une instance de la classe **`MaClasse`**.  \n",
    "**`b`** est une autre instance de **`MaClasse`**."
   ]
  },
  {
   "cell_type": "markdown",
   "metadata": {
    "slideshow": {
     "slide_type": "subslide"
    }
   },
   "source": [
    "### Héritage\n",
    "\n",
    "- l'héritage permet de créer des classes dérivées qui partagent du code et des données de leur(s) parent(s)\n",
    "- les classes filles héritent des attributs et des méthodes de leur(s) parent(s)\n",
    "- Il est possible d'hériter de plusieurs classes. On parle alors d'héritage multiple."
   ]
  },
  {
   "cell_type": "markdown",
   "metadata": {
    "slideshow": {
     "slide_type": "slide"
    }
   },
   "source": [
    "## Classes en Python\n",
    "\n",
    "### Définir une classe\n",
    "\n",
    "Pour illustrer le mécanisme, on définit une classe appelée `Vecteur()` de la façon suivante :"
   ]
  },
  {
   "cell_type": "code",
   "execution_count": null,
   "metadata": {},
   "outputs": [],
   "source": [
    "class Vecteur():\n",
    "    commentaire = \"Cette classe est top\"\n",
    "\n",
    "    def __init__(self, x, y, z):\n",
    "        self.coord = [x, y, z]"
   ]
  },
  {
   "cell_type": "markdown",
   "metadata": {
    "slideshow": {
     "slide_type": "subslide"
    }
   },
   "source": [
    "### Instancier un objet\n",
    "\n",
    "- Pour instancier une classe, on utilise la notation d'appel de fonction\n",
    "- Cet appel renvoie une instance de la classe"
   ]
  },
  {
   "cell_type": "code",
   "execution_count": null,
   "metadata": {},
   "outputs": [],
   "source": [
    "v1 = Vecteur(1., 2., 3.)\n",
    "v2 = Vecteur(0., 0., 0.)"
   ]
  },
  {
   "cell_type": "markdown",
   "metadata": {},
   "source": [
    "- `v1` et `v2` sont deux instances de la classe `Vecteur`\n",
    "- **`self`** :\n",
    "    - est le premier argument de toutes les fonctions de la classe\n",
    "    - reçoit de manière automatique une référence à l'instance de l'objet\n",
    "    - est nommé ainsi par convention\n",
    "    - est omis lors de l'appel\n",
    "    - dans la définition de la classe les attributs sont référencés par la notation `self.un_attribut`\n",
    "- la méthode **`__init__()`**\n",
    "    - c'est la méthode qui est appelée automatiquement lors de l'instanciation\n",
    "    - elle est appelée *constructeur*\n",
    "    - elle reçoit les paramètres qui permettent l'initialisation de l'objet\n",
    "- Ici, `commentaire` est un attribut de la classe qui ne dépend pas de son instanciation"
   ]
  },
  {
   "cell_type": "code",
   "execution_count": null,
   "metadata": {},
   "outputs": [],
   "source": [
    "print(Vecteur.commentaire)"
   ]
  },
  {
   "cell_type": "markdown",
   "metadata": {
    "slideshow": {
     "slide_type": "subslide"
    }
   },
   "source": [
    "- `self.coord` est un attribut qui est construit lors de l'instanciation"
   ]
  },
  {
   "cell_type": "code",
   "execution_count": null,
   "metadata": {},
   "outputs": [],
   "source": [
    "print(v1.coord, v2.coord)\n",
    "print('commentaire' in dir(Vecteur))  # dir() renvoie la liste des attributs de l'objet\n",
    "print('commentaire' in dir(v1))\n",
    "print('coord' in dir(Vecteur))\n",
    "print('coord' in dir(v1))"
   ]
  },
  {
   "cell_type": "markdown",
   "metadata": {
    "slideshow": {
     "slide_type": "subslide"
    }
   },
   "source": [
    "### Surcharge d'opérateur\n",
    "\n",
    "La surcharge d'opérateur consiste à redéfinir des fonctions existantes de la classe.\n",
    "Ici, afin de représenter le contenu de l'objet, on surcharge la méthode `__repr__()`."
   ]
  },
  {
   "cell_type": "code",
   "execution_count": null,
   "metadata": {},
   "outputs": [],
   "source": [
    "class Vecteur():\n",
    "    commentaire = \"Cette classe est top\"\n",
    "\n",
    "    def __init__(self, x, y, z):\n",
    "        self.coord = [x, y, z]\n",
    "\n",
    "    def __repr__(self):\n",
    "        \"\"\"On surcharge l'opérateur __repr__ en renvoyant\n",
    "        une chaîne de caractère\"\"\"\n",
    "        s = ''\n",
    "        for c in self.coord:\n",
    "            s += '({})\\n'.format(c)\n",
    "        return s\n"
   ]
  },
  {
   "cell_type": "markdown",
   "metadata": {},
   "source": [
    "La fonction `print()` appliquée à l'instance fait un appel à `__repr__()`."
   ]
  },
  {
   "cell_type": "code",
   "execution_count": null,
   "metadata": {},
   "outputs": [],
   "source": [
    "v1 = Vecteur(1., 2., 3.)\n",
    "print(v1)\n"
   ]
  },
  {
   "cell_type": "markdown",
   "metadata": {
    "slideshow": {
     "slide_type": "subslide"
    }
   },
   "source": [
    "Un autre exemple de surcharge d'une fonction intrinsèque : `__add__()`\n"
   ]
  },
  {
   "cell_type": "code",
   "execution_count": null,
   "metadata": {},
   "outputs": [],
   "source": [
    "def __add__(self, v):\n",
    "    return Vecteur(self.coord[0] + v.coord[0],\n",
    "                   self.coord[1] + v.coord[1],\n",
    "                   self.coord[2] + v.coord[2])\n",
    "\n",
    "Vecteur.__add__ = __add__\n",
    "\n",
    "v1 = Vecteur(1., 2., 3.)\n",
    "v2 = Vecteur(3., 2., 1.)\n",
    "print(v1 + v2)"
   ]
  },
  {
   "cell_type": "markdown",
   "metadata": {
    "slideshow": {
     "slide_type": "subslide"
    }
   },
   "source": [
    "**Exercice :** Implémenter la méthode `scal()` qui renvoie le produit scalaire de deux vecteurs $(\\vec{v}\\cdot \\vec{w} = v_{x}w_{x}+v_{y}w_{y}+v_{z}w_{z})$."
   ]
  },
  {
   "cell_type": "code",
   "execution_count": null,
   "metadata": {},
   "outputs": [],
   "source": [
    "def scal(self, v):\n",
    "    # --- votre code ici ---\n",
    "    pass\n",
    "\n",
    "Vecteur.scal = scal\n",
    "\n",
    "v1 = Vecteur(2., 3., 4.)\n",
    "v2 = Vecteur(6., 4., 3.)\n",
    "print(v1.scal(v2))"
   ]
  },
  {
   "cell_type": "markdown",
   "metadata": {},
   "source": [
    "<button data-toggle=\"collapse\" data-target=\"#vecteur\" class='btn btn-primary'>Solution</button>\n",
    "<div id=\"vecteur\" class=\"collapse\">\n",
    "    \n",
    "```python\n",
    "class Vecteur():\n",
    "    commentaire = \"Cette classe est top\"\n",
    "\n",
    "    def __init__(self, x, y, z):\n",
    "        self.coord = [x, y, z]\n",
    "\n",
    "    def __repr__(self):\n",
    "        \"\"\"On surcharge l'opérateur __repr__ pour renvoyer\n",
    "        une chaîne de caractère\"\"\"\n",
    "        s = ''\n",
    "        for c in self.coord:\n",
    "            s += '({})\\n'.format(c)\n",
    "        return s\n",
    "\n",
    "    def __add__(self, v):\n",
    "        return Vecteur(self.coord[0] + v.coord[0],\n",
    "                       self.coord[1] + v.coord[1],\n",
    "                       self.coord[2] + v.coord[2])\n",
    "\n",
    "    def scal(self, v):\n",
    "        return (self.coord[0]*v.coord[0] +\n",
    "                self.coord[1]*v.coord[1] +\n",
    "                self.coord[2]*v.coord[2])\n",
    "\n",
    "if __name__ == '__main__':\n",
    "\n",
    "    v1 = Vecteur(2., 3., 4.)\n",
    "    v2 = Vecteur(6., 4., 3.)\n",
    "    print(v1)\n",
    "    print(v2)\n",
    "    print(v1 + v2)\n",
    "    print(v1.scal(v2))\n",
    "```"
   ]
  },
  {
   "cell_type": "markdown",
   "metadata": {
    "slideshow": {
     "slide_type": "subslide"
    }
   },
   "source": [
    "### Héritage\n",
    "\n",
    "Pour spécifier les classes dont on hérite, il suffit de les lister en paramètres de la définition de classe :\n",
    "\n",
    "    class Fille(Parent1, Parent2):\n",
    "        pass\n",
    "\n",
    "> **Note :** Nous n'aborderons pas les classes ayant plusieurs ancêtres dans le cadre de ce cours. Vous trouverez la documentation sur ce sujet [ici](https://docs.python.org/3/tutorial/classes.html#inheritance).\n",
    "\n",
    "En guise d'exemple, prenons la classe ci-dessous."
   ]
  },
  {
   "cell_type": "code",
   "execution_count": null,
   "metadata": {},
   "outputs": [],
   "source": [
    "class Humain():\n",
    "\n",
    "    def __init__(self, nom, age):\n",
    "        self.nom = nom\n",
    "        self.age = age\n",
    "\n",
    "    def vieux(self):\n",
    "        return self.age >= 50"
   ]
  },
  {
   "cell_type": "markdown",
   "metadata": {
    "slideshow": {
     "slide_type": "subslide"
    }
   },
   "source": [
    "Créons maintenant des instances de cette classe."
   ]
  },
  {
   "cell_type": "code",
   "execution_count": null,
   "metadata": {
    "slideshow": {
     "slide_type": "-"
    }
   },
   "outputs": [],
   "source": [
    "a = Humain('Alain', 42)\n",
    "b = Humain('Bertrand', 53)\n",
    "c = Humain('Corine', 37)\n",
    "\n",
    "fratrie = [a, b ,c]\n",
    "\n",
    "for h in fratrie:\n",
    "    print('{} est {}'.format(h.nom, 'vieux' if h.vieux() else 'jeune' ))"
   ]
  },
  {
   "cell_type": "markdown",
   "metadata": {
    "slideshow": {
     "slide_type": "subslide"
    }
   },
   "source": [
    "Illustrons maintenant le mécanisme d'héritage."
   ]
  },
  {
   "cell_type": "code",
   "execution_count": null,
   "metadata": {},
   "outputs": [],
   "source": [
    "class Personne(Humain):\n",
    "    \n",
    "    def __init__(self, nom, age, sexe):\n",
    "        super(Personne, self).__init__(nom, age)\n",
    "        self.sexe = sexe\n",
    "    \n",
    "    def porte_les_bebes(self):\n",
    "        return self.sexe.lower() in ('f', 'femme', 'fille')\n",
    "\n",
    "    \n",
    "a = Personne('Alain', 42, 'h')\n",
    "b = Personne('Bertrand', 53, 'h')\n",
    "c = Personne('Corinne', 37, 'f')\n",
    "\n",
    "pfratrie = [a, b ,c]"
   ]
  },
  {
   "cell_type": "markdown",
   "metadata": {},
   "source": [
    "- Ici, nous faisons hériter la classe **`Humain`** à la classe **`Personne`**\n",
    "- La classe **`Personne`** hérite des méthodes de la **`Humain`**"
   ]
  },
  {
   "cell_type": "code",
   "execution_count": null,
   "metadata": {},
   "outputs": [],
   "source": [
    "for p in pfratrie:\n",
    "    print('{} est {}'.format(p.nom, 'vieux' if p.vieux() else 'jeune' ))"
   ]
  },
  {
   "cell_type": "markdown",
   "metadata": {
    "slideshow": {
     "slide_type": "subslide"
    }
   },
   "source": [
    "- En redéfinissant la fonction **`__init__()`**, nous *surchargeons* la classe **`Humain`**.\n",
    "- La fonction **`super()`** permet d'appeler le constructeur de la classe mère.\n",
    "- En définissant la fonction **`porte_les_bebes()`**, nous *étendons* la classe **`Humain`**."
   ]
  },
  {
   "cell_type": "code",
   "execution_count": null,
   "metadata": {
    "slideshow": {
     "slide_type": "-"
    }
   },
   "outputs": [],
   "source": [
    "for p in pfratrie:\n",
    "    if p.porte_les_bebes():\n",
    "        print('{} peut porter des bébés'.format(p.nom))"
   ]
  },
  {
   "cell_type": "markdown",
   "metadata": {
    "slideshow": {
     "slide_type": "slide"
    }
   },
   "source": [
    "## Suite du micro-projet\n",
    "\n",
    "### Objectif pédagogique\n",
    "\n",
    "- Manipuler les fonctions\n",
    "- Manipuler les classes\n",
    "    - Définition\n",
    "    - Instanciation\n",
    "    - Accès aux attributs\n",
    "    - Appel des méthodes\n",
    "- Structurer un projet\n",
    "- Gestion des arguments en ligne de commande\n",
    "- Mettre en place des tests unitaires"
   ]
  },
  {
   "cell_type": "markdown",
   "metadata": {
    "slideshow": {
     "slide_type": "subslide"
    }
   },
   "source": [
    "### Exercice sur les classes\n",
    "\n",
    "On veut superposer les courbes *heure-température* de plusieurs villes sur le même graphe. Pour ce faire, il faut :\n",
    "\n",
    "1. Définir une classe **`City`** qui dispose d'une méthode qui retourne les tableaux 1D *hour* et *temperature* pour un jour donné.\n",
    "2. Instancier cette classe pour construire autant d'objets **City** que nécessaire\n",
    "3. Appeler une fonction qui admet comme arguments les objets **City** ainsi que le numéro du jour\n",
    "\n",
    "Pour vous simplifier le travail, nous avons écrit l'ébauche d'un script python dans [exos/meteo.py](http://localhost:8888/edit/J3/exos/meteo.py). En l'état, ce script s'exécute mais ne fait rien. Editez-le dans Spyder et écriver le code nécessaire pour le rendre fonctionnel là où les commentaires vous y invitent."
   ]
  },
  {
   "cell_type": "markdown",
   "metadata": {
    "slideshow": {
     "slide_type": "subslide"
    }
   },
   "source": [
    "Lorsque votre implantation sera terminée, la cellule ci-dessous devra s'exécuter correctement.\n",
    "\n",
    "> **Note :** Pour importer le module `meteo` depuis le package `exos`, il faut que le répertoire `exos` contiennent un fichier `__init__.py`"
   ]
  },
  {
   "cell_type": "code",
   "execution_count": null,
   "metadata": {},
   "outputs": [],
   "source": [
    "from exos.correction import meteo_city as meteo\n",
    "toulouse = meteo.City('Toulouse')\n",
    "paris = meteo.City('Paris')\n",
    "meteo.plot_day_temperature(toulouse, paris, day_number=3)"
   ]
  },
  {
   "cell_type": "code",
   "execution_count": null,
   "metadata": {},
   "outputs": [],
   "source": [
    "help(meteo)"
   ]
  },
  {
   "cell_type": "markdown",
   "metadata": {
    "slideshow": {
     "slide_type": "subslide"
    }
   },
   "source": [
    "### Exercice avec `argparse`\n",
    "\n",
    "Dans un nouveau fichier python :\n",
    "- importer le fichier `J3/exos/correction/meteo_city.py` comme un module\n",
    "- ajoutez la gestion des arguments en ligne de commande avec `argparse` (cf. [Gestion des arguments](../J2/03-InitPython-microprojet.ipynb#Gestion-des-arguments))\n",
    "\n",
    "<button data-toggle=\"collapse\" data-target=\"#meteo_argparse\" class='btn btn-primary'>Solution</button>\n",
    "<div id=\"meteo_argparse\" class=\"collapse\">\n",
    "    \n",
    "```python\n",
    "\"\"\"\n",
    "Process weather forecast json files to plot the time evolution of temperature\n",
    "\"\"\"\n",
    "\n",
    "from correction import meteo_city as mc\n",
    "import argparse\n",
    "\n",
    "URL_PREFIX = \"http://www.prevision-meteo.ch/services/json/\"\n",
    "\n",
    "\n",
    "def do_argparse():\n",
    "    \"\"\"Handle command-line arguments\"\"\"\n",
    "\n",
    "    parser = argparse.ArgumentParser(description='Process some integers.')\n",
    "    parser.add_argument('-d', '--day', metavar='INTEGER', default=0, type=int,\n",
    "                        help='day for the weather forecast (0 to 4)')\n",
    "    parser.add_argument('city', metavar='STRING', nargs='*',\n",
    "                        help='city for which to get the weather forecast')\n",
    "    return parser.parse_args()\n",
    "\n",
    "if __name__ == '__main__':\n",
    "    # This block is not executed if this file is imported as a module\n",
    "    args = do_argparse()\n",
    "\n",
    "    if args.city:\n",
    "        cities = [mc.City(city_name) for city_name in args.city]\n",
    "    else:\n",
    "        city_name = input(\"Enter city:\\n\")\n",
    "        cities = (mc.City(city_name),)\n",
    "\n",
    "    mc.plot_day_temperature(*cities, day_number=args.day)\n",
    "```"
   ]
  },
  {
   "cell_type": "markdown",
   "metadata": {
    "slideshow": {
     "slide_type": "subslide"
    }
   },
   "source": [
    "### Exercice sur l'héritage\n",
    "\n",
    "Toujours dans l'objectif de superposer des courbes de températures, on veut pouvoir charger également des données définies par leurs coordonnées géographiques.\n",
    "\n",
    "En effet, le site www.prevision-meteo.ch supporte les requêtes sous la forme   \n",
    "http://www.prevision-meteo.ch/services/json/lat=45.32lng=10  \n",
    "où `lat=45.32lng=10` désigne la latitude et la longitude.  \n",
    "\n",
    "Pour ce faire, à partir de la classe **`City`**, on va dériver la classe **`Location`** qui sera instanciée de la façon suivante :\n",
    "```\n",
    "trou_perdu = Location(lat=45.32, lng=10)\n",
    "```\n",
    "\n",
    "À partir du fichier [exos/correction/meteo_city.py](http://localhost:8888/edit/exos/correction/meteo_city.py), écrivez la classe dérivée **`Location`**.  \n",
    "Lorsque votre implantation sera terminée, la cellule ci-dessous devra s'exécuter correctement."
   ]
  },
  {
   "cell_type": "code",
   "execution_count": null,
   "metadata": {
    "slideshow": {
     "slide_type": "subslide"
    }
   },
   "outputs": [],
   "source": [
    "from exos import meteo\n",
    "toulouse = meteo.City('Toulouse')\n",
    "paris = meteo.City('Paris')\n",
    "# --- Décommentez ci-dessous ---\n",
    "# trou_perdu = meteo.Location(lat=45.32, lng=10)\n",
    "# meteo.plot_day_temperature(toulouse, paris, trou_perdu, day_number=3)"
   ]
  },
  {
   "cell_type": "code",
   "execution_count": null,
   "metadata": {},
   "outputs": [],
   "source": [
    "help(meteo.City)"
   ]
  },
  {
   "cell_type": "markdown",
   "metadata": {
    "slideshow": {
     "slide_type": "-"
    }
   },
   "source": [
    "#### Exercice bonus\n",
    "\n",
    "Continuez a augmenter l'ergonomie de votre script en ajoutant/modifiant une ou plusieurs options en ligne de commande pour gérer les localisations, les villes, etc..."
   ]
  },
  {
   "cell_type": "markdown",
   "metadata": {
    "slideshow": {
     "slide_type": "slide"
    }
   },
   "source": [
    "## Usages avancés\n",
    "\n",
    "- expressions lambda\n",
    "- tests unitaires\n",
    "- installer des paquets\n",
    "- environnements virtuels\n",
    "- chaînes de documentation"
   ]
  },
  {
   "cell_type": "markdown",
   "metadata": {
    "slideshow": {
     "slide_type": "slide"
    }
   },
   "source": [
    "### Les expressions lambda\n",
    "\n",
    "Elles permettent de définir très concisement des fonctions anonymes (sans nom, comme avec ``def``).\n",
    "\n",
    "    # Création d'une fonction et assignation a une variable\n",
    "    func = lambda [arg1]...: expr\n",
    "    # Appel de fonction par la variable\n",
    "    func(...)\n",
    "\n",
    "ce qui est équivalent à:\n",
    "\n",
    "    def _noname([arg1]...):\n",
    "        return expr\n",
    "    \n",
    "    func = _noname\n",
    "    del _noname\n",
    "    \n",
    "    func(...)\n",
    "\n",
    "En plus court...\n",
    "\n",
    "\n",
    "Plus d'informations sur les expressions [``lambda``](https://docs.python.org/3/tutorial/controlflow.html#lambda-expressions)."
   ]
  },
  {
   "cell_type": "markdown",
   "metadata": {
    "slideshow": {
     "slide_type": "subslide"
    }
   },
   "source": [
    "Elles sont utilisées par exemple, pour passer des petits bouts de code en paramètre à d'autres fonctions :"
   ]
  },
  {
   "cell_type": "code",
   "execution_count": null,
   "metadata": {
    "slideshow": {
     "slide_type": "-"
    }
   },
   "outputs": [],
   "source": [
    "L1 = list('AlpHabetIZation')\n",
    "L2 = list(L1)\n",
    "print(L1)\n",
    "L1.sort(key=lambda x: x.lower())\n",
    "print('A'.lower())\n",
    "L2.sort()\n",
    "print(L1)\n",
    "print(L2)"
   ]
  },
  {
   "cell_type": "markdown",
   "metadata": {
    "slideshow": {
     "slide_type": "slide"
    }
   },
   "source": [
    "### Les tests unitaires\n",
    "\n",
    "Python permet d'écrire assez facilement des tests unitaires, grâce au module [``unittest``](https://docs.python.org/3/library/unittest.html) de sa librairie standard. Ce module ressemble assez aux tests unitaires java [JUnit](http://junit.org).\n",
    "\n",
    "- [exos/vieux.py](exos/vieux.py) :\n",
    "    - C'est un exemple d'utilisation, sous la forme d'un module importable\n",
    "    - Il définit une fonction **``vieux(age)``** qui retourne une valeur booléenne indiquant si l'age donné est au-dessus d'un seuil (une constante du module)\n",
    "    - Cette fonction lève des exceptions si le paramètre donné n'est pas valide\n",
    "- [exos/tunitaires.py](exos/tunitaires.py) est un module contenant le code qui permet de tester la fonction **``vieux.vieux()``**"
   ]
  },
  {
   "cell_type": "code",
   "execution_count": null,
   "metadata": {},
   "outputs": [],
   "source": [
    "%run exos/tunitaires.py -v"
   ]
  },
  {
   "cell_type": "markdown",
   "metadata": {
    "slideshow": {
     "slide_type": "subslide"
    }
   },
   "source": [
    "- Il existe une autre philosophie de tests intégrés à la documentation interne : le module [``doctest``](https://docs.python.org/3/library/doctest.html).\n",
    "- Il est possible de combiner ces solutions de testing/documentation.\n",
    "\n",
    "En pratique dans des projets plus importants, les tests sont agencés en une suite de tests.\n",
    "L'exécution des suites de tests est effectuée grâce a des pilotes comme [py.test](http://pytest.org) ou [nose](http://nose.readthedocs.io/en/latest/index.html). Ces pilotes permettent, entre autres, le lancement de multiples tests en parallèle ainsi que des rapports de couverture de code."
   ]
  },
  {
   "cell_type": "markdown",
   "metadata": {
    "slideshow": {
     "slide_type": "fragment"
    }
   },
   "source": [
    "#### Exercice\n",
    "\n",
    "- Ajoutez un module de tests unitaires pour le projet météo."
   ]
  },
  {
   "cell_type": "markdown",
   "metadata": {
    "slideshow": {
     "slide_type": "slide"
    }
   },
   "source": [
    "### Installer des paquets\n",
    "\n",
    "Pour installer des modules additionnels disponibles par exemple sur le [Python Package Index](https://pypi.python.org/pypi), vous pouvez utiliser le gestionnaire de paquet [``pip``](https://pip.pypa.io)\n",
    "\n",
    "    pip install valerius\n",
    "\n",
    "Cette commande fera une installation système (il vous faut donc être administrateur de la machine) mais vous pouvez faire une installation dans votre compte avec l'option ``--user``. Il faudra alors ajouter le chemin ``~/.local/lib/python3.5/site-packages`` à la variable d'environnement ``PYTHONPATH`` pour que python trouve les paquets isntallés au moment d'un ``import``.\n",
    "\n",
    "Pour fabriquer des paquets installables de cette manière, visitez [cette page](https://packaging.python.org/)."
   ]
  },
  {
   "cell_type": "markdown",
   "metadata": {
    "slideshow": {
     "slide_type": "slide"
    }
   },
   "source": [
    "### Environnements virtuels\n",
    "\n",
    "Pour pouvoir profiter de plusieurs environnements python qui ont des modules différents installés, il y a le mécanisme  [venv](https://docs.python.org/3/library/venv.html).\n",
    "\n",
    "```\n",
    "$ mkdir test_py35\n",
    "$ virtualenv -p python3.5 test_py35\n",
    "$ test_py35/bin/activate\n",
    "(test_py35) $\n",
    "```\n",
    "\n",
    "Vous êtes alors dans un environnement où vous pouvez installer des paquets indépendemment du système :\n",
    "\n",
    "    (test_py35) $ pip install valerius"
   ]
  },
  {
   "cell_type": "markdown",
   "metadata": {
    "slideshow": {
     "slide_type": "slide"
    }
   },
   "source": [
    "## Les chaînes de documentation\n",
    "\n",
    "- Dans chaque entité de type module, classe, fonction, etc., on peut insérer une ligne de code sous la forme d'une chaîne de caractères qui sera considérée comme la documentation de cette entité\n",
    "- Cette documentation sera accessible grâce a la fonction interne ``help()``.\n",
    "- Il est possible d'utiliser ces ``docstring`` pour d'autres usages, comme la génération automatique de pages de  documentation HTML ou de contenir le code de tests unitaires (c.f. [``doctest``](https://docs.python.org/3/library/doctest.html))."
   ]
  },
  {
   "cell_type": "code",
   "execution_count": null,
   "metadata": {},
   "outputs": [],
   "source": [
    "class LaClasse():\n",
    "    '''La classe, c'est la classe'''\n",
    "    pass\n",
    "\n",
    "def func():\n",
    "    '''La fonction func() nous met le funk !'''\n",
    "    pass\n",
    "\n",
    "help(LaClasse)\n",
    "help(func)"
   ]
  }
 ],
 "metadata": {
  "celltoolbar": "Slideshow",
  "kernelspec": {
   "display_name": "Python 3",
   "language": "python",
   "name": "python3"
  },
  "language_info": {
   "codemirror_mode": {
    "name": "ipython",
    "version": 3
   },
   "file_extension": ".py",
   "mimetype": "text/x-python",
   "name": "python",
   "nbconvert_exporter": "python",
   "pygments_lexer": "ipython3",
   "version": "3.6.2"
  }
 },
 "nbformat": 4,
 "nbformat_minor": 1
}
