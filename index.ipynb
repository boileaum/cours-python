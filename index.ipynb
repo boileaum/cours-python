{
 "cells": [
  {
   "cell_type": "markdown",
   "metadata": {
    "slideshow": {
     "slide_type": "slide"
    }
   },
   "source": [
    "\n",
    " ![](fig/python-logo.png)\n",
    "\n",
    "### Master 2 DUAS Unistra,  2017-2018\n",
    "\n",
    "***\n",
    "\n",
    "# Programmer en Python\n",
    "***\n",
    "\n",
    "\n",
    "\n",
    "## Contenu\n",
    "\n",
    "- **Les généralités** [[notebook](http://nbviewer.jupyter.org/urls/mm2act.pages.math.unistra.fr/cours-python/01-CoursPython-generalites.ipynb) | [diaporama](01-CoursPython-generalites.slides.html) | [archive](ponte-01-CoursPython-generalites.zip)]\n",
    "- **Le langage (1)** [[notebook](http://nbviewer.jupyter.org/urls/mm2act.pages.math.unistra.fr/cours-python/02-CoursPython-langage.ipynb) | [diaporama](02-CoursPython-langage.slides.html) | [archive](ponte-02-CoursPython-langage.zip)]\n",
    "- **Le langage (2)** [[notebook](http://nbviewer.jupyter.org/urls/mm2act.pages.math.unistra.fr/cours-python/03-CoursPython-langage.ipynb) | [diaporama](03-CoursPython-langage.slides.html) | [archive](ponte-03-CoursPython-langage.zip)]\n",
    "- **Un projet** \n",
    "- **Le langage (3)**\n",
    "\n",
    "***\n",
    "Matthieu Boileau - [matthieu.boileau@math.unistra.fr](mailto: matthieu.boileau@math.unistra.fr)\n",
    "\n",
    "*Contenu sous licence [CC BY-SA 4.0](https://creativecommons.org/licenses/by-sa/4.0)*\n"
   ]
  }
 ],
 "metadata": {
  "language_info": {
   "name": "python",
   "pygments_lexer": "ipython3"
  }
 },
 "nbformat": 4,
 "nbformat_minor": 1
}
