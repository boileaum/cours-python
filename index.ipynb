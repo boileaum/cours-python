{
 "cells": [
  {
   "cell_type": "markdown",
   "metadata": {
    "slideshow": {
     "slide_type": "slide"
    }
   },
   "source": [
    "\n",
    " ![](fig/python-logo.png)\n",
    "\n",
    "### Master 2 DUAS Unistra,  2017-2018\n",
    "\n",
    "***\n",
    "\n",
    "# Programmer en Python\n",
    "***\n",
    "\n",
    "\n",
    "\n",
    "## Contenu\n",
    "\n",
    "- **Les généralités** - [html](01-generalites.html) - [diaporama](01-generalites.slides.html)\n",
    "- **Le langage (1)** - [html](02-langage.html) - [diaporama](02-langage.slides.html)\n",
    "- **Le langage (2)** - [html](03-langage.html) - [diaporama](03-langage.slides.html)\n",
    "- **Numpy** - [html](04-numpy.html) - [diaporama](04-numpy.slides.html)\n",
    "- **Microprojet** - [html](05-microprojet.html) - [diaporama](05-microprojet.slides.html)\n",
    "- **Le langage (3)** - [html](06-langage.html) - [diaporama](06-langage.slides.html)\n",
    "- **Pandas** - [html](07-pandas.html) - [diaporama](07-pandas.slides.html)\n",
    "\n",
    "\n",
    "**Exécuter en ligne**\n",
    "<a href=\"https://mybinder.org/v2/gh/boileaum/cours-python/master\"><img style=\"display: inline\" src=\"https://mybinder.org/badge.svg\"></a>\n",
    "\n",
    "**Télécharger le** [**pdf**](cours-python.pdf)\n",
    "\n",
    "**Sources sur **[**GitLab**](https://gitlab.math.unistra.fr/mm2act/cours-python)\n",
    "\n",
    "***\n",
    "Matthieu Boileau - [matthieu.boileau@math.unistra.fr](mailto: matthieu.boileau@math.unistra.fr)  \n",
    "Vincent Legoll - [vincentlegoll@gmail.com](mailto: vincent.legoll@gmail.com)\n",
    "\n",
    "*Contenu mis à disposition sous licence [CC BY-SA 4.0](https://creativecommons.org/licenses/by-sa/4.0)*"
   ]
  }
 ],
 "metadata": {
  "kernelspec": {
   "display_name": "Python 3",
   "language": "python",
   "name": "python3"
  },
  "language_info": {
   "codemirror_mode": {
    "name": "ipython",
    "version": 3
   },
   "file_extension": ".py",
   "mimetype": "text/x-python",
   "name": "python",
   "nbconvert_exporter": "python",
   "pygments_lexer": "ipython3",
   "version": "3.6.2"
  }
 },
 "nbformat": 4,
 "nbformat_minor": 2
}
