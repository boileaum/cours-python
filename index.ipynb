{
 "cells": [
  {
   "cell_type": "markdown",
   "metadata": {
    "slideshow": {
     "slide_type": "slide"
    }
   },
   "source": [
    "\n",
    " ![](fig/python-logo.png)\n",
    "\n",
    "# Introduction à la Programmation Python\n",
    "***\n",
    "\n",
    "Formation permanente du CNRS, Délégation Alsace\n",
    "\n",
    "Février - Mars 2017\n",
    "\n",
    "***\n",
    "\n",
    "**Auteurs :**\n",
    "\n",
    "- Vincent Legoll ([vincent.legoll@iphc.cnrs.fr](mailto: vincent.legoll@iphc.cnrs.fr))\n",
    "- Matthieu Boileau ([matthieu.boileau@math.unistra.fr](mailto: matthieu.boileau@math.unistra.fr))\n",
    "\n",
    "## Contenu\n",
    "\n",
    "Le matériel de cours est contenu dans les cinq diaporamas ci-dessous correspondant à cinq notebooks jupyter hébergés sur [ce dépôt](https://gitlab.math.unistra.fr/fitzinger/formation-python) :\n",
    "\n",
    "- **Les généralités** [[notebook](http://nbviewer.jupyter.org/urls/fitzinger.pages.math.unistra.fr/formation-python/00-InitPython-generalites.ipynb) | [diaporama](00-InitPython-generalites.slides.html)]\n",
    "- **Le langage 1/3** [[notebook](http://nbviewer.jupyter.org/urls/fitzinger.pages.math.unistra.fr/formation-python/01-InitPython-langage.ipynb) | [diaporama](01-InitPython-langage.slides.html)]\n",
    "- **Le langage 2/3** [[notebook](http://nbviewer.jupyter.org/urls/fitzinger.pages.math.unistra.fr/formation-python/02-InitPython-langage.ipynb) | [diaporama](02-InitPython-langage.slides.html)]\n",
    "- **Un microprojet** [[notebook](http://nbviewer.jupyter.org/urls/fitzinger.pages.math.unistra.fr/formation-python/03-InitPython-microprojet.ipynb) | [diaporama](03-InitPython-microprojet.slides.html)]\n",
    "- **Le langage 3/3** [[notebook](http://nbviewer.jupyter.org/urls/fitzinger.pages.math.unistra.fr/formation-python/04-InitPython-langage.ipynb) | [diaporama](04-InitPython-langage.slides.html)]\n",
    "\n",
    "####  Archives des TP [ [Jour 1](ponte-J1.zip) | [Jour 2](ponte-J2.zip) | [Jour 3](ponte-J3.zip) ]\n",
    "\n",
    "*Contenu sous licence [CC BY-SA 4.0](https://creativecommons.org/licenses/by-sa/4.0)*\n"
   ]
  }
 ],
 "metadata": {
  "kernelspec": {
   "display_name": "Python 3",
   "language": "python",
   "name": "python3"
  },
  "language_info": {
   "codemirror_mode": {
    "name": "ipython",
    "version": 3
   },
   "file_extension": ".py",
   "mimetype": "text/x-python",
   "name": "python",
   "nbconvert_exporter": "python",
   "pygments_lexer": "ipython3",
   "version": "3.6.0"
  }
 },
 "nbformat": 4,
 "nbformat_minor": 0
}
