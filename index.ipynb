{
 "cells": [
  {
   "cell_type": "markdown",
   "metadata": {
    "slideshow": {
     "slide_type": "slide"
    }
   },
   "source": [
    "\n",
    " ![](fig/python-logo.png)\n",
    "\n",
    "### Master 2 DUAS,  2017-2018\n",
    "\n",
    "***\n",
    "\n",
    "# Programmer en Python\n",
    "***\n",
    "\n",
    "Matthieu Boileau - [matthieu.boileau@math.unistra.fr](mailto: matthieu.boileau@math.unistra.fr)\n",
    "\n",
    "\n",
    "## Contenu\n",
    "\n",
    "- **Les généralités** [[notebook](http://nbviewer.jupyter.org/urls/mm2act.pages.math.unistra.fr/cours-python/01-CoursPython-generalites.ipynb) | [diaporama](01-CoursPython-generalites.slides.html)]\n",
    "- **Le langage (1)** [[notebook](http://nbviewer.jupyter.org/urls/mm2act.pages.math.unistra.fr/cours-python/02-CoursPython-langage.ipynb) | [diaporama](02-CoursPython-langage.slides.html)]\n",
    "- **Le langage (2)**\n",
    "- **Un projet** \n",
    "- **Le langage (3)**\n",
    "\n",
    "####  Archives des TP [ [Jour 1](ponte-J1.zip) | [Jour 2](ponte-J2.zip) | [Jour 3](ponte-J3.zip) ]\n",
    "\n",
    "*Contenu sous licence [CC BY-SA 4.0](https://creativecommons.org/licenses/by-sa/4.0)*\n"
   ]
  }
 ],
 "metadata": {
  "kernelspec": {
   "display_name": "Python 3",
   "language": "python",
   "name": "python3"
  },
  "language_info": {
   "codemirror_mode": {
    "name": "ipython",
    "version": 3
   },
   "file_extension": ".py",
   "mimetype": "text/x-python",
   "name": "python",
   "nbconvert_exporter": "python",
   "pygments_lexer": "ipython3",
   "version": "3.6.2"
  }
 },
 "nbformat": 4,
 "nbformat_minor": 1
}
