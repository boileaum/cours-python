{
 "cells": [
  {
   "cell_type": "markdown",
   "metadata": {
    "slideshow": {
     "slide_type": "slide"
    }
   },
   "source": [
    "# Microprojet\n",
    "\n",
    "![](fig/python-logo.png)\n",
    "\n",
    "\n",
    "- Objectif pédagogique\n",
    "- Exercice\n",
    "\n",
    "***\n",
    "\n",
    "*Contenu sous licence [CC BY-SA 4.0](https://creativecommons.org/licenses/by-sa/4.0), largement inspiré de <https://fitzinger.pages.math.unistra.fr/formation-python/>*"
   ]
  },
  {
   "cell_type": "markdown",
   "metadata": {
    "slideshow": {
     "slide_type": "slide"
    }
   },
   "source": [
    "## Objectif pédagogique\n",
    "\n",
    "- Utiliser les modules de la librairie standard pour récupérer des données via un service web.\n",
    "- Manipuler les dictionnaires et les chaînes de caractères\n",
    "- Utiliser la librairie de tracés graphiques matplotlib\n",
    "- Utiliser un IDE (Spyder)\n",
    "- Exécution en script\n",
    "- Gestion des arguments"
   ]
  },
  {
   "cell_type": "markdown",
   "metadata": {
    "slideshow": {
     "slide_type": "slide"
    }
   },
   "source": [
    "## Exercice\n",
    "\n",
    "Exploiter les données du site [http://www.prevision-meteo.ch](http://www.prevision-meteo.ch) pour tracer l'évolution horaire de la température à Strasbourg aujourd'hui.\n",
    "\n",
    " ![](fig/icon.png)"
   ]
  },
  {
   "cell_type": "markdown",
   "metadata": {
    "slideshow": {
     "slide_type": "subslide"
    }
   },
   "source": [
    "## Ouverture du fichier de prévisions\n",
    "\n",
    "Le site [http://www.prevision-meteo.ch](http://www.prevision-meteo.ch) fournit des prévisions sous forme de fichier au format [json](https://fr.wikipedia.org/wiki/JavaScript_Object_Notation). On veut récupérer les données relatives à Strasbourg avec la méthode ``urlopen()`` du module ``urllib.request``."
   ]
  },
  {
   "cell_type": "code",
   "execution_count": 1,
   "metadata": {},
   "outputs": [],
   "source": [
    "%config InlineBackend.figure_format = 'retina'\n",
    "from urllib.request import urlopen\n",
    "\n",
    "jsonfile_url = \"http://www.prevision-meteo.ch/services/json/Strasbourg\"\n",
    "f = urlopen(jsonfile_url)  # open url"
   ]
  },
  {
   "cell_type": "markdown",
   "metadata": {
    "slideshow": {
     "slide_type": "subslide"
    }
   },
   "source": [
    "## Chargement du fichier json ouvert"
   ]
  },
  {
   "cell_type": "markdown",
   "metadata": {},
   "source": [
    "La méthode ``json.loads()`` permet de charger un fichier json comme un dictionnaire python :"
   ]
  },
  {
   "cell_type": "code",
   "execution_count": 2,
   "metadata": {},
   "outputs": [],
   "source": [
    "import json\n",
    "jsonfile = json.loads(f.read().decode(\"utf-8\"))  # Read JSON file"
   ]
  },
  {
   "cell_type": "markdown",
   "metadata": {
    "slideshow": {
     "slide_type": "subslide"
    }
   },
   "source": [
    "## Exploration des données\n",
    "\n",
    "On commence naïvement par afficher le contenu du fichier :"
   ]
  },
  {
   "cell_type": "code",
   "execution_count": 3,
   "metadata": {},
   "outputs": [
    {
     "name": "stdout",
     "output_type": "stream",
     "text": [
      "{'city_info': {'name': 'Strasbourg', 'country': 'France', 'latitude': '48.5844421', 'longitude': '7.7558331', 'elevation': '144', 'sunrise': '08:15', 'sunset': '16:36'}, 'forecast_info': {'latitude': None, 'longitude': None, 'elevation': '131.66'}, 'current_condition': {'date': '19.12.2017', 'hour': '20:00', 'tmp': 4, 'wnd_spd': 8, 'wnd_gust': 12, 'wnd_dir': 'O', 'pressure': 1036, 'humidity': 95, 'condition': 'Pluie faible', 'condition_key': 'pluie-faible', 'icon': 'https://www.prevision-meteo.ch/style/images/icon/pluie-faible.png', 'icon_big': 'https://www.prevision-meteo.ch/style/images/icon/pluie-faible-big.png'}, 'fcst_day_0': {'date': '19.12.2017', 'day_short': 'Mar.', 'day_long': 'Mardi', 'tmin': 0, 'tmax': 5, 'condition': 'Eclaircies', 'condition_key': 'eclaircies', 'icon': 'https://www.prevision-meteo.ch/style/images/icon/eclaircies.png', 'icon_big': 'https://www.prevision-meteo.ch/style/images/icon/eclaircies-big.png', 'hourly_data': {'0H00': {'ICON': 'https://www.prevision-meteo.ch/style/images/icon/nuit-nuageuse.png', 'CONDITION': 'Nuit nuageuse', 'CONDITION_KEY': 'nuit-nuageuse', 'TMP2m': 0.3, 'DPT2m': -0.2, 'WNDCHILL2m': 0.3, 'HUMIDEX': None, 'RH2m': 97, 'PRMSL': 1030.3, 'APCPsfc': 0, 'WNDSPD10m': 4, 'WNDGUST10m': 7, 'WNDDIR10m': 279, 'WNDDIRCARD10': 'O', 'ISSNOW': 2, 'HCDC': '0.00', 'MCDC': '0.00', 'LCDC': '100.00', 'HGT0C': 400, 'KINDEX': 30, 'CAPE180_0': '0.0000', 'CIN180_0': 0}, '1H00': {'ICON': 'https://www.prevision-meteo.ch/style/images/icon/nuit-nuageuse.png', 'CONDITION': 'Nuit nuageuse', 'CONDITION_KEY': 'nuit-nuageuse', 'TMP2m': 0.4, 'DPT2m': -0.1, 'WNDCHILL2m': 0.4, 'HUMIDEX': None, 'RH2m': 97, 'PRMSL': 1030.8, 'APCPsfc': 0, 'WNDSPD10m': 4, 'WNDGUST10m': 7, 'WNDDIR10m': 301, 'WNDDIRCARD10': 'NO', 'ISSNOW': 2, 'HCDC': '0.00', 'MCDC': '0.00', 'LCDC': '100.00', 'HGT0C': 400, 'KINDEX': 30, 'CAPE180_0': '0.0000', 'CIN180_0': 0}, '2H00': {'ICON': 'https://www.prevision-meteo.ch/style/images/icon/nuit-nuageuse.png', 'CONDITION': 'Nuit nuageuse', 'CONDITION_KEY': 'nuit-nuageuse', 'TMP2m': 0.5, 'DPT2m': 0, 'WNDCHILL2m': 0.5, 'HUMIDEX': None, 'RH2m': 97, 'PRMSL': 1031.4, 'APCPsfc': 0, 'WNDSPD10m': 3, 'WNDGUST10m': 6, 'WNDDIR10m': 300, 'WNDDIRCARD10': 'NO', 'ISSNOW': 2, 'HCDC': '0.00', 'MCDC': '5.00', 'LCDC': '100.00', 'HGT0C': 400, 'KINDEX': 31, 'CAPE180_0': '0.0000', 'CIN180_0': 0}, '3H00': {'ICON': 'https://www.prevision-meteo.ch/style/images/icon/faiblement-nuageux.png', 'CONDITION': 'Faiblement nuageux', 'CONDITION_KEY': 'faiblement-nuageux', 'TMP2m': 0.6, 'DPT2m': 0.1, 'WNDCHILL2m': 0.6, 'HUMIDEX': None, 'RH2m': 96, 'PRMSL': 1031.9, 'APCPsfc': 0, 'WNDSPD10m': 2, 'WNDGUST10m': 5, 'WNDDIR10m': 281, 'WNDDIRCARD10': 'O', 'ISSNOW': 2, 'HCDC': '0.00', 'MCDC': '92.00', 'LCDC': '100.00', 'HGT0C': 400, 'KINDEX': 32, 'CAPE180_0': '0.0000', 'CIN180_0': 0}, '4H00': {'ICON': 'https://www.prevision-meteo.ch/style/images/icon/faiblement-nuageux.png', 'CONDITION': 'Faiblement nuageux', 'CONDITION_KEY': 'faiblement-nuageux', 'TMP2m': 0.7, 'DPT2m': 0.1, 'WNDCHILL2m': 0.7, 'HUMIDEX': None, 'RH2m': 96, 'PRMSL': 1032.3, 'APCPsfc': 0, 'WNDSPD10m': 2, 'WNDGUST10m': 3, 'WNDDIR10m': 307, 'WNDDIRCARD10': 'NO', 'ISSNOW': 2, 'HCDC': '0.00', 'MCDC': '100.00', 'LCDC': '100.00', 'HGT0C': 400, 'KINDEX': 33, 'CAPE180_0': '0.0000', 'CIN180_0': 0}, '5H00': {'ICON': 'https://www.prevision-meteo.ch/style/images/icon/faiblement-nuageux.png', 'CONDITION': 'Faiblement nuageux', 'CONDITION_KEY': 'faiblement-nuageux', 'TMP2m': 0.8, 'DPT2m': 0.3, 'WNDCHILL2m': 0.8, 'HUMIDEX': None, 'RH2m': 97, 'PRMSL': 1032.7, 'APCPsfc': 0, 'WNDSPD10m': 2, 'WNDGUST10m': 4, 'WNDDIR10m': 338, 'WNDDIRCARD10': 'NO', 'ISSNOW': 1, 'HCDC': '0.00', 'MCDC': '100.00', 'LCDC': '100.00', 'HGT0C': 300, 'KINDEX': 30, 'CAPE180_0': '0.0000', 'CIN180_0': 0}, '6H00': {'ICON': 'https://www.prevision-meteo.ch/style/images/icon/faiblement-nuageux.png', 'CONDITION': 'Faiblement nuageux', 'CONDITION_KEY': 'faiblement-nuageux', 'TMP2m': 0.8, 'DPT2m': 0.3, 'WNDCHILL2m': 0.8, 'HUMIDEX': None, 'RH2m': 97, 'PRMSL': 1033.2, 'APCPsfc': 0, 'WNDSPD10m': 2, 'WNDGUST10m': 4, 'WNDDIR10m': 338, 'WNDDIRCARD10': 'NO', 'ISSNOW': 1, 'HCDC': '0.00', 'MCDC': '100.00', 'LCDC': '100.00', 'HGT0C': 300, 'KINDEX': 26, 'CAPE180_0': '0.0000', 'CIN180_0': 0}, '7H00': {'ICON': 'https://www.prevision-meteo.ch/style/images/icon/nuit-nuageuse.png', 'CONDITION': 'Nuit nuageuse', 'CONDITION_KEY': 'nuit-nuageuse', 'TMP2m': 2.3, 'DPT2m': 0.2, 'WNDCHILL2m': 0.6, 'HUMIDEX': None, 'RH2m': 86, 'PRMSL': 1033.4, 'APCPsfc': 0, 'WNDSPD10m': 6, 'WNDGUST10m': 0, 'WNDDIR10m': 345, 'WNDDIRCARD10': 'N', 'ISSNOW': 2, 'HCDC': '0.00', 'MCDC': '0.00', 'LCDC': '0.00', 'HGT0C': 500, 'KINDEX': 21, 'CAPE180_0': '0.1000', 'CIN180_0': 0}, '8H00': {'ICON': 'https://www.prevision-meteo.ch/style/images/icon/faiblement-nuageux.png', 'CONDITION': 'Faiblement nuageux', 'CONDITION_KEY': 'faiblement-nuageux', 'TMP2m': 1.7, 'DPT2m': 0.3, 'WNDCHILL2m': 1.7, 'HUMIDEX': None, 'RH2m': 91, 'PRMSL': 1033.3, 'APCPsfc': 0, 'WNDSPD10m': 4, 'WNDGUST10m': 10, 'WNDDIR10m': 345, 'WNDDIRCARD10': 'N', 'ISSNOW': 2, 'HCDC': '0.00', 'MCDC': '100.00', 'LCDC': '100.00', 'HGT0C': 500, 'KINDEX': 21, 'CAPE180_0': '0.0000', 'CIN180_0': 0}, '9H00': {'ICON': 'https://www.prevision-meteo.ch/style/images/icon/eclaircies.png', 'CONDITION': 'Eclaircies', 'CONDITION_KEY': 'eclaircies', 'TMP2m': 2.1, 'DPT2m': 0.5, 'WNDCHILL2m': 2.1, 'HUMIDEX': None, 'RH2m': 89, 'PRMSL': 1034.3, 'APCPsfc': 0, 'WNDSPD10m': 4, 'WNDGUST10m': 7, 'WNDDIR10m': 350, 'WNDDIRCARD10': 'N', 'ISSNOW': 2, 'HCDC': '0.00', 'MCDC': '0.00', 'LCDC': '98.00', 'HGT0C': 500, 'KINDEX': 20, 'CAPE180_0': '0.0000', 'CIN180_0': 0}, '10H00': {'ICON': 'https://www.prevision-meteo.ch/style/images/icon/eclaircies.png', 'CONDITION': 'Eclaircies', 'CONDITION_KEY': 'eclaircies', 'TMP2m': 3.1, 'DPT2m': 0.8, 'WNDCHILL2m': 1.9, 'HUMIDEX': None, 'RH2m': 85, 'PRMSL': 1035, 'APCPsfc': 0, 'WNDSPD10m': 5, 'WNDGUST10m': 8, 'WNDDIR10m': 356, 'WNDDIRCARD10': 'N', 'ISSNOW': 2, 'HCDC': '0.00', 'MCDC': '0.00', 'LCDC': '45.00', 'HGT0C': 500, 'KINDEX': 20, 'CAPE180_0': '0.0000', 'CIN180_0': 0}, '11H00': {'ICON': 'https://www.prevision-meteo.ch/style/images/icon/fortement-nuageux.png', 'CONDITION': 'Fortement nuageux', 'CONDITION_KEY': 'fortement-nuageux', 'TMP2m': 3.8, 'DPT2m': 0.8, 'WNDCHILL2m': 2.7, 'HUMIDEX': None, 'RH2m': 81, 'PRMSL': 1035.1, 'APCPsfc': 0, 'WNDSPD10m': 5, 'WNDGUST10m': 9, 'WNDDIR10m': 352, 'WNDDIRCARD10': 'N', 'ISSNOW': 0, 'HCDC': '0.00', 'MCDC': '0.00', 'LCDC': '0.00', 'HGT0C': 500, 'KINDEX': 20, 'CAPE180_0': '0.0000', 'CIN180_0': 0}, '12H00': {'ICON': 'https://www.prevision-meteo.ch/style/images/icon/eclaircies.png', 'CONDITION': 'Eclaircies', 'CONDITION_KEY': 'eclaircies', 'TMP2m': 4.4, 'DPT2m': 0.7, 'WNDCHILL2m': 3, 'HUMIDEX': None, 'RH2m': 77, 'PRMSL': 1034.9, 'APCPsfc': 0, 'WNDSPD10m': 6, 'WNDGUST10m': 9, 'WNDDIR10m': 342, 'WNDDIRCARD10': 'N', 'ISSNOW': 0, 'HCDC': '0.00', 'MCDC': '0.00', 'LCDC': '0.00', 'HGT0C': 500, 'KINDEX': 21, 'CAPE180_0': '0.0000', 'CIN180_0': 0}, '13H00': {'ICON': 'https://www.prevision-meteo.ch/style/images/icon/eclaircies.png', 'CONDITION': 'Eclaircies', 'CONDITION_KEY': 'eclaircies', 'TMP2m': 4.9, 'DPT2m': 0.7, 'WNDCHILL2m': 3.3, 'HUMIDEX': None, 'RH2m': 74, 'PRMSL': 1035.2, 'APCPsfc': 0, 'WNDSPD10m': 7, 'WNDGUST10m': 11, 'WNDDIR10m': 336, 'WNDDIRCARD10': 'NO', 'ISSNOW': 0, 'HCDC': '0.00', 'MCDC': '0.00', 'LCDC': '53.00', 'HGT0C': 600, 'KINDEX': 21, 'CAPE180_0': '0.0000', 'CIN180_0': 0}, '14H00': {'ICON': 'https://www.prevision-meteo.ch/style/images/icon/eclaircies.png', 'CONDITION': 'Eclaircies', 'CONDITION_KEY': 'eclaircies', 'TMP2m': 5.3, 'DPT2m': 0.7, 'WNDCHILL2m': 3.5, 'HUMIDEX': None, 'RH2m': 72, 'PRMSL': 1035.4, 'APCPsfc': 0, 'WNDSPD10m': 8, 'WNDGUST10m': 12, 'WNDDIR10m': 335, 'WNDDIRCARD10': 'NO', 'ISSNOW': 0, 'HCDC': '0.00', 'MCDC': '0.00', 'LCDC': '98.00', 'HGT0C': 600, 'KINDEX': 21, 'CAPE180_0': '0.0000', 'CIN180_0': 0}, '15H00': {'ICON': 'https://www.prevision-meteo.ch/style/images/icon/eclaircies.png', 'CONDITION': 'Eclaircies', 'CONDITION_KEY': 'eclaircies', 'TMP2m': 5.3, 'DPT2m': 1, 'WNDCHILL2m': 3.5, 'HUMIDEX': None, 'RH2m': 74, 'PRMSL': 1035.7, 'APCPsfc': 0, 'WNDSPD10m': 8, 'WNDGUST10m': 13, 'WNDDIR10m': 329, 'WNDDIRCARD10': 'NO', 'ISSNOW': 0, 'HCDC': '0.00', 'MCDC': '0.00', 'LCDC': '100.00', 'HGT0C': 600, 'KINDEX': 21, 'CAPE180_0': '1.0000', 'CIN180_0': 0}, '16H00': {'ICON': 'https://www.prevision-meteo.ch/style/images/icon/eclaircies.png', 'CONDITION': 'Eclaircies', 'CONDITION_KEY': 'eclaircies', 'TMP2m': 4.9, 'DPT2m': 1.3, 'WNDCHILL2m': 3, 'HUMIDEX': None, 'RH2m': 77, 'PRMSL': 1035.4, 'APCPsfc': 0, 'WNDSPD10m': 8, 'WNDGUST10m': 13, 'WNDDIR10m': 323, 'WNDDIRCARD10': 'NO', 'ISSNOW': 0, 'HCDC': '0.00', 'MCDC': '0.00', 'LCDC': '100.00', 'HGT0C': 600, 'KINDEX': 21, 'CAPE180_0': '1.0000', 'CIN180_0': 0}, '17H00': {'ICON': 'https://www.prevision-meteo.ch/style/images/icon/nuit-nuageuse.png', 'CONDITION': 'Nuit nuageuse', 'CONDITION_KEY': 'nuit-nuageuse', 'TMP2m': 4.3, 'DPT2m': 2.1, 'WNDCHILL2m': 3.3, 'HUMIDEX': None, 'RH2m': 86, 'PRMSL': 1035.3, 'APCPsfc': 0, 'WNDSPD10m': 5, 'WNDGUST10m': 12, 'WNDDIR10m': 304, 'WNDDIRCARD10': 'NO', 'ISSNOW': 0, 'HCDC': '4.00', 'MCDC': '0.00', 'LCDC': '100.00', 'HGT0C': 600, 'KINDEX': 21, 'CAPE180_0': '3.0000', 'CIN180_0': 0}, '18H00': {'ICON': 'https://www.prevision-meteo.ch/style/images/icon/nuit-avec-averses.png', 'CONDITION': 'Nuit avec averses', 'CONDITION_KEY': 'nuit-avec-averses', 'TMP2m': 4.1, 'DPT2m': 2.5, 'WNDCHILL2m': 2.7, 'HUMIDEX': None, 'RH2m': 90, 'PRMSL': 1035.6, 'APCPsfc': 0.1, 'WNDSPD10m': 6, 'WNDGUST10m': 10, 'WNDDIR10m': 277, 'WNDDIRCARD10': 'O', 'ISSNOW': 0, 'HCDC': '93.00', 'MCDC': '16.00', 'LCDC': '100.00', 'HGT0C': 600, 'KINDEX': 20, 'CAPE180_0': '3.0000', 'CIN180_0': 0}, '19H00': {'ICON': 'https://www.prevision-meteo.ch/style/images/icon/pluie-faible.png', 'CONDITION': 'Pluie faible', 'CONDITION_KEY': 'pluie-faible', 'TMP2m': 3.9, 'DPT2m': 2.8, 'WNDCHILL2m': 2.1, 'HUMIDEX': None, 'RH2m': 93, 'PRMSL': 1036, 'APCPsfc': 0.1, 'WNDSPD10m': 7, 'WNDGUST10m': 11, 'WNDDIR10m': 264, 'WNDDIRCARD10': 'O', 'ISSNOW': 0, 'HCDC': '100.00', 'MCDC': '100.00', 'LCDC': '99.00', 'HGT0C': 600, 'KINDEX': 20, 'CAPE180_0': '3.0000', 'CIN180_0': 0}, '20H00': {'ICON': 'https://www.prevision-meteo.ch/style/images/icon/pluie-faible.png', 'CONDITION': 'Pluie faible', 'CONDITION_KEY': 'pluie-faible', 'TMP2m': 3.7, 'DPT2m': 2.9, 'WNDCHILL2m': 1.6, 'HUMIDEX': None, 'RH2m': 95, 'PRMSL': 1036, 'APCPsfc': 0.1, 'WNDSPD10m': 8, 'WNDGUST10m': 12, 'WNDDIR10m': 259, 'WNDDIRCARD10': 'O', 'ISSNOW': 0, 'HCDC': '97.00', 'MCDC': '100.00', 'LCDC': '99.00', 'HGT0C': 600, 'KINDEX': 20, 'CAPE180_0': '3.0000', 'CIN180_0': 0}, '21H00': {'ICON': 'https://www.prevision-meteo.ch/style/images/icon/pluie-faible.png', 'CONDITION': 'Pluie faible', 'CONDITION_KEY': 'pluie-faible', 'TMP2m': 3.6, 'DPT2m': 2.9, 'WNDCHILL2m': 1.5, 'HUMIDEX': None, 'RH2m': 96, 'PRMSL': 1035.8, 'APCPsfc': 0.2, 'WNDSPD10m': 8, 'WNDGUST10m': 13, 'WNDDIR10m': 257, 'WNDDIRCARD10': 'O', 'ISSNOW': 0, 'HCDC': '58.00', 'MCDC': '100.00', 'LCDC': '100.00', 'HGT0C': 600, 'KINDEX': 20, 'CAPE180_0': '3.0000', 'CIN180_0': 0}, '22H00': {'ICON': 'https://www.prevision-meteo.ch/style/images/icon/pluie-faible.png', 'CONDITION': 'Pluie faible', 'CONDITION_KEY': 'pluie-faible', 'TMP2m': 3.5, 'DPT2m': 3, 'WNDCHILL2m': 1.4, 'HUMIDEX': None, 'RH2m': 96, 'PRMSL': 1036.1, 'APCPsfc': 0.3, 'WNDSPD10m': 8, 'WNDGUST10m': 12, 'WNDDIR10m': 248, 'WNDDIRCARD10': 'SO', 'ISSNOW': 0, 'HCDC': '0.00', 'MCDC': '81.00', 'LCDC': '100.00', 'HGT0C': 700, 'KINDEX': 19, 'CAPE180_0': '3.0000', 'CIN180_0': 0}, '23H00': {'ICON': 'https://www.prevision-meteo.ch/style/images/icon/pluie-faible.png', 'CONDITION': 'Pluie faible', 'CONDITION_KEY': 'pluie-faible', 'TMP2m': 3.5, 'DPT2m': 3, 'WNDCHILL2m': 1.4, 'HUMIDEX': None, 'RH2m': 97, 'PRMSL': 1036.3, 'APCPsfc': 0.4, 'WNDSPD10m': 8, 'WNDGUST10m': 12, 'WNDDIR10m': 242, 'WNDDIRCARD10': 'SO', 'ISSNOW': 0, 'HCDC': '0.00', 'MCDC': '70.00', 'LCDC': '100.00', 'HGT0C': 700, 'KINDEX': 19, 'CAPE180_0': '3.0000', 'CIN180_0': 0}}}, 'fcst_day_1': {'date': '20.12.2017', 'day_short': 'Mer.', 'day_long': 'Mercredi', 'tmin': 3, 'tmax': 6, 'condition': 'Averses de pluie faible', 'condition_key': 'averses-de-pluie-faible', 'icon': 'https://www.prevision-meteo.ch/style/images/icon/averses-de-pluie-faible.png', 'icon_big': 'https://www.prevision-meteo.ch/style/images/icon/averses-de-pluie-faible-big.png', 'hourly_data': {'0H00': {'ICON': 'https://www.prevision-meteo.ch/style/images/icon/pluie-faible.png', 'CONDITION': 'Pluie faible', 'CONDITION_KEY': 'pluie-faible', 'TMP2m': 3.5, 'DPT2m': 3.1, 'WNDCHILL2m': 1.4, 'HUMIDEX': None, 'RH2m': 97, 'PRMSL': 1036.1, 'APCPsfc': 0.4, 'WNDSPD10m': 8, 'WNDGUST10m': 12, 'WNDDIR10m': 240, 'WNDDIRCARD10': 'SO', 'ISSNOW': 0, 'HCDC': '0.00', 'MCDC': '100.00', 'LCDC': '100.00', 'HGT0C': 700, 'KINDEX': 19, 'CAPE180_0': '3.0000', 'CIN180_0': 0}, '1H00': {'ICON': 'https://www.prevision-meteo.ch/style/images/icon/pluie-faible.png', 'CONDITION': 'Pluie faible', 'CONDITION_KEY': 'pluie-faible', 'TMP2m': 3.5, 'DPT2m': 3.1, 'WNDCHILL2m': 1.4, 'HUMIDEX': None, 'RH2m': 97, 'PRMSL': 1035.8, 'APCPsfc': 0.3, 'WNDSPD10m': 8, 'WNDGUST10m': 12, 'WNDDIR10m': 234, 'WNDDIRCARD10': 'SO', 'ISSNOW': 0, 'HCDC': '0.00', 'MCDC': '100.00', 'LCDC': '100.00', 'HGT0C': 700, 'KINDEX': 19, 'CAPE180_0': '3.0000', 'CIN180_0': 0}, '2H00': {'ICON': 'https://www.prevision-meteo.ch/style/images/icon/pluie-faible.png', 'CONDITION': 'Pluie faible', 'CONDITION_KEY': 'pluie-faible', 'TMP2m': 3.4, 'DPT2m': 3, 'WNDCHILL2m': 1.3, 'HUMIDEX': None, 'RH2m': 98, 'PRMSL': 1035.7, 'APCPsfc': 0.2, 'WNDSPD10m': 8, 'WNDGUST10m': 13, 'WNDDIR10m': 227, 'WNDDIRCARD10': 'SO', 'ISSNOW': 0, 'HCDC': '0.00', 'MCDC': '100.00', 'LCDC': '100.00', 'HGT0C': 700, 'KINDEX': 20, 'CAPE180_0': '3.0000', 'CIN180_0': 0}, '3H00': {'ICON': 'https://www.prevision-meteo.ch/style/images/icon/pluie-faible.png', 'CONDITION': 'Pluie faible', 'CONDITION_KEY': 'pluie-faible', 'TMP2m': 3.3, 'DPT2m': 3, 'WNDCHILL2m': 1.1, 'HUMIDEX': None, 'RH2m': 98, 'PRMSL': 1035.5, 'APCPsfc': 0.2, 'WNDSPD10m': 8, 'WNDGUST10m': 13, 'WNDDIR10m': 221, 'WNDDIRCARD10': 'SO', 'ISSNOW': 0, 'HCDC': '0.00', 'MCDC': '96.00', 'LCDC': '100.00', 'HGT0C': 800, 'KINDEX': 21, 'CAPE180_0': '3.0000', 'CIN180_0': 0}, '4H00': {'ICON': 'https://www.prevision-meteo.ch/style/images/icon/pluie-faible.png', 'CONDITION': 'Pluie faible', 'CONDITION_KEY': 'pluie-faible', 'TMP2m': 3.2, 'DPT2m': 2.9, 'WNDCHILL2m': 1, 'HUMIDEX': None, 'RH2m': 98, 'PRMSL': 1035, 'APCPsfc': 0.2, 'WNDSPD10m': 8, 'WNDGUST10m': 14, 'WNDDIR10m': 216, 'WNDDIRCARD10': 'SO', 'ISSNOW': 0, 'HCDC': '0.00', 'MCDC': '18.00', 'LCDC': '100.00', 'HGT0C': 800, 'KINDEX': 22, 'CAPE180_0': '4.0000', 'CIN180_0': 0}, '5H00': {'ICON': 'https://www.prevision-meteo.ch/style/images/icon/pluie-faible.png', 'CONDITION': 'Pluie faible', 'CONDITION_KEY': 'pluie-faible', 'TMP2m': 3.1, 'DPT2m': 2.7, 'WNDCHILL2m': 0.6, 'HUMIDEX': None, 'RH2m': 97, 'PRMSL': 1034.7, 'APCPsfc': 0.2, 'WNDSPD10m': 9, 'WNDGUST10m': 15, 'WNDDIR10m': 211, 'WNDDIRCARD10': 'SO', 'ISSNOW': 0, 'HCDC': '0.00', 'MCDC': '10.00', 'LCDC': '100.00', 'HGT0C': 800, 'KINDEX': 23, 'CAPE180_0': '4.0000', 'CIN180_0': 0}, '6H00': {'ICON': 'https://www.prevision-meteo.ch/style/images/icon/nuit-avec-averses.png', 'CONDITION': 'Nuit avec averses', 'CONDITION_KEY': 'nuit-avec-averses', 'TMP2m': 3, 'DPT2m': 2.6, 'WNDCHILL2m': 0.3, 'HUMIDEX': None, 'RH2m': 97, 'PRMSL': 1034.7, 'APCPsfc': 0.2, 'WNDSPD10m': 10, 'WNDGUST10m': 15, 'WNDDIR10m': 205, 'WNDDIRCARD10': 'SO', 'ISSNOW': 0, 'HCDC': '0.00', 'MCDC': '0.00', 'LCDC': '100.00', 'HGT0C': 800, 'KINDEX': 25, 'CAPE180_0': '4.0000', 'CIN180_0': 0}, '7H00': {'ICON': 'https://www.prevision-meteo.ch/style/images/icon/nuit-avec-averses.png', 'CONDITION': 'Nuit avec averses', 'CONDITION_KEY': 'nuit-avec-averses', 'TMP2m': 2.9, 'DPT2m': 2.5, 'WNDCHILL2m': 0.1, 'HUMIDEX': None, 'RH2m': 97, 'PRMSL': 1034.7, 'APCPsfc': 0.2, 'WNDSPD10m': 10, 'WNDGUST10m': 16, 'WNDDIR10m': 202, 'WNDDIRCARD10': 'S', 'ISSNOW': 0, 'HCDC': '0.00', 'MCDC': '0.00', 'LCDC': '100.00', 'HGT0C': 800, 'KINDEX': 25, 'CAPE180_0': '4.0000', 'CIN180_0': 0}, '8H00': {'ICON': 'https://www.prevision-meteo.ch/style/images/icon/nuit-avec-averses.png', 'CONDITION': 'Nuit avec averses', 'CONDITION_KEY': 'nuit-avec-averses', 'TMP2m': 2.8, 'DPT2m': 2.4, 'WNDCHILL2m': 0, 'HUMIDEX': None, 'RH2m': 97, 'PRMSL': 1034.7, 'APCPsfc': 0.2, 'WNDSPD10m': 10, 'WNDGUST10m': 16, 'WNDDIR10m': 197, 'WNDDIRCARD10': 'S', 'ISSNOW': 0, 'HCDC': '0.00', 'MCDC': '0.00', 'LCDC': '100.00', 'HGT0C': 800, 'KINDEX': 26, 'CAPE180_0': '4.0000', 'CIN180_0': 0}, '9H00': {'ICON': 'https://www.prevision-meteo.ch/style/images/icon/averses-de-pluie-faible.png', 'CONDITION': 'Averses de pluie faible', 'CONDITION_KEY': 'averses-de-pluie-faible', 'TMP2m': 3.1, 'DPT2m': 2.3, 'WNDCHILL2m': 0.4, 'HUMIDEX': None, 'RH2m': 95, 'PRMSL': 1034.8, 'APCPsfc': 0.1, 'WNDSPD10m': 10, 'WNDGUST10m': 17, 'WNDDIR10m': 192, 'WNDDIRCARD10': 'S', 'ISSNOW': 0, 'HCDC': '0.00', 'MCDC': '0.00', 'LCDC': '100.00', 'HGT0C': 800, 'KINDEX': 26, 'CAPE180_0': '4.0000', 'CIN180_0': 0}, '10H00': {'ICON': 'https://www.prevision-meteo.ch/style/images/icon/averses-de-pluie-faible.png', 'CONDITION': 'Averses de pluie faible', 'CONDITION_KEY': 'averses-de-pluie-faible', 'TMP2m': 3.8, 'DPT2m': 2.6, 'WNDCHILL2m': 1, 'HUMIDEX': None, 'RH2m': 92, 'PRMSL': 1035.4, 'APCPsfc': 0.1, 'WNDSPD10m': 11, 'WNDGUST10m': 18, 'WNDDIR10m': 195, 'WNDDIRCARD10': 'S', 'ISSNOW': 0, 'HCDC': '0.00', 'MCDC': '0.00', 'LCDC': '100.00', 'HGT0C': 800, 'KINDEX': 27, 'CAPE180_0': '4.0000', 'CIN180_0': 0}, '11H00': {'ICON': 'https://www.prevision-meteo.ch/style/images/icon/averses-de-pluie-faible.png', 'CONDITION': 'Averses de pluie faible', 'CONDITION_KEY': 'averses-de-pluie-faible', 'TMP2m': 4.4, 'DPT2m': 2.9, 'WNDCHILL2m': 1.7, 'HUMIDEX': None, 'RH2m': 90, 'PRMSL': 1035.6, 'APCPsfc': 0.1, 'WNDSPD10m': 11, 'WNDGUST10m': 18, 'WNDDIR10m': 198, 'WNDDIRCARD10': 'S', 'ISSNOW': 0, 'HCDC': '0.00', 'MCDC': '0.00', 'LCDC': '100.00', 'HGT0C': 900, 'KINDEX': 27, 'CAPE180_0': '4.0000', 'CIN180_0': 0}, '12H00': {'ICON': 'https://www.prevision-meteo.ch/style/images/icon/averses-de-pluie-faible.png', 'CONDITION': 'Averses de pluie faible', 'CONDITION_KEY': 'averses-de-pluie-faible', 'TMP2m': 4.9, 'DPT2m': 3.2, 'WNDCHILL2m': 2.5, 'HUMIDEX': None, 'RH2m': 88, 'PRMSL': 1035.1, 'APCPsfc': 0.1, 'WNDSPD10m': 10, 'WNDGUST10m': 17, 'WNDDIR10m': 202, 'WNDDIRCARD10': 'S', 'ISSNOW': 0, 'HCDC': '0.00', 'MCDC': '1.00', 'LCDC': '100.00', 'HGT0C': 900, 'KINDEX': 27, 'CAPE180_0': '4.0000', 'CIN180_0': 0}, '13H00': {'ICON': 'https://www.prevision-meteo.ch/style/images/icon/pluie-faible.png', 'CONDITION': 'Pluie faible', 'CONDITION_KEY': 'pluie-faible', 'TMP2m': 5.4, 'DPT2m': 3.5, 'WNDCHILL2m': 3.4, 'HUMIDEX': None, 'RH2m': 88, 'PRMSL': 1034.6, 'APCPsfc': 0.1, 'WNDSPD10m': 9, 'WNDGUST10m': 16, 'WNDDIR10m': 204, 'WNDDIRCARD10': 'SO', 'ISSNOW': 0, 'HCDC': '0.00', 'MCDC': '12.00', 'LCDC': '100.00', 'HGT0C': 900, 'KINDEX': 26, 'CAPE180_0': '4.0000', 'CIN180_0': 0}, '14H00': {'ICON': 'https://www.prevision-meteo.ch/style/images/icon/fortement-nuageux.png', 'CONDITION': 'Fortement nuageux', 'CONDITION_KEY': 'fortement-nuageux', 'TMP2m': 5.8, 'DPT2m': 3.8, 'WNDCHILL2m': 4.1, 'HUMIDEX': None, 'RH2m': 87, 'PRMSL': 1034.5, 'APCPsfc': 0, 'WNDSPD10m': 8, 'WNDGUST10m': 14, 'WNDDIR10m': 208, 'WNDDIRCARD10': 'SO', 'ISSNOW': 0, 'HCDC': '0.00', 'MCDC': '36.00', 'LCDC': '100.00', 'HGT0C': 900, 'KINDEX': 26, 'CAPE180_0': '4.0000', 'CIN180_0': 0}, '15H00': {'ICON': 'https://www.prevision-meteo.ch/style/images/icon/faiblement-nuageux.png', 'CONDITION': 'Faiblement nuageux', 'CONDITION_KEY': 'faiblement-nuageux', 'TMP2m': 6, 'DPT2m': 4.3, 'WNDCHILL2m': 4.9, 'HUMIDEX': None, 'RH2m': 89, 'PRMSL': 1034.9, 'APCPsfc': 0, 'WNDSPD10m': 6, 'WNDGUST10m': 12, 'WNDDIR10m': 207, 'WNDDIRCARD10': 'SO', 'ISSNOW': 0, 'HCDC': '0.00', 'MCDC': '99.00', 'LCDC': '100.00', 'HGT0C': 1000, 'KINDEX': 26, 'CAPE180_0': '4.0000', 'CIN180_0': 0}, '16H00': {'ICON': 'https://www.prevision-meteo.ch/style/images/icon/pluie-faible.png', 'CONDITION': 'Pluie faible', 'CONDITION_KEY': 'pluie-faible', 'TMP2m': 5.8, 'DPT2m': 4.8, 'WNDCHILL2m': 5, 'HUMIDEX': None, 'RH2m': 93, 'PRMSL': 1034.8, 'APCPsfc': 0.1, 'WNDSPD10m': 5, 'WNDGUST10m': 10, 'WNDDIR10m': 203, 'WNDDIRCARD10': 'S', 'ISSNOW': 0, 'HCDC': '0.00', 'MCDC': '100.00', 'LCDC': '100.00', 'HGT0C': 1000, 'KINDEX': 26, 'CAPE180_0': '4.0000', 'CIN180_0': 0}, '17H00': {'ICON': 'https://www.prevision-meteo.ch/style/images/icon/pluie-faible.png', 'CONDITION': 'Pluie faible', 'CONDITION_KEY': 'pluie-faible', 'TMP2m': 5.3, 'DPT2m': 5.2, 'WNDCHILL2m': 4.4, 'HUMIDEX': None, 'RH2m': 99, 'PRMSL': 1034.8, 'APCPsfc': 0.3, 'WNDSPD10m': 5, 'WNDGUST10m': 8, 'WNDDIR10m': 198, 'WNDDIRCARD10': 'S', 'ISSNOW': 0, 'HCDC': '0.00', 'MCDC': '100.00', 'LCDC': '100.00', 'HGT0C': 1100, 'KINDEX': 26, 'CAPE180_0': '4.0000', 'CIN180_0': 0}, '18H00': {'ICON': 'https://www.prevision-meteo.ch/style/images/icon/pluie-faible.png', 'CONDITION': 'Pluie faible', 'CONDITION_KEY': 'pluie-faible', 'TMP2m': 5.2, 'DPT2m': 5.1, 'WNDCHILL2m': 4.3, 'HUMIDEX': None, 'RH2m': 100, 'PRMSL': 1035.1, 'APCPsfc': 0.4, 'WNDSPD10m': 5, 'WNDGUST10m': 8, 'WNDDIR10m': 197, 'WNDDIRCARD10': 'S', 'ISSNOW': 0, 'HCDC': '0.00', 'MCDC': '100.00', 'LCDC': '100.00', 'HGT0C': 1200, 'KINDEX': 27, 'CAPE180_0': '4.0000', 'CIN180_0': 0}, '19H00': {'ICON': 'https://www.prevision-meteo.ch/style/images/icon/pluie-faible.png', 'CONDITION': 'Pluie faible', 'CONDITION_KEY': 'pluie-faible', 'TMP2m': 5.1, 'DPT2m': 5, 'WNDCHILL2m': 4.2, 'HUMIDEX': None, 'RH2m': 100, 'PRMSL': 1035.5, 'APCPsfc': 0.4, 'WNDSPD10m': 5, 'WNDGUST10m': 8, 'WNDDIR10m': 200, 'WNDDIRCARD10': 'S', 'ISSNOW': 0, 'HCDC': '0.00', 'MCDC': '100.00', 'LCDC': '100.00', 'HGT0C': 1900, 'KINDEX': 27, 'CAPE180_0': '4.0000', 'CIN180_0': 0}, '20H00': {'ICON': 'https://www.prevision-meteo.ch/style/images/icon/pluie-faible.png', 'CONDITION': 'Pluie faible', 'CONDITION_KEY': 'pluie-faible', 'TMP2m': 4.9, 'DPT2m': 4.9, 'WNDCHILL2m': 4, 'HUMIDEX': None, 'RH2m': 100, 'PRMSL': 1035.8, 'APCPsfc': 0.2, 'WNDSPD10m': 5, 'WNDGUST10m': 8, 'WNDDIR10m': 205, 'WNDDIRCARD10': 'SO', 'ISSNOW': 0, 'HCDC': '0.00', 'MCDC': '72.00', 'LCDC': '100.00', 'HGT0C': 2000, 'KINDEX': 28, 'CAPE180_0': '4.0000', 'CIN180_0': 0}, '21H00': {'ICON': 'https://www.prevision-meteo.ch/style/images/icon/pluie-faible.png', 'CONDITION': 'Pluie faible', 'CONDITION_KEY': 'pluie-faible', 'TMP2m': 4.8, 'DPT2m': 4.7, 'WNDCHILL2m': 3.9, 'HUMIDEX': None, 'RH2m': 100, 'PRMSL': 1035.8, 'APCPsfc': 0.1, 'WNDSPD10m': 5, 'WNDGUST10m': 8, 'WNDDIR10m': 210, 'WNDDIRCARD10': 'SO', 'ISSNOW': 0, 'HCDC': '0.00', 'MCDC': '0.00', 'LCDC': '100.00', 'HGT0C': 2000, 'KINDEX': 29, 'CAPE180_0': '4.0000', 'CIN180_0': 0}, '22H00': {'ICON': 'https://www.prevision-meteo.ch/style/images/icon/nuit-avec-averses.png', 'CONDITION': 'Nuit avec averses', 'CONDITION_KEY': 'nuit-avec-averses', 'TMP2m': 4.8, 'DPT2m': 4.7, 'WNDCHILL2m': 3.9, 'HUMIDEX': None, 'RH2m': 100, 'PRMSL': 1035.9, 'APCPsfc': 0.1, 'WNDSPD10m': 5, 'WNDGUST10m': 8, 'WNDDIR10m': 214, 'WNDDIRCARD10': 'SO', 'ISSNOW': 0, 'HCDC': '0.00', 'MCDC': '0.00', 'LCDC': '100.00', 'HGT0C': 2100, 'KINDEX': 30, 'CAPE180_0': '4.0000', 'CIN180_0': 0}, '23H00': {'ICON': 'https://www.prevision-meteo.ch/style/images/icon/nuit-avec-averses.png', 'CONDITION': 'Nuit avec averses', 'CONDITION_KEY': 'nuit-avec-averses', 'TMP2m': 4.7, 'DPT2m': 4.6, 'WNDCHILL2m': 3.7, 'HUMIDEX': None, 'RH2m': 99, 'PRMSL': 1036.3, 'APCPsfc': 0.1, 'WNDSPD10m': 5, 'WNDGUST10m': 8, 'WNDDIR10m': 214, 'WNDDIRCARD10': 'SO', 'ISSNOW': 0, 'HCDC': '0.00', 'MCDC': '0.00', 'LCDC': '100.00', 'HGT0C': 2100, 'KINDEX': 31, 'CAPE180_0': '4.0000', 'CIN180_0': 0}}}, 'fcst_day_2': {'date': '21.12.2017', 'day_short': 'Jeu.', 'day_long': 'Jeudi', 'tmin': 4, 'tmax': 7, 'condition': 'Pluie faible', 'condition_key': 'pluie-faible', 'icon': 'https://www.prevision-meteo.ch/style/images/icon/pluie-faible.png', 'icon_big': 'https://www.prevision-meteo.ch/style/images/icon/pluie-faible-big.png', 'hourly_data': {'0H00': {'ICON': 'https://www.prevision-meteo.ch/style/images/icon/nuit-avec-averses.png', 'CONDITION': 'Nuit avec averses', 'CONDITION_KEY': 'nuit-avec-averses', 'TMP2m': 4.7, 'DPT2m': 4.6, 'WNDCHILL2m': 3.4, 'HUMIDEX': None, 'RH2m': 99, 'PRMSL': 1036.2, 'APCPsfc': 0.1, 'WNDSPD10m': 6, 'WNDGUST10m': 9, 'WNDDIR10m': 215, 'WNDDIRCARD10': 'SO', 'ISSNOW': 0, 'HCDC': '0.00', 'MCDC': '0.00', 'LCDC': '100.00', 'HGT0C': 2100, 'KINDEX': 32, 'CAPE180_0': '4.0000', 'CIN180_0': 0}, '1H00': {'ICON': 'https://www.prevision-meteo.ch/style/images/icon/nuit-avec-averses.png', 'CONDITION': 'Nuit avec averses', 'CONDITION_KEY': 'nuit-avec-averses', 'TMP2m': 4.6, 'DPT2m': 4.5, 'WNDCHILL2m': 3.3, 'HUMIDEX': None, 'RH2m': 100, 'PRMSL': 1036.2, 'APCPsfc': 0.1, 'WNDSPD10m': 6, 'WNDGUST10m': 10, 'WNDDIR10m': 213, 'WNDDIRCARD10': 'SO', 'ISSNOW': 0, 'HCDC': '0.00', 'MCDC': '1.00', 'LCDC': '100.00', 'HGT0C': 2100, 'KINDEX': 32, 'CAPE180_0': '4.0000', 'CIN180_0': 0}, '2H00': {'ICON': 'https://www.prevision-meteo.ch/style/images/icon/nuit-avec-averses.png', 'CONDITION': 'Nuit avec averses', 'CONDITION_KEY': 'nuit-avec-averses', 'TMP2m': 4.6, 'DPT2m': 4.5, 'WNDCHILL2m': 2.9, 'HUMIDEX': None, 'RH2m': 99, 'PRMSL': 1036.3, 'APCPsfc': 0.1, 'WNDSPD10m': 7, 'WNDGUST10m': 10, 'WNDDIR10m': 209, 'WNDDIRCARD10': 'SO', 'ISSNOW': 0, 'HCDC': '0.00', 'MCDC': '7.00', 'LCDC': '100.00', 'HGT0C': 2100, 'KINDEX': 32, 'CAPE180_0': '4.0000', 'CIN180_0': 0}, '3H00': {'ICON': 'https://www.prevision-meteo.ch/style/images/icon/pluie-faible.png', 'CONDITION': 'Pluie faible', 'CONDITION_KEY': 'pluie-faible', 'TMP2m': 4.5, 'DPT2m': 4.4, 'WNDCHILL2m': 2.8, 'HUMIDEX': None, 'RH2m': 99, 'PRMSL': 1036.3, 'APCPsfc': 0.2, 'WNDSPD10m': 7, 'WNDGUST10m': 11, 'WNDDIR10m': 209, 'WNDDIRCARD10': 'SO', 'ISSNOW': 0, 'HCDC': '0.00', 'MCDC': '42.00', 'LCDC': '100.00', 'HGT0C': 2100, 'KINDEX': 32, 'CAPE180_0': '4.0000', 'CIN180_0': 0}, '4H00': {'ICON': 'https://www.prevision-meteo.ch/style/images/icon/pluie-faible.png', 'CONDITION': 'Pluie faible', 'CONDITION_KEY': 'pluie-faible', 'TMP2m': 4.4, 'DPT2m': 4.3, 'WNDCHILL2m': 2.4, 'HUMIDEX': None, 'RH2m': 99, 'PRMSL': 1035.9, 'APCPsfc': 0.2, 'WNDSPD10m': 8, 'WNDGUST10m': 12, 'WNDDIR10m': 209, 'WNDDIRCARD10': 'SO', 'ISSNOW': 0, 'HCDC': '0.00', 'MCDC': '67.00', 'LCDC': '100.00', 'HGT0C': 2000, 'KINDEX': 32, 'CAPE180_0': '4.0000', 'CIN180_0': 0}, '5H00': {'ICON': 'https://www.prevision-meteo.ch/style/images/icon/pluie-faible.png', 'CONDITION': 'Pluie faible', 'CONDITION_KEY': 'pluie-faible', 'TMP2m': 4.4, 'DPT2m': 4.2, 'WNDCHILL2m': 2.2, 'HUMIDEX': None, 'RH2m': 99, 'PRMSL': 1035.8, 'APCPsfc': 0.2, 'WNDSPD10m': 9, 'WNDGUST10m': 13, 'WNDDIR10m': 204, 'WNDDIRCARD10': 'SO', 'ISSNOW': 0, 'HCDC': '0.00', 'MCDC': '16.00', 'LCDC': '100.00', 'HGT0C': 2000, 'KINDEX': 33, 'CAPE180_0': '4.0000', 'CIN180_0': 0}, '6H00': {'ICON': 'https://www.prevision-meteo.ch/style/images/icon/nuit-avec-averses.png', 'CONDITION': 'Nuit avec averses', 'CONDITION_KEY': 'nuit-avec-averses', 'TMP2m': 4.3, 'DPT2m': 4.1, 'WNDCHILL2m': 2.1, 'HUMIDEX': None, 'RH2m': 99, 'PRMSL': 1036.1, 'APCPsfc': 0.1, 'WNDSPD10m': 9, 'WNDGUST10m': 14, 'WNDDIR10m': 203, 'WNDDIRCARD10': 'S', 'ISSNOW': 0, 'HCDC': '0.00', 'MCDC': '23.00', 'LCDC': '100.00', 'HGT0C': 1900, 'KINDEX': 34, 'CAPE180_0': '4.0000', 'CIN180_0': 0}, '7H00': {'ICON': 'https://www.prevision-meteo.ch/style/images/icon/pluie-faible.png', 'CONDITION': 'Pluie faible', 'CONDITION_KEY': 'pluie-faible', 'TMP2m': 4.3, 'DPT2m': 4, 'WNDCHILL2m': 1.8, 'HUMIDEX': None, 'RH2m': 98, 'PRMSL': 1036.2, 'APCPsfc': 0.1, 'WNDSPD10m': 10, 'WNDGUST10m': 16, 'WNDDIR10m': 201, 'WNDDIRCARD10': 'S', 'ISSNOW': 0, 'HCDC': '0.00', 'MCDC': '75.00', 'LCDC': '100.00', 'HGT0C': 1900, 'KINDEX': 36, 'CAPE180_0': '4.0000', 'CIN180_0': 0}, '8H00': {'ICON': 'https://www.prevision-meteo.ch/style/images/icon/nuit-avec-averses.png', 'CONDITION': 'Nuit avec averses', 'CONDITION_KEY': 'nuit-avec-averses', 'TMP2m': 4.2, 'DPT2m': 3.9, 'WNDCHILL2m': 1.7, 'HUMIDEX': None, 'RH2m': 98, 'PRMSL': 1036.2, 'APCPsfc': 0.1, 'WNDSPD10m': 10, 'WNDGUST10m': 17, 'WNDDIR10m': 202, 'WNDDIRCARD10': 'S', 'ISSNOW': 0, 'HCDC': '2.00', 'MCDC': '57.00', 'LCDC': '100.00', 'HGT0C': 1900, 'KINDEX': 35, 'CAPE180_0': '4.0000', 'CIN180_0': 0}, '9H00': {'ICON': 'https://www.prevision-meteo.ch/style/images/icon/pluie-faible.png', 'CONDITION': 'Pluie faible', 'CONDITION_KEY': 'pluie-faible', 'TMP2m': 4.4, 'DPT2m': 3.8, 'WNDCHILL2m': 1.7, 'HUMIDEX': None, 'RH2m': 96, 'PRMSL': 1036.2, 'APCPsfc': 0.1, 'WNDSPD10m': 11, 'WNDGUST10m': 17, 'WNDDIR10m': 201, 'WNDDIRCARD10': 'S', 'ISSNOW': 0, 'HCDC': '1.00', 'MCDC': '85.00', 'LCDC': '100.00', 'HGT0C': 2000, 'KINDEX': 34, 'CAPE180_0': '4.0000', 'CIN180_0': 0}, '10H00': {'ICON': 'https://www.prevision-meteo.ch/style/images/icon/pluie-faible.png', 'CONDITION': 'Pluie faible', 'CONDITION_KEY': 'pluie-faible', 'TMP2m': 5, 'DPT2m': 4.2, 'WNDCHILL2m': 2.3, 'HUMIDEX': None, 'RH2m': 95, 'PRMSL': 1036.6, 'APCPsfc': 0.1, 'WNDSPD10m': 12, 'WNDGUST10m': 19, 'WNDDIR10m': 204, 'WNDDIRCARD10': 'SO', 'ISSNOW': 0, 'HCDC': '8.00', 'MCDC': '59.00', 'LCDC': '100.00', 'HGT0C': 2000, 'KINDEX': 31, 'CAPE180_0': '4.0000', 'CIN180_0': 0}, '11H00': {'ICON': 'https://www.prevision-meteo.ch/style/images/icon/pluie-faible.png', 'CONDITION': 'Pluie faible', 'CONDITION_KEY': 'pluie-faible', 'TMP2m': 5.7, 'DPT2m': 4.7, 'WNDCHILL2m': 3.1, 'HUMIDEX': None, 'RH2m': 94, 'PRMSL': 1036.7, 'APCPsfc': 0.1, 'WNDSPD10m': 12, 'WNDGUST10m': 19, 'WNDDIR10m': 210, 'WNDDIRCARD10': 'SO', 'ISSNOW': 0, 'HCDC': '5.00', 'MCDC': '10.00', 'LCDC': '100.00', 'HGT0C': 2000, 'KINDEX': 29, 'CAPE180_0': '4.0000', 'CIN180_0': 0}, '12H00': {'ICON': 'https://www.prevision-meteo.ch/style/images/icon/pluie-faible.png', 'CONDITION': 'Pluie faible', 'CONDITION_KEY': 'pluie-faible', 'TMP2m': 6.4, 'DPT2m': 5.3, 'WNDCHILL2m': 3.8, 'HUMIDEX': None, 'RH2m': 93, 'PRMSL': 1036, 'APCPsfc': 0.1, 'WNDSPD10m': 13, 'WNDGUST10m': 20, 'WNDDIR10m': 212, 'WNDDIRCARD10': 'SO', 'ISSNOW': 0, 'HCDC': '3.00', 'MCDC': '42.00', 'LCDC': '100.00', 'HGT0C': 2000, 'KINDEX': 28, 'CAPE180_0': '4.0000', 'CIN180_0': 0}, '13H00': {'ICON': 'https://www.prevision-meteo.ch/style/images/icon/pluie-faible.png', 'CONDITION': 'Pluie faible', 'CONDITION_KEY': 'pluie-faible', 'TMP2m': 6.8, 'DPT2m': 5.9, 'WNDCHILL2m': 4.3, 'HUMIDEX': None, 'RH2m': 94, 'PRMSL': 1035.2, 'APCPsfc': 0.1, 'WNDSPD10m': 13, 'WNDGUST10m': 20, 'WNDDIR10m': 215, 'WNDDIRCARD10': 'SO', 'ISSNOW': 0, 'HCDC': '8.00', 'MCDC': '100.00', 'LCDC': '100.00', 'HGT0C': 2000, 'KINDEX': 28, 'CAPE180_0': '5.0000', 'CIN180_0': 0}, '14H00': {'ICON': 'https://www.prevision-meteo.ch/style/images/icon/pluie-faible.png', 'CONDITION': 'Pluie faible', 'CONDITION_KEY': 'pluie-faible', 'TMP2m': 7, 'DPT2m': 6.4, 'WNDCHILL2m': 4.7, 'HUMIDEX': None, 'RH2m': 96, 'PRMSL': 1035, 'APCPsfc': 0.8, 'WNDSPD10m': 12, 'WNDGUST10m': 19, 'WNDDIR10m': 219, 'WNDDIRCARD10': 'SO', 'ISSNOW': 0, 'HCDC': '40.00', 'MCDC': '100.00', 'LCDC': '100.00', 'HGT0C': 2000, 'KINDEX': 28, 'CAPE180_0': '11.0000', 'CIN180_0': 0}, '15H00': {'ICON': 'https://www.prevision-meteo.ch/style/images/icon/pluie-moderee.png', 'CONDITION': 'Pluie modérée', 'CONDITION_KEY': 'pluie-moderee', 'TMP2m': 6.9, 'DPT2m': 6.5, 'WNDCHILL2m': 4.7, 'HUMIDEX': None, 'RH2m': 98, 'PRMSL': 1035.2, 'APCPsfc': 1.1, 'WNDSPD10m': 11, 'WNDGUST10m': 18, 'WNDDIR10m': 222, 'WNDDIRCARD10': 'SO', 'ISSNOW': 0, 'HCDC': '83.00', 'MCDC': '100.00', 'LCDC': '100.00', 'HGT0C': 1900, 'KINDEX': 29, 'CAPE180_0': '19.0000', 'CIN180_0': 0}, '16H00': {'ICON': 'https://www.prevision-meteo.ch/style/images/icon/pluie-moderee.png', 'CONDITION': 'Pluie modérée', 'CONDITION_KEY': 'pluie-moderee', 'TMP2m': 6.6, 'DPT2m': 6.4, 'WNDCHILL2m': 4.4, 'HUMIDEX': None, 'RH2m': 99, 'PRMSL': 1034.9, 'APCPsfc': 1.2, 'WNDSPD10m': 11, 'WNDGUST10m': 17, 'WNDDIR10m': 225, 'WNDDIRCARD10': 'SO', 'ISSNOW': 0, 'HCDC': '90.00', 'MCDC': '100.00', 'LCDC': '100.00', 'HGT0C': 1900, 'KINDEX': 29, 'CAPE180_0': '22.0000', 'CIN180_0': 0}, '17H00': {'ICON': 'https://www.prevision-meteo.ch/style/images/icon/pluie-moderee.png', 'CONDITION': 'Pluie modérée', 'CONDITION_KEY': 'pluie-moderee', 'TMP2m': 6.3, 'DPT2m': 6.2, 'WNDCHILL2m': 4, 'HUMIDEX': None, 'RH2m': 99, 'PRMSL': 1034.5, 'APCPsfc': 1.1, 'WNDSPD10m': 11, 'WNDGUST10m': 17, 'WNDDIR10m': 230, 'WNDDIRCARD10': 'SO', 'ISSNOW': 0, 'HCDC': '97.00', 'MCDC': '100.00', 'LCDC': '100.00', 'HGT0C': 1900, 'KINDEX': 29, 'CAPE180_0': '22.0000', 'CIN180_0': 0}, '18H00': {'ICON': 'https://www.prevision-meteo.ch/style/images/icon/pluie-faible.png', 'CONDITION': 'Pluie faible', 'CONDITION_KEY': 'pluie-faible', 'TMP2m': 6.1, 'DPT2m': 6.1, 'WNDCHILL2m': 4, 'HUMIDEX': None, 'RH2m': 100, 'PRMSL': 1034.5, 'APCPsfc': 0.8, 'WNDSPD10m': 10, 'WNDGUST10m': 16, 'WNDDIR10m': 236, 'WNDDIRCARD10': 'SO', 'ISSNOW': 0, 'HCDC': '100.00', 'MCDC': '100.00', 'LCDC': '100.00', 'HGT0C': 2000, 'KINDEX': 30, 'CAPE180_0': '12.0000', 'CIN180_0': 0}, '19H00': {'ICON': 'https://www.prevision-meteo.ch/style/images/icon/pluie-faible.png', 'CONDITION': 'Pluie faible', 'CONDITION_KEY': 'pluie-faible', 'TMP2m': 6.1, 'DPT2m': 6, 'WNDCHILL2m': 4.2, 'HUMIDEX': None, 'RH2m': 100, 'PRMSL': 1035, 'APCPsfc': 0.7, 'WNDSPD10m': 9, 'WNDGUST10m': 16, 'WNDDIR10m': 244, 'WNDDIRCARD10': 'SO', 'ISSNOW': 0, 'HCDC': '100.00', 'MCDC': '100.00', 'LCDC': '100.00', 'HGT0C': 2000, 'KINDEX': 29, 'CAPE180_0': '5.0000', 'CIN180_0': 0}, '20H00': {'ICON': 'https://www.prevision-meteo.ch/style/images/icon/pluie-moderee.png', 'CONDITION': 'Pluie modérée', 'CONDITION_KEY': 'pluie-moderee', 'TMP2m': 6.1, 'DPT2m': 6, 'WNDCHILL2m': 4.4, 'HUMIDEX': None, 'RH2m': 100, 'PRMSL': 1035.3, 'APCPsfc': 1.1, 'WNDSPD10m': 8, 'WNDGUST10m': 13, 'WNDDIR10m': 253, 'WNDDIRCARD10': 'O', 'ISSNOW': 0, 'HCDC': '100.00', 'MCDC': '100.00', 'LCDC': '100.00', 'HGT0C': 1800, 'KINDEX': 28, 'CAPE180_0': '4.0000', 'CIN180_0': 0}, '21H00': {'ICON': 'https://www.prevision-meteo.ch/style/images/icon/pluie-moderee.png', 'CONDITION': 'Pluie modérée', 'CONDITION_KEY': 'pluie-moderee', 'TMP2m': 6.1, 'DPT2m': 6, 'WNDCHILL2m': 4.7, 'HUMIDEX': None, 'RH2m': 100, 'PRMSL': 1035.3, 'APCPsfc': 1, 'WNDSPD10m': 7, 'WNDGUST10m': 11, 'WNDDIR10m': 252, 'WNDDIRCARD10': 'O', 'ISSNOW': 0, 'HCDC': '100.00', 'MCDC': '100.00', 'LCDC': '100.00', 'HGT0C': 1700, 'KINDEX': 28, 'CAPE180_0': '5.0000', 'CIN180_0': 0}, '22H00': {'ICON': 'https://www.prevision-meteo.ch/style/images/icon/pluie-faible.png', 'CONDITION': 'Pluie faible', 'CONDITION_KEY': 'pluie-faible', 'TMP2m': 6.1, 'DPT2m': 6, 'WNDCHILL2m': 5, 'HUMIDEX': None, 'RH2m': 100, 'PRMSL': 1035.3, 'APCPsfc': 0.6, 'WNDSPD10m': 6, 'WNDGUST10m': 10, 'WNDDIR10m': 249, 'WNDDIRCARD10': 'O', 'ISSNOW': 0, 'HCDC': '100.00', 'MCDC': '100.00', 'LCDC': '100.00', 'HGT0C': 1700, 'KINDEX': 28, 'CAPE180_0': '7.2000', 'CIN180_0': 0}, '23H00': {'ICON': 'https://www.prevision-meteo.ch/style/images/icon/pluie-faible.png', 'CONDITION': 'Pluie faible', 'CONDITION_KEY': 'pluie-faible', 'TMP2m': 6.1, 'DPT2m': 6.1, 'WNDCHILL2m': 5.3, 'HUMIDEX': None, 'RH2m': 100, 'PRMSL': 1035.6, 'APCPsfc': 0.3, 'WNDSPD10m': 5, 'WNDGUST10m': 9, 'WNDDIR10m': 247, 'WNDDIRCARD10': 'SO', 'ISSNOW': 0, 'HCDC': '100.00', 'MCDC': '100.00', 'LCDC': '100.00', 'HGT0C': 1700, 'KINDEX': 29, 'CAPE180_0': '4.2000', 'CIN180_0': 0}}}, 'fcst_day_3': {'date': '22.12.2017', 'day_short': 'Ven.', 'day_long': 'Vendredi', 'tmin': 2, 'tmax': 7, 'condition': 'Eclaircies', 'condition_key': 'eclaircies', 'icon': 'https://www.prevision-meteo.ch/style/images/icon/eclaircies.png', 'icon_big': 'https://www.prevision-meteo.ch/style/images/icon/eclaircies-big.png', 'hourly_data': {'0H00': {'ICON': 'https://www.prevision-meteo.ch/style/images/icon/pluie-faible.png', 'CONDITION': 'Pluie faible', 'CONDITION_KEY': 'pluie-faible', 'TMP2m': 6.1, 'DPT2m': 6, 'WNDCHILL2m': 5.3, 'HUMIDEX': None, 'RH2m': 100, 'PRMSL': 1035.5, 'APCPsfc': 0.1, 'WNDSPD10m': 5, 'WNDGUST10m': 8, 'WNDDIR10m': 242, 'WNDDIRCARD10': 'SO', 'ISSNOW': 0, 'HCDC': '100.00', 'MCDC': '100.00', 'LCDC': '100.00', 'HGT0C': 1600, 'KINDEX': 29, 'CAPE180_0': '4.4000', 'CIN180_0': 0}, '1H00': {'ICON': 'https://www.prevision-meteo.ch/style/images/icon/fortement-nuageux.png', 'CONDITION': 'Fortement nuageux', 'CONDITION_KEY': 'fortement-nuageux', 'TMP2m': 6.1, 'DPT2m': 6, 'WNDCHILL2m': 5.3, 'HUMIDEX': None, 'RH2m': 100, 'PRMSL': 1035, 'APCPsfc': 0, 'WNDSPD10m': 5, 'WNDGUST10m': 8, 'WNDDIR10m': 238, 'WNDDIRCARD10': 'SO', 'ISSNOW': 0, 'HCDC': '98.00', 'MCDC': '100.00', 'LCDC': '100.00', 'HGT0C': 1600, 'KINDEX': 29, 'CAPE180_0': '7.6000', 'CIN180_0': 0}, '2H00': {'ICON': 'https://www.prevision-meteo.ch/style/images/icon/nuit-avec-averses.png', 'CONDITION': 'Nuit avec averses', 'CONDITION_KEY': 'nuit-avec-averses', 'TMP2m': 6, 'DPT2m': 6, 'WNDCHILL2m': 5.2, 'HUMIDEX': None, 'RH2m': 100, 'PRMSL': 1034.9, 'APCPsfc': 0.1, 'WNDSPD10m': 5, 'WNDGUST10m': 7, 'WNDDIR10m': 225, 'WNDDIRCARD10': 'SO', 'ISSNOW': 0, 'HCDC': '96.00', 'MCDC': '0.00', 'LCDC': '100.00', 'HGT0C': 1500, 'KINDEX': 29, 'CAPE180_0': '8.4000', 'CIN180_0': 0}, '3H00': {'ICON': 'https://www.prevision-meteo.ch/style/images/icon/nuit-avec-averses.png', 'CONDITION': 'Nuit avec averses', 'CONDITION_KEY': 'nuit-avec-averses', 'TMP2m': 6, 'DPT2m': 5.9, 'WNDCHILL2m': 6, 'HUMIDEX': None, 'RH2m': 100, 'PRMSL': 1034.9, 'APCPsfc': 0.1, 'WNDSPD10m': 4, 'WNDGUST10m': 7, 'WNDDIR10m': 218, 'WNDDIRCARD10': 'SO', 'ISSNOW': 0, 'HCDC': '100.00', 'MCDC': '0.00', 'LCDC': '100.00', 'HGT0C': 1500, 'KINDEX': 30, 'CAPE180_0': '5.6000', 'CIN180_0': 0}, '4H00': {'ICON': 'https://www.prevision-meteo.ch/style/images/icon/nuit-avec-averses.png', 'CONDITION': 'Nuit avec averses', 'CONDITION_KEY': 'nuit-avec-averses', 'TMP2m': 5.9, 'DPT2m': 5.9, 'WNDCHILL2m': 5.9, 'HUMIDEX': None, 'RH2m': 100, 'PRMSL': 1034.7, 'APCPsfc': 0.1, 'WNDSPD10m': 3, 'WNDGUST10m': 6, 'WNDDIR10m': 212, 'WNDDIRCARD10': 'SO', 'ISSNOW': 0, 'HCDC': '100.00', 'MCDC': '0.00', 'LCDC': '100.00', 'HGT0C': 1400, 'KINDEX': 32, 'CAPE180_0': '4.3000', 'CIN180_0': 0}, '5H00': {'ICON': 'https://www.prevision-meteo.ch/style/images/icon/nuit-avec-averses.png', 'CONDITION': 'Nuit avec averses', 'CONDITION_KEY': 'nuit-avec-averses', 'TMP2m': 5.9, 'DPT2m': 5.8, 'WNDCHILL2m': 5.9, 'HUMIDEX': None, 'RH2m': 100, 'PRMSL': 1034.4, 'APCPsfc': 0.1, 'WNDSPD10m': 3, 'WNDGUST10m': 5, 'WNDDIR10m': 210, 'WNDDIRCARD10': 'SO', 'ISSNOW': 0, 'HCDC': '100.00', 'MCDC': '0.00', 'LCDC': '100.00', 'HGT0C': 1400, 'KINDEX': 34, 'CAPE180_0': '4.4000', 'CIN180_0': 0}, '6H00': {'ICON': 'https://www.prevision-meteo.ch/style/images/icon/nuit-avec-averses.png', 'CONDITION': 'Nuit avec averses', 'CONDITION_KEY': 'nuit-avec-averses', 'TMP2m': 5.8, 'DPT2m': 5.7, 'WNDCHILL2m': 5.8, 'HUMIDEX': None, 'RH2m': 100, 'PRMSL': 1034.6, 'APCPsfc': 0.1, 'WNDSPD10m': 1, 'WNDGUST10m': 4, 'WNDDIR10m': 194, 'WNDDIRCARD10': 'S', 'ISSNOW': 0, 'HCDC': '82.00', 'MCDC': '0.00', 'LCDC': '100.00', 'HGT0C': 1400, 'KINDEX': 36, 'CAPE180_0': '4.3000', 'CIN180_0': 0}, '7H00': {'ICON': 'https://www.prevision-meteo.ch/style/images/icon/nuit-avec-averses.png', 'CONDITION': 'Nuit avec averses', 'CONDITION_KEY': 'nuit-avec-averses', 'TMP2m': 5.7, 'DPT2m': 5.6, 'WNDCHILL2m': 5.7, 'HUMIDEX': None, 'RH2m': 100, 'PRMSL': 1035, 'APCPsfc': 0.1, 'WNDSPD10m': 1, 'WNDGUST10m': 2, 'WNDDIR10m': 117, 'WNDDIRCARD10': 'SE', 'ISSNOW': 0, 'HCDC': '27.00', 'MCDC': '0.00', 'LCDC': '100.00', 'HGT0C': 1300, 'KINDEX': 39, 'CAPE180_0': '4.3000', 'CIN180_0': 0}, '8H00': {'ICON': 'https://www.prevision-meteo.ch/style/images/icon/nuit-avec-averses.png', 'CONDITION': 'Nuit avec averses', 'CONDITION_KEY': 'nuit-avec-averses', 'TMP2m': 5.6, 'DPT2m': 5.5, 'WNDCHILL2m': 5.6, 'HUMIDEX': None, 'RH2m': 100, 'PRMSL': 1035.3, 'APCPsfc': 0.1, 'WNDSPD10m': 2, 'WNDGUST10m': 3, 'WNDDIR10m': 90, 'WNDDIRCARD10': 'E', 'ISSNOW': 0, 'HCDC': '39.00', 'MCDC': '0.00', 'LCDC': '100.00', 'HGT0C': 1300, 'KINDEX': 41, 'CAPE180_0': '5.7000', 'CIN180_0': 0}, '9H00': {'ICON': 'https://www.prevision-meteo.ch/style/images/icon/averses-de-pluie-faible.png', 'CONDITION': 'Averses de pluie faible', 'CONDITION_KEY': 'averses-de-pluie-faible', 'TMP2m': 5.6, 'DPT2m': 5.5, 'WNDCHILL2m': 5.6, 'HUMIDEX': None, 'RH2m': 99, 'PRMSL': 1035.4, 'APCPsfc': 0.1, 'WNDSPD10m': 3, 'WNDGUST10m': 5, 'WNDDIR10m': 69, 'WNDDIRCARD10': 'E', 'ISSNOW': 0, 'HCDC': '21.00', 'MCDC': '0.00', 'LCDC': '100.00', 'HGT0C': 1200, 'KINDEX': 43, 'CAPE180_0': '8.0000', 'CIN180_0': 0}, '10H00': {'ICON': 'https://www.prevision-meteo.ch/style/images/icon/averses-de-pluie-faible.png', 'CONDITION': 'Averses de pluie faible', 'CONDITION_KEY': 'averses-de-pluie-faible', 'TMP2m': 5.9, 'DPT2m': 5.5, 'WNDCHILL2m': 5.9, 'HUMIDEX': None, 'RH2m': 98, 'PRMSL': 1035.9, 'APCPsfc': 0.1, 'WNDSPD10m': 4, 'WNDGUST10m': 6, 'WNDDIR10m': 45, 'WNDDIRCARD10': 'NE', 'ISSNOW': 0, 'HCDC': '1.00', 'MCDC': '0.00', 'LCDC': '100.00', 'HGT0C': 1200, 'KINDEX': 43, 'CAPE180_0': '5.7000', 'CIN180_0': 0}, '11H00': {'ICON': 'https://www.prevision-meteo.ch/style/images/icon/averses-de-pluie-faible.png', 'CONDITION': 'Averses de pluie faible', 'CONDITION_KEY': 'averses-de-pluie-faible', 'TMP2m': 6.2, 'DPT2m': 5.4, 'WNDCHILL2m': 5.4, 'HUMIDEX': None, 'RH2m': 95, 'PRMSL': 1036.3, 'APCPsfc': 0.1, 'WNDSPD10m': 5, 'WNDGUST10m': 8, 'WNDDIR10m': 39, 'WNDDIRCARD10': 'NE', 'ISSNOW': 0, 'HCDC': '0.00', 'MCDC': '0.00', 'LCDC': '100.00', 'HGT0C': 1100, 'KINDEX': 43, 'CAPE180_0': '4.2000', 'CIN180_0': 0}, '12H00': {'ICON': 'https://www.prevision-meteo.ch/style/images/icon/averses-de-pluie-faible.png', 'CONDITION': 'Averses de pluie faible', 'CONDITION_KEY': 'averses-de-pluie-faible', 'TMP2m': 6.6, 'DPT2m': 5.3, 'WNDCHILL2m': 6.6, 'HUMIDEX': None, 'RH2m': 91, 'PRMSL': 1035.8, 'APCPsfc': 0.1, 'WNDSPD10m': 4, 'WNDGUST10m': 7, 'WNDDIR10m': 24, 'WNDDIRCARD10': 'NE', 'ISSNOW': 0, 'HCDC': '0.00', 'MCDC': '0.00', 'LCDC': '100.00', 'HGT0C': 1100, 'KINDEX': 42, 'CAPE180_0': '4.1000', 'CIN180_0': 0}, '13H00': {'ICON': 'https://www.prevision-meteo.ch/style/images/icon/eclaircies.png', 'CONDITION': 'Eclaircies', 'CONDITION_KEY': 'eclaircies', 'TMP2m': 7.1, 'DPT2m': 5.2, 'WNDCHILL2m': 7.1, 'HUMIDEX': None, 'RH2m': 88, 'PRMSL': 1035.2, 'APCPsfc': 0, 'WNDSPD10m': 3, 'WNDGUST10m': 6, 'WNDDIR10m': 347, 'WNDDIRCARD10': 'N', 'ISSNOW': 0, 'HCDC': '1.00', 'MCDC': '0.00', 'LCDC': '90.00', 'HGT0C': 1100, 'KINDEX': 41, 'CAPE180_0': '9.0000', 'CIN180_0': 0}, '14H00': {'ICON': 'https://www.prevision-meteo.ch/style/images/icon/eclaircies.png', 'CONDITION': 'Eclaircies', 'CONDITION_KEY': 'eclaircies', 'TMP2m': 7.3, 'DPT2m': 5.1, 'WNDCHILL2m': 7.3, 'HUMIDEX': None, 'RH2m': 86, 'PRMSL': 1035, 'APCPsfc': 0, 'WNDSPD10m': 4, 'WNDGUST10m': 6, 'WNDDIR10m': 311, 'WNDDIRCARD10': 'NO', 'ISSNOW': 0, 'HCDC': '12.00', 'MCDC': '0.00', 'LCDC': '64.00', 'HGT0C': 1100, 'KINDEX': 41, 'CAPE180_0': '14.0000', 'CIN180_0': 0}, '15H00': {'ICON': 'https://www.prevision-meteo.ch/style/images/icon/eclaircies.png', 'CONDITION': 'Eclaircies', 'CONDITION_KEY': 'eclaircies', 'TMP2m': 7.4, 'DPT2m': 5.1, 'WNDCHILL2m': 6.8, 'HUMIDEX': None, 'RH2m': 85, 'PRMSL': 1035.1, 'APCPsfc': 0, 'WNDSPD10m': 5, 'WNDGUST10m': 7, 'WNDDIR10m': 299, 'WNDDIRCARD10': 'NO', 'ISSNOW': 0, 'HCDC': '0.00', 'MCDC': '0.00', 'LCDC': '55.00', 'HGT0C': 1100, 'KINDEX': 40, 'CAPE180_0': '11.0000', 'CIN180_0': 0}, '16H00': {'ICON': 'https://www.prevision-meteo.ch/style/images/icon/eclaircies.png', 'CONDITION': 'Eclaircies', 'CONDITION_KEY': 'eclaircies', 'TMP2m': 7.1, 'DPT2m': 5.9, 'WNDCHILL2m': 7.1, 'HUMIDEX': None, 'RH2m': 93, 'PRMSL': 1034.9, 'APCPsfc': 0, 'WNDSPD10m': 4, 'WNDGUST10m': 7, 'WNDDIR10m': 294, 'WNDDIRCARD10': 'NO', 'ISSNOW': 0, 'HCDC': '0.00', 'MCDC': '0.00', 'LCDC': '42.00', 'HGT0C': 1100, 'KINDEX': 39, 'CAPE180_0': '15.0000', 'CIN180_0': 0}, '17H00': {'ICON': 'https://www.prevision-meteo.ch/style/images/icon/nuit-claire-et-stratus.png', 'CONDITION': 'Nuit claire et stratus', 'CONDITION_KEY': 'nuit-claire-et-stratus', 'TMP2m': 6.3, 'DPT2m': 5.5, 'WNDCHILL2m': 5.6, 'HUMIDEX': None, 'RH2m': 94, 'PRMSL': 1034.9, 'APCPsfc': 0, 'WNDSPD10m': 5, 'WNDGUST10m': 7, 'WNDDIR10m': 295, 'WNDDIRCARD10': 'NO', 'ISSNOW': 0, 'HCDC': '14.00', 'MCDC': '0.00', 'LCDC': '10.00', 'HGT0C': 1000, 'KINDEX': 39, 'CAPE180_0': '29.0000', 'CIN180_0': -1}, '18H00': {'ICON': 'https://www.prevision-meteo.ch/style/images/icon/nuit-nuageuse.png', 'CONDITION': 'Nuit nuageuse', 'CONDITION_KEY': 'nuit-nuageuse', 'TMP2m': 5.9, 'DPT2m': 5.5, 'WNDCHILL2m': 4.8, 'HUMIDEX': None, 'RH2m': 97, 'PRMSL': 1035.3, 'APCPsfc': 0, 'WNDSPD10m': 6, 'WNDGUST10m': 10, 'WNDDIR10m': 301, 'WNDDIRCARD10': 'NO', 'ISSNOW': 0, 'HCDC': '9.00', 'MCDC': '0.00', 'LCDC': '39.00', 'HGT0C': 1000, 'KINDEX': 37, 'CAPE180_0': '36.0000', 'CIN180_0': -1}, '19H00': {'ICON': 'https://www.prevision-meteo.ch/style/images/icon/nuit-legerement-voilee.png', 'CONDITION': 'Nuit légèrement voilée', 'CONDITION_KEY': 'nuit-legerement-voilee', 'TMP2m': 4.8, 'DPT2m': 4.8, 'WNDCHILL2m': 2.9, 'HUMIDEX': None, 'RH2m': 100, 'PRMSL': 1036, 'APCPsfc': 0, 'WNDSPD10m': 8, 'WNDGUST10m': 13, 'WNDDIR10m': 304, 'WNDDIRCARD10': 'NO', 'ISSNOW': 0, 'HCDC': '70.00', 'MCDC': '0.00', 'LCDC': '6.00', 'HGT0C': 1000, 'KINDEX': 34, 'CAPE180_0': '45.0000', 'CIN180_0': -3}, '20H00': {'ICON': 'https://www.prevision-meteo.ch/style/images/icon/nuit-nuageuse.png', 'CONDITION': 'Nuit nuageuse', 'CONDITION_KEY': 'nuit-nuageuse', 'TMP2m': 4.3, 'DPT2m': 3.4, 'WNDCHILL2m': 1.8, 'HUMIDEX': None, 'RH2m': 100, 'PRMSL': 1036.5, 'APCPsfc': 0, 'WNDSPD10m': 10, 'WNDGUST10m': 15, 'WNDDIR10m': 308, 'WNDDIRCARD10': 'NO', 'ISSNOW': 0, 'HCDC': '0.00', 'MCDC': '0.00', 'LCDC': '64.00', 'HGT0C': 1000, 'KINDEX': 33, 'CAPE180_0': '37.0000', 'CIN180_0': -8}, '21H00': {'ICON': 'https://www.prevision-meteo.ch/style/images/icon/nuit-nuageuse.png', 'CONDITION': 'Nuit nuageuse', 'CONDITION_KEY': 'nuit-nuageuse', 'TMP2m': 3.6, 'DPT2m': 3.4, 'WNDCHILL2m': 0.8, 'HUMIDEX': None, 'RH2m': 99, 'PRMSL': 1036.6, 'APCPsfc': 0, 'WNDSPD10m': 11, 'WNDGUST10m': 18, 'WNDDIR10m': 315, 'WNDDIRCARD10': 'NO', 'ISSNOW': 0, 'HCDC': '9.00', 'MCDC': '0.00', 'LCDC': '100.00', 'HGT0C': 900, 'KINDEX': 32, 'CAPE180_0': '30.0000', 'CIN180_0': -3}, '22H00': {'ICON': 'https://www.prevision-meteo.ch/style/images/icon/stratus.png', 'CONDITION': 'Stratus', 'CONDITION_KEY': 'stratus', 'TMP2m': 3.1, 'DPT2m': 2.9, 'WNDCHILL2m': 0.4, 'HUMIDEX': None, 'RH2m': 99, 'PRMSL': 1037.1, 'APCPsfc': 0, 'WNDSPD10m': 10, 'WNDGUST10m': 18, 'WNDDIR10m': 321, 'WNDDIRCARD10': 'NO', 'ISSNOW': 0, 'HCDC': '27.00', 'MCDC': '0.00', 'LCDC': '100.00', 'HGT0C': 900, 'KINDEX': 29, 'CAPE180_0': '11.0000', 'CIN180_0': -4}, '23H00': {'ICON': 'https://www.prevision-meteo.ch/style/images/icon/stratus.png', 'CONDITION': 'Stratus', 'CONDITION_KEY': 'stratus', 'TMP2m': 2.5, 'DPT2m': 2.2, 'WNDCHILL2m': -0.3, 'HUMIDEX': None, 'RH2m': 98, 'PRMSL': 1037.5, 'APCPsfc': 0, 'WNDSPD10m': 10, 'WNDGUST10m': 17, 'WNDDIR10m': 322, 'WNDDIRCARD10': 'NO', 'ISSNOW': 0, 'HCDC': '1.00', 'MCDC': '0.00', 'LCDC': '100.00', 'HGT0C': 800, 'KINDEX': 27, 'CAPE180_0': '0.0000', 'CIN180_0': 0}}}, 'fcst_day_4': {'date': '23.12.2017', 'day_short': 'Sam.', 'day_long': 'Samedi', 'tmin': -1, 'tmax': 4, 'condition': 'Eclaircies', 'condition_key': 'eclaircies', 'icon': 'https://www.prevision-meteo.ch/style/images/icon/eclaircies.png', 'icon_big': 'https://www.prevision-meteo.ch/style/images/icon/eclaircies-big.png', 'hourly_data': {'0H00': {'ICON': 'https://www.prevision-meteo.ch/style/images/icon/nuit-claire.png', 'CONDITION': 'Nuit claire', 'CONDITION_KEY': 'nuit-claire', 'TMP2m': 2, 'DPT2m': 1.7, 'WNDCHILL2m': -0.9, 'HUMIDEX': None, 'RH2m': 98, 'PRMSL': 1037.4, 'APCPsfc': 0, 'WNDSPD10m': 10, 'WNDGUST10m': 16, 'WNDDIR10m': 324, 'WNDDIRCARD10': 'NO', 'ISSNOW': 0, 'HCDC': '0.00', 'MCDC': '0.00', 'LCDC': '100.00', 'HGT0C': 800, 'KINDEX': 27, 'CAPE180_0': '0.0000', 'CIN180_0': 0}, '1H00': {'ICON': 'https://www.prevision-meteo.ch/style/images/icon/nuit-nuageuse.png', 'CONDITION': 'Nuit nuageuse', 'CONDITION_KEY': 'nuit-nuageuse', 'TMP2m': 1.7, 'DPT2m': 1.4, 'WNDCHILL2m': -1.3, 'HUMIDEX': None, 'RH2m': 98, 'PRMSL': 1037.4, 'APCPsfc': 0, 'WNDSPD10m': 10, 'WNDGUST10m': 16, 'WNDDIR10m': 329, 'WNDDIRCARD10': 'NO', 'ISSNOW': 0, 'HCDC': '2.00', 'MCDC': '0.00', 'LCDC': '100.00', 'HGT0C': 700, 'KINDEX': 27, 'CAPE180_0': '0.0000', 'CIN180_0': 0}, '2H00': {'ICON': 'https://www.prevision-meteo.ch/style/images/icon/nuit-nuageuse.png', 'CONDITION': 'Nuit nuageuse', 'CONDITION_KEY': 'nuit-nuageuse', 'TMP2m': 1.5, 'DPT2m': 1.1, 'WNDCHILL2m': -1.5, 'HUMIDEX': None, 'RH2m': 98, 'PRMSL': 1037.6, 'APCPsfc': 0, 'WNDSPD10m': 10, 'WNDGUST10m': 16, 'WNDDIR10m': 333, 'WNDDIRCARD10': 'NO', 'ISSNOW': 1, 'HCDC': '0.00', 'MCDC': '0.00', 'LCDC': '100.00', 'HGT0C': 300, 'KINDEX': 26, 'CAPE180_0': '0.0000', 'CIN180_0': 0}, '3H00': {'ICON': 'https://www.prevision-meteo.ch/style/images/icon/nuit-nuageuse.png', 'CONDITION': 'Nuit nuageuse', 'CONDITION_KEY': 'nuit-nuageuse', 'TMP2m': 1.4, 'DPT2m': 1, 'WNDCHILL2m': -1.4, 'HUMIDEX': None, 'RH2m': 98, 'PRMSL': 1037.8, 'APCPsfc': 0, 'WNDSPD10m': 9, 'WNDGUST10m': 16, 'WNDDIR10m': 328, 'WNDDIRCARD10': 'NO', 'ISSNOW': 1, 'HCDC': '0.00', 'MCDC': '0.00', 'LCDC': '100.00', 'HGT0C': 300, 'KINDEX': 26, 'CAPE180_0': '0.0000', 'CIN180_0': 0}, '4H00': {'ICON': 'https://www.prevision-meteo.ch/style/images/icon/nuit-nuageuse.png', 'CONDITION': 'Nuit nuageuse', 'CONDITION_KEY': 'nuit-nuageuse', 'TMP2m': 1.3, 'DPT2m': 0.9, 'WNDCHILL2m': -1.2, 'HUMIDEX': None, 'RH2m': 98, 'PRMSL': 1037.9, 'APCPsfc': 0, 'WNDSPD10m': 8, 'WNDGUST10m': 15, 'WNDDIR10m': 324, 'WNDDIRCARD10': 'NO', 'ISSNOW': 1, 'HCDC': '0.00', 'MCDC': '0.00', 'LCDC': '100.00', 'HGT0C': 300, 'KINDEX': 26, 'CAPE180_0': '0.0000', 'CIN180_0': 0}, '5H00': {'ICON': 'https://www.prevision-meteo.ch/style/images/icon/nuit-nuageuse.png', 'CONDITION': 'Nuit nuageuse', 'CONDITION_KEY': 'nuit-nuageuse', 'TMP2m': 1.2, 'DPT2m': 0.8, 'WNDCHILL2m': -1.3, 'HUMIDEX': None, 'RH2m': 98, 'PRMSL': 1038, 'APCPsfc': 0, 'WNDSPD10m': 8, 'WNDGUST10m': 13, 'WNDDIR10m': 315, 'WNDDIRCARD10': 'NO', 'ISSNOW': 1, 'HCDC': '0.00', 'MCDC': '0.00', 'LCDC': '100.00', 'HGT0C': 200, 'KINDEX': 25, 'CAPE180_0': '0.0000', 'CIN180_0': 0}, '6H00': {'ICON': 'https://www.prevision-meteo.ch/style/images/icon/nuit-nuageuse.png', 'CONDITION': 'Nuit nuageuse', 'CONDITION_KEY': 'nuit-nuageuse', 'TMP2m': 1.2, 'DPT2m': 0.7, 'WNDCHILL2m': -1.3, 'HUMIDEX': None, 'RH2m': 97, 'PRMSL': 1038.3, 'APCPsfc': 0, 'WNDSPD10m': 8, 'WNDGUST10m': 13, 'WNDDIR10m': 306, 'WNDDIRCARD10': 'NO', 'ISSNOW': 1, 'HCDC': '0.00', 'MCDC': '0.00', 'LCDC': '100.00', 'HGT0C': 200, 'KINDEX': 25, 'CAPE180_0': '3.0000', 'CIN180_0': 0}, '7H00': {'ICON': 'https://www.prevision-meteo.ch/style/images/icon/nuit-nuageuse.png', 'CONDITION': 'Nuit nuageuse', 'CONDITION_KEY': 'nuit-nuageuse', 'TMP2m': 1.2, 'DPT2m': 0.6, 'WNDCHILL2m': -1.3, 'HUMIDEX': None, 'RH2m': 96, 'PRMSL': 1038.8, 'APCPsfc': 0, 'WNDSPD10m': 8, 'WNDGUST10m': 13, 'WNDDIR10m': 300, 'WNDDIRCARD10': 'NO', 'ISSNOW': 1, 'HCDC': '0.00', 'MCDC': '0.00', 'LCDC': '100.00', 'HGT0C': 200, 'KINDEX': 23, 'CAPE180_0': '5.0000', 'CIN180_0': 0}, '8H00': {'ICON': 'https://www.prevision-meteo.ch/style/images/icon/nuit-avec-averses-de-neige-faible.png', 'CONDITION': 'Nuit avec averses de neige faible', 'CONDITION_KEY': 'nuit-avec-averses-de-neige-faible', 'TMP2m': 1.2, 'DPT2m': 0.4, 'WNDCHILL2m': -1.3, 'HUMIDEX': None, 'RH2m': 94, 'PRMSL': 1039.1, 'APCPsfc': 0.2, 'WNDSPD10m': 8, 'WNDGUST10m': 13, 'WNDDIR10m': 298, 'WNDDIRCARD10': 'NO', 'ISSNOW': 1, 'HCDC': '0.00', 'MCDC': '0.00', 'LCDC': '100.00', 'HGT0C': 200, 'KINDEX': 22, 'CAPE180_0': '5.0000', 'CIN180_0': 0}, '9H00': {'ICON': 'https://www.prevision-meteo.ch/style/images/icon/averses-de-neige-faible.png', 'CONDITION': 'Averses de neige faible', 'CONDITION_KEY': 'averses-de-neige-faible', 'TMP2m': 1.4, 'DPT2m': 0.3, 'WNDCHILL2m': -1.1, 'HUMIDEX': None, 'RH2m': 93, 'PRMSL': 1039.4, 'APCPsfc': 0.2, 'WNDSPD10m': 8, 'WNDGUST10m': 13, 'WNDDIR10m': 297, 'WNDDIRCARD10': 'NO', 'ISSNOW': 1, 'HCDC': '0.00', 'MCDC': '0.00', 'LCDC': '100.00', 'HGT0C': 200, 'KINDEX': 21, 'CAPE180_0': '4.0000', 'CIN180_0': 0}, '10H00': {'ICON': 'https://www.prevision-meteo.ch/style/images/icon/averses-de-neige-faible.png', 'CONDITION': 'Averses de neige faible', 'CONDITION_KEY': 'averses-de-neige-faible', 'TMP2m': 2, 'DPT2m': 0.3, 'WNDCHILL2m': -0.4, 'HUMIDEX': None, 'RH2m': 89, 'PRMSL': 1039.9, 'APCPsfc': 0.1, 'WNDSPD10m': 8, 'WNDGUST10m': 14, 'WNDDIR10m': 301, 'WNDDIRCARD10': 'NO', 'ISSNOW': 1, 'HCDC': '0.00', 'MCDC': '0.00', 'LCDC': '100.00', 'HGT0C': 300, 'KINDEX': 20, 'CAPE180_0': '0.0000', 'CIN180_0': 0}, '11H00': {'ICON': 'https://www.prevision-meteo.ch/style/images/icon/averses-de-neige-faible.png', 'CONDITION': 'Averses de neige faible', 'CONDITION_KEY': 'averses-de-neige-faible', 'TMP2m': 2.4, 'DPT2m': 0.3, 'WNDCHILL2m': 0.1, 'HUMIDEX': None, 'RH2m': 86, 'PRMSL': 1040.2, 'APCPsfc': 0.1, 'WNDSPD10m': 8, 'WNDGUST10m': 13, 'WNDDIR10m': 307, 'WNDDIRCARD10': 'NO', 'ISSNOW': 1, 'HCDC': '0.00', 'MCDC': '0.00', 'LCDC': '85.00', 'HGT0C': 300, 'KINDEX': 18, 'CAPE180_0': '0.0000', 'CIN180_0': 0}, '12H00': {'ICON': 'https://www.prevision-meteo.ch/style/images/icon/eclaircies.png', 'CONDITION': 'Eclaircies', 'CONDITION_KEY': 'eclaircies', 'TMP2m': 2.8, 'DPT2m': 0.2, 'WNDCHILL2m': 0.9, 'HUMIDEX': None, 'RH2m': 83, 'PRMSL': 1039.8, 'APCPsfc': 0, 'WNDSPD10m': 7, 'WNDGUST10m': 13, 'WNDDIR10m': 309, 'WNDDIRCARD10': 'NO', 'ISSNOW': 1, 'HCDC': '0.00', 'MCDC': '0.00', 'LCDC': '71.00', 'HGT0C': 300, 'KINDEX': 17, 'CAPE180_0': '0.0000', 'CIN180_0': 0}, '13H00': {'ICON': 'https://www.prevision-meteo.ch/style/images/icon/eclaircies.png', 'CONDITION': 'Eclaircies', 'CONDITION_KEY': 'eclaircies', 'TMP2m': 3.2, 'DPT2m': -0.1, 'WNDCHILL2m': 1.3, 'HUMIDEX': None, 'RH2m': 79, 'PRMSL': 1039.2, 'APCPsfc': 0, 'WNDSPD10m': 7, 'WNDGUST10m': 12, 'WNDDIR10m': 315, 'WNDDIRCARD10': 'NO', 'ISSNOW': 2, 'HCDC': '0.00', 'MCDC': '0.00', 'LCDC': '50.00', 'HGT0C': 400, 'KINDEX': 16, 'CAPE180_0': '0.0000', 'CIN180_0': 0}, '14H00': {'ICON': 'https://www.prevision-meteo.ch/style/images/icon/eclaircies.png', 'CONDITION': 'Eclaircies', 'CONDITION_KEY': 'eclaircies', 'TMP2m': 3.5, 'DPT2m': -0.2, 'WNDCHILL2m': 1.7, 'HUMIDEX': None, 'RH2m': 77, 'PRMSL': 1038.9, 'APCPsfc': 0, 'WNDSPD10m': 7, 'WNDGUST10m': 11, 'WNDDIR10m': 319, 'WNDDIRCARD10': 'NO', 'ISSNOW': 0, 'HCDC': '0.00', 'MCDC': '0.00', 'LCDC': '30.00', 'HGT0C': 400, 'KINDEX': 16, 'CAPE180_0': '0.0000', 'CIN180_0': 0}, '15H00': {'ICON': 'https://www.prevision-meteo.ch/style/images/icon/eclaircies.png', 'CONDITION': 'Eclaircies', 'CONDITION_KEY': 'eclaircies', 'TMP2m': 3.5, 'DPT2m': -0.2, 'WNDCHILL2m': 2, 'HUMIDEX': None, 'RH2m': 77, 'PRMSL': 1039.2, 'APCPsfc': 0, 'WNDSPD10m': 6, 'WNDGUST10m': 11, 'WNDDIR10m': 320, 'WNDDIRCARD10': 'NO', 'ISSNOW': 0, 'HCDC': '0.00', 'MCDC': '0.00', 'LCDC': '10.00', 'HGT0C': 400, 'KINDEX': 16, 'CAPE180_0': '0.0000', 'CIN180_0': 0}, '16H00': {'ICON': 'https://www.prevision-meteo.ch/style/images/icon/ensoleille.png', 'CONDITION': 'Ensoleillé', 'CONDITION_KEY': 'ensoleille', 'TMP2m': 2.9, 'DPT2m': 0.9, 'WNDCHILL2m': 2.9, 'HUMIDEX': None, 'RH2m': 86, 'PRMSL': 1038.9, 'APCPsfc': 0, 'WNDSPD10m': 3, 'WNDGUST10m': 9, 'WNDDIR10m': 315, 'WNDDIRCARD10': 'NO', 'ISSNOW': 2, 'HCDC': '0.00', 'MCDC': '0.00', 'LCDC': '2.00', 'HGT0C': 400, 'KINDEX': 17, 'CAPE180_0': '0.0000', 'CIN180_0': 0}, '17H00': {'ICON': 'https://www.prevision-meteo.ch/style/images/icon/nuit-claire.png', 'CONDITION': 'Nuit claire', 'CONDITION_KEY': 'nuit-claire', 'TMP2m': 2.3, 'DPT2m': 0.1, 'WNDCHILL2m': 2.3, 'HUMIDEX': None, 'RH2m': 85, 'PRMSL': 1038.8, 'APCPsfc': 0, 'WNDSPD10m': 3, 'WNDGUST10m': 6, 'WNDDIR10m': 310, 'WNDDIRCARD10': 'NO', 'ISSNOW': 2, 'HCDC': '0.00', 'MCDC': '0.00', 'LCDC': '0.00', 'HGT0C': 500, 'KINDEX': 18, 'CAPE180_0': '0.0000', 'CIN180_0': 0}, '18H00': {'ICON': 'https://www.prevision-meteo.ch/style/images/icon/nuit-claire.png', 'CONDITION': 'Nuit claire', 'CONDITION_KEY': 'nuit-claire', 'TMP2m': 1.8, 'DPT2m': -0.5, 'WNDCHILL2m': 1.8, 'HUMIDEX': None, 'RH2m': 85, 'PRMSL': 1038.9, 'APCPsfc': 0, 'WNDSPD10m': 1, 'WNDGUST10m': 4, 'WNDDIR10m': 270, 'WNDDIRCARD10': 'O', 'ISSNOW': 2, 'HCDC': '0.00', 'MCDC': '0.00', 'LCDC': '0.00', 'HGT0C': 500, 'KINDEX': 20, 'CAPE180_0': '0.0000', 'CIN180_0': 0}, '19H00': {'ICON': 'https://www.prevision-meteo.ch/style/images/icon/nuit-claire.png', 'CONDITION': 'Nuit claire', 'CONDITION_KEY': 'nuit-claire', 'TMP2m': 1.8, 'DPT2m': -0.5, 'WNDCHILL2m': 1.8, 'HUMIDEX': None, 'RH2m': 85, 'PRMSL': 1039.4, 'APCPsfc': 0, 'WNDSPD10m': 3, 'WNDGUST10m': 5, 'WNDDIR10m': 216, 'WNDDIRCARD10': 'SO', 'ISSNOW': 2, 'HCDC': '0.00', 'MCDC': '0.00', 'LCDC': '0.00', 'HGT0C': 500, 'KINDEX': 21, 'CAPE180_0': '0.0000', 'CIN180_0': 0}, '20H00': {'ICON': 'https://www.prevision-meteo.ch/style/images/icon/stratus.png', 'CONDITION': 'Stratus', 'CONDITION_KEY': 'stratus', 'TMP2m': 0, 'DPT2m': -1.7, 'WNDCHILL2m': -2, 'HUMIDEX': None, 'RH2m': 95, 'PRMSL': 1040.3, 'APCPsfc': 0, 'WNDSPD10m': 6, 'WNDGUST10m': 11, 'WNDDIR10m': 227, 'WNDDIRCARD10': 'SO', 'ISSNOW': 1, 'HCDC': '0.00', 'MCDC': '0.00', 'LCDC': '0.00', 'HGT0C': 200, 'KINDEX': 20, 'CAPE180_0': '0.0000', 'CIN180_0': 0}, '21H00': {'ICON': 'https://www.prevision-meteo.ch/style/images/icon/stratus.png', 'CONDITION': 'Stratus', 'CONDITION_KEY': 'stratus', 'TMP2m': -0.2, 'DPT2m': -1.9, 'WNDCHILL2m': -2.6, 'HUMIDEX': None, 'RH2m': 96, 'PRMSL': 1040, 'APCPsfc': 0, 'WNDSPD10m': 7, 'WNDGUST10m': 12, 'WNDDIR10m': 217, 'WNDDIRCARD10': 'SO', 'ISSNOW': 1, 'HCDC': '0.00', 'MCDC': '0.00', 'LCDC': '0.00', 'HGT0C': 100, 'KINDEX': 21, 'CAPE180_0': '0.0000', 'CIN180_0': 0}, '22H00': {'ICON': 'https://www.prevision-meteo.ch/style/images/icon/nuit-claire-et-stratus.png', 'CONDITION': 'Nuit claire et stratus', 'CONDITION_KEY': 'nuit-claire-et-stratus', 'TMP2m': -0.4, 'DPT2m': -2, 'WNDCHILL2m': -3.2, 'HUMIDEX': None, 'RH2m': 96, 'PRMSL': 1040, 'APCPsfc': 0, 'WNDSPD10m': 8, 'WNDGUST10m': 14, 'WNDDIR10m': 209, 'WNDDIRCARD10': 'SO', 'ISSNOW': 1, 'HCDC': '0.00', 'MCDC': '0.00', 'LCDC': '0.00', 'HGT0C': 100, 'KINDEX': 22, 'CAPE180_0': '0.0000', 'CIN180_0': 0}, '23H00': {'ICON': 'https://www.prevision-meteo.ch/style/images/icon/nuit-claire-et-stratus.png', 'CONDITION': 'Nuit claire et stratus', 'CONDITION_KEY': 'nuit-claire-et-stratus', 'TMP2m': -0.5, 'DPT2m': -2, 'WNDCHILL2m': -3.6, 'HUMIDEX': None, 'RH2m': 96, 'PRMSL': 1040.1, 'APCPsfc': 0, 'WNDSPD10m': 9, 'WNDGUST10m': 16, 'WNDDIR10m': 206, 'WNDDIRCARD10': 'SO', 'ISSNOW': 1, 'HCDC': '0.00', 'MCDC': '0.00', 'LCDC': '0.00', 'HGT0C': 100, 'KINDEX': 22, 'CAPE180_0': '0.0000', 'CIN180_0': 0}}}}\n"
     ]
    }
   ],
   "source": [
    "print(jsonfile)"
   ]
  },
  {
   "cell_type": "markdown",
   "metadata": {
    "slideshow": {
     "slide_type": "subslide"
    }
   },
   "source": [
    "On essaie de faire mieux en affichant uniquement les clés du dictionnaire :"
   ]
  },
  {
   "cell_type": "code",
   "execution_count": 4,
   "metadata": {},
   "outputs": [
    {
     "name": "stdout",
     "output_type": "stream",
     "text": [
      "city_info\n",
      "forecast_info\n",
      "current_condition\n",
      "fcst_day_0\n",
      "fcst_day_1\n",
      "fcst_day_2\n",
      "fcst_day_3\n",
      "fcst_day_4\n"
     ]
    }
   ],
   "source": [
    "for k in jsonfile:\n",
    "    print(k)"
   ]
  },
  {
   "cell_type": "markdown",
   "metadata": {},
   "source": [
    "On est intéressé par le temps d'aujourd'hui :"
   ]
  },
  {
   "cell_type": "code",
   "execution_count": 5,
   "metadata": {},
   "outputs": [
    {
     "name": "stdout",
     "output_type": "stream",
     "text": [
      "{'date': '19.12.2017', 'day_short': 'Mar.', 'day_long': 'Mardi', 'tmin': 0, 'tmax': 5, 'condition': 'Eclaircies', 'condition_key': 'eclaircies', 'icon': 'https://www.prevision-meteo.ch/style/images/icon/eclaircies.png', 'icon_big': 'https://www.prevision-meteo.ch/style/images/icon/eclaircies-big.png', 'hourly_data': {'0H00': {'ICON': 'https://www.prevision-meteo.ch/style/images/icon/nuit-nuageuse.png', 'CONDITION': 'Nuit nuageuse', 'CONDITION_KEY': 'nuit-nuageuse', 'TMP2m': 0.3, 'DPT2m': -0.2, 'WNDCHILL2m': 0.3, 'HUMIDEX': None, 'RH2m': 97, 'PRMSL': 1030.3, 'APCPsfc': 0, 'WNDSPD10m': 4, 'WNDGUST10m': 7, 'WNDDIR10m': 279, 'WNDDIRCARD10': 'O', 'ISSNOW': 2, 'HCDC': '0.00', 'MCDC': '0.00', 'LCDC': '100.00', 'HGT0C': 400, 'KINDEX': 30, 'CAPE180_0': '0.0000', 'CIN180_0': 0}, '1H00': {'ICON': 'https://www.prevision-meteo.ch/style/images/icon/nuit-nuageuse.png', 'CONDITION': 'Nuit nuageuse', 'CONDITION_KEY': 'nuit-nuageuse', 'TMP2m': 0.4, 'DPT2m': -0.1, 'WNDCHILL2m': 0.4, 'HUMIDEX': None, 'RH2m': 97, 'PRMSL': 1030.8, 'APCPsfc': 0, 'WNDSPD10m': 4, 'WNDGUST10m': 7, 'WNDDIR10m': 301, 'WNDDIRCARD10': 'NO', 'ISSNOW': 2, 'HCDC': '0.00', 'MCDC': '0.00', 'LCDC': '100.00', 'HGT0C': 400, 'KINDEX': 30, 'CAPE180_0': '0.0000', 'CIN180_0': 0}, '2H00': {'ICON': 'https://www.prevision-meteo.ch/style/images/icon/nuit-nuageuse.png', 'CONDITION': 'Nuit nuageuse', 'CONDITION_KEY': 'nuit-nuageuse', 'TMP2m': 0.5, 'DPT2m': 0, 'WNDCHILL2m': 0.5, 'HUMIDEX': None, 'RH2m': 97, 'PRMSL': 1031.4, 'APCPsfc': 0, 'WNDSPD10m': 3, 'WNDGUST10m': 6, 'WNDDIR10m': 300, 'WNDDIRCARD10': 'NO', 'ISSNOW': 2, 'HCDC': '0.00', 'MCDC': '5.00', 'LCDC': '100.00', 'HGT0C': 400, 'KINDEX': 31, 'CAPE180_0': '0.0000', 'CIN180_0': 0}, '3H00': {'ICON': 'https://www.prevision-meteo.ch/style/images/icon/faiblement-nuageux.png', 'CONDITION': 'Faiblement nuageux', 'CONDITION_KEY': 'faiblement-nuageux', 'TMP2m': 0.6, 'DPT2m': 0.1, 'WNDCHILL2m': 0.6, 'HUMIDEX': None, 'RH2m': 96, 'PRMSL': 1031.9, 'APCPsfc': 0, 'WNDSPD10m': 2, 'WNDGUST10m': 5, 'WNDDIR10m': 281, 'WNDDIRCARD10': 'O', 'ISSNOW': 2, 'HCDC': '0.00', 'MCDC': '92.00', 'LCDC': '100.00', 'HGT0C': 400, 'KINDEX': 32, 'CAPE180_0': '0.0000', 'CIN180_0': 0}, '4H00': {'ICON': 'https://www.prevision-meteo.ch/style/images/icon/faiblement-nuageux.png', 'CONDITION': 'Faiblement nuageux', 'CONDITION_KEY': 'faiblement-nuageux', 'TMP2m': 0.7, 'DPT2m': 0.1, 'WNDCHILL2m': 0.7, 'HUMIDEX': None, 'RH2m': 96, 'PRMSL': 1032.3, 'APCPsfc': 0, 'WNDSPD10m': 2, 'WNDGUST10m': 3, 'WNDDIR10m': 307, 'WNDDIRCARD10': 'NO', 'ISSNOW': 2, 'HCDC': '0.00', 'MCDC': '100.00', 'LCDC': '100.00', 'HGT0C': 400, 'KINDEX': 33, 'CAPE180_0': '0.0000', 'CIN180_0': 0}, '5H00': {'ICON': 'https://www.prevision-meteo.ch/style/images/icon/faiblement-nuageux.png', 'CONDITION': 'Faiblement nuageux', 'CONDITION_KEY': 'faiblement-nuageux', 'TMP2m': 0.8, 'DPT2m': 0.3, 'WNDCHILL2m': 0.8, 'HUMIDEX': None, 'RH2m': 97, 'PRMSL': 1032.7, 'APCPsfc': 0, 'WNDSPD10m': 2, 'WNDGUST10m': 4, 'WNDDIR10m': 338, 'WNDDIRCARD10': 'NO', 'ISSNOW': 1, 'HCDC': '0.00', 'MCDC': '100.00', 'LCDC': '100.00', 'HGT0C': 300, 'KINDEX': 30, 'CAPE180_0': '0.0000', 'CIN180_0': 0}, '6H00': {'ICON': 'https://www.prevision-meteo.ch/style/images/icon/faiblement-nuageux.png', 'CONDITION': 'Faiblement nuageux', 'CONDITION_KEY': 'faiblement-nuageux', 'TMP2m': 0.8, 'DPT2m': 0.3, 'WNDCHILL2m': 0.8, 'HUMIDEX': None, 'RH2m': 97, 'PRMSL': 1033.2, 'APCPsfc': 0, 'WNDSPD10m': 2, 'WNDGUST10m': 4, 'WNDDIR10m': 338, 'WNDDIRCARD10': 'NO', 'ISSNOW': 1, 'HCDC': '0.00', 'MCDC': '100.00', 'LCDC': '100.00', 'HGT0C': 300, 'KINDEX': 26, 'CAPE180_0': '0.0000', 'CIN180_0': 0}, '7H00': {'ICON': 'https://www.prevision-meteo.ch/style/images/icon/nuit-nuageuse.png', 'CONDITION': 'Nuit nuageuse', 'CONDITION_KEY': 'nuit-nuageuse', 'TMP2m': 2.3, 'DPT2m': 0.2, 'WNDCHILL2m': 0.6, 'HUMIDEX': None, 'RH2m': 86, 'PRMSL': 1033.4, 'APCPsfc': 0, 'WNDSPD10m': 6, 'WNDGUST10m': 0, 'WNDDIR10m': 345, 'WNDDIRCARD10': 'N', 'ISSNOW': 2, 'HCDC': '0.00', 'MCDC': '0.00', 'LCDC': '0.00', 'HGT0C': 500, 'KINDEX': 21, 'CAPE180_0': '0.1000', 'CIN180_0': 0}, '8H00': {'ICON': 'https://www.prevision-meteo.ch/style/images/icon/faiblement-nuageux.png', 'CONDITION': 'Faiblement nuageux', 'CONDITION_KEY': 'faiblement-nuageux', 'TMP2m': 1.7, 'DPT2m': 0.3, 'WNDCHILL2m': 1.7, 'HUMIDEX': None, 'RH2m': 91, 'PRMSL': 1033.3, 'APCPsfc': 0, 'WNDSPD10m': 4, 'WNDGUST10m': 10, 'WNDDIR10m': 345, 'WNDDIRCARD10': 'N', 'ISSNOW': 2, 'HCDC': '0.00', 'MCDC': '100.00', 'LCDC': '100.00', 'HGT0C': 500, 'KINDEX': 21, 'CAPE180_0': '0.0000', 'CIN180_0': 0}, '9H00': {'ICON': 'https://www.prevision-meteo.ch/style/images/icon/eclaircies.png', 'CONDITION': 'Eclaircies', 'CONDITION_KEY': 'eclaircies', 'TMP2m': 2.1, 'DPT2m': 0.5, 'WNDCHILL2m': 2.1, 'HUMIDEX': None, 'RH2m': 89, 'PRMSL': 1034.3, 'APCPsfc': 0, 'WNDSPD10m': 4, 'WNDGUST10m': 7, 'WNDDIR10m': 350, 'WNDDIRCARD10': 'N', 'ISSNOW': 2, 'HCDC': '0.00', 'MCDC': '0.00', 'LCDC': '98.00', 'HGT0C': 500, 'KINDEX': 20, 'CAPE180_0': '0.0000', 'CIN180_0': 0}, '10H00': {'ICON': 'https://www.prevision-meteo.ch/style/images/icon/eclaircies.png', 'CONDITION': 'Eclaircies', 'CONDITION_KEY': 'eclaircies', 'TMP2m': 3.1, 'DPT2m': 0.8, 'WNDCHILL2m': 1.9, 'HUMIDEX': None, 'RH2m': 85, 'PRMSL': 1035, 'APCPsfc': 0, 'WNDSPD10m': 5, 'WNDGUST10m': 8, 'WNDDIR10m': 356, 'WNDDIRCARD10': 'N', 'ISSNOW': 2, 'HCDC': '0.00', 'MCDC': '0.00', 'LCDC': '45.00', 'HGT0C': 500, 'KINDEX': 20, 'CAPE180_0': '0.0000', 'CIN180_0': 0}, '11H00': {'ICON': 'https://www.prevision-meteo.ch/style/images/icon/fortement-nuageux.png', 'CONDITION': 'Fortement nuageux', 'CONDITION_KEY': 'fortement-nuageux', 'TMP2m': 3.8, 'DPT2m': 0.8, 'WNDCHILL2m': 2.7, 'HUMIDEX': None, 'RH2m': 81, 'PRMSL': 1035.1, 'APCPsfc': 0, 'WNDSPD10m': 5, 'WNDGUST10m': 9, 'WNDDIR10m': 352, 'WNDDIRCARD10': 'N', 'ISSNOW': 0, 'HCDC': '0.00', 'MCDC': '0.00', 'LCDC': '0.00', 'HGT0C': 500, 'KINDEX': 20, 'CAPE180_0': '0.0000', 'CIN180_0': 0}, '12H00': {'ICON': 'https://www.prevision-meteo.ch/style/images/icon/eclaircies.png', 'CONDITION': 'Eclaircies', 'CONDITION_KEY': 'eclaircies', 'TMP2m': 4.4, 'DPT2m': 0.7, 'WNDCHILL2m': 3, 'HUMIDEX': None, 'RH2m': 77, 'PRMSL': 1034.9, 'APCPsfc': 0, 'WNDSPD10m': 6, 'WNDGUST10m': 9, 'WNDDIR10m': 342, 'WNDDIRCARD10': 'N', 'ISSNOW': 0, 'HCDC': '0.00', 'MCDC': '0.00', 'LCDC': '0.00', 'HGT0C': 500, 'KINDEX': 21, 'CAPE180_0': '0.0000', 'CIN180_0': 0}, '13H00': {'ICON': 'https://www.prevision-meteo.ch/style/images/icon/eclaircies.png', 'CONDITION': 'Eclaircies', 'CONDITION_KEY': 'eclaircies', 'TMP2m': 4.9, 'DPT2m': 0.7, 'WNDCHILL2m': 3.3, 'HUMIDEX': None, 'RH2m': 74, 'PRMSL': 1035.2, 'APCPsfc': 0, 'WNDSPD10m': 7, 'WNDGUST10m': 11, 'WNDDIR10m': 336, 'WNDDIRCARD10': 'NO', 'ISSNOW': 0, 'HCDC': '0.00', 'MCDC': '0.00', 'LCDC': '53.00', 'HGT0C': 600, 'KINDEX': 21, 'CAPE180_0': '0.0000', 'CIN180_0': 0}, '14H00': {'ICON': 'https://www.prevision-meteo.ch/style/images/icon/eclaircies.png', 'CONDITION': 'Eclaircies', 'CONDITION_KEY': 'eclaircies', 'TMP2m': 5.3, 'DPT2m': 0.7, 'WNDCHILL2m': 3.5, 'HUMIDEX': None, 'RH2m': 72, 'PRMSL': 1035.4, 'APCPsfc': 0, 'WNDSPD10m': 8, 'WNDGUST10m': 12, 'WNDDIR10m': 335, 'WNDDIRCARD10': 'NO', 'ISSNOW': 0, 'HCDC': '0.00', 'MCDC': '0.00', 'LCDC': '98.00', 'HGT0C': 600, 'KINDEX': 21, 'CAPE180_0': '0.0000', 'CIN180_0': 0}, '15H00': {'ICON': 'https://www.prevision-meteo.ch/style/images/icon/eclaircies.png', 'CONDITION': 'Eclaircies', 'CONDITION_KEY': 'eclaircies', 'TMP2m': 5.3, 'DPT2m': 1, 'WNDCHILL2m': 3.5, 'HUMIDEX': None, 'RH2m': 74, 'PRMSL': 1035.7, 'APCPsfc': 0, 'WNDSPD10m': 8, 'WNDGUST10m': 13, 'WNDDIR10m': 329, 'WNDDIRCARD10': 'NO', 'ISSNOW': 0, 'HCDC': '0.00', 'MCDC': '0.00', 'LCDC': '100.00', 'HGT0C': 600, 'KINDEX': 21, 'CAPE180_0': '1.0000', 'CIN180_0': 0}, '16H00': {'ICON': 'https://www.prevision-meteo.ch/style/images/icon/eclaircies.png', 'CONDITION': 'Eclaircies', 'CONDITION_KEY': 'eclaircies', 'TMP2m': 4.9, 'DPT2m': 1.3, 'WNDCHILL2m': 3, 'HUMIDEX': None, 'RH2m': 77, 'PRMSL': 1035.4, 'APCPsfc': 0, 'WNDSPD10m': 8, 'WNDGUST10m': 13, 'WNDDIR10m': 323, 'WNDDIRCARD10': 'NO', 'ISSNOW': 0, 'HCDC': '0.00', 'MCDC': '0.00', 'LCDC': '100.00', 'HGT0C': 600, 'KINDEX': 21, 'CAPE180_0': '1.0000', 'CIN180_0': 0}, '17H00': {'ICON': 'https://www.prevision-meteo.ch/style/images/icon/nuit-nuageuse.png', 'CONDITION': 'Nuit nuageuse', 'CONDITION_KEY': 'nuit-nuageuse', 'TMP2m': 4.3, 'DPT2m': 2.1, 'WNDCHILL2m': 3.3, 'HUMIDEX': None, 'RH2m': 86, 'PRMSL': 1035.3, 'APCPsfc': 0, 'WNDSPD10m': 5, 'WNDGUST10m': 12, 'WNDDIR10m': 304, 'WNDDIRCARD10': 'NO', 'ISSNOW': 0, 'HCDC': '4.00', 'MCDC': '0.00', 'LCDC': '100.00', 'HGT0C': 600, 'KINDEX': 21, 'CAPE180_0': '3.0000', 'CIN180_0': 0}, '18H00': {'ICON': 'https://www.prevision-meteo.ch/style/images/icon/nuit-avec-averses.png', 'CONDITION': 'Nuit avec averses', 'CONDITION_KEY': 'nuit-avec-averses', 'TMP2m': 4.1, 'DPT2m': 2.5, 'WNDCHILL2m': 2.7, 'HUMIDEX': None, 'RH2m': 90, 'PRMSL': 1035.6, 'APCPsfc': 0.1, 'WNDSPD10m': 6, 'WNDGUST10m': 10, 'WNDDIR10m': 277, 'WNDDIRCARD10': 'O', 'ISSNOW': 0, 'HCDC': '93.00', 'MCDC': '16.00', 'LCDC': '100.00', 'HGT0C': 600, 'KINDEX': 20, 'CAPE180_0': '3.0000', 'CIN180_0': 0}, '19H00': {'ICON': 'https://www.prevision-meteo.ch/style/images/icon/pluie-faible.png', 'CONDITION': 'Pluie faible', 'CONDITION_KEY': 'pluie-faible', 'TMP2m': 3.9, 'DPT2m': 2.8, 'WNDCHILL2m': 2.1, 'HUMIDEX': None, 'RH2m': 93, 'PRMSL': 1036, 'APCPsfc': 0.1, 'WNDSPD10m': 7, 'WNDGUST10m': 11, 'WNDDIR10m': 264, 'WNDDIRCARD10': 'O', 'ISSNOW': 0, 'HCDC': '100.00', 'MCDC': '100.00', 'LCDC': '99.00', 'HGT0C': 600, 'KINDEX': 20, 'CAPE180_0': '3.0000', 'CIN180_0': 0}, '20H00': {'ICON': 'https://www.prevision-meteo.ch/style/images/icon/pluie-faible.png', 'CONDITION': 'Pluie faible', 'CONDITION_KEY': 'pluie-faible', 'TMP2m': 3.7, 'DPT2m': 2.9, 'WNDCHILL2m': 1.6, 'HUMIDEX': None, 'RH2m': 95, 'PRMSL': 1036, 'APCPsfc': 0.1, 'WNDSPD10m': 8, 'WNDGUST10m': 12, 'WNDDIR10m': 259, 'WNDDIRCARD10': 'O', 'ISSNOW': 0, 'HCDC': '97.00', 'MCDC': '100.00', 'LCDC': '99.00', 'HGT0C': 600, 'KINDEX': 20, 'CAPE180_0': '3.0000', 'CIN180_0': 0}, '21H00': {'ICON': 'https://www.prevision-meteo.ch/style/images/icon/pluie-faible.png', 'CONDITION': 'Pluie faible', 'CONDITION_KEY': 'pluie-faible', 'TMP2m': 3.6, 'DPT2m': 2.9, 'WNDCHILL2m': 1.5, 'HUMIDEX': None, 'RH2m': 96, 'PRMSL': 1035.8, 'APCPsfc': 0.2, 'WNDSPD10m': 8, 'WNDGUST10m': 13, 'WNDDIR10m': 257, 'WNDDIRCARD10': 'O', 'ISSNOW': 0, 'HCDC': '58.00', 'MCDC': '100.00', 'LCDC': '100.00', 'HGT0C': 600, 'KINDEX': 20, 'CAPE180_0': '3.0000', 'CIN180_0': 0}, '22H00': {'ICON': 'https://www.prevision-meteo.ch/style/images/icon/pluie-faible.png', 'CONDITION': 'Pluie faible', 'CONDITION_KEY': 'pluie-faible', 'TMP2m': 3.5, 'DPT2m': 3, 'WNDCHILL2m': 1.4, 'HUMIDEX': None, 'RH2m': 96, 'PRMSL': 1036.1, 'APCPsfc': 0.3, 'WNDSPD10m': 8, 'WNDGUST10m': 12, 'WNDDIR10m': 248, 'WNDDIRCARD10': 'SO', 'ISSNOW': 0, 'HCDC': '0.00', 'MCDC': '81.00', 'LCDC': '100.00', 'HGT0C': 700, 'KINDEX': 19, 'CAPE180_0': '3.0000', 'CIN180_0': 0}, '23H00': {'ICON': 'https://www.prevision-meteo.ch/style/images/icon/pluie-faible.png', 'CONDITION': 'Pluie faible', 'CONDITION_KEY': 'pluie-faible', 'TMP2m': 3.5, 'DPT2m': 3, 'WNDCHILL2m': 1.4, 'HUMIDEX': None, 'RH2m': 97, 'PRMSL': 1036.3, 'APCPsfc': 0.4, 'WNDSPD10m': 8, 'WNDGUST10m': 12, 'WNDDIR10m': 242, 'WNDDIRCARD10': 'SO', 'ISSNOW': 0, 'HCDC': '0.00', 'MCDC': '70.00', 'LCDC': '100.00', 'HGT0C': 700, 'KINDEX': 19, 'CAPE180_0': '3.0000', 'CIN180_0': 0}}}\n"
     ]
    }
   ],
   "source": [
    "day = jsonfile['fcst_day_0']\n",
    "print(day)"
   ]
  },
  {
   "cell_type": "markdown",
   "metadata": {
    "slideshow": {
     "slide_type": "subslide"
    }
   },
   "source": [
    "Là aussi, on cherche les clés :"
   ]
  },
  {
   "cell_type": "code",
   "execution_count": 6,
   "metadata": {},
   "outputs": [
    {
     "name": "stdout",
     "output_type": "stream",
     "text": [
      "date\n",
      "day_short\n",
      "day_long\n",
      "tmin\n",
      "tmax\n",
      "condition\n",
      "condition_key\n",
      "icon\n",
      "icon_big\n",
      "hourly_data\n"
     ]
    }
   ],
   "source": [
    "for k in day:\n",
    "    print(k)"
   ]
  },
  {
   "cell_type": "markdown",
   "metadata": {},
   "source": [
    "Vérifions qu'il s'agit d'aujourd'hui :"
   ]
  },
  {
   "cell_type": "code",
   "execution_count": 7,
   "metadata": {},
   "outputs": [
    {
     "name": "stdout",
     "output_type": "stream",
     "text": [
      "Mardi 19.12.2017\n"
     ]
    }
   ],
   "source": [
    "print(day['day_long'], day['date'])"
   ]
  },
  {
   "cell_type": "markdown",
   "metadata": {
    "slideshow": {
     "slide_type": "subslide"
    }
   },
   "source": [
    "C'est bon !\n",
    "Maintenant, une entrée particulière nous intéresse :"
   ]
  },
  {
   "cell_type": "code",
   "execution_count": 8,
   "metadata": {},
   "outputs": [
    {
     "name": "stdout",
     "output_type": "stream",
     "text": [
      "0H00\n",
      "1H00\n",
      "2H00\n",
      "3H00\n",
      "4H00\n",
      "5H00\n",
      "6H00\n",
      "7H00\n",
      "8H00\n",
      "9H00\n",
      "10H00\n",
      "11H00\n",
      "12H00\n",
      "13H00\n",
      "14H00\n",
      "15H00\n",
      "16H00\n",
      "17H00\n",
      "18H00\n",
      "19H00\n",
      "20H00\n",
      "21H00\n",
      "22H00\n",
      "23H00\n"
     ]
    }
   ],
   "source": [
    "day_hd = day['hourly_data']\n",
    "for k in day_hd:\n",
    "    print(k)"
   ]
  },
  {
   "cell_type": "markdown",
   "metadata": {
    "slideshow": {
     "slide_type": "subslide"
    }
   },
   "source": [
    "Regardons ce que contient une 'hourly_data' :"
   ]
  },
  {
   "cell_type": "code",
   "execution_count": 9,
   "metadata": {},
   "outputs": [
    {
     "name": "stdout",
     "output_type": "stream",
     "text": [
      "ICON\n",
      "CONDITION\n",
      "CONDITION_KEY\n",
      "TMP2m\n",
      "DPT2m\n",
      "WNDCHILL2m\n",
      "HUMIDEX\n",
      "RH2m\n",
      "PRMSL\n",
      "APCPsfc\n",
      "WNDSPD10m\n",
      "WNDGUST10m\n",
      "WNDDIR10m\n",
      "WNDDIRCARD10\n",
      "ISSNOW\n",
      "HCDC\n",
      "MCDC\n",
      "LCDC\n",
      "HGT0C\n",
      "KINDEX\n",
      "CAPE180_0\n",
      "CIN180_0\n"
     ]
    }
   ],
   "source": [
    "for k in day_hd['8H00']:\n",
    "    print(k)"
   ]
  },
  {
   "cell_type": "markdown",
   "metadata": {
    "slideshow": {
     "slide_type": "subslide"
    }
   },
   "source": [
    "La clé qui nous intéresse est la chaîne ``'TMP2m'`` qui correspond à la température à 2m du sol."
   ]
  },
  {
   "cell_type": "code",
   "execution_count": 10,
   "metadata": {},
   "outputs": [
    {
     "name": "stdout",
     "output_type": "stream",
     "text": [
      "Aujourd'hui à 12H00, il fera : 4.4 deg. C.\n"
     ]
    }
   ],
   "source": [
    "hour = '12H00'\n",
    "print(\"Aujourd'hui à {}, il fera : {} deg. C.\".format(hour, day_hd[hour]['TMP2m']))"
   ]
  },
  {
   "cell_type": "markdown",
   "metadata": {
    "slideshow": {
     "slide_type": "-"
    }
   },
   "source": [
    "Sauver ces lignes de commandes dans le fichier ``today_stras.py`` en allant de l'exécution 1 au compteur d'exécution courant indiqué dans la cellule de code ci-dessus ``In [XX]``. Dans le cas présent :"
   ]
  },
  {
   "cell_type": "code",
   "execution_count": 11,
   "metadata": {},
   "outputs": [
    {
     "name": "stdout",
     "output_type": "stream",
     "text": [
      "The following commands were written to file `today_stras.py`:\n",
      "get_ipython().magic(\"config InlineBackend.figure_format = 'retina'\")\n",
      "from urllib.request import urlopen\n",
      "\n",
      "jsonfile_url = \"http://www.prevision-meteo.ch/services/json/Strasbourg\"\n",
      "f = urlopen(jsonfile_url)  # open url\n",
      "import json\n",
      "jsonfile = json.loads(f.read().decode(\"utf-8\"))  # Read JSON file\n",
      "print(jsonfile)\n",
      "for k in jsonfile:\n",
      "    print(k)\n",
      "day = jsonfile['fcst_day_0']\n",
      "print(day)\n",
      "for k in day:\n",
      "    print(k)\n",
      "print(day['day_long'], day['date'])\n",
      "day_hd = day['hourly_data']\n",
      "for k in day_hd:\n",
      "    print(k)\n",
      "for k in day_hd['8H00']:\n",
      "    print(k)\n",
      "hour = '12H00'\n",
      "print(\"Aujourd'hui à {}, il fera : {} deg. C.\".format(hour, day_hd[hour]['TMP2m']))\n"
     ]
    }
   ],
   "source": [
    "%save today_stras.py 1-10"
   ]
  },
  {
   "cell_type": "markdown",
   "metadata": {
    "slideshow": {
     "slide_type": "slide"
    }
   },
   "source": [
    "## Tracé de la température\n",
    "\n",
    "1. Ouvrir le fichier ``today_stras.py`` dans Spyder et nettoyer les ``print`` inutiles.\n",
    "2. Exécutez le code dans Spyder et utilisez la fenêtre \"Variable explorer\" en haut à droite pour parcourir les données de votre dictionnaire.\n",
    "3. Extraire la liste des couples ``(hour, temperature)`` où :\n",
    "    - ``hour`` est un entier\n",
    "    - ``temperature`` est un flottant\n",
    "4. ordonner la liste selon les heures croissantes\n",
    "5. convertir la liste en un *numpy array* ``t`` avec la méthode ``numpy.array()``\n",
    "6. Transposer ``t`` pour obtenir le tableau ``[[liste of hours], [list of temperatures]]``\n",
    "7. réaliser un tracé matplotlib en suivant [ce tutoriel](http://matplotlib.org/users/pyplot_tutorial.html) ou en intégrant les lignes de code suivantes : "
   ]
  },
  {
   "cell_type": "code",
   "execution_count": 12,
   "metadata": {
    "slideshow": {
     "slide_type": "subslide"
    }
   },
   "outputs": [
    {
     "ename": "NameError",
     "evalue": "name 'day_of_the_week' is not defined",
     "output_type": "error",
     "traceback": [
      "\u001b[0;31m---------------------------------------------------------------------------\u001b[0m",
      "\u001b[0;31mNameError\u001b[0m                                 Traceback (most recent call last)",
      "\u001b[0;32m<ipython-input-12-c01ce31f4615>\u001b[0m in \u001b[0;36m<module>\u001b[0;34m()\u001b[0m\n\u001b[1;32m      5\u001b[0m \u001b[0;31m# Plot T = T(hour)\u001b[0m\u001b[0;34m\u001b[0m\u001b[0;34m\u001b[0m\u001b[0m\n\u001b[1;32m      6\u001b[0m \u001b[0mfig\u001b[0m \u001b[0;34m=\u001b[0m \u001b[0mplt\u001b[0m\u001b[0;34m.\u001b[0m\u001b[0mfigure\u001b[0m\u001b[0;34m(\u001b[0m\u001b[0;34m)\u001b[0m  \u001b[0;31m# initialise figure\u001b[0m\u001b[0;34m\u001b[0m\u001b[0m\n\u001b[0;32m----> 7\u001b[0;31m \u001b[0mtitle\u001b[0m \u001b[0;34m=\u001b[0m \u001b[0;34m\"{} {}\"\u001b[0m\u001b[0;34m.\u001b[0m\u001b[0mformat\u001b[0m\u001b[0;34m(\u001b[0m\u001b[0mday_of_the_week\u001b[0m\u001b[0;34m,\u001b[0m \u001b[0mdate_of_today\u001b[0m\u001b[0;34m)\u001b[0m\u001b[0;34m\u001b[0m\u001b[0m\n\u001b[0m\u001b[1;32m      8\u001b[0m \u001b[0mfig\u001b[0m\u001b[0;34m.\u001b[0m\u001b[0msuptitle\u001b[0m\u001b[0;34m(\u001b[0m\u001b[0mtitle\u001b[0m\u001b[0;34m,\u001b[0m \u001b[0mfontsize\u001b[0m\u001b[0;34m=\u001b[0m\u001b[0;36m14\u001b[0m\u001b[0;34m,\u001b[0m \u001b[0mfontweight\u001b[0m\u001b[0;34m=\u001b[0m\u001b[0;34m'bold'\u001b[0m\u001b[0;34m)\u001b[0m\u001b[0;34m\u001b[0m\u001b[0m\n\u001b[1;32m      9\u001b[0m \u001b[0;34m\u001b[0m\u001b[0m\n",
      "\u001b[0;31mNameError\u001b[0m: name 'day_of_the_week' is not defined"
     ]
    }
   ],
   "source": [
    "import matplotlib.pyplot as plt  # To be placed at the top of python file\n",
    "\n",
    "# [Your previous code...]\n",
    "\n",
    "# Plot T = T(hour)\n",
    "fig = plt.figure()  # initialise figure\n",
    "title = \"{} {}\".format(day_of_the_week, date_of_today)\n",
    "fig.suptitle(title, fontsize=14, fontweight='bold')\n",
    "\n",
    "ax = fig.add_subplot(111)  # initialise a plot area\n",
    "fig.subplots_adjust(top=0.85)\n",
    "ax.set_title('Day temperature')\n",
    "ax.set_xlabel('Time [h]')\n",
    "ax.set_ylabel('Temperature [deg. C]')\n",
    "\n",
    "ax.plot(t[0], t[1])  # plot t[1] (tempe) as a function of t[0] (hour)"
   ]
  },
  {
   "cell_type": "markdown",
   "metadata": {
    "slideshow": {
     "slide_type": "-"
    }
   },
   "source": [
    "> **Option :** intégrer l'icone de la météo du jour en utilisant le module ``matplotlib.image``"
   ]
  },
  {
   "cell_type": "markdown",
   "metadata": {},
   "source": [
    "<button data-toggle=\"collapse\" data-target=\"#meteo_json\" class='btn btn-primary'>Solution</button>\n",
    "\n",
    "<div id=\"meteo_json\" class=\"collapse\">\n",
    "Pas si vite ! Êtes-vous sûr ? Vraiment ?  \n",
    "Alors rendez-vous dans `exos/meteo_json.py`"
   ]
  },
  {
   "cell_type": "markdown",
   "metadata": {
    "slideshow": {
     "slide_type": "slide"
    }
   },
   "source": [
    "## Exercice sur les fonctions\n",
    "\n",
    "Modifiez le programme météo en créant une fonction qui admet un des jours disponibles comme argument (aujourd'hui, demain, après-demain...)"
   ]
  },
  {
   "cell_type": "markdown",
   "metadata": {
    "slideshow": {
     "slide_type": "-"
    }
   },
   "source": [
    "<button data-toggle=\"collapse\" data-target=\"#meteo_json_func\" class='btn btn-primary'>Solution</button>\n",
    "\n",
    "<div id=\"meteo_json_func\" class=\"collapse\">\n",
    "Pas si vite ! Êtes-vous sûr ? Vraiment ?  \n",
    "Alors allez voir une proposition de solution dans `exos/meteo_json_func.py`."
   ]
  },
  {
   "cell_type": "markdown",
   "metadata": {
    "slideshow": {
     "slide_type": "slide"
    }
   },
   "source": [
    "## Exécution en script\n",
    "\n",
    "Pour pouvoir exécuter ce fichier en mode script\n",
    "\n",
    "- Ajouter en première ligne du fichier: `#! python3`\n",
    "- Rendez le fichier exécutable: `chmod a+x today_stras.py`"
   ]
  },
  {
   "cell_type": "code",
   "execution_count": null,
   "metadata": {},
   "outputs": [],
   "source": [
    "%run exos/meteo_json.py"
   ]
  },
  {
   "cell_type": "markdown",
   "metadata": {
    "slideshow": {
     "slide_type": "subslide"
    }
   },
   "source": [
    "Pour différencier du code devant s'exécuter en mode script (par opposition a un import du module) on utilise la variable `__name__` pour exécuter du code différent."
   ]
  },
  {
   "cell_type": "code",
   "execution_count": null,
   "metadata": {
    "slideshow": {
     "slide_type": "-"
    }
   },
   "outputs": [],
   "source": [
    "#! python3\n",
    "\n",
    "def main():\n",
    "    print('je suis dans un script')\n",
    "\n",
    "if __name__ == '__main__':\n",
    "    main()\n",
    "else:\n",
    "    # En mode module importé, on ne fait rien de plus\n",
    "    pass"
   ]
  },
  {
   "cell_type": "markdown",
   "metadata": {
    "slideshow": {
     "slide_type": "slide"
    }
   },
   "source": [
    "## Gestion des arguments\n",
    "\n",
    "Pour pouvoir passer des arguments en ligne de commande, on peut utiliser le module [``argparse``](https://docs.python.org/3/library/argparse.html).\n",
    "\n",
    "Un tutoriel est disponible [ici](https://docs.python.org/3/howto/argparse.html#argparse-tutorial)."
   ]
  },
  {
   "cell_type": "code",
   "execution_count": null,
   "metadata": {},
   "outputs": [],
   "source": [
    "import argparse\n",
    "\n",
    "parser = argparse.ArgumentParser(description='Process some integers.')\n",
    "parser.add_argument('integers', metavar='N', type=int, nargs='+',\n",
    "                    help='an integer for the accumulator')\n",
    "parser.add_argument('--sum', dest='accumulate', action='store_const',\n",
    "                    const=sum, default=max,\n",
    "                    help='sum the integers (default: find the max)')\n",
    "print(type(parser))"
   ]
  },
  {
   "cell_type": "code",
   "execution_count": null,
   "metadata": {},
   "outputs": [],
   "source": [
    "# Sans \"--sum\"\n",
    "args = parser.parse_args(['2', '5'])\n",
    "print(args.accumulate(args.integers))"
   ]
  },
  {
   "cell_type": "code",
   "execution_count": null,
   "metadata": {
    "slideshow": {
     "slide_type": "subslide"
    }
   },
   "outputs": [],
   "source": [
    "# Avec \"--sum\"\n",
    "args = parser.parse_args(['--sum', '2', '5'])\n",
    "print(args.accumulate(args.integers))\n"
   ]
  },
  {
   "cell_type": "code",
   "execution_count": null,
   "metadata": {},
   "outputs": [],
   "source": [
    "# Certains arguments existent déjà\n",
    "try:\n",
    "    parser.parse_args(['--help'])\n",
    "except SystemExit:\n",
    "    # Pour éviter une erreur dans jupyter-notebook\n",
    "    pass"
   ]
  },
  {
   "cell_type": "markdown",
   "metadata": {
    "slideshow": {
     "slide_type": "subslide"
    }
   },
   "source": [
    "## Exercice\n",
    "\n",
    "Modifiez le programme météo pour qu'il prenne le(s) nom(s) de ville en argument(s) en utilisant le module ``argparse``\n",
    "\n",
    "\n",
    "<button data-toggle=\"collapse\" data-target=\"#meteo_json_func_args\" class='btn btn-primary'>Solution</button>\n",
    "<div id=\"meteo_json_func_args\" class=\"collapse\">\n",
    "Pas si vite ! Êtes-vous sûr ? Vraiment ?  \n",
    "Alors allez voir une proposition de solution dans `exos/meteo_json_func_args.py`."
   ]
  },
  {
   "cell_type": "code",
   "execution_count": 13,
   "metadata": {
    "slideshow": {
     "slide_type": "subslide"
    }
   },
   "outputs": [
    {
     "data": {
      "text/plain": [
       "<matplotlib.figure.Figure at 0x109478f28>"
      ]
     },
     "metadata": {},
     "output_type": "display_data"
    },
    {
     "data": {
      "image/png": "[encoded data removed]",
      "text/plain": [
       "<matplotlib.figure.Figure at 0x10b3510b8>"
      ]
     },
     "metadata": {
      "image/png": {
       "height": 290,
       "width": 395
      }
     },
     "output_type": "display_data"
    }
   ],
   "source": [
    "%run exos/meteo_json_func_args.py Nice -d 3"
   ]
  },
  {
   "cell_type": "markdown",
   "metadata": {
    "slideshow": {
     "slide_type": "subslide"
    }
   },
   "source": [
    "## Suite de l'exercice\n",
    "\n",
    "- Laissez libre cours à vos idées et envies, par exemple :\n",
    "    - en cherchant à tracer l'évolution horaire de la température dans les 5 prochains jours\n",
    "    - etc.\n",
    "\n",
    "- Dans Spyder :\n",
    "    - testez le système de debugging\n",
    "    - testez le profiler\n",
    "\n",
    "> À vous de faire la pluie et le beau temps !"
   ]
  }
 ],
 "metadata": {
  "celltoolbar": "Slideshow",
  "kernelspec": {
   "display_name": "Python 3",
   "language": "python",
   "name": "python3"
  },
  "language_info": {
   "codemirror_mode": {
    "name": "ipython",
    "version": 3
   },
   "file_extension": ".py",
   "mimetype": "text/x-python",
   "name": "python",
   "nbconvert_exporter": "python",
   "pygments_lexer": "ipython3",
   "version": "3.6.2"
  }
 },
 "nbformat": 4,
 "nbformat_minor": 1
}
