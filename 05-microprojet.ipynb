{
 "cells": [
  {
   "cell_type": "markdown",
   "metadata": {
    "slideshow": {
     "slide_type": "slide"
    }
   },
   "source": [
    "# Microprojet\n",
    "\n",
    "![](fig/python-logo.png)\n",
    "\n",
    "\n",
    "- Objectif pédagogique\n",
    "- Exercice\n",
    "\n",
    "***\n",
    "\n",
    "*Contenu sous licence [CC BY-SA 4.0](https://creativecommons.org/licenses/by-sa/4.0), largement inspiré de <https://fitzinger.pages.math.unistra.fr/formation-python/>*"
   ]
  },
  {
   "cell_type": "markdown",
   "metadata": {
    "slideshow": {
     "slide_type": "slide"
    }
   },
   "source": [
    "## Objectif pédagogique\n",
    "\n",
    "- Utiliser les modules de la librairie standard pour récupérer des données via un service web.\n",
    "- Manipuler les dictionnaires et les chaînes de caractères\n",
    "- Utiliser la librairie de tracés graphiques matplotlib\n",
    "- Utiliser un IDE (Spyder)\n",
    "- Exécution en script\n",
    "- Gestion des arguments"
   ]
  },
  {
   "cell_type": "markdown",
   "metadata": {
    "slideshow": {
     "slide_type": "slide"
    }
   },
   "source": [
    "## Exercice\n",
    "\n",
    "Exploiter les données du site [http://www.prevision-meteo.ch](http://www.prevision-meteo.ch) pour tracer l'évolution horaire de la température à Strasbourg aujourd'hui.\n",
    "\n",
    " ![](fig/icon.png)"
   ]
  },
  {
   "cell_type": "markdown",
   "metadata": {
    "slideshow": {
     "slide_type": "subslide"
    }
   },
   "source": [
    "## Ouverture du fichier de prévisions\n",
    "\n",
    "Le site [http://www.prevision-meteo.ch](http://www.prevision-meteo.ch) fournit des prévisions sous forme de fichier au format [json](https://fr.wikipedia.org/wiki/JavaScript_Object_Notation). On veut récupérer les données relatives à Strasbourg avec la méthode ``urlopen()`` du module ``urllib.request``."
   ]
  },
  {
   "cell_type": "code",
   "execution_count": 9,
   "metadata": {},
   "outputs": [],
   "source": [
    "%config InlineBackend.figure_format = 'retina'\n",
    "from urllib.request import urlopen\n",
    "\n",
    "jsonfile_url = \"http://www.prevision-meteo.ch/services/json/Strasbourg\"\n",
    "try:\n",
    "    f = urlopen(jsonfile_url)  # open url\n",
    "except:\n",
    "    print(\"Le téléchargement a échoué : on lit une version locale.\")\n",
    "    f = open(\"exos/Strasbourg.json\")"
   ]
  },
  {
   "cell_type": "markdown",
   "metadata": {
    "slideshow": {
     "slide_type": "subslide"
    }
   },
   "source": [
    "## Chargement du fichier json ouvert"
   ]
  },
  {
   "cell_type": "markdown",
   "metadata": {},
   "source": [
    "La méthode ``json.loads()`` permet de charger un fichier json comme un dictionnaire python :"
   ]
  },
  {
   "cell_type": "code",
   "execution_count": 10,
   "metadata": {},
   "outputs": [],
   "source": [
    "import json\n",
    "jsonfile = json.loads(f.read().decode(\"utf-8\"))  # Read JSON file"
   ]
  },
  {
   "cell_type": "markdown",
   "metadata": {
    "slideshow": {
     "slide_type": "subslide"
    }
   },
   "source": [
    "## Exploration des données\n",
    "\n",
    "On commence naïvement par afficher le contenu du fichier :"
   ]
  },
  {
   "cell_type": "code",
   "execution_count": 3,
   "metadata": {},
   "outputs": [
    {
     "name": "stdout",
     "output_type": "stream",
     "text": [
      "{'city_info': {'name': 'Strasbourg', 'country': 'France', 'latitude': '48.5844421', 'longitude': '7.7558331', 'elevation': '144', 'sunrise': '08:16', 'sunset': '16:37'}, 'forecast_info': {'latitude': None, 'longitude': None, 'elevation': '131.66'}, 'current_condition': {'date': '20.12.2017', 'hour': '15:00', 'tmp': 5, 'wnd_spd': 7, 'wnd_gust': 13, 'wnd_dir': 'SO', 'pressure': 1035.4, 'humidity': 88, 'condition': 'Pluie faible', 'condition_key': 'pluie-faible', 'icon': 'https://www.prevision-meteo.ch/style/images/icon/pluie-faible.png', 'icon_big': 'https://www.prevision-meteo.ch/style/images/icon/pluie-faible-big.png'}, 'fcst_day_0': {'date': '20.12.2017', 'day_short': 'Mer.', 'day_long': 'Mercredi', 'tmin': 2, 'tmax': 5, 'condition': 'Pluie faible', 'condition_key': 'pluie-faible', 'icon': 'https://www.prevision-meteo.ch/style/images/icon/pluie-faible.png', 'icon_big': 'https://www.prevision-meteo.ch/style/images/icon/pluie-faible-big.png', 'hourly_data': {'0H00': {'ICON': 'https://www.prevision-meteo.ch/style/images/icon/pluie-faible.png', 'CONDITION': 'Pluie faible', 'CONDITION_KEY': 'pluie-faible', 'TMP2m': 2, 'DPT2m': 1.3, 'WNDCHILL2m': 0.3, 'HUMIDEX': None, 'RH2m': 96, 'PRMSL': 1035.9, 'APCPsfc': 0.1, 'WNDSPD10m': 6, 'WNDGUST10m': 9, 'WNDDIR10m': 223, 'WNDDIRCARD10': 'SO', 'ISSNOW': 0, 'HCDC': '0.00', 'MCDC': '99.00', 'LCDC': '100.00', 'HGT0C': 600, 'KINDEX': 17, 'CAPE180_0': '3.0000', 'CIN180_0': 0}, '1H00': {'ICON': 'https://www.prevision-meteo.ch/style/images/icon/pluie-faible.png', 'CONDITION': 'Pluie faible', 'CONDITION_KEY': 'pluie-faible', 'TMP2m': 2, 'DPT2m': 1.5, 'WNDCHILL2m': -0.1, 'HUMIDEX': None, 'RH2m': 96, 'PRMSL': 1035.9, 'APCPsfc': 0.4, 'WNDSPD10m': 7, 'WNDGUST10m': 12, 'WNDDIR10m': 229, 'WNDDIRCARD10': 'SO', 'ISSNOW': 0, 'HCDC': '0.00', 'MCDC': '100.00', 'LCDC': '100.00', 'HGT0C': 600, 'KINDEX': 17, 'CAPE180_0': '3.0000', 'CIN180_0': 0}, '2H00': {'ICON': 'https://www.prevision-meteo.ch/style/images/icon/pluie-et-neige-melee-faible.png', 'CONDITION': 'Pluie et neige mêlée faible', 'CONDITION_KEY': 'pluie-et-neige-melee-faible', 'TMP2m': 2, 'DPT2m': 1.6, 'WNDCHILL2m': -0.4, 'HUMIDEX': None, 'RH2m': 97, 'PRMSL': 1035.9, 'APCPsfc': 0.7, 'WNDSPD10m': 8, 'WNDGUST10m': 12, 'WNDDIR10m': 229, 'WNDDIRCARD10': 'SO', 'ISSNOW': 2, 'HCDC': '0.00', 'MCDC': '100.00', 'LCDC': '100.00', 'HGT0C': 600, 'KINDEX': 18, 'CAPE180_0': '3.0000', 'CIN180_0': 0}, '3H00': {'ICON': 'https://www.prevision-meteo.ch/style/images/icon/pluie-et-neige-melee-faible.png', 'CONDITION': 'Pluie et neige mêlée faible', 'CONDITION_KEY': 'pluie-et-neige-melee-faible', 'TMP2m': 2, 'DPT2m': 1.7, 'WNDCHILL2m': -0.4, 'HUMIDEX': None, 'RH2m': 98, 'PRMSL': 1035.7, 'APCPsfc': 0.7, 'WNDSPD10m': 8, 'WNDGUST10m': 13, 'WNDDIR10m': 223, 'WNDDIRCARD10': 'SO', 'ISSNOW': 2, 'HCDC': '0.00', 'MCDC': '100.00', 'LCDC': '100.00', 'HGT0C': 600, 'KINDEX': 19, 'CAPE180_0': '3.0000', 'CIN180_0': 0}, '4H00': {'ICON': 'https://www.prevision-meteo.ch/style/images/icon/pluie-et-neige-melee-faible.png', 'CONDITION': 'Pluie et neige mêlée faible', 'CONDITION_KEY': 'pluie-et-neige-melee-faible', 'TMP2m': 2, 'DPT2m': 1.6, 'WNDCHILL2m': -0.7, 'HUMIDEX': None, 'RH2m': 98, 'PRMSL': 1035.2, 'APCPsfc': 0.6, 'WNDSPD10m': 9, 'WNDGUST10m': 14, 'WNDDIR10m': 212, 'WNDDIRCARD10': 'SO', 'ISSNOW': 2, 'HCDC': '0.00', 'MCDC': '100.00', 'LCDC': '100.00', 'HGT0C': 600, 'KINDEX': 20, 'CAPE180_0': '3.0000', 'CIN180_0': 0}, '5H00': {'ICON': 'https://www.prevision-meteo.ch/style/images/icon/pluie-et-neige-melee-faible.png', 'CONDITION': 'Pluie et neige mêlée faible', 'CONDITION_KEY': 'pluie-et-neige-melee-faible', 'TMP2m': 1.9, 'DPT2m': 1.6, 'WNDCHILL2m': -1, 'HUMIDEX': None, 'RH2m': 98, 'PRMSL': 1034.8, 'APCPsfc': 0.6, 'WNDSPD10m': 10, 'WNDGUST10m': 15, 'WNDDIR10m': 207, 'WNDDIRCARD10': 'SO', 'ISSNOW': 2, 'HCDC': '0.00', 'MCDC': '100.00', 'LCDC': '100.00', 'HGT0C': 600, 'KINDEX': 20, 'CAPE180_0': '3.0000', 'CIN180_0': 0}, '6H00': {'ICON': 'https://www.prevision-meteo.ch/style/images/icon/pluie-et-neige-melee-faible.png', 'CONDITION': 'Pluie et neige mêlée faible', 'CONDITION_KEY': 'pluie-et-neige-melee-faible', 'TMP2m': 1.9, 'DPT2m': 1.5, 'WNDCHILL2m': -1, 'HUMIDEX': None, 'RH2m': 97, 'PRMSL': 1035, 'APCPsfc': 0.5, 'WNDSPD10m': 10, 'WNDGUST10m': 15, 'WNDDIR10m': 205, 'WNDDIRCARD10': 'SO', 'ISSNOW': 2, 'HCDC': '0.00', 'MCDC': '80.00', 'LCDC': '100.00', 'HGT0C': 600, 'KINDEX': 21, 'CAPE180_0': '4.0000', 'CIN180_0': 0}, '7H00': {'ICON': 'https://www.prevision-meteo.ch/style/images/icon/pluie-et-neige-melee-faible.png', 'CONDITION': 'Pluie et neige mêlée faible', 'CONDITION_KEY': 'pluie-et-neige-melee-faible', 'TMP2m': 1.9, 'DPT2m': 1.4, 'WNDCHILL2m': -0.8, 'HUMIDEX': None, 'RH2m': 97, 'PRMSL': 1035.1, 'APCPsfc': 0.5, 'WNDSPD10m': 9, 'WNDGUST10m': 15, 'WNDDIR10m': 201, 'WNDDIRCARD10': 'S', 'ISSNOW': 2, 'HCDC': '0.00', 'MCDC': '50.00', 'LCDC': '100.00', 'HGT0C': 500, 'KINDEX': 22, 'CAPE180_0': '4.0000', 'CIN180_0': 0}, '8H00': {'ICON': 'https://www.prevision-meteo.ch/style/images/icon/pluie-et-neige-melee-faible.png', 'CONDITION': 'Pluie et neige mêlée faible', 'CONDITION_KEY': 'pluie-et-neige-melee-faible', 'TMP2m': 1.8, 'DPT2m': 1.3, 'WNDCHILL2m': -0.6, 'HUMIDEX': None, 'RH2m': 97, 'PRMSL': 1035, 'APCPsfc': 0.4, 'WNDSPD10m': 8, 'WNDGUST10m': 14, 'WNDDIR10m': 198, 'WNDDIRCARD10': 'S', 'ISSNOW': 2, 'HCDC': '0.00', 'MCDC': '1.00', 'LCDC': '100.00', 'HGT0C': 500, 'KINDEX': 23, 'CAPE180_0': '4.0000', 'CIN180_0': 0}, '9H00': {'ICON': 'https://www.prevision-meteo.ch/style/images/icon/pluie-faible.png', 'CONDITION': 'Pluie faible', 'CONDITION_KEY': 'pluie-faible', 'TMP2m': 2, 'DPT2m': 1.2, 'WNDCHILL2m': -0.7, 'HUMIDEX': None, 'RH2m': 94, 'PRMSL': 1035.1, 'APCPsfc': 0.3, 'WNDSPD10m': 9, 'WNDGUST10m': 14, 'WNDDIR10m': 195, 'WNDDIRCARD10': 'S', 'ISSNOW': 0, 'HCDC': '0.00', 'MCDC': '0.00', 'LCDC': '100.00', 'HGT0C': 600, 'KINDEX': 24, 'CAPE180_0': '4.0000', 'CIN180_0': 0}, '10H00': {'ICON': 'https://www.prevision-meteo.ch/style/images/icon/pluie-faible.png', 'CONDITION': 'Pluie faible', 'CONDITION_KEY': 'pluie-faible', 'TMP2m': 2.8, 'DPT2m': 1.4, 'WNDCHILL2m': 0, 'HUMIDEX': None, 'RH2m': 91, 'PRMSL': 1035.5, 'APCPsfc': 0.3, 'WNDSPD10m': 10, 'WNDGUST10m': 15, 'WNDDIR10m': 202, 'WNDDIRCARD10': 'S', 'ISSNOW': 0, 'HCDC': '0.00', 'MCDC': '0.00', 'LCDC': '100.00', 'HGT0C': 600, 'KINDEX': 25, 'CAPE180_0': '4.0000', 'CIN180_0': 0}, '11H00': {'ICON': 'https://www.prevision-meteo.ch/style/images/icon/averses-de-pluie-faible.png', 'CONDITION': 'Averses de pluie faible', 'CONDITION_KEY': 'averses-de-pluie-faible', 'TMP2m': 3.6, 'DPT2m': 1.8, 'WNDCHILL2m': 1, 'HUMIDEX': None, 'RH2m': 88, 'PRMSL': 1035.8, 'APCPsfc': 0.2, 'WNDSPD10m': 10, 'WNDGUST10m': 15, 'WNDDIR10m': 207, 'WNDDIRCARD10': 'SO', 'ISSNOW': 0, 'HCDC': '0.00', 'MCDC': '0.00', 'LCDC': '100.00', 'HGT0C': 600, 'KINDEX': 26, 'CAPE180_0': '4.0000', 'CIN180_0': 0}, '12H00': {'ICON': 'https://www.prevision-meteo.ch/style/images/icon/averses-de-pluie-faible.png', 'CONDITION': 'Averses de pluie faible', 'CONDITION_KEY': 'averses-de-pluie-faible', 'TMP2m': 4.3, 'DPT2m': 2.1, 'WNDCHILL2m': 2.1, 'HUMIDEX': None, 'RH2m': 86, 'PRMSL': 1035.4, 'APCPsfc': 0.2, 'WNDSPD10m': 9, 'WNDGUST10m': 15, 'WNDDIR10m': 212, 'WNDDIRCARD10': 'SO', 'ISSNOW': 0, 'HCDC': '0.00', 'MCDC': '0.00', 'LCDC': '100.00', 'HGT0C': 600, 'KINDEX': 28, 'CAPE180_0': '4.0000', 'CIN180_0': 0}, '13H00': {'ICON': 'https://www.prevision-meteo.ch/style/images/icon/pluie-faible.png', 'CONDITION': 'Pluie faible', 'CONDITION_KEY': 'pluie-faible', 'TMP2m': 4.7, 'DPT2m': 2.4, 'WNDCHILL2m': 2.5, 'HUMIDEX': None, 'RH2m': 85, 'PRMSL': 1035, 'APCPsfc': 0.1, 'WNDSPD10m': 9, 'WNDGUST10m': 15, 'WNDDIR10m': 215, 'WNDDIRCARD10': 'SO', 'ISSNOW': 0, 'HCDC': '0.00', 'MCDC': '10.00', 'LCDC': '100.00', 'HGT0C': 700, 'KINDEX': 29, 'CAPE180_0': '4.0000', 'CIN180_0': 0}, '14H00': {'ICON': 'https://www.prevision-meteo.ch/style/images/icon/pluie-faible.png', 'CONDITION': 'Pluie faible', 'CONDITION_KEY': 'pluie-faible', 'TMP2m': 5, 'DPT2m': 2.7, 'WNDCHILL2m': 3.1, 'HUMIDEX': None, 'RH2m': 85, 'PRMSL': 1035, 'APCPsfc': 0.1, 'WNDSPD10m': 8, 'WNDGUST10m': 14, 'WNDDIR10m': 214, 'WNDDIRCARD10': 'SO', 'ISSNOW': 0, 'HCDC': '0.00', 'MCDC': '83.00', 'LCDC': '100.00', 'HGT0C': 800, 'KINDEX': 29, 'CAPE180_0': '4.0000', 'CIN180_0': 0}, '15H00': {'ICON': 'https://www.prevision-meteo.ch/style/images/icon/pluie-faible.png', 'CONDITION': 'Pluie faible', 'CONDITION_KEY': 'pluie-faible', 'TMP2m': 5, 'DPT2m': 3.1, 'WNDCHILL2m': 3.4, 'HUMIDEX': None, 'RH2m': 88, 'PRMSL': 1035.4, 'APCPsfc': 0.1, 'WNDSPD10m': 7, 'WNDGUST10m': 13, 'WNDDIR10m': 209, 'WNDDIRCARD10': 'SO', 'ISSNOW': 0, 'HCDC': '0.00', 'MCDC': '94.00', 'LCDC': '100.00', 'HGT0C': 900, 'KINDEX': 29, 'CAPE180_0': '4.0000', 'CIN180_0': 0}, '16H00': {'ICON': 'https://www.prevision-meteo.ch/style/images/icon/pluie-faible.png', 'CONDITION': 'Pluie faible', 'CONDITION_KEY': 'pluie-faible', 'TMP2m': 4.8, 'DPT2m': 3.9, 'WNDCHILL2m': 3.9, 'HUMIDEX': None, 'RH2m': 93, 'PRMSL': 1035.2, 'APCPsfc': 0.1, 'WNDSPD10m': 5, 'WNDGUST10m': 11, 'WNDDIR10m': 196, 'WNDDIRCARD10': 'S', 'ISSNOW': 0, 'HCDC': '0.00', 'MCDC': '97.00', 'LCDC': '100.00', 'HGT0C': 1000, 'KINDEX': 28, 'CAPE180_0': '4.0000', 'CIN180_0': 0}, '17H00': {'ICON': 'https://www.prevision-meteo.ch/style/images/icon/faiblement-nuageux.png', 'CONDITION': 'Faiblement nuageux', 'CONDITION_KEY': 'faiblement-nuageux', 'TMP2m': 4.4, 'DPT2m': 4.1, 'WNDCHILL2m': 3.4, 'HUMIDEX': None, 'RH2m': 98, 'PRMSL': 1035.3, 'APCPsfc': 0, 'WNDSPD10m': 5, 'WNDGUST10m': 8, 'WNDDIR10m': 189, 'WNDDIRCARD10': 'S', 'ISSNOW': 0, 'HCDC': '0.00', 'MCDC': '95.00', 'LCDC': '100.00', 'HGT0C': 1200, 'KINDEX': 27, 'CAPE180_0': '4.0000', 'CIN180_0': 0}, '18H00': {'ICON': 'https://www.prevision-meteo.ch/style/images/icon/fortement-nuageux.png', 'CONDITION': 'Fortement nuageux', 'CONDITION_KEY': 'fortement-nuageux', 'TMP2m': 4.3, 'DPT2m': 4, 'WNDCHILL2m': 3.3, 'HUMIDEX': None, 'RH2m': 98, 'PRMSL': 1035.6, 'APCPsfc': 0.1, 'WNDSPD10m': 5, 'WNDGUST10m': 7, 'WNDDIR10m': 188, 'WNDDIRCARD10': 'S', 'ISSNOW': 0, 'HCDC': '0.00', 'MCDC': '69.00', 'LCDC': '100.00', 'HGT0C': 1300, 'KINDEX': 27, 'CAPE180_0': '4.0000', 'CIN180_0': 0}, '19H00': {'ICON': 'https://www.prevision-meteo.ch/style/images/icon/faiblement-nuageux.png', 'CONDITION': 'Faiblement nuageux', 'CONDITION_KEY': 'faiblement-nuageux', 'TMP2m': 4.1, 'DPT2m': 3.9, 'WNDCHILL2m': 3.1, 'HUMIDEX': None, 'RH2m': 99, 'PRMSL': 1035.9, 'APCPsfc': 0, 'WNDSPD10m': 5, 'WNDGUST10m': 8, 'WNDDIR10m': 196, 'WNDDIRCARD10': 'S', 'ISSNOW': 0, 'HCDC': '0.00', 'MCDC': '0.00', 'LCDC': '100.00', 'HGT0C': 2100, 'KINDEX': 28, 'CAPE180_0': '4.0000', 'CIN180_0': 0}, '20H00': {'ICON': 'https://www.prevision-meteo.ch/style/images/icon/faiblement-nuageux.png', 'CONDITION': 'Faiblement nuageux', 'CONDITION_KEY': 'faiblement-nuageux', 'TMP2m': 4, 'DPT2m': 3.8, 'WNDCHILL2m': 2.6, 'HUMIDEX': None, 'RH2m': 99, 'PRMSL': 1036.2, 'APCPsfc': 0, 'WNDSPD10m': 6, 'WNDGUST10m': 8, 'WNDDIR10m': 202, 'WNDDIRCARD10': 'S', 'ISSNOW': 0, 'HCDC': '0.00', 'MCDC': '0.00', 'LCDC': '100.00', 'HGT0C': 2200, 'KINDEX': 29, 'CAPE180_0': '4.0000', 'CIN180_0': 0}, '21H00': {'ICON': 'https://www.prevision-meteo.ch/style/images/icon/faiblement-nuageux.png', 'CONDITION': 'Faiblement nuageux', 'CONDITION_KEY': 'faiblement-nuageux', 'TMP2m': 3.9, 'DPT2m': 3.7, 'WNDCHILL2m': 2.5, 'HUMIDEX': None, 'RH2m': 99, 'PRMSL': 1036.3, 'APCPsfc': 0, 'WNDSPD10m': 6, 'WNDGUST10m': 9, 'WNDDIR10m': 211, 'WNDDIRCARD10': 'SO', 'ISSNOW': 0, 'HCDC': '0.00', 'MCDC': '0.00', 'LCDC': '100.00', 'HGT0C': 2200, 'KINDEX': 30, 'CAPE180_0': '4.0000', 'CIN180_0': 0}, '22H00': {'ICON': 'https://www.prevision-meteo.ch/style/images/icon/nuit-nuageuse.png', 'CONDITION': 'Nuit nuageuse', 'CONDITION_KEY': 'nuit-nuageuse', 'TMP2m': 3.8, 'DPT2m': 3.6, 'WNDCHILL2m': 2, 'HUMIDEX': None, 'RH2m': 98, 'PRMSL': 1036.5, 'APCPsfc': 0, 'WNDSPD10m': 7, 'WNDGUST10m': 10, 'WNDDIR10m': 216, 'WNDDIRCARD10': 'SO', 'ISSNOW': 0, 'HCDC': '0.00', 'MCDC': '0.00', 'LCDC': '100.00', 'HGT0C': 2200, 'KINDEX': 30, 'CAPE180_0': '4.0000', 'CIN180_0': 0}, '23H00': {'ICON': 'https://www.prevision-meteo.ch/style/images/icon/nuit-avec-averses.png', 'CONDITION': 'Nuit avec averses', 'CONDITION_KEY': 'nuit-avec-averses', 'TMP2m': 3.7, 'DPT2m': 3.5, 'WNDCHILL2m': 1.9, 'HUMIDEX': None, 'RH2m': 98, 'PRMSL': 1036.9, 'APCPsfc': 0.1, 'WNDSPD10m': 7, 'WNDGUST10m': 11, 'WNDDIR10m': 219, 'WNDDIRCARD10': 'SO', 'ISSNOW': 0, 'HCDC': '0.00', 'MCDC': '0.00', 'LCDC': '100.00', 'HGT0C': 2200, 'KINDEX': 31, 'CAPE180_0': '4.0000', 'CIN180_0': 0}}}, 'fcst_day_1': {'date': '21.12.2017', 'day_short': 'Jeu.', 'day_long': 'Jeudi', 'tmin': 3, 'tmax': 6, 'condition': 'Pluie faible', 'condition_key': 'pluie-faible', 'icon': 'https://www.prevision-meteo.ch/style/images/icon/pluie-faible.png', 'icon_big': 'https://www.prevision-meteo.ch/style/images/icon/pluie-faible-big.png', 'hourly_data': {'0H00': {'ICON': 'https://www.prevision-meteo.ch/style/images/icon/nuit-avec-averses.png', 'CONDITION': 'Nuit avec averses', 'CONDITION_KEY': 'nuit-avec-averses', 'TMP2m': 3.7, 'DPT2m': 3.4, 'WNDCHILL2m': 1.9, 'HUMIDEX': None, 'RH2m': 98, 'PRMSL': 1036.9, 'APCPsfc': 0.1, 'WNDSPD10m': 7, 'WNDGUST10m': 11, 'WNDDIR10m': 215, 'WNDDIRCARD10': 'SO', 'ISSNOW': 0, 'HCDC': '0.00', 'MCDC': '0.00', 'LCDC': '100.00', 'HGT0C': 2200, 'KINDEX': 32, 'CAPE180_0': '4.0000', 'CIN180_0': 0}, '1H00': {'ICON': 'https://www.prevision-meteo.ch/style/images/icon/nuit-avec-averses.png', 'CONDITION': 'Nuit avec averses', 'CONDITION_KEY': 'nuit-avec-averses', 'TMP2m': 3.6, 'DPT2m': 3.3, 'WNDCHILL2m': 1.5, 'HUMIDEX': None, 'RH2m': 98, 'PRMSL': 1036.8, 'APCPsfc': 0.1, 'WNDSPD10m': 8, 'WNDGUST10m': 12, 'WNDDIR10m': 210, 'WNDDIRCARD10': 'SO', 'ISSNOW': 0, 'HCDC': '0.00', 'MCDC': '1.00', 'LCDC': '100.00', 'HGT0C': 2200, 'KINDEX': 33, 'CAPE180_0': '4.0000', 'CIN180_0': 0}, '2H00': {'ICON': 'https://www.prevision-meteo.ch/style/images/icon/pluie-faible.png', 'CONDITION': 'Pluie faible', 'CONDITION_KEY': 'pluie-faible', 'TMP2m': 3.6, 'DPT2m': 3.2, 'WNDCHILL2m': 1.2, 'HUMIDEX': None, 'RH2m': 97, 'PRMSL': 1036.8, 'APCPsfc': 0.1, 'WNDSPD10m': 9, 'WNDGUST10m': 15, 'WNDDIR10m': 209, 'WNDDIRCARD10': 'SO', 'ISSNOW': 0, 'HCDC': '0.00', 'MCDC': '10.00', 'LCDC': '100.00', 'HGT0C': 2200, 'KINDEX': 35, 'CAPE180_0': '4.0000', 'CIN180_0': 0}, '3H00': {'ICON': 'https://www.prevision-meteo.ch/style/images/icon/pluie-faible.png', 'CONDITION': 'Pluie faible', 'CONDITION_KEY': 'pluie-faible', 'TMP2m': 3.5, 'DPT2m': 3.1, 'WNDCHILL2m': 0.9, 'HUMIDEX': None, 'RH2m': 97, 'PRMSL': 1036.9, 'APCPsfc': 0.1, 'WNDSPD10m': 10, 'WNDGUST10m': 16, 'WNDDIR10m': 206, 'WNDDIRCARD10': 'SO', 'ISSNOW': 0, 'HCDC': '0.00', 'MCDC': '74.00', 'LCDC': '100.00', 'HGT0C': 2200, 'KINDEX': 37, 'CAPE180_0': '4.0000', 'CIN180_0': 0}, '4H00': {'ICON': 'https://www.prevision-meteo.ch/style/images/icon/pluie-faible.png', 'CONDITION': 'Pluie faible', 'CONDITION_KEY': 'pluie-faible', 'TMP2m': 3.4, 'DPT2m': 3, 'WNDCHILL2m': 0.7, 'HUMIDEX': None, 'RH2m': 97, 'PRMSL': 1036.6, 'APCPsfc': 0.1, 'WNDSPD10m': 10, 'WNDGUST10m': 16, 'WNDDIR10m': 207, 'WNDDIRCARD10': 'SO', 'ISSNOW': 0, 'HCDC': '0.00', 'MCDC': '86.00', 'LCDC': '100.00', 'HGT0C': 2100, 'KINDEX': 38, 'CAPE180_0': '4.0000', 'CIN180_0': 0}, '5H00': {'ICON': 'https://www.prevision-meteo.ch/style/images/icon/pluie-faible.png', 'CONDITION': 'Pluie faible', 'CONDITION_KEY': 'pluie-faible', 'TMP2m': 3.4, 'DPT2m': 2.9, 'WNDCHILL2m': 0.7, 'HUMIDEX': None, 'RH2m': 97, 'PRMSL': 1036.6, 'APCPsfc': 0.1, 'WNDSPD10m': 10, 'WNDGUST10m': 16, 'WNDDIR10m': 207, 'WNDDIRCARD10': 'SO', 'ISSNOW': 0, 'HCDC': '0.00', 'MCDC': '83.00', 'LCDC': '100.00', 'HGT0C': 2100, 'KINDEX': 39, 'CAPE180_0': '4.0000', 'CIN180_0': 0}, '6H00': {'ICON': 'https://www.prevision-meteo.ch/style/images/icon/pluie-faible.png', 'CONDITION': 'Pluie faible', 'CONDITION_KEY': 'pluie-faible', 'TMP2m': 3.4, 'DPT2m': 2.9, 'WNDCHILL2m': 0.7, 'HUMIDEX': None, 'RH2m': 97, 'PRMSL': 1036.9, 'APCPsfc': 0.1, 'WNDSPD10m': 10, 'WNDGUST10m': 16, 'WNDDIR10m': 205, 'WNDDIRCARD10': 'SO', 'ISSNOW': 0, 'HCDC': '1.00', 'MCDC': '89.00', 'LCDC': '100.00', 'HGT0C': 2300, 'KINDEX': 38, 'CAPE180_0': '4.0000', 'CIN180_0': 0}, '7H00': {'ICON': 'https://www.prevision-meteo.ch/style/images/icon/nuit-avec-averses.png', 'CONDITION': 'Nuit avec averses', 'CONDITION_KEY': 'nuit-avec-averses', 'TMP2m': 3.4, 'DPT2m': 2.9, 'WNDCHILL2m': 0.5, 'HUMIDEX': None, 'RH2m': 97, 'PRMSL': 1037.1, 'APCPsfc': 0.1, 'WNDSPD10m': 11, 'WNDGUST10m': 16, 'WNDDIR10m': 204, 'WNDDIRCARD10': 'SO', 'ISSNOW': 0, 'HCDC': '100.00', 'MCDC': '94.00', 'LCDC': '100.00', 'HGT0C': 2300, 'KINDEX': 38, 'CAPE180_0': '4.0000', 'CIN180_0': 0}, '8H00': {'ICON': 'https://www.prevision-meteo.ch/style/images/icon/nuit-avec-averses.png', 'CONDITION': 'Nuit avec averses', 'CONDITION_KEY': 'nuit-avec-averses', 'TMP2m': 3.4, 'DPT2m': 2.9, 'WNDCHILL2m': 0.5, 'HUMIDEX': None, 'RH2m': 96, 'PRMSL': 1037.1, 'APCPsfc': 0.1, 'WNDSPD10m': 11, 'WNDGUST10m': 18, 'WNDDIR10m': 205, 'WNDDIRCARD10': 'SO', 'ISSNOW': 0, 'HCDC': '100.00', 'MCDC': '100.00', 'LCDC': '100.00', 'HGT0C': 2300, 'KINDEX': 36, 'CAPE180_0': '4.0000', 'CIN180_0': 0}, '9H00': {'ICON': 'https://www.prevision-meteo.ch/style/images/icon/averses-de-pluie-faible.png', 'CONDITION': 'Averses de pluie faible', 'CONDITION_KEY': 'averses-de-pluie-faible', 'TMP2m': 3.7, 'DPT2m': 3, 'WNDCHILL2m': 0.7, 'HUMIDEX': None, 'RH2m': 95, 'PRMSL': 1037.1, 'APCPsfc': 0.1, 'WNDSPD10m': 12, 'WNDGUST10m': 19, 'WNDDIR10m': 207, 'WNDDIRCARD10': 'SO', 'ISSNOW': 0, 'HCDC': '100.00', 'MCDC': '100.00', 'LCDC': '100.00', 'HGT0C': 2200, 'KINDEX': 33, 'CAPE180_0': '4.0000', 'CIN180_0': 0}, '10H00': {'ICON': 'https://www.prevision-meteo.ch/style/images/icon/pluie-faible.png', 'CONDITION': 'Pluie faible', 'CONDITION_KEY': 'pluie-faible', 'TMP2m': 4.4, 'DPT2m': 3.4, 'WNDCHILL2m': 1.3, 'HUMIDEX': None, 'RH2m': 93, 'PRMSL': 1037.5, 'APCPsfc': 0.1, 'WNDSPD10m': 13, 'WNDGUST10m': 20, 'WNDDIR10m': 209, 'WNDDIRCARD10': 'SO', 'ISSNOW': 0, 'HCDC': '42.00', 'MCDC': '100.00', 'LCDC': '100.00', 'HGT0C': 2200, 'KINDEX': 29, 'CAPE180_0': '4.0000', 'CIN180_0': 0}, '11H00': {'ICON': 'https://www.prevision-meteo.ch/style/images/icon/pluie-faible.png', 'CONDITION': 'Pluie faible', 'CONDITION_KEY': 'pluie-faible', 'TMP2m': 5.2, 'DPT2m': 3.9, 'WNDCHILL2m': 2.3, 'HUMIDEX': None, 'RH2m': 92, 'PRMSL': 1037.7, 'APCPsfc': 0.1, 'WNDSPD10m': 13, 'WNDGUST10m': 21, 'WNDDIR10m': 212, 'WNDDIRCARD10': 'SO', 'ISSNOW': 0, 'HCDC': '20.00', 'MCDC': '100.00', 'LCDC': '100.00', 'HGT0C': 2100, 'KINDEX': 28, 'CAPE180_0': '4.0000', 'CIN180_0': 0}, '12H00': {'ICON': 'https://www.prevision-meteo.ch/style/images/icon/pluie-faible.png', 'CONDITION': 'Pluie faible', 'CONDITION_KEY': 'pluie-faible', 'TMP2m': 5.9, 'DPT2m': 4.5, 'WNDCHILL2m': 3.2, 'HUMIDEX': None, 'RH2m': 91, 'PRMSL': 1037.2, 'APCPsfc': 0.1, 'WNDSPD10m': 13, 'WNDGUST10m': 20, 'WNDDIR10m': 216, 'WNDDIRCARD10': 'SO', 'ISSNOW': 0, 'HCDC': '22.00', 'MCDC': '100.00', 'LCDC': '100.00', 'HGT0C': 2000, 'KINDEX': 29, 'CAPE180_0': '4.0000', 'CIN180_0': 0}, '13H00': {'ICON': 'https://www.prevision-meteo.ch/style/images/icon/pluie-faible.png', 'CONDITION': 'Pluie faible', 'CONDITION_KEY': 'pluie-faible', 'TMP2m': 6.1, 'DPT2m': 5.1, 'WNDCHILL2m': 3.6, 'HUMIDEX': None, 'RH2m': 94, 'PRMSL': 1036.7, 'APCPsfc': 0.2, 'WNDSPD10m': 12, 'WNDGUST10m': 21, 'WNDDIR10m': 220, 'WNDDIRCARD10': 'SO', 'ISSNOW': 0, 'HCDC': '50.00', 'MCDC': '100.00', 'LCDC': '100.00', 'HGT0C': 2100, 'KINDEX': 30, 'CAPE180_0': '4.0000', 'CIN180_0': 0}, '14H00': {'ICON': 'https://www.prevision-meteo.ch/style/images/icon/pluie-faible.png', 'CONDITION': 'Pluie faible', 'CONDITION_KEY': 'pluie-faible', 'TMP2m': 6.2, 'DPT2m': 5.6, 'WNDCHILL2m': 3.7, 'HUMIDEX': None, 'RH2m': 96, 'PRMSL': 1036.6, 'APCPsfc': 0.7, 'WNDSPD10m': 12, 'WNDGUST10m': 18, 'WNDDIR10m': 225, 'WNDDIRCARD10': 'SO', 'ISSNOW': 0, 'HCDC': '99.00', 'MCDC': '100.00', 'LCDC': '100.00', 'HGT0C': 2100, 'KINDEX': 29, 'CAPE180_0': '4.0000', 'CIN180_0': 0}, '15H00': {'ICON': 'https://www.prevision-meteo.ch/style/images/icon/pluie-faible.png', 'CONDITION': 'Pluie faible', 'CONDITION_KEY': 'pluie-faible', 'TMP2m': 6.2, 'DPT2m': 5.6, 'WNDCHILL2m': 3.9, 'HUMIDEX': None, 'RH2m': 96, 'PRMSL': 1036.7, 'APCPsfc': 0.8, 'WNDSPD10m': 11, 'WNDGUST10m': 18, 'WNDDIR10m': 230, 'WNDDIRCARD10': 'SO', 'ISSNOW': 0, 'HCDC': '98.00', 'MCDC': '100.00', 'LCDC': '100.00', 'HGT0C': 2000, 'KINDEX': 29, 'CAPE180_0': '4.0000', 'CIN180_0': 0}, '16H00': {'ICON': 'https://www.prevision-meteo.ch/style/images/icon/pluie-faible.png', 'CONDITION': 'Pluie faible', 'CONDITION_KEY': 'pluie-faible', 'TMP2m': 5.9, 'DPT2m': 5.6, 'WNDCHILL2m': 3.7, 'HUMIDEX': None, 'RH2m': 98, 'PRMSL': 1036.5, 'APCPsfc': 0.6, 'WNDSPD10m': 10, 'WNDGUST10m': 17, 'WNDDIR10m': 231, 'WNDDIRCARD10': 'SO', 'ISSNOW': 0, 'HCDC': '92.00', 'MCDC': '100.00', 'LCDC': '100.00', 'HGT0C': 2000, 'KINDEX': 28, 'CAPE180_0': '4.6000', 'CIN180_0': 0}, '17H00': {'ICON': 'https://www.prevision-meteo.ch/style/images/icon/pluie-faible.png', 'CONDITION': 'Pluie faible', 'CONDITION_KEY': 'pluie-faible', 'TMP2m': 5.6, 'DPT2m': 5.4, 'WNDCHILL2m': 3.6, 'HUMIDEX': None, 'RH2m': 99, 'PRMSL': 1036.3, 'APCPsfc': 0.4, 'WNDSPD10m': 9, 'WNDGUST10m': 15, 'WNDDIR10m': 234, 'WNDDIRCARD10': 'SO', 'ISSNOW': 0, 'HCDC': '91.00', 'MCDC': '100.00', 'LCDC': '100.00', 'HGT0C': 1900, 'KINDEX': 28, 'CAPE180_0': '5.1000', 'CIN180_0': 0}, '18H00': {'ICON': 'https://www.prevision-meteo.ch/style/images/icon/pluie-faible.png', 'CONDITION': 'Pluie faible', 'CONDITION_KEY': 'pluie-faible', 'TMP2m': 5.4, 'DPT2m': 5.2, 'WNDCHILL2m': 3.4, 'HUMIDEX': None, 'RH2m': 99, 'PRMSL': 1036.6, 'APCPsfc': 0.5, 'WNDSPD10m': 9, 'WNDGUST10m': 14, 'WNDDIR10m': 240, 'WNDDIRCARD10': 'SO', 'ISSNOW': 0, 'HCDC': '100.00', 'MCDC': '100.00', 'LCDC': '100.00', 'HGT0C': 1800, 'KINDEX': 28, 'CAPE180_0': '4.2000', 'CIN180_0': 0}, '19H00': {'ICON': 'https://www.prevision-meteo.ch/style/images/icon/pluie-faible.png', 'CONDITION': 'Pluie faible', 'CONDITION_KEY': 'pluie-faible', 'TMP2m': 5.3, 'DPT2m': 5.2, 'WNDCHILL2m': 3.5, 'HUMIDEX': None, 'RH2m': 99, 'PRMSL': 1037.1, 'APCPsfc': 0.7, 'WNDSPD10m': 8, 'WNDGUST10m': 13, 'WNDDIR10m': 239, 'WNDDIRCARD10': 'SO', 'ISSNOW': 0, 'HCDC': '100.00', 'MCDC': '100.00', 'LCDC': '100.00', 'HGT0C': 1800, 'KINDEX': 28, 'CAPE180_0': '4.5000', 'CIN180_0': -1}, '20H00': {'ICON': 'https://www.prevision-meteo.ch/style/images/icon/pluie-faible.png', 'CONDITION': 'Pluie faible', 'CONDITION_KEY': 'pluie-faible', 'TMP2m': 5.3, 'DPT2m': 5.2, 'WNDCHILL2m': 3.5, 'HUMIDEX': None, 'RH2m': 99, 'PRMSL': 1037.4, 'APCPsfc': 0.6, 'WNDSPD10m': 8, 'WNDGUST10m': 13, 'WNDDIR10m': 239, 'WNDDIRCARD10': 'SO', 'ISSNOW': 0, 'HCDC': '100.00', 'MCDC': '100.00', 'LCDC': '100.00', 'HGT0C': 1600, 'KINDEX': 27, 'CAPE180_0': '4.0000', 'CIN180_0': -1}, '21H00': {'ICON': 'https://www.prevision-meteo.ch/style/images/icon/pluie-faible.png', 'CONDITION': 'Pluie faible', 'CONDITION_KEY': 'pluie-faible', 'TMP2m': 5.3, 'DPT2m': 5.2, 'WNDCHILL2m': 3.8, 'HUMIDEX': None, 'RH2m': 100, 'PRMSL': 1037.4, 'APCPsfc': 0.6, 'WNDSPD10m': 7, 'WNDGUST10m': 12, 'WNDDIR10m': 235, 'WNDDIRCARD10': 'SO', 'ISSNOW': 0, 'HCDC': '100.00', 'MCDC': '100.00', 'LCDC': '100.00', 'HGT0C': 1500, 'KINDEX': 27, 'CAPE180_0': '4.6000', 'CIN180_0': 0}, '22H00': {'ICON': 'https://www.prevision-meteo.ch/style/images/icon/pluie-faible.png', 'CONDITION': 'Pluie faible', 'CONDITION_KEY': 'pluie-faible', 'TMP2m': 5.2, 'DPT2m': 5.1, 'WNDCHILL2m': 3.6, 'HUMIDEX': None, 'RH2m': 100, 'PRMSL': 1037.5, 'APCPsfc': 0.5, 'WNDSPD10m': 7, 'WNDGUST10m': 11, 'WNDDIR10m': 225, 'WNDDIRCARD10': 'SO', 'ISSNOW': 0, 'HCDC': '100.00', 'MCDC': '100.00', 'LCDC': '100.00', 'HGT0C': 1500, 'KINDEX': 27, 'CAPE180_0': '8.3000', 'CIN180_0': 0}, '23H00': {'ICON': 'https://www.prevision-meteo.ch/style/images/icon/pluie-faible.png', 'CONDITION': 'Pluie faible', 'CONDITION_KEY': 'pluie-faible', 'TMP2m': 5.2, 'DPT2m': 5.1, 'WNDCHILL2m': 3.6, 'HUMIDEX': None, 'RH2m': 100, 'PRMSL': 1037.7, 'APCPsfc': 0.3, 'WNDSPD10m': 7, 'WNDGUST10m': 11, 'WNDDIR10m': 216, 'WNDDIRCARD10': 'SO', 'ISSNOW': 0, 'HCDC': '100.00', 'MCDC': '100.00', 'LCDC': '100.00', 'HGT0C': 1500, 'KINDEX': 27, 'CAPE180_0': '7.9000', 'CIN180_0': 0}}}, 'fcst_day_2': {'date': '22.12.2017', 'day_short': 'Ven.', 'day_long': 'Vendredi', 'tmin': 5, 'tmax': 8, 'condition': 'Pluie faible', 'condition_key': 'pluie-faible', 'icon': 'https://www.prevision-meteo.ch/style/images/icon/pluie-faible.png', 'icon_big': 'https://www.prevision-meteo.ch/style/images/icon/pluie-faible-big.png', 'hourly_data': {'0H00': {'ICON': 'https://www.prevision-meteo.ch/style/images/icon/pluie-faible.png', 'CONDITION': 'Pluie faible', 'CONDITION_KEY': 'pluie-faible', 'TMP2m': 5.1, 'DPT2m': 5, 'WNDCHILL2m': 3.5, 'HUMIDEX': None, 'RH2m': 100, 'PRMSL': 1037.5, 'APCPsfc': 0.2, 'WNDSPD10m': 7, 'WNDGUST10m': 11, 'WNDDIR10m': 205, 'WNDDIRCARD10': 'SO', 'ISSNOW': 0, 'HCDC': '99.00', 'MCDC': '100.00', 'LCDC': '100.00', 'HGT0C': 1500, 'KINDEX': 27, 'CAPE180_0': '8.3000', 'CIN180_0': 0}, '1H00': {'ICON': 'https://www.prevision-meteo.ch/style/images/icon/pluie-faible.png', 'CONDITION': 'Pluie faible', 'CONDITION_KEY': 'pluie-faible', 'TMP2m': 5, 'DPT2m': 4.9, 'WNDCHILL2m': 3.4, 'HUMIDEX': None, 'RH2m': 100, 'PRMSL': 1037, 'APCPsfc': 0.1, 'WNDSPD10m': 7, 'WNDGUST10m': 11, 'WNDDIR10m': 198, 'WNDDIRCARD10': 'S', 'ISSNOW': 0, 'HCDC': '100.00', 'MCDC': '100.00', 'LCDC': '100.00', 'HGT0C': 1400, 'KINDEX': 27, 'CAPE180_0': '8.0000', 'CIN180_0': 0}, '2H00': {'ICON': 'https://www.prevision-meteo.ch/style/images/icon/pluie-faible.png', 'CONDITION': 'Pluie faible', 'CONDITION_KEY': 'pluie-faible', 'TMP2m': 4.9, 'DPT2m': 4.8, 'WNDCHILL2m': 3, 'HUMIDEX': None, 'RH2m': 99, 'PRMSL': 1036.7, 'APCPsfc': 0.1, 'WNDSPD10m': 8, 'WNDGUST10m': 12, 'WNDDIR10m': 191, 'WNDDIRCARD10': 'S', 'ISSNOW': 0, 'HCDC': '95.00', 'MCDC': '100.00', 'LCDC': '100.00', 'HGT0C': 1400, 'KINDEX': 27, 'CAPE180_0': '7.0000', 'CIN180_0': 0}, '3H00': {'ICON': 'https://www.prevision-meteo.ch/style/images/icon/pluie-faible.png', 'CONDITION': 'Pluie faible', 'CONDITION_KEY': 'pluie-faible', 'TMP2m': 4.8, 'DPT2m': 4.6, 'WNDCHILL2m': 2.9, 'HUMIDEX': None, 'RH2m': 99, 'PRMSL': 1036.5, 'APCPsfc': 0.2, 'WNDSPD10m': 8, 'WNDGUST10m': 12, 'WNDDIR10m': 188, 'WNDDIRCARD10': 'S', 'ISSNOW': 0, 'HCDC': '98.00', 'MCDC': '100.00', 'LCDC': '100.00', 'HGT0C': 1500, 'KINDEX': 28, 'CAPE180_0': '5.0000', 'CIN180_0': 0}, '4H00': {'ICON': 'https://www.prevision-meteo.ch/style/images/icon/pluie-faible.png', 'CONDITION': 'Pluie faible', 'CONDITION_KEY': 'pluie-faible', 'TMP2m': 4.7, 'DPT2m': 4.5, 'WNDCHILL2m': 2.8, 'HUMIDEX': None, 'RH2m': 99, 'PRMSL': 1036, 'APCPsfc': 0.2, 'WNDSPD10m': 8, 'WNDGUST10m': 13, 'WNDDIR10m': 183, 'WNDDIRCARD10': 'S', 'ISSNOW': 0, 'HCDC': '99.00', 'MCDC': '100.00', 'LCDC': '100.00', 'HGT0C': 1500, 'KINDEX': 28, 'CAPE180_0': '4.2000', 'CIN180_0': 0}, '5H00': {'ICON': 'https://www.prevision-meteo.ch/style/images/icon/pluie-faible.png', 'CONDITION': 'Pluie faible', 'CONDITION_KEY': 'pluie-faible', 'TMP2m': 4.6, 'DPT2m': 4.4, 'WNDCHILL2m': 2.7, 'HUMIDEX': None, 'RH2m': 99, 'PRMSL': 1035.6, 'APCPsfc': 0.4, 'WNDSPD10m': 8, 'WNDGUST10m': 13, 'WNDDIR10m': 183, 'WNDDIRCARD10': 'S', 'ISSNOW': 0, 'HCDC': '100.00', 'MCDC': '100.00', 'LCDC': '100.00', 'HGT0C': 1500, 'KINDEX': 29, 'CAPE180_0': '4.2000', 'CIN180_0': 0}, '6H00': {'ICON': 'https://www.prevision-meteo.ch/style/images/icon/pluie-faible.png', 'CONDITION': 'Pluie faible', 'CONDITION_KEY': 'pluie-faible', 'TMP2m': 4.5, 'DPT2m': 4.4, 'WNDCHILL2m': 2.5, 'HUMIDEX': None, 'RH2m': 99, 'PRMSL': 1035.7, 'APCPsfc': 0.5, 'WNDSPD10m': 8, 'WNDGUST10m': 14, 'WNDDIR10m': 178, 'WNDDIRCARD10': 'S', 'ISSNOW': 0, 'HCDC': '55.00', 'MCDC': '100.00', 'LCDC': '100.00', 'HGT0C': 1500, 'KINDEX': 29, 'CAPE180_0': '4.2000', 'CIN180_0': 0}, '7H00': {'ICON': 'https://www.prevision-meteo.ch/style/images/icon/pluie-faible.png', 'CONDITION': 'Pluie faible', 'CONDITION_KEY': 'pluie-faible', 'TMP2m': 4.6, 'DPT2m': 4.4, 'WNDCHILL2m': 2.4, 'HUMIDEX': None, 'RH2m': 99, 'PRMSL': 1035.8, 'APCPsfc': 0.6, 'WNDSPD10m': 9, 'WNDGUST10m': 15, 'WNDDIR10m': 180, 'WNDDIRCARD10': 'S', 'ISSNOW': 0, 'HCDC': '45.00', 'MCDC': '100.00', 'LCDC': '100.00', 'HGT0C': 1500, 'KINDEX': 30, 'CAPE180_0': '4.2000', 'CIN180_0': 0}, '8H00': {'ICON': 'https://www.prevision-meteo.ch/style/images/icon/pluie-faible.png', 'CONDITION': 'Pluie faible', 'CONDITION_KEY': 'pluie-faible', 'TMP2m': 4.5, 'DPT2m': 4.3, 'WNDCHILL2m': 2.3, 'HUMIDEX': None, 'RH2m': 99, 'PRMSL': 1035.7, 'APCPsfc': 0.7, 'WNDSPD10m': 9, 'WNDGUST10m': 15, 'WNDDIR10m': 180, 'WNDDIRCARD10': 'S', 'ISSNOW': 0, 'HCDC': '48.00', 'MCDC': '100.00', 'LCDC': '100.00', 'HGT0C': 1500, 'KINDEX': 30, 'CAPE180_0': '4.2000', 'CIN180_0': 0}, '9H00': {'ICON': 'https://www.prevision-meteo.ch/style/images/icon/pluie-faible.png', 'CONDITION': 'Pluie faible', 'CONDITION_KEY': 'pluie-faible', 'TMP2m': 4.7, 'DPT2m': 4.3, 'WNDCHILL2m': 2.3, 'HUMIDEX': None, 'RH2m': 98, 'PRMSL': 1035.6, 'APCPsfc': 0.7, 'WNDSPD10m': 10, 'WNDGUST10m': 17, 'WNDDIR10m': 182, 'WNDDIRCARD10': 'S', 'ISSNOW': 0, 'HCDC': '69.00', 'MCDC': '100.00', 'LCDC': '100.00', 'HGT0C': 1600, 'KINDEX': 31, 'CAPE180_0': '4.2000', 'CIN180_0': 0}, '10H00': {'ICON': 'https://www.prevision-meteo.ch/style/images/icon/pluie-faible.png', 'CONDITION': 'Pluie faible', 'CONDITION_KEY': 'pluie-faible', 'TMP2m': 5.2, 'DPT2m': 4.5, 'WNDCHILL2m': 2.7, 'HUMIDEX': None, 'RH2m': 95, 'PRMSL': 1035.8, 'APCPsfc': 0.7, 'WNDSPD10m': 11, 'WNDGUST10m': 17, 'WNDDIR10m': 188, 'WNDDIRCARD10': 'S', 'ISSNOW': 0, 'HCDC': '17.00', 'MCDC': '100.00', 'LCDC': '100.00', 'HGT0C': 1600, 'KINDEX': 31, 'CAPE180_0': '4.2000', 'CIN180_0': 0}, '11H00': {'ICON': 'https://www.prevision-meteo.ch/style/images/icon/pluie-faible.png', 'CONDITION': 'Pluie faible', 'CONDITION_KEY': 'pluie-faible', 'TMP2m': 5.9, 'DPT2m': 5, 'WNDCHILL2m': 3.7, 'HUMIDEX': None, 'RH2m': 94, 'PRMSL': 1035.9, 'APCPsfc': 0.6, 'WNDSPD10m': 10, 'WNDGUST10m': 17, 'WNDDIR10m': 195, 'WNDDIRCARD10': 'S', 'ISSNOW': 0, 'HCDC': '17.00', 'MCDC': '100.00', 'LCDC': '100.00', 'HGT0C': 1600, 'KINDEX': 32, 'CAPE180_0': '4.6000', 'CIN180_0': 0}, '12H00': {'ICON': 'https://www.prevision-meteo.ch/style/images/icon/pluie-faible.png', 'CONDITION': 'Pluie faible', 'CONDITION_KEY': 'pluie-faible', 'TMP2m': 6.6, 'DPT2m': 5.6, 'WNDCHILL2m': 4.6, 'HUMIDEX': None, 'RH2m': 94, 'PRMSL': 1035.3, 'APCPsfc': 0.6, 'WNDSPD10m': 10, 'WNDGUST10m': 16, 'WNDDIR10m': 206, 'WNDDIRCARD10': 'SO', 'ISSNOW': 0, 'HCDC': '7.00', 'MCDC': '100.00', 'LCDC': '100.00', 'HGT0C': 1700, 'KINDEX': 32, 'CAPE180_0': '5.0000', 'CIN180_0': 0}, '13H00': {'ICON': 'https://www.prevision-meteo.ch/style/images/icon/pluie-faible.png', 'CONDITION': 'Pluie faible', 'CONDITION_KEY': 'pluie-faible', 'TMP2m': 7.3, 'DPT2m': 6.3, 'WNDCHILL2m': 5.6, 'HUMIDEX': None, 'RH2m': 94, 'PRMSL': 1034.6, 'APCPsfc': 0.5, 'WNDSPD10m': 9, 'WNDGUST10m': 16, 'WNDDIR10m': 222, 'WNDDIRCARD10': 'SO', 'ISSNOW': 0, 'HCDC': '2.00', 'MCDC': '98.00', 'LCDC': '100.00', 'HGT0C': 1700, 'KINDEX': 32, 'CAPE180_0': '4.8000', 'CIN180_0': 0}, '14H00': {'ICON': 'https://www.prevision-meteo.ch/style/images/icon/pluie-faible.png', 'CONDITION': 'Pluie faible', 'CONDITION_KEY': 'pluie-faible', 'TMP2m': 7.8, 'DPT2m': 7, 'WNDCHILL2m': 6.2, 'HUMIDEX': None, 'RH2m': 95, 'PRMSL': 1034.4, 'APCPsfc': 0.3, 'WNDSPD10m': 9, 'WNDGUST10m': 14, 'WNDDIR10m': 241, 'WNDDIRCARD10': 'SO', 'ISSNOW': 0, 'HCDC': '0.00', 'MCDC': '50.00', 'LCDC': '100.00', 'HGT0C': 1700, 'KINDEX': 31, 'CAPE180_0': '4.5000', 'CIN180_0': 0}, '15H00': {'ICON': 'https://www.prevision-meteo.ch/style/images/icon/pluie-faible.png', 'CONDITION': 'Pluie faible', 'CONDITION_KEY': 'pluie-faible', 'TMP2m': 8.1, 'DPT2m': 7.5, 'WNDCHILL2m': 6.8, 'HUMIDEX': None, 'RH2m': 96, 'PRMSL': 1034.6, 'APCPsfc': 0.2, 'WNDSPD10m': 8, 'WNDGUST10m': 14, 'WNDDIR10m': 258, 'WNDDIRCARD10': 'O', 'ISSNOW': 0, 'HCDC': '0.00', 'MCDC': '0.00', 'LCDC': '100.00', 'HGT0C': 1700, 'KINDEX': 31, 'CAPE180_0': '4.6000', 'CIN180_0': 0}, '16H00': {'ICON': 'https://www.prevision-meteo.ch/style/images/icon/pluie-faible.png', 'CONDITION': 'Pluie faible', 'CONDITION_KEY': 'pluie-faible', 'TMP2m': 7.9, 'DPT2m': 7.6, 'WNDCHILL2m': 6.5, 'HUMIDEX': None, 'RH2m': 98, 'PRMSL': 1034.6, 'APCPsfc': 0.1, 'WNDSPD10m': 8, 'WNDGUST10m': 13, 'WNDDIR10m': 270, 'WNDDIRCARD10': 'O', 'ISSNOW': 0, 'HCDC': '0.00', 'MCDC': '0.00', 'LCDC': '100.00', 'HGT0C': 1600, 'KINDEX': 30, 'CAPE180_0': '4.8000', 'CIN180_0': 0}, '17H00': {'ICON': 'https://www.prevision-meteo.ch/style/images/icon/pluie-faible.png', 'CONDITION': 'Pluie faible', 'CONDITION_KEY': 'pluie-faible', 'TMP2m': 7.3, 'DPT2m': 7.2, 'WNDCHILL2m': 5.6, 'HUMIDEX': None, 'RH2m': 100, 'PRMSL': 1034.6, 'APCPsfc': 0.1, 'WNDSPD10m': 9, 'WNDGUST10m': 13, 'WNDDIR10m': 279, 'WNDDIRCARD10': 'O', 'ISSNOW': 0, 'HCDC': '0.00', 'MCDC': '0.00', 'LCDC': '100.00', 'HGT0C': 1600, 'KINDEX': 30, 'CAPE180_0': '5.0000', 'CIN180_0': 0}, '18H00': {'ICON': 'https://www.prevision-meteo.ch/style/images/icon/nuit-avec-averses.png', 'CONDITION': 'Nuit avec averses', 'CONDITION_KEY': 'nuit-avec-averses', 'TMP2m': 6.9, 'DPT2m': 6.8, 'WNDCHILL2m': 4.9, 'HUMIDEX': None, 'RH2m': 100, 'PRMSL': 1034.9, 'APCPsfc': 0.1, 'WNDSPD10m': 10, 'WNDGUST10m': 15, 'WNDDIR10m': 287, 'WNDDIRCARD10': 'O', 'ISSNOW': 0, 'HCDC': '0.00', 'MCDC': '0.00', 'LCDC': '100.00', 'HGT0C': 1600, 'KINDEX': 32, 'CAPE180_0': '5.5000', 'CIN180_0': 0}, '19H00': {'ICON': 'https://www.prevision-meteo.ch/style/images/icon/nuit-avec-averses.png', 'CONDITION': 'Nuit avec averses', 'CONDITION_KEY': 'nuit-avec-averses', 'TMP2m': 6.7, 'DPT2m': 6.6, 'WNDCHILL2m': 4.7, 'HUMIDEX': None, 'RH2m': 100, 'PRMSL': 1035.6, 'APCPsfc': 0.2, 'WNDSPD10m': 10, 'WNDGUST10m': 15, 'WNDDIR10m': 291, 'WNDDIRCARD10': 'O', 'ISSNOW': 0, 'HCDC': '0.00', 'MCDC': '0.00', 'LCDC': '100.00', 'HGT0C': 1600, 'KINDEX': 36, 'CAPE180_0': '5.3000', 'CIN180_0': 0}, '20H00': {'ICON': 'https://www.prevision-meteo.ch/style/images/icon/nuit-avec-averses.png', 'CONDITION': 'Nuit avec averses', 'CONDITION_KEY': 'nuit-avec-averses', 'TMP2m': 6.5, 'DPT2m': 6.5, 'WNDCHILL2m': 4.5, 'HUMIDEX': None, 'RH2m': 100, 'PRMSL': 1036.3, 'APCPsfc': 0.2, 'WNDSPD10m': 10, 'WNDGUST10m': 16, 'WNDDIR10m': 297, 'WNDDIRCARD10': 'NO', 'ISSNOW': 0, 'HCDC': '0.00', 'MCDC': '0.00', 'LCDC': '100.00', 'HGT0C': 1500, 'KINDEX': 40, 'CAPE180_0': '5.4000', 'CIN180_0': 0}, '21H00': {'ICON': 'https://www.prevision-meteo.ch/style/images/icon/nuit-avec-averses.png', 'CONDITION': 'Nuit avec averses', 'CONDITION_KEY': 'nuit-avec-averses', 'TMP2m': 6.4, 'DPT2m': 6.3, 'WNDCHILL2m': 4.3, 'HUMIDEX': None, 'RH2m': 100, 'PRMSL': 1036.5, 'APCPsfc': 0.2, 'WNDSPD10m': 10, 'WNDGUST10m': 16, 'WNDDIR10m': 298, 'WNDDIRCARD10': 'NO', 'ISSNOW': 0, 'HCDC': '0.00', 'MCDC': '0.00', 'LCDC': '100.00', 'HGT0C': 1500, 'KINDEX': 42, 'CAPE180_0': '5.0000', 'CIN180_0': 0}, '22H00': {'ICON': 'https://www.prevision-meteo.ch/style/images/icon/nuit-avec-averses.png', 'CONDITION': 'Nuit avec averses', 'CONDITION_KEY': 'nuit-avec-averses', 'TMP2m': 6.2, 'DPT2m': 6.2, 'WNDCHILL2m': 4.1, 'HUMIDEX': None, 'RH2m': 100, 'PRMSL': 1036.9, 'APCPsfc': 0.1, 'WNDSPD10m': 10, 'WNDGUST10m': 15, 'WNDDIR10m': 299, 'WNDDIRCARD10': 'NO', 'ISSNOW': 0, 'HCDC': '0.00', 'MCDC': '0.00', 'LCDC': '100.00', 'HGT0C': 1500, 'KINDEX': 44, 'CAPE180_0': '4.8000', 'CIN180_0': 0}, '23H00': {'ICON': 'https://www.prevision-meteo.ch/style/images/icon/nuit-avec-averses.png', 'CONDITION': 'Nuit avec averses', 'CONDITION_KEY': 'nuit-avec-averses', 'TMP2m': 6.1, 'DPT2m': 6, 'WNDCHILL2m': 4.2, 'HUMIDEX': None, 'RH2m': 100, 'PRMSL': 1037.4, 'APCPsfc': 0.1, 'WNDSPD10m': 9, 'WNDGUST10m': 15, 'WNDDIR10m': 304, 'WNDDIRCARD10': 'NO', 'ISSNOW': 0, 'HCDC': '0.00', 'MCDC': '0.00', 'LCDC': '100.00', 'HGT0C': 1400, 'KINDEX': 43, 'CAPE180_0': '4.2000', 'CIN180_0': 0}}}, 'fcst_day_3': {'date': '23.12.2017', 'day_short': 'Sam.', 'day_long': 'Samedi', 'tmin': 3, 'tmax': 7, 'condition': 'Eclaircies', 'condition_key': 'eclaircies', 'icon': 'https://www.prevision-meteo.ch/style/images/icon/eclaircies.png', 'icon_big': 'https://www.prevision-meteo.ch/style/images/icon/eclaircies-big.png', 'hourly_data': {'0H00': {'ICON': 'https://www.prevision-meteo.ch/style/images/icon/nuit-avec-averses.png', 'CONDITION': 'Nuit avec averses', 'CONDITION_KEY': 'nuit-avec-averses', 'TMP2m': 6, 'DPT2m': 5.9, 'WNDCHILL2m': 4.3, 'HUMIDEX': None, 'RH2m': 100, 'PRMSL': 1037.5, 'APCPsfc': 0.1, 'WNDSPD10m': 8, 'WNDGUST10m': 14, 'WNDDIR10m': 304, 'WNDDIRCARD10': 'NO', 'ISSNOW': 0, 'HCDC': '0.00', 'MCDC': '0.00', 'LCDC': '100.00', 'HGT0C': 1400, 'KINDEX': 43, 'CAPE180_0': '4.0000', 'CIN180_0': 0}, '1H00': {'ICON': 'https://www.prevision-meteo.ch/style/images/icon/nuit-avec-averses.png', 'CONDITION': 'Nuit avec averses', 'CONDITION_KEY': 'nuit-avec-averses', 'TMP2m': 5.9, 'DPT2m': 5.8, 'WNDCHILL2m': 4.2, 'HUMIDEX': None, 'RH2m': 100, 'PRMSL': 1037.3, 'APCPsfc': 0.1, 'WNDSPD10m': 8, 'WNDGUST10m': 13, 'WNDDIR10m': 309, 'WNDDIRCARD10': 'NO', 'ISSNOW': 0, 'HCDC': '0.00', 'MCDC': '0.00', 'LCDC': '100.00', 'HGT0C': 1300, 'KINDEX': 41, 'CAPE180_0': '4.0000', 'CIN180_0': 0}, '2H00': {'ICON': 'https://www.prevision-meteo.ch/style/images/icon/nuit-nuageuse.png', 'CONDITION': 'Nuit nuageuse', 'CONDITION_KEY': 'nuit-nuageuse', 'TMP2m': 5.8, 'DPT2m': 5.7, 'WNDCHILL2m': 4.3, 'HUMIDEX': None, 'RH2m': 100, 'PRMSL': 1037.4, 'APCPsfc': 0, 'WNDSPD10m': 7, 'WNDGUST10m': 13, 'WNDDIR10m': 315, 'WNDDIRCARD10': 'NO', 'ISSNOW': 0, 'HCDC': '0.00', 'MCDC': '0.00', 'LCDC': '100.00', 'HGT0C': 1300, 'KINDEX': 39, 'CAPE180_0': '4.0000', 'CIN180_0': 0}, '3H00': {'ICON': 'https://www.prevision-meteo.ch/style/images/icon/nuit-avec-averses.png', 'CONDITION': 'Nuit avec averses', 'CONDITION_KEY': 'nuit-avec-averses', 'TMP2m': 5.6, 'DPT2m': 5.6, 'WNDCHILL2m': 4.1, 'HUMIDEX': None, 'RH2m': 100, 'PRMSL': 1037.5, 'APCPsfc': 0.1, 'WNDSPD10m': 7, 'WNDGUST10m': 11, 'WNDDIR10m': 319, 'WNDDIRCARD10': 'NO', 'ISSNOW': 0, 'HCDC': '0.00', 'MCDC': '0.00', 'LCDC': '100.00', 'HGT0C': 1200, 'KINDEX': 37, 'CAPE180_0': '3.9000', 'CIN180_0': 0}, '4H00': {'ICON': 'https://www.prevision-meteo.ch/style/images/icon/nuit-avec-averses.png', 'CONDITION': 'Nuit avec averses', 'CONDITION_KEY': 'nuit-avec-averses', 'TMP2m': 5.5, 'DPT2m': 5.4, 'WNDCHILL2m': 4.3, 'HUMIDEX': None, 'RH2m': 100, 'PRMSL': 1037.6, 'APCPsfc': 0.1, 'WNDSPD10m': 6, 'WNDGUST10m': 11, 'WNDDIR10m': 317, 'WNDDIRCARD10': 'NO', 'ISSNOW': 0, 'HCDC': '0.00', 'MCDC': '0.00', 'LCDC': '100.00', 'HGT0C': 1100, 'KINDEX': 35, 'CAPE180_0': '3.3000', 'CIN180_0': 0}, '5H00': {'ICON': 'https://www.prevision-meteo.ch/style/images/icon/nuit-claire-et-stratus.png', 'CONDITION': 'Nuit claire et stratus', 'CONDITION_KEY': 'nuit-claire-et-stratus', 'TMP2m': 5.4, 'DPT2m': 5.3, 'WNDCHILL2m': 4.5, 'HUMIDEX': None, 'RH2m': 100, 'PRMSL': 1037.5, 'APCPsfc': 0, 'WNDSPD10m': 5, 'WNDGUST10m': 9, 'WNDDIR10m': 318, 'WNDDIRCARD10': 'NO', 'ISSNOW': 0, 'HCDC': '0.00', 'MCDC': '0.00', 'LCDC': '100.00', 'HGT0C': 1100, 'KINDEX': 33, 'CAPE180_0': '0.0000', 'CIN180_0': 0}, '6H00': {'ICON': 'https://www.prevision-meteo.ch/style/images/icon/nuit-claire-et-stratus.png', 'CONDITION': 'Nuit claire et stratus', 'CONDITION_KEY': 'nuit-claire-et-stratus', 'TMP2m': 5.3, 'DPT2m': 5.2, 'WNDCHILL2m': 4.4, 'HUMIDEX': None, 'RH2m': 100, 'PRMSL': 1037.8, 'APCPsfc': 0, 'WNDSPD10m': 5, 'WNDGUST10m': 9, 'WNDDIR10m': 321, 'WNDDIRCARD10': 'NO', 'ISSNOW': 0, 'HCDC': '0.00', 'MCDC': '0.00', 'LCDC': '100.00', 'HGT0C': 1000, 'KINDEX': 31, 'CAPE180_0': '0.0000', 'CIN180_0': 0}, '7H00': {'ICON': 'https://www.prevision-meteo.ch/style/images/icon/nuit-claire-et-stratus.png', 'CONDITION': 'Nuit claire et stratus', 'CONDITION_KEY': 'nuit-claire-et-stratus', 'TMP2m': 5.2, 'DPT2m': 5.1, 'WNDCHILL2m': 5.2, 'HUMIDEX': None, 'RH2m': 100, 'PRMSL': 1038.1, 'APCPsfc': 0.1, 'WNDSPD10m': 4, 'WNDGUST10m': 8, 'WNDDIR10m': 326, 'WNDDIRCARD10': 'NO', 'ISSNOW': 0, 'HCDC': '0.00', 'MCDC': '0.00', 'LCDC': '100.00', 'HGT0C': 1000, 'KINDEX': 28, 'CAPE180_0': '0.0000', 'CIN180_0': 0}, '8H00': {'ICON': 'https://www.prevision-meteo.ch/style/images/icon/nuit-claire-et-stratus.png', 'CONDITION': 'Nuit claire et stratus', 'CONDITION_KEY': 'nuit-claire-et-stratus', 'TMP2m': 5.1, 'DPT2m': 5, 'WNDCHILL2m': 5.1, 'HUMIDEX': None, 'RH2m': 100, 'PRMSL': 1038.4, 'APCPsfc': 0.1, 'WNDSPD10m': 3, 'WNDGUST10m': 6, 'WNDDIR10m': 328, 'WNDDIRCARD10': 'NO', 'ISSNOW': 0, 'HCDC': '0.00', 'MCDC': '0.00', 'LCDC': '100.00', 'HGT0C': 900, 'KINDEX': 26, 'CAPE180_0': '0.0000', 'CIN180_0': 0}, '9H00': {'ICON': 'https://www.prevision-meteo.ch/style/images/icon/stratus-se-dissipant.png', 'CONDITION': 'Stratus se dissipant', 'CONDITION_KEY': 'stratus-se-dissipant', 'TMP2m': 5.1, 'DPT2m': 4.9, 'WNDCHILL2m': 5.1, 'HUMIDEX': None, 'RH2m': 98, 'PRMSL': 1038.6, 'APCPsfc': 0.1, 'WNDSPD10m': 3, 'WNDGUST10m': 6, 'WNDDIR10m': 320, 'WNDDIRCARD10': 'NO', 'ISSNOW': 0, 'HCDC': '0.00', 'MCDC': '0.00', 'LCDC': '100.00', 'HGT0C': 900, 'KINDEX': 25, 'CAPE180_0': '0.0000', 'CIN180_0': 0}, '10H00': {'ICON': 'https://www.prevision-meteo.ch/style/images/icon/stratus-se-dissipant.png', 'CONDITION': 'Stratus se dissipant', 'CONDITION_KEY': 'stratus-se-dissipant', 'TMP2m': 5.4, 'DPT2m': 4.8, 'WNDCHILL2m': 5.4, 'HUMIDEX': None, 'RH2m': 96, 'PRMSL': 1038.9, 'APCPsfc': 0.1, 'WNDSPD10m': 2, 'WNDGUST10m': 4, 'WNDDIR10m': 301, 'WNDDIRCARD10': 'NO', 'ISSNOW': 0, 'HCDC': '0.00', 'MCDC': '0.00', 'LCDC': '100.00', 'HGT0C': 900, 'KINDEX': 24, 'CAPE180_0': '0.0000', 'CIN180_0': 0}, '11H00': {'ICON': 'https://www.prevision-meteo.ch/style/images/icon/ensoleille.png', 'CONDITION': 'Ensoleillé', 'CONDITION_KEY': 'ensoleille', 'TMP2m': 5.5, 'DPT2m': 4.5, 'WNDCHILL2m': 5.5, 'HUMIDEX': None, 'RH2m': 93, 'PRMSL': 1039.1, 'APCPsfc': 0, 'WNDSPD10m': 3, 'WNDGUST10m': 5, 'WNDDIR10m': 249, 'WNDDIRCARD10': 'O', 'ISSNOW': 0, 'HCDC': '0.00', 'MCDC': '0.00', 'LCDC': '96.00', 'HGT0C': 900, 'KINDEX': 24, 'CAPE180_0': '0.0000', 'CIN180_0': 0}, '12H00': {'ICON': 'https://www.prevision-meteo.ch/style/images/icon/eclaircies.png', 'CONDITION': 'Eclaircies', 'CONDITION_KEY': 'eclaircies', 'TMP2m': 6, 'DPT2m': 4.3, 'WNDCHILL2m': 4.9, 'HUMIDEX': None, 'RH2m': 89, 'PRMSL': 1038.7, 'APCPsfc': 0, 'WNDSPD10m': 6, 'WNDGUST10m': 8, 'WNDDIR10m': 243, 'WNDDIRCARD10': 'SO', 'ISSNOW': 0, 'HCDC': '0.00', 'MCDC': '0.00', 'LCDC': '81.00', 'HGT0C': 900, 'KINDEX': 24, 'CAPE180_0': '0.0000', 'CIN180_0': 0}, '13H00': {'ICON': 'https://www.prevision-meteo.ch/style/images/icon/eclaircies.png', 'CONDITION': 'Eclaircies', 'CONDITION_KEY': 'eclaircies', 'TMP2m': 6.5, 'DPT2m': 4.1, 'WNDCHILL2m': 5.2, 'HUMIDEX': None, 'RH2m': 85, 'PRMSL': 1037.9, 'APCPsfc': 0, 'WNDSPD10m': 7, 'WNDGUST10m': 11, 'WNDDIR10m': 237, 'WNDDIRCARD10': 'SO', 'ISSNOW': 0, 'HCDC': '0.00', 'MCDC': '0.00', 'LCDC': '67.00', 'HGT0C': 900, 'KINDEX': 25, 'CAPE180_0': '0.0000', 'CIN180_0': 0}, '14H00': {'ICON': 'https://www.prevision-meteo.ch/style/images/icon/faiblement-nuageux.png', 'CONDITION': 'Faiblement nuageux', 'CONDITION_KEY': 'faiblement-nuageux', 'TMP2m': 6.9, 'DPT2m': 4.2, 'WNDCHILL2m': 5.4, 'HUMIDEX': None, 'RH2m': 83, 'PRMSL': 1037.4, 'APCPsfc': 0, 'WNDSPD10m': 8, 'WNDGUST10m': 13, 'WNDDIR10m': 236, 'WNDDIRCARD10': 'SO', 'ISSNOW': 0, 'HCDC': '0.00', 'MCDC': '0.00', 'LCDC': '66.00', 'HGT0C': 900, 'KINDEX': 26, 'CAPE180_0': '0.0000', 'CIN180_0': 0}, '15H00': {'ICON': 'https://www.prevision-meteo.ch/style/images/icon/eclaircies.png', 'CONDITION': 'Eclaircies', 'CONDITION_KEY': 'eclaircies', 'TMP2m': 6.9, 'DPT2m': 4.4, 'WNDCHILL2m': 5.1, 'HUMIDEX': None, 'RH2m': 84, 'PRMSL': 1037.4, 'APCPsfc': 0, 'WNDSPD10m': 9, 'WNDGUST10m': 14, 'WNDDIR10m': 241, 'WNDDIRCARD10': 'SO', 'ISSNOW': 0, 'HCDC': '0.00', 'MCDC': '0.00', 'LCDC': '58.00', 'HGT0C': 1000, 'KINDEX': 27, 'CAPE180_0': '0.0000', 'CIN180_0': 0}, '16H00': {'ICON': 'https://www.prevision-meteo.ch/style/images/icon/eclaircies.png', 'CONDITION': 'Eclaircies', 'CONDITION_KEY': 'eclaircies', 'TMP2m': 6.3, 'DPT2m': 4.8, 'WNDCHILL2m': 4.7, 'HUMIDEX': None, 'RH2m': 89, 'PRMSL': 1037, 'APCPsfc': 0, 'WNDSPD10m': 8, 'WNDGUST10m': 14, 'WNDDIR10m': 242, 'WNDDIRCARD10': 'SO', 'ISSNOW': 0, 'HCDC': '0.00', 'MCDC': '0.00', 'LCDC': '45.00', 'HGT0C': 1000, 'KINDEX': 28, 'CAPE180_0': '0.0000', 'CIN180_0': 0}, '17H00': {'ICON': 'https://www.prevision-meteo.ch/style/images/icon/nuit-claire-et-stratus.png', 'CONDITION': 'Nuit claire et stratus', 'CONDITION_KEY': 'nuit-claire-et-stratus', 'TMP2m': 5.2, 'DPT2m': 4.3, 'WNDCHILL2m': 3.6, 'HUMIDEX': None, 'RH2m': 94, 'PRMSL': 1036.7, 'APCPsfc': 0, 'WNDSPD10m': 7, 'WNDGUST10m': 12, 'WNDDIR10m': 237, 'WNDDIRCARD10': 'SO', 'ISSNOW': 0, 'HCDC': '0.00', 'MCDC': '0.00', 'LCDC': '8.00', 'HGT0C': 900, 'KINDEX': 29, 'CAPE180_0': '0.0000', 'CIN180_0': 0}, '18H00': {'ICON': 'https://www.prevision-meteo.ch/style/images/icon/stratus.png', 'CONDITION': 'Stratus', 'CONDITION_KEY': 'stratus', 'TMP2m': 4.4, 'DPT2m': 4.1, 'WNDCHILL2m': 2.4, 'HUMIDEX': None, 'RH2m': 97, 'PRMSL': 1036.7, 'APCPsfc': 0, 'WNDSPD10m': 8, 'WNDGUST10m': 12, 'WNDDIR10m': 231, 'WNDDIRCARD10': 'SO', 'ISSNOW': 0, 'HCDC': '0.00', 'MCDC': '0.00', 'LCDC': '0.00', 'HGT0C': 900, 'KINDEX': 30, 'CAPE180_0': '0.0000', 'CIN180_0': 0}, '19H00': {'ICON': 'https://www.prevision-meteo.ch/style/images/icon/stratus.png', 'CONDITION': 'Stratus', 'CONDITION_KEY': 'stratus', 'TMP2m': 3.7, 'DPT2m': 3.6, 'WNDCHILL2m': 1.3, 'HUMIDEX': None, 'RH2m': 100, 'PRMSL': 1037.1, 'APCPsfc': 0, 'WNDSPD10m': 9, 'WNDGUST10m': 13, 'WNDDIR10m': 222, 'WNDDIRCARD10': 'SO', 'ISSNOW': 0, 'HCDC': '0.00', 'MCDC': '0.00', 'LCDC': '8.00', 'HGT0C': 1000, 'KINDEX': 31, 'CAPE180_0': '0.0000', 'CIN180_0': 0}, '20H00': {'ICON': 'https://www.prevision-meteo.ch/style/images/icon/stratus.png', 'CONDITION': 'Stratus', 'CONDITION_KEY': 'stratus', 'TMP2m': 3.4, 'DPT2m': 3.2, 'WNDCHILL2m': 1, 'HUMIDEX': None, 'RH2m': 99, 'PRMSL': 1037.2, 'APCPsfc': 0, 'WNDSPD10m': 9, 'WNDGUST10m': 14, 'WNDDIR10m': 212, 'WNDDIRCARD10': 'SO', 'ISSNOW': 0, 'HCDC': '0.00', 'MCDC': '0.00', 'LCDC': '36.00', 'HGT0C': 1200, 'KINDEX': 33, 'CAPE180_0': '0.0000', 'CIN180_0': 0}, '21H00': {'ICON': 'https://www.prevision-meteo.ch/style/images/icon/stratus.png', 'CONDITION': 'Stratus', 'CONDITION_KEY': 'stratus', 'TMP2m': 3.5, 'DPT2m': 3.4, 'WNDCHILL2m': 0.9, 'HUMIDEX': None, 'RH2m': 99, 'PRMSL': 1037, 'APCPsfc': 0, 'WNDSPD10m': 10, 'WNDGUST10m': 16, 'WNDDIR10m': 209, 'WNDDIRCARD10': 'SO', 'ISSNOW': 0, 'HCDC': '0.00', 'MCDC': '0.00', 'LCDC': '99.00', 'HGT0C': 1200, 'KINDEX': 34, 'CAPE180_0': '0.0000', 'CIN180_0': 0}, '22H00': {'ICON': 'https://www.prevision-meteo.ch/style/images/icon/stratus.png', 'CONDITION': 'Stratus', 'CONDITION_KEY': 'stratus', 'TMP2m': 3.3, 'DPT2m': 3.1, 'WNDCHILL2m': 0.2, 'HUMIDEX': None, 'RH2m': 99, 'PRMSL': 1037, 'APCPsfc': 0, 'WNDSPD10m': 12, 'WNDGUST10m': 18, 'WNDDIR10m': 210, 'WNDDIRCARD10': 'SO', 'ISSNOW': 0, 'HCDC': '0.00', 'MCDC': '0.00', 'LCDC': '100.00', 'HGT0C': 1300, 'KINDEX': 35, 'CAPE180_0': '0.0000', 'CIN180_0': 0}, '23H00': {'ICON': 'https://www.prevision-meteo.ch/style/images/icon/stratus.png', 'CONDITION': 'Stratus', 'CONDITION_KEY': 'stratus', 'TMP2m': 3.1, 'DPT2m': 2.9, 'WNDCHILL2m': 0, 'HUMIDEX': None, 'RH2m': 98, 'PRMSL': 1037.1, 'APCPsfc': 0, 'WNDSPD10m': 12, 'WNDGUST10m': 20, 'WNDDIR10m': 210, 'WNDDIRCARD10': 'SO', 'ISSNOW': 0, 'HCDC': '0.00', 'MCDC': '0.00', 'LCDC': '100.00', 'HGT0C': 1300, 'KINDEX': 36, 'CAPE180_0': '0.0000', 'CIN180_0': 0}}}, 'fcst_day_4': {'date': '24.12.2017', 'day_short': 'Dim.', 'day_long': 'Dimanche', 'tmin': 3, 'tmax': 4, 'condition': 'Ensoleillé', 'condition_key': 'ensoleille', 'icon': 'https://www.prevision-meteo.ch/style/images/icon/ensoleille.png', 'icon_big': 'https://www.prevision-meteo.ch/style/images/icon/ensoleille-big.png', 'hourly_data': {'0H00': {'ICON': 'https://www.prevision-meteo.ch/style/images/icon/stratus.png', 'CONDITION': 'Stratus', 'CONDITION_KEY': 'stratus', 'TMP2m': 2.8, 'DPT2m': 2.6, 'WNDCHILL2m': -0.6, 'HUMIDEX': None, 'RH2m': 99, 'PRMSL': 1036.7, 'APCPsfc': 0, 'WNDSPD10m': 13, 'WNDGUST10m': 21, 'WNDDIR10m': 208, 'WNDDIRCARD10': 'SO', 'ISSNOW': 0, 'HCDC': '0.00', 'MCDC': '0.00', 'LCDC': '97.00', 'HGT0C': 2400, 'KINDEX': 37, 'CAPE180_0': '0.0000', 'CIN180_0': 0}, '1H00': {'ICON': 'https://www.prevision-meteo.ch/style/images/icon/stratus.png', 'CONDITION': 'Stratus', 'CONDITION_KEY': 'stratus', 'TMP2m': 2.7, 'DPT2m': 2.4, 'WNDCHILL2m': -0.9, 'HUMIDEX': None, 'RH2m': 98, 'PRMSL': 1036.2, 'APCPsfc': 0, 'WNDSPD10m': 14, 'WNDGUST10m': 21, 'WNDDIR10m': 205, 'WNDDIRCARD10': 'SO', 'ISSNOW': 0, 'HCDC': '0.00', 'MCDC': '0.00', 'LCDC': '98.00', 'HGT0C': 2400, 'KINDEX': 37, 'CAPE180_0': '0.0000', 'CIN180_0': 0}, '2H00': {'ICON': 'https://www.prevision-meteo.ch/style/images/icon/stratus.png', 'CONDITION': 'Stratus', 'CONDITION_KEY': 'stratus', 'TMP2m': 2.6, 'DPT2m': 2.3, 'WNDCHILL2m': -1, 'HUMIDEX': None, 'RH2m': 98, 'PRMSL': 1036, 'APCPsfc': 0, 'WNDSPD10m': 14, 'WNDGUST10m': 22, 'WNDDIR10m': 203, 'WNDDIRCARD10': 'S', 'ISSNOW': 0, 'HCDC': '0.00', 'MCDC': '0.00', 'LCDC': '99.00', 'HGT0C': 2800, 'KINDEX': 37, 'CAPE180_0': '0.0000', 'CIN180_0': 0}, '3H00': {'ICON': 'https://www.prevision-meteo.ch/style/images/icon/stratus.png', 'CONDITION': 'Stratus', 'CONDITION_KEY': 'stratus', 'TMP2m': 2.5, 'DPT2m': 2.2, 'WNDCHILL2m': -1.2, 'HUMIDEX': None, 'RH2m': 98, 'PRMSL': 1035.7, 'APCPsfc': 0, 'WNDSPD10m': 14, 'WNDGUST10m': 23, 'WNDDIR10m': 201, 'WNDDIRCARD10': 'S', 'ISSNOW': 0, 'HCDC': '0.00', 'MCDC': '0.00', 'LCDC': '97.00', 'HGT0C': 2800, 'KINDEX': 38, 'CAPE180_0': '0.0000', 'CIN180_0': 0}, '4H00': {'ICON': 'https://www.prevision-meteo.ch/style/images/icon/stratus.png', 'CONDITION': 'Stratus', 'CONDITION_KEY': 'stratus', 'TMP2m': 2.4, 'DPT2m': 2, 'WNDCHILL2m': -1.5, 'HUMIDEX': None, 'RH2m': 98, 'PRMSL': 1035.2, 'APCPsfc': 0, 'WNDSPD10m': 15, 'WNDGUST10m': 24, 'WNDDIR10m': 200, 'WNDDIRCARD10': 'S', 'ISSNOW': 0, 'HCDC': '0.00', 'MCDC': '0.00', 'LCDC': '98.00', 'HGT0C': 2900, 'KINDEX': 38, 'CAPE180_0': '0.0000', 'CIN180_0': 0}, '5H00': {'ICON': 'https://www.prevision-meteo.ch/style/images/icon/stratus.png', 'CONDITION': 'Stratus', 'CONDITION_KEY': 'stratus', 'TMP2m': 2.2, 'DPT2m': 1.8, 'WNDCHILL2m': -1.9, 'HUMIDEX': None, 'RH2m': 98, 'PRMSL': 1034.8, 'APCPsfc': 0, 'WNDSPD10m': 16, 'WNDGUST10m': 25, 'WNDDIR10m': 198, 'WNDDIRCARD10': 'S', 'ISSNOW': 0, 'HCDC': '0.00', 'MCDC': '0.00', 'LCDC': '100.00', 'HGT0C': 2900, 'KINDEX': 39, 'CAPE180_0': '0.0000', 'CIN180_0': 0}, '6H00': {'ICON': 'https://www.prevision-meteo.ch/style/images/icon/stratus.png', 'CONDITION': 'Stratus', 'CONDITION_KEY': 'stratus', 'TMP2m': 2.1, 'DPT2m': 1.7, 'WNDCHILL2m': -2.2, 'HUMIDEX': None, 'RH2m': 97, 'PRMSL': 1034.8, 'APCPsfc': 0, 'WNDSPD10m': 17, 'WNDGUST10m': 28, 'WNDDIR10m': 197, 'WNDDIRCARD10': 'S', 'ISSNOW': 0, 'HCDC': '0.00', 'MCDC': '0.00', 'LCDC': '100.00', 'HGT0C': 2900, 'KINDEX': 39, 'CAPE180_0': '0.0000', 'CIN180_0': 0}, '7H00': {'ICON': 'https://www.prevision-meteo.ch/style/images/icon/stratus.png', 'CONDITION': 'Stratus', 'CONDITION_KEY': 'stratus', 'TMP2m': 1.9, 'DPT2m': 1.5, 'WNDCHILL2m': -2.6, 'HUMIDEX': None, 'RH2m': 97, 'PRMSL': 1034.8, 'APCPsfc': 0, 'WNDSPD10m': 18, 'WNDGUST10m': 29, 'WNDDIR10m': 196, 'WNDDIRCARD10': 'S', 'ISSNOW': 0, 'HCDC': '0.00', 'MCDC': '0.00', 'LCDC': '100.00', 'HGT0C': 2900, 'KINDEX': 40, 'CAPE180_0': '0.0000', 'CIN180_0': 0}, '8H00': {'ICON': 'https://www.prevision-meteo.ch/style/images/icon/stratus.png', 'CONDITION': 'Stratus', 'CONDITION_KEY': 'stratus', 'TMP2m': 3, 'DPT2m': 1.7, 'WNDCHILL2m': -1.3, 'HUMIDEX': None, 'RH2m': 98, 'PRMSL': 1034.8, 'APCPsfc': 0, 'WNDSPD10m': 19, 'WNDGUST10m': 31, 'WNDDIR10m': 222, 'WNDDIRCARD10': 'SO', 'ISSNOW': 0, 'HCDC': '0.00', 'MCDC': '0.00', 'LCDC': '100.00', 'HGT0C': 2300, 'KINDEX': 41, 'CAPE180_0': '0.0000', 'CIN180_0': 0}, '9H00': {'ICON': 'https://www.prevision-meteo.ch/style/images/icon/stratus.png', 'CONDITION': 'Stratus', 'CONDITION_KEY': 'stratus', 'TMP2m': 3.1, 'DPT2m': 1.7, 'WNDCHILL2m': -1.3, 'HUMIDEX': None, 'RH2m': 97, 'PRMSL': 1034.8, 'APCPsfc': 0, 'WNDSPD10m': 20, 'WNDGUST10m': 32, 'WNDDIR10m': 222, 'WNDDIRCARD10': 'SO', 'ISSNOW': 0, 'HCDC': '0.00', 'MCDC': '0.00', 'LCDC': '100.00', 'HGT0C': 2300, 'KINDEX': 41, 'CAPE180_0': '0.0000', 'CIN180_0': 0}, '10H00': {'ICON': 'https://www.prevision-meteo.ch/style/images/icon/stratus-se-dissipant.png', 'CONDITION': 'Stratus se dissipant', 'CONDITION_KEY': 'stratus-se-dissipant', 'TMP2m': 3.5, 'DPT2m': 1.8, 'WNDCHILL2m': -0.8, 'HUMIDEX': None, 'RH2m': 95, 'PRMSL': 1034.9, 'APCPsfc': 0, 'WNDSPD10m': 20, 'WNDGUST10m': 33, 'WNDDIR10m': 222, 'WNDDIRCARD10': 'SO', 'ISSNOW': 0, 'HCDC': '0.00', 'MCDC': '0.00', 'LCDC': '100.00', 'HGT0C': 2400, 'KINDEX': 42, 'CAPE180_0': '0.0000', 'CIN180_0': 0}, '11H00': {'ICON': 'https://www.prevision-meteo.ch/style/images/icon/stratus-se-dissipant.png', 'CONDITION': 'Stratus se dissipant', 'CONDITION_KEY': 'stratus-se-dissipant', 'TMP2m': 4, 'DPT2m': 1.9, 'WNDCHILL2m': -0.3, 'HUMIDEX': None, 'RH2m': 93, 'PRMSL': 1034.8, 'APCPsfc': 0, 'WNDSPD10m': 21, 'WNDGUST10m': 34, 'WNDDIR10m': 224, 'WNDDIRCARD10': 'SO', 'ISSNOW': 0, 'HCDC': '0.00', 'MCDC': '0.00', 'LCDC': '100.00', 'HGT0C': 2400, 'KINDEX': 42, 'CAPE180_0': '0.0000', 'CIN180_0': 0}, '12H00': {'ICON': 'https://www.prevision-meteo.ch/style/images/icon/ensoleille.png', 'CONDITION': 'Ensoleillé', 'CONDITION_KEY': 'ensoleille', 'TMP2m': 4.5, 'DPT2m': 2.2, 'WNDCHILL2m': 0.2, 'HUMIDEX': None, 'RH2m': 91, 'PRMSL': 1034.2, 'APCPsfc': 0, 'WNDSPD10m': 22, 'WNDGUST10m': 34, 'WNDDIR10m': 226, 'WNDDIRCARD10': 'SO', 'ISSNOW': 0, 'HCDC': '0.00', 'MCDC': '0.00', 'LCDC': '100.00', 'HGT0C': 2400, 'KINDEX': 43, 'CAPE180_0': '0.0000', 'CIN180_0': 0}, '13H00': {'ICON': 'https://www.prevision-meteo.ch/style/images/icon/ensoleille.png', 'CONDITION': 'Ensoleillé', 'CONDITION_KEY': 'ensoleille', 'TMP2m': 5, 'DPT2m': 2.6, 'WNDCHILL2m': 0.8, 'HUMIDEX': None, 'RH2m': 91, 'PRMSL': 1033.5, 'APCPsfc': 0, 'WNDSPD10m': 22, 'WNDGUST10m': 34, 'WNDDIR10m': 227, 'WNDDIRCARD10': 'SO', 'ISSNOW': 0, 'HCDC': '0.00', 'MCDC': '0.00', 'LCDC': '100.00', 'HGT0C': 3000, 'KINDEX': 43, 'CAPE180_0': '0.0000', 'CIN180_0': 0}, '14H00': {'ICON': 'https://www.prevision-meteo.ch/style/images/icon/ensoleille.png', 'CONDITION': 'Ensoleillé', 'CONDITION_KEY': 'ensoleille', 'TMP2m': 5.3, 'DPT2m': 2.9, 'WNDCHILL2m': 1.3, 'HUMIDEX': None, 'RH2m': 91, 'PRMSL': 1033.1, 'APCPsfc': 0, 'WNDSPD10m': 21, 'WNDGUST10m': 34, 'WNDDIR10m': 228, 'WNDDIRCARD10': 'SO', 'ISSNOW': 0, 'HCDC': '0.00', 'MCDC': '0.00', 'LCDC': '100.00', 'HGT0C': 3000, 'KINDEX': 43, 'CAPE180_0': '0.0000', 'CIN180_0': 0}, '15H00': {'ICON': 'https://www.prevision-meteo.ch/style/images/icon/ensoleille.png', 'CONDITION': 'Ensoleillé', 'CONDITION_KEY': 'ensoleille', 'TMP2m': 5.3, 'DPT2m': 3.1, 'WNDCHILL2m': 1.3, 'HUMIDEX': None, 'RH2m': 92, 'PRMSL': 1032.9, 'APCPsfc': 0, 'WNDSPD10m': 21, 'WNDGUST10m': 33, 'WNDDIR10m': 229, 'WNDDIRCARD10': 'SO', 'ISSNOW': 0, 'HCDC': '0.00', 'MCDC': '0.00', 'LCDC': '100.00', 'HGT0C': 3000, 'KINDEX': 44, 'CAPE180_0': '0.0000', 'CIN180_0': 0}, '16H00': {'ICON': 'https://www.prevision-meteo.ch/style/images/icon/ensoleille.png', 'CONDITION': 'Ensoleillé', 'CONDITION_KEY': 'ensoleille', 'TMP2m': 5, 'DPT2m': 3.2, 'WNDCHILL2m': 1.1, 'HUMIDEX': None, 'RH2m': 94, 'PRMSL': 1032.5, 'APCPsfc': 0, 'WNDSPD10m': 20, 'WNDGUST10m': 33, 'WNDDIR10m': 227, 'WNDDIRCARD10': 'SO', 'ISSNOW': 0, 'HCDC': '0.00', 'MCDC': '0.00', 'LCDC': '100.00', 'HGT0C': 3000, 'KINDEX': 44, 'CAPE180_0': '0.0000', 'CIN180_0': 0}, '17H00': {'ICON': 'https://www.prevision-meteo.ch/style/images/icon/nuit-claire.png', 'CONDITION': 'Nuit claire', 'CONDITION_KEY': 'nuit-claire', 'TMP2m': 4.6, 'DPT2m': 3.1, 'WNDCHILL2m': 0.7, 'HUMIDEX': None, 'RH2m': 96, 'PRMSL': 1032.2, 'APCPsfc': 0, 'WNDSPD10m': 19, 'WNDGUST10m': 31, 'WNDDIR10m': 225, 'WNDDIRCARD10': 'SO', 'ISSNOW': 0, 'HCDC': '0.00', 'MCDC': '0.00', 'LCDC': '100.00', 'HGT0C': 3000, 'KINDEX': 44, 'CAPE180_0': '0.0000', 'CIN180_0': 0}, '18H00': {'ICON': 'https://www.prevision-meteo.ch/style/images/icon/nuit-claire-et-stratus.png', 'CONDITION': 'Nuit claire et stratus', 'CONDITION_KEY': 'nuit-claire-et-stratus', 'TMP2m': 4.4, 'DPT2m': 2.8, 'WNDCHILL2m': 0.4, 'HUMIDEX': None, 'RH2m': 97, 'PRMSL': 1032.1, 'APCPsfc': 0, 'WNDSPD10m': 19, 'WNDGUST10m': 29, 'WNDDIR10m': 223, 'WNDDIRCARD10': 'SO', 'ISSNOW': 0, 'HCDC': '0.00', 'MCDC': '0.00', 'LCDC': '100.00', 'HGT0C': 3000, 'KINDEX': 44, 'CAPE180_0': '0.0000', 'CIN180_0': 0}, '19H00': {'ICON': 'https://www.prevision-meteo.ch/style/images/icon/nuit-claire-et-stratus.png', 'CONDITION': 'Nuit claire et stratus', 'CONDITION_KEY': 'nuit-claire-et-stratus', 'TMP2m': 4.1, 'DPT2m': 2.7, 'WNDCHILL2m': 0.1, 'HUMIDEX': None, 'RH2m': 97, 'PRMSL': 1032.2, 'APCPsfc': 0, 'WNDSPD10m': 19, 'WNDGUST10m': 29, 'WNDDIR10m': 221, 'WNDDIRCARD10': 'SO', 'ISSNOW': 0, 'HCDC': '0.00', 'MCDC': '0.00', 'LCDC': '100.00', 'HGT0C': 3000, 'KINDEX': 45, 'CAPE180_0': '0.0000', 'CIN180_0': 0}, '20H00': {'ICON': 'https://www.prevision-meteo.ch/style/images/icon/nuit-claire-et-stratus.png', 'CONDITION': 'Nuit claire et stratus', 'CONDITION_KEY': 'nuit-claire-et-stratus', 'TMP2m': 3.9, 'DPT2m': 2.5, 'WNDCHILL2m': -0.1, 'HUMIDEX': None, 'RH2m': 97, 'PRMSL': 1032.2, 'APCPsfc': 0, 'WNDSPD10m': 18, 'WNDGUST10m': 29, 'WNDDIR10m': 220, 'WNDDIRCARD10': 'SO', 'ISSNOW': 0, 'HCDC': '0.00', 'MCDC': '0.00', 'LCDC': '100.00', 'HGT0C': 3000, 'KINDEX': 45, 'CAPE180_0': '0.0000', 'CIN180_0': 0}, '21H00': {'ICON': 'https://www.prevision-meteo.ch/style/images/icon/nuit-claire-et-stratus.png', 'CONDITION': 'Nuit claire et stratus', 'CONDITION_KEY': 'nuit-claire-et-stratus', 'TMP2m': 3.7, 'DPT2m': 2.3, 'WNDCHILL2m': -0.3, 'HUMIDEX': None, 'RH2m': 97, 'PRMSL': 1031.9, 'APCPsfc': 0, 'WNDSPD10m': 18, 'WNDGUST10m': 28, 'WNDDIR10m': 219, 'WNDDIRCARD10': 'SO', 'ISSNOW': 0, 'HCDC': '0.00', 'MCDC': '0.00', 'LCDC': '100.00', 'HGT0C': 3000, 'KINDEX': 44, 'CAPE180_0': '0.0000', 'CIN180_0': 0}, '22H00': {'ICON': 'https://www.prevision-meteo.ch/style/images/icon/nuit-claire-et-stratus.png', 'CONDITION': 'Nuit claire et stratus', 'CONDITION_KEY': 'nuit-claire-et-stratus', 'TMP2m': 3.5, 'DPT2m': 2.1, 'WNDCHILL2m': -0.4, 'HUMIDEX': None, 'RH2m': 98, 'PRMSL': 1031.7, 'APCPsfc': 0, 'WNDSPD10m': 17, 'WNDGUST10m': 28, 'WNDDIR10m': 218, 'WNDDIRCARD10': 'SO', 'ISSNOW': 0, 'HCDC': '0.00', 'MCDC': '0.00', 'LCDC': '100.00', 'HGT0C': 3000, 'KINDEX': 44, 'CAPE180_0': '0.0000', 'CIN180_0': 0}, '23H00': {'ICON': 'https://www.prevision-meteo.ch/style/images/icon/stratus.png', 'CONDITION': 'Stratus', 'CONDITION_KEY': 'stratus', 'TMP2m': 3.3, 'DPT2m': 2, 'WNDCHILL2m': -0.5, 'HUMIDEX': None, 'RH2m': 98, 'PRMSL': 1031.7, 'APCPsfc': 0, 'WNDSPD10m': 16, 'WNDGUST10m': 27, 'WNDDIR10m': 217, 'WNDDIRCARD10': 'SO', 'ISSNOW': 0, 'HCDC': '0.00', 'MCDC': '0.00', 'LCDC': '100.00', 'HGT0C': 3000, 'KINDEX': 44, 'CAPE180_0': '0.0000', 'CIN180_0': 0}}}}\n"
     ]
    }
   ],
   "source": [
    "print(jsonfile)"
   ]
  },
  {
   "cell_type": "markdown",
   "metadata": {
    "slideshow": {
     "slide_type": "subslide"
    }
   },
   "source": [
    "On essaie de faire mieux en affichant uniquement les clés du dictionnaire :"
   ]
  },
  {
   "cell_type": "code",
   "execution_count": 4,
   "metadata": {},
   "outputs": [
    {
     "name": "stdout",
     "output_type": "stream",
     "text": [
      "city_info\n",
      "forecast_info\n",
      "current_condition\n",
      "fcst_day_0\n",
      "fcst_day_1\n",
      "fcst_day_2\n",
      "fcst_day_3\n",
      "fcst_day_4\n"
     ]
    }
   ],
   "source": [
    "for k in jsonfile:\n",
    "    print(k)"
   ]
  },
  {
   "cell_type": "markdown",
   "metadata": {},
   "source": [
    "On est intéressé par le temps d'aujourd'hui :"
   ]
  },
  {
   "cell_type": "code",
   "execution_count": null,
   "metadata": {},
   "outputs": [],
   "source": [
    "day = jsonfile['fcst_day_0']\n",
    "print(day)"
   ]
  },
  {
   "cell_type": "markdown",
   "metadata": {
    "slideshow": {
     "slide_type": "subslide"
    }
   },
   "source": [
    "Là aussi, on cherche les clés :"
   ]
  },
  {
   "cell_type": "code",
   "execution_count": null,
   "metadata": {},
   "outputs": [],
   "source": [
    "for k in day:\n",
    "    print(k)"
   ]
  },
  {
   "cell_type": "markdown",
   "metadata": {},
   "source": [
    "Vérifions qu'il s'agit d'aujourd'hui :"
   ]
  },
  {
   "cell_type": "code",
   "execution_count": null,
   "metadata": {},
   "outputs": [],
   "source": [
    "print(day['day_long'], day['date'])"
   ]
  },
  {
   "cell_type": "markdown",
   "metadata": {
    "slideshow": {
     "slide_type": "subslide"
    }
   },
   "source": [
    "C'est bon !\n",
    "Maintenant, une entrée particulière nous intéresse :"
   ]
  },
  {
   "cell_type": "code",
   "execution_count": null,
   "metadata": {},
   "outputs": [],
   "source": [
    "day_hd = day['hourly_data']\n",
    "for k in day_hd:\n",
    "    print(k)"
   ]
  },
  {
   "cell_type": "markdown",
   "metadata": {
    "slideshow": {
     "slide_type": "subslide"
    }
   },
   "source": [
    "Regardons ce que contient une 'hourly_data' :"
   ]
  },
  {
   "cell_type": "code",
   "execution_count": null,
   "metadata": {},
   "outputs": [],
   "source": [
    "for k in day_hd['8H00']:\n",
    "    print(k)"
   ]
  },
  {
   "cell_type": "markdown",
   "metadata": {
    "slideshow": {
     "slide_type": "subslide"
    }
   },
   "source": [
    "La clé qui nous intéresse est la chaîne ``'TMP2m'`` qui correspond à la température à 2m du sol."
   ]
  },
  {
   "cell_type": "code",
   "execution_count": null,
   "metadata": {},
   "outputs": [],
   "source": [
    "hour = '12H00'\n",
    "print(\"Aujourd'hui à {}, il fera : {} deg. C.\".format(hour, day_hd[hour]['TMP2m']))"
   ]
  },
  {
   "cell_type": "markdown",
   "metadata": {
    "slideshow": {
     "slide_type": "-"
    }
   },
   "source": [
    "Sauver ces lignes de commandes dans le fichier ``today_stras.py`` en allant de l'exécution 1 au compteur d'exécution courant indiqué dans la cellule de code ci-dessus ``In [XX]``. Dans le cas présent :"
   ]
  },
  {
   "cell_type": "code",
   "execution_count": null,
   "metadata": {},
   "outputs": [],
   "source": [
    "%save today_stras.py 1-10"
   ]
  },
  {
   "cell_type": "markdown",
   "metadata": {
    "slideshow": {
     "slide_type": "slide"
    }
   },
   "source": [
    "## Tracé de la température\n",
    "\n",
    "1. Ouvrir le fichier ``today_stras.py`` dans Spyder et nettoyer les ``print`` inutiles.\n",
    "2. Exécutez le code dans Spyder et utilisez la fenêtre \"Variable explorer\" en haut à droite pour parcourir les données de votre dictionnaire.\n",
    "3. Extraire la liste des couples ``(hour, temperature)`` où :\n",
    "    - ``hour`` est un entier\n",
    "    - ``temperature`` est un flottant\n",
    "4. ordonner la liste selon les heures croissantes\n",
    "5. convertir la liste en un *numpy array* ``t`` avec la méthode ``numpy.array()``\n",
    "6. Transposer ``t`` pour obtenir le tableau ``[[liste of hours], [list of temperatures]]``\n",
    "7. réaliser un tracé matplotlib en suivant [ce tutoriel](http://matplotlib.org/users/pyplot_tutorial.html) ou en intégrant les lignes de code suivantes : "
   ]
  },
  {
   "cell_type": "code",
   "execution_count": null,
   "metadata": {
    "slideshow": {
     "slide_type": "subslide"
    }
   },
   "outputs": [],
   "source": [
    "import matplotlib.pyplot as plt  # To be placed at the top of python file\n",
    "\n",
    "# [Your previous code...]\n",
    "\n",
    "# Plot T = T(hour)\n",
    "fig = plt.figure()  # initialise figure\n",
    "title = \"{} {}\".format(day_of_the_week, date_of_today)\n",
    "fig.suptitle(title, fontsize=14, fontweight='bold')\n",
    "\n",
    "ax = fig.add_subplot(111)  # initialise a plot area\n",
    "fig.subplots_adjust(top=0.85)\n",
    "ax.set_title('Day temperature')\n",
    "ax.set_xlabel('Time [h]')\n",
    "ax.set_ylabel('Temperature [deg. C]')\n",
    "\n",
    "ax.plot(t[0], t[1])  # plot t[1] (tempe) as a function of t[0] (hour)"
   ]
  },
  {
   "cell_type": "markdown",
   "metadata": {
    "slideshow": {
     "slide_type": "-"
    }
   },
   "source": [
    "> **Option :** intégrer l'icone de la météo du jour en utilisant le module ``matplotlib.image``"
   ]
  },
  {
   "cell_type": "markdown",
   "metadata": {},
   "source": [
    "<button data-toggle=\"collapse\" data-target=\"#meteo_json\" class='btn btn-primary'>Solution</button>\n",
    "\n",
    "<div id=\"meteo_json\" class=\"collapse\">\n",
    "Pas si vite ! Êtes-vous sûr ? Vraiment ?  \n",
    "Alors rendez-vous dans `exos/meteo_json.py`"
   ]
  },
  {
   "cell_type": "markdown",
   "metadata": {
    "slideshow": {
     "slide_type": "slide"
    }
   },
   "source": [
    "## Exercice sur les fonctions\n",
    "\n",
    "Modifiez le programme météo en créant une fonction qui admet un des jours disponibles comme argument (aujourd'hui, demain, après-demain...)"
   ]
  },
  {
   "cell_type": "markdown",
   "metadata": {
    "slideshow": {
     "slide_type": "-"
    }
   },
   "source": [
    "<button data-toggle=\"collapse\" data-target=\"#meteo_json_func\" class='btn btn-primary'>Solution</button>\n",
    "\n",
    "<div id=\"meteo_json_func\" class=\"collapse\">\n",
    "Pas si vite ! Êtes-vous sûr ? Vraiment ?  \n",
    "Alors allez voir une proposition de solution dans `exos/meteo_json_func.py`."
   ]
  },
  {
   "cell_type": "markdown",
   "metadata": {
    "slideshow": {
     "slide_type": "slide"
    }
   },
   "source": [
    "## Exécution en script\n",
    "\n",
    "Pour pouvoir exécuter ce fichier en mode script\n",
    "\n",
    "- Ajouter en première ligne du fichier: `#! python3`\n",
    "- Rendez le fichier exécutable: `chmod a+x today_stras.py`"
   ]
  },
  {
   "cell_type": "code",
   "execution_count": null,
   "metadata": {},
   "outputs": [],
   "source": [
    "%run exos/meteo_json.py"
   ]
  },
  {
   "cell_type": "markdown",
   "metadata": {
    "slideshow": {
     "slide_type": "subslide"
    }
   },
   "source": [
    "Pour différencier du code devant s'exécuter en mode script (par opposition a un import du module) on utilise la variable `__name__` pour exécuter du code différent."
   ]
  },
  {
   "cell_type": "code",
   "execution_count": null,
   "metadata": {
    "slideshow": {
     "slide_type": "-"
    }
   },
   "outputs": [],
   "source": [
    "#! python3\n",
    "\n",
    "def main():\n",
    "    print('je suis dans un script')\n",
    "\n",
    "if __name__ == '__main__':\n",
    "    main()\n",
    "else:\n",
    "    # En mode module importé, on ne fait rien de plus\n",
    "    pass"
   ]
  },
  {
   "cell_type": "markdown",
   "metadata": {
    "slideshow": {
     "slide_type": "slide"
    }
   },
   "source": [
    "## Gestion des arguments\n",
    "\n",
    "Pour pouvoir passer des arguments en ligne de commande, on peut utiliser le module [``argparse``](https://docs.python.org/3/library/argparse.html).\n",
    "\n",
    "Un tutoriel est disponible [ici](https://docs.python.org/3/howto/argparse.html#argparse-tutorial)."
   ]
  },
  {
   "cell_type": "code",
   "execution_count": null,
   "metadata": {},
   "outputs": [],
   "source": [
    "import argparse\n",
    "\n",
    "parser = argparse.ArgumentParser(description='Process some integers.')\n",
    "parser.add_argument('integers', metavar='N', type=int, nargs='+',\n",
    "                    help='an integer for the accumulator')\n",
    "parser.add_argument('--sum', dest='accumulate', action='store_const',\n",
    "                    const=sum, default=max,\n",
    "                    help='sum the integers (default: find the max)')\n",
    "print(type(parser))"
   ]
  },
  {
   "cell_type": "code",
   "execution_count": null,
   "metadata": {},
   "outputs": [],
   "source": [
    "# Sans \"--sum\"\n",
    "args = parser.parse_args(['2', '5'])\n",
    "print(args.accumulate(args.integers))"
   ]
  },
  {
   "cell_type": "code",
   "execution_count": null,
   "metadata": {
    "slideshow": {
     "slide_type": "subslide"
    }
   },
   "outputs": [],
   "source": [
    "# Avec \"--sum\"\n",
    "args = parser.parse_args(['--sum', '2', '5'])\n",
    "print(args.accumulate(args.integers))\n"
   ]
  },
  {
   "cell_type": "code",
   "execution_count": null,
   "metadata": {},
   "outputs": [],
   "source": [
    "# Certains arguments existent déjà\n",
    "try:\n",
    "    parser.parse_args(['--help'])\n",
    "except SystemExit:\n",
    "    # Pour éviter une erreur dans jupyter-notebook\n",
    "    pass"
   ]
  },
  {
   "cell_type": "markdown",
   "metadata": {
    "slideshow": {
     "slide_type": "subslide"
    }
   },
   "source": [
    "## Exercice\n",
    "\n",
    "Modifiez le programme météo pour qu'il prenne le(s) nom(s) de ville en argument(s) en utilisant le module ``argparse``\n",
    "\n",
    "\n",
    "<button data-toggle=\"collapse\" data-target=\"#meteo_json_func_args\" class='btn btn-primary'>Solution</button>\n",
    "<div id=\"meteo_json_func_args\" class=\"collapse\">\n",
    "Pas si vite ! Êtes-vous sûr ? Vraiment ?  \n",
    "Alors allez voir une proposition de solution dans `exos/meteo_json_func_args.py`."
   ]
  },
  {
   "cell_type": "code",
   "execution_count": null,
   "metadata": {
    "slideshow": {
     "slide_type": "subslide"
    }
   },
   "outputs": [],
   "source": [
    "%run exos/meteo_json_func_args.py Nice -d 3"
   ]
  },
  {
   "cell_type": "markdown",
   "metadata": {
    "slideshow": {
     "slide_type": "subslide"
    }
   },
   "source": [
    "## Suite de l'exercice\n",
    "\n",
    "- Laissez libre cours à vos idées et envies, par exemple :\n",
    "    - en cherchant à tracer l'évolution horaire de la température dans les 5 prochains jours\n",
    "    - etc.\n",
    "\n",
    "- Dans Spyder :\n",
    "    - testez le système de debugging\n",
    "    - testez le profiler\n",
    "\n",
    "> À vous de faire la pluie et le beau temps !"
   ]
  }
 ],
 "metadata": {
  "celltoolbar": "Slideshow",
  "kernelspec": {
   "display_name": "Python 3",
   "language": "python",
   "name": "python3"
  },
  "language_info": {
   "codemirror_mode": {
    "name": "ipython",
    "version": 3
   },
   "file_extension": ".py",
   "mimetype": "text/x-python",
   "name": "python",
   "nbconvert_exporter": "python",
   "pygments_lexer": "ipython3",
   "version": "3.6.2"
  }
 },
 "nbformat": 4,
 "nbformat_minor": 1
}
