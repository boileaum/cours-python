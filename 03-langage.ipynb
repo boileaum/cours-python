{
 "cells": [
  {
   "cell_type": "markdown",
   "metadata": {
    "slideshow": {
     "slide_type": "slide"
    }
   },
   "source": [
    "# Le langage [2/3]\n",
    "\n",
    "- Opérateurs\n",
    "- Structures de contrôle\n",
    "- Fonctions\n",
    "- Exceptions & gestionnaires de contexte\n",
    "- Compréhensions de listes & expressions génératrices\n",
    "- Modules\n",
    "- Bonnes pratiques\n",
    "\n",
    "***\n",
    "\n",
    "*Contenu sous licence [CC BY-SA 4.0](https://creativecommons.org/licenses/by-sa/4.0), fortement inspiré de <https://fitzinger.pages.math.unistra.fr/formation-python/>*"
   ]
  },
  {
   "cell_type": "markdown",
   "metadata": {
    "slideshow": {
     "slide_type": "slide"
    }
   },
   "source": [
    "# Opérateurs\n",
    "\n",
    "## Arithmétiques\n",
    "\n",
    "```python\n",
    "+, -, *, /, //, %, **\n",
    "```\n",
    "Les classiques se comportent \"normalement\", pas besoin d'entrer dans les détails."
   ]
  },
  {
   "cell_type": "markdown",
   "metadata": {
    "slideshow": {
     "slide_type": "fragment"
    }
   },
   "source": [
    "### Particularités de la division :"
   ]
  },
  {
   "cell_type": "code",
   "execution_count": null,
   "metadata": {},
   "outputs": [],
   "source": [
    "# Avec des nombres entiers\n",
    "print(16 / 3)  # Quotient de la division euclidienne (produit un réel)\n",
    "print(16 // 3) # Quotient de la division euclidienne (produit un entier)\n",
    "print(16 % 3)  # Reste de la division euclidienne (produit un entier)\n",
    "\n",
    "# Avec des nombres flottants\n",
    "print(16. / 3)  # Division (produit un réel)\n",
    "print(16. // 3) # Quotient de la division (produit un réel)\n",
    "print(16. % 3)  # Reste de la division ou modulo (produit un réel)"
   ]
  },
  {
   "cell_type": "markdown",
   "metadata": {
    "slideshow": {
     "slide_type": "subslide"
    }
   },
   "source": [
    "### Puissance :"
   ]
  },
  {
   "cell_type": "code",
   "execution_count": null,
   "metadata": {},
   "outputs": [],
   "source": [
    "print(2 ** 10)\n",
    "# On peut aussi utiliser la fonction pow() du module math, mais celui-ci renvoie un réel...\n",
    "import math\n",
    "print(math.pow(2, 10))"
   ]
  },
  {
   "cell_type": "markdown",
   "metadata": {
    "slideshow": {
     "slide_type": "subslide"
    }
   },
   "source": [
    "## Logiques\n",
    " \n",
    "```python\n",
    "and, or, not\n",
    "```\n",
    "\n",
    "retournent une valeur booléenne.\n"
   ]
  },
  {
   "cell_type": "code",
   "execution_count": null,
   "metadata": {},
   "outputs": [],
   "source": [
    "print(True or False)\n",
    "print(True and False)\n",
    "print(not True)\n",
    "print(not False)\n",
    "print(not [])\n",
    "print(not (1, 2, 3))"
   ]
  },
  {
   "cell_type": "markdown",
   "metadata": {},
   "source": [
    "Attention, ce sont des opérateurs \"court-circuit\" :"
   ]
  },
  {
   "cell_type": "code",
   "execution_count": null,
   "metadata": {
    "collapsed": true
   },
   "outputs": [],
   "source": [
    "a = True\n",
    "b = False and a  # b vaut False sans que a soit évalué\n",
    "c = True or a    # c vaut True, sans que a soit évalué"
   ]
  },
  {
   "cell_type": "markdown",
   "metadata": {
    "slideshow": {
     "slide_type": "subslide"
    }
   },
   "source": [
    "Pour s'en convaincre :"
   ]
  },
  {
   "cell_type": "code",
   "execution_count": null,
   "metadata": {
    "slideshow": {
     "slide_type": "-"
    }
   },
   "outputs": [],
   "source": [
    "True or print(\"nicht a kurz schluss\")\n",
    "False and print(\"not a short circuit\")\n",
    "print('on a prouvé que ce sont des opérateurs \"court-circuit\"...')"
   ]
  },
  {
   "cell_type": "markdown",
   "metadata": {},
   "source": [
    "> **Exercice :** Modifiez les valeurs True et False dans la cellule précédente, pour visualiser le fonctionnement de ces opérateurs."
   ]
  },
  {
   "cell_type": "markdown",
   "metadata": {
    "slideshow": {
     "slide_type": "subslide"
    }
   },
   "source": [
    "## Comparaison\n",
    "\n",
    "```python\n",
    "==, is, !=, is not, >, >=, <, <=\n",
    "```\n",
    "L'évaluation de ces opérateurs retourne une valeur booléenne."
   ]
  },
  {
   "cell_type": "code",
   "execution_count": null,
   "metadata": {},
   "outputs": [],
   "source": [
    "print(2 == 2)\n",
    "print(2 != 2)\n",
    "print(2 == 2.0)\n",
    "print(type(2) is int)"
   ]
  },
  {
   "cell_type": "markdown",
   "metadata": {
    "slideshow": {
     "slide_type": "fragment"
    }
   },
   "source": [
    "On peut utiliser ces opérateurs avec des variables et des appels à des fonctions."
   ]
  },
  {
   "cell_type": "code",
   "execution_count": null,
   "metadata": {},
   "outputs": [],
   "source": [
    "x = 3\n",
    "print(1 > x)\n",
    "y = [0, 1, 42, 0]\n",
    "print(x <= max(y))\n",
    "print(x <= min(y))"
   ]
  },
  {
   "cell_type": "markdown",
   "metadata": {
    "slideshow": {
     "slide_type": "subslide"
    }
   },
   "source": [
    "On peut chaîner ces opérateurs, mais ils fonctionnent en mode \"court-circuit\" et l'opérande central n'est évaluée qu'une seule fois."
   ]
  },
  {
   "cell_type": "code",
   "execution_count": null,
   "metadata": {},
   "outputs": [],
   "source": [
    "x = 3\n",
    "print(2 < x <= 9) # équivalent à 2 < x and x <= 9"
   ]
  },
  {
   "cell_type": "markdown",
   "metadata": {
    "slideshow": {
     "slide_type": "fragment"
    }
   },
   "source": [
    "Attention : comparer des types non numériques peut avoir des résultats surprenants."
   ]
  },
  {
   "cell_type": "code",
   "execution_count": null,
   "metadata": {},
   "outputs": [],
   "source": [
    "# Chaînes de caractères\n",
    "print(\"aaa\" < \"abc\")\n",
    "print(\"aaa\" < \"aaaa\")\n",
    "print(\"22\" > \"3.0\")"
   ]
  },
  {
   "cell_type": "code",
   "execution_count": null,
   "metadata": {},
   "outputs": [],
   "source": [
    "# Listes\n",
    "print([1, 2, 3, 4] > [42, 42])\n",
    "print([666] > [42, 42])"
   ]
  },
  {
   "cell_type": "markdown",
   "metadata": {
    "slideshow": {
     "slide_type": "subslide"
    }
   },
   "source": [
    "Attention : comparer des types incompatibles peut avoir des résultats surprenants."
   ]
  },
  {
   "cell_type": "code",
   "execution_count": null,
   "metadata": {},
   "outputs": [],
   "source": [
    "# Cette cellule génère des erreurs\n",
    "print('chaîne:\\t', \"a\" < 2)\n",
    "print('liste:\\t', [\"zogzog\"] > 42)\n",
    "print('vide:\\t', [] > 1)\n",
    "print('tuple:\\t', [23, 24] >= (23, 24))\n",
    "print('dict:\\t', [23, 24] >= {23: True, 24: \"c'est pas faux\"})"
   ]
  },
  {
   "cell_type": "markdown",
   "metadata": {
    "slideshow": {
     "slide_type": "subslide"
    }
   },
   "source": [
    "Attention, l'égalité de valeur n'implique pas forcément que l'identité des objets comparés est la même."
   ]
  },
  {
   "cell_type": "code",
   "execution_count": null,
   "metadata": {},
   "outputs": [],
   "source": [
    "a = []\n",
    "b = []\n",
    "c = a\n",
    "\n",
    "print(a == b) # comparaison de valeur\n",
    "print(a is b) # test d'identité\n",
    "print('id(a) =', id(a))\n",
    "print('id(b) =', id(b))"
   ]
  },
  {
   "cell_type": "markdown",
   "metadata": {
    "slideshow": {
     "slide_type": "fragment"
    }
   },
   "source": [
    "Mais des variables différentes peuvent référencer le même objet."
   ]
  },
  {
   "cell_type": "code",
   "execution_count": null,
   "metadata": {},
   "outputs": [],
   "source": [
    "print(a == c) # comparaison de valeur\n",
    "print(a is c) # test d'identité"
   ]
  },
  {
   "cell_type": "markdown",
   "metadata": {
    "slideshow": {
     "slide_type": "subslide"
    }
   },
   "source": [
    "## bits à bits *(bitwise)*\n",
    "\n",
    "```python\n",
    "|, ^, &, <<, >>, ~\n",
    "```\n",
    "Ces opérateurs permettent de manipuler individuellement les bits d'un entier.\n",
    "\n",
    "Ce sont des opérations bas-niveau, souvent utilisées pour piloter directement du matériel, pour implémenter des protocoles de communication binaires (par exemple réseau ou disque).\n",
    "\n",
    "L'utilisation d'entiers comme ensemble de bits permet des encodages de données très compacts, un booléen (True, False) ne prendrait qu'un bit en mémoire, c'est a dire que l'on peut encoder 64 booléens dans un entier.\n",
    "\n",
    "Description complète [ici](https://wiki.python.org/moin/BitwiseOperators)."
   ]
  },
  {
   "cell_type": "code",
   "execution_count": null,
   "metadata": {
    "slideshow": {
     "slide_type": "subslide"
    }
   },
   "outputs": [],
   "source": [
    "val = 67 # == 64 + 2 + 1 == 2**6 + 2**1 + 2**0 == 0b1000011\n",
    "print(bin(val))\n",
    "\n",
    "mask = 1 << 0 # On veut récupérer le 1er bit\n",
    "print('le 1er  bit vaut', (val & mask) >> 0)\n",
    "\n",
    "mask = 1 << 1 # On veut récupérer le 2ème bit\n",
    "print('le 2ème bit vaut', (val & mask) >> 1)\n",
    "\n",
    "mask = 1 << 2 # On veut récupérer le 3ème bit\n",
    "print('le 3ème bit vaut', (val & mask) >> 2)\n",
    "\n",
    "mask = 1 << 6 # On veut récupérer le 7ème bit\n",
    "print('le 7ème bit vaut', (val & mask) >> 6)\n",
    "\n",
    "# Si on positionne le 4ème bit a 1 (on rajoute 2**3 = 8)\n",
    "newval = val | (1 << 3)\n",
    "print(newval)\n",
    "\n",
    "# Si on positionne le 6ème bit a 0 (on soustrait 2**7 = 64)\n",
    "print(newval & ~(1 << 6))"
   ]
  },
  {
   "cell_type": "markdown",
   "metadata": {
    "slideshow": {
     "slide_type": "subslide"
    }
   },
   "source": [
    "> **Exercice :** Retournez une chaîne de caractères représentant le nombre contenu dans ``var`` écrit en notation binaire.\n",
    "> Par exemple:\n",
    ">\n",
    ">    5 -> '101'  \n",
    ">    6 -> '110'  \n",
    ">    7 -> '111'  "
   ]
  },
  {
   "cell_type": "code",
   "execution_count": null,
   "metadata": {
    "collapsed": true
   },
   "outputs": [],
   "source": [
    "var = 7\n",
    "# votre code ici"
   ]
  },
  {
   "cell_type": "markdown",
   "metadata": {},
   "source": [
    "<button data-toggle=\"collapse\" data-target=\"#num2bin\" class='btn btn-primary'>Solution</button>\n",
    "<div id=\"num2bin\" class=\"collapse\">\n",
    "    \n",
    "```python\n",
    "# Solution simple :\n",
    "\n",
    "var = 7\n",
    "print((var >> 0) & 1, (var >> 1) & 1, (var >> 2) & 1)\n",
    "\n",
    "# Solution réutilisable :\n",
    "\n",
    "def num2bin(num):\n",
    "    ret = []\n",
    "    while num > 0:\n",
    "        ret.append(str(num & 1))\n",
    "        num >>= 1\n",
    "    return ''.join(reversed(ret))\n",
    "\n",
    "print(num2bin(6))\n",
    "print(num2bin(7))\n",
    "print(num2bin(8))\n",
    "print(num2bin(42))\n",
    "```"
   ]
  },
  {
   "cell_type": "markdown",
   "metadata": {
    "slideshow": {
     "slide_type": "subslide"
    }
   },
   "source": [
    "## Assignation augmentée\n",
    "\n",
    "\n",
    "```python\n",
    "+=, -=, /=\n",
    "```"
   ]
  },
  {
   "cell_type": "code",
   "execution_count": null,
   "metadata": {},
   "outputs": [],
   "source": [
    "a = 4\n",
    "a += 1  # <=> a = a + 1\n",
    "print(a)\n",
    "a //= 2\n",
    "print(a)\n",
    "a **= 3\n",
    "print(a)\n",
    "a %= 2\n",
    "print(a)"
   ]
  },
  {
   "cell_type": "markdown",
   "metadata": {
    "slideshow": {
     "slide_type": "subslide"
    }
   },
   "source": [
    "## Compatibilité de type, coercition de type\n",
    "\n",
    "Python effectue certaines conversions implicites, quand cela ne perd pas d'information (par ex. de entier court vers entier long)."
   ]
  },
  {
   "cell_type": "code",
   "execution_count": null,
   "metadata": {},
   "outputs": [],
   "source": [
    "print(1 + 0b1)\n",
    "print(1 + 1.0)\n",
    "print(1.0 + 2 + 0b11 + 4j)"
   ]
  },
  {
   "cell_type": "markdown",
   "metadata": {
    "slideshow": {
     "slide_type": "subslide"
    }
   },
   "source": [
    "Mais dans d'autres cas, la conversion doit être explicite."
   ]
  },
  {
   "cell_type": "code",
   "execution_count": null,
   "metadata": {},
   "outputs": [],
   "source": [
    "# Cette cellule génère une erreur\n",
    "print(type('1' + '1'))\n",
    "print(type(1 + int('1')))\n",
    "print(type(int('1' + '1')))\n"
   ]
  },
  {
   "cell_type": "markdown",
   "metadata": {
    "slideshow": {
     "slide_type": "-"
    }
   },
   "source": [
    "> **Exercice** :\n",
    ">\n",
    "> Sans enlever le '+':\n",
    ">\n",
    "> 1. Corrigez le code de la cellule ci dessus, afin d'afficher la chaine 11\n",
    "> 2. Corrigez le code de la cellule ci dessus, afin d'afficher le nombre 2\n",
    "> 3. Corrigez le code de la cellule ci dessus, afin d'afficher le nombre 11"
   ]
  },
  {
   "cell_type": "markdown",
   "metadata": {},
   "source": [
    "<button data-toggle=\"collapse\" data-target=\"#type_conv\" class='btn btn-primary'>Solution</button>\n",
    "<div id=\"type_conv\" class=\"collapse\">\n",
    "```python\n",
    "# Exercice 1.\n",
    "print('1' + '1')    # On rajoute les apostrophes manquantes\n",
    "print(str(1) + '1') # On convertit en chaîne\n",
    "print('' + '11')    # On déplace le 1\n",
    "\n",
    "# Encore plus sioux, on joue avec l'encoding\n",
    "print(chr(ord('0') + 1) + '1')\n",
    "\n",
    "# Exercice 2.\n",
    "print(1 + 1)        # On enlève les apostrophes\n",
    "print(1 + int('1')) # On convertit en entier\n",
    "\n",
    "# Exercice 3.\n",
    "print(int('1' + '1')) # On fait les deux\n",
    "print(10 + 1)         # On improvise \n",
    "```"
   ]
  },
  {
   "cell_type": "markdown",
   "metadata": {
    "slideshow": {
     "slide_type": "subslide"
    }
   },
   "source": [
    "## Priorité des opérateurs\n",
    "\n",
    "Les opérateurs ont en python des priorités classiques.\n",
    "\n",
    "Par exemple, dans l'ordre :\n",
    "\n",
    "1. puissance : ``**``\n",
    "- multiplication, division : ``*`` et ``/``\n",
    "- addition, soustraction : ``+`` et ``-``\n",
    "\n",
    "etc...\n",
    "\n",
    "Utilisez des parenthèses quand cela aide à la lisibilité et à la clarté.\n",
    "\n",
    "Une priorité explicitée avec des parenthèses est souvent plus facile à relire que s'il n'y en a pas et qu'il faut se remémorer les règles.\n",
    "\n",
    "Pour plus d'informations, voir [ici](https://docs.python.org/3/reference/expressions.html)"
   ]
  },
  {
   "cell_type": "markdown",
   "metadata": {
    "slideshow": {
     "slide_type": "slide"
    }
   },
   "source": [
    "# Structures de contrôle\n",
    "\n",
    "- La mise en page comme syntaxe\n",
    "- ``pass``\n",
    "- tests conditionels : ``if/elif/else``\n",
    "- boucles\n",
    "\t* ``for elt in liste``\n",
    "    * ``for idx in range(len(liste))``\n",
    "\t* ``while``\n",
    "\t* ``break``\n",
    "\t* ``continue``"
   ]
  },
  {
   "cell_type": "markdown",
   "metadata": {
    "slideshow": {
     "slide_type": "slide"
    }
   },
   "source": [
    "## La mise en page comme syntaxe\n",
    "\n",
    "- La mise en page est importante en python, c'est une différence majeure avec les autres langages (Java, C++, etc.)\n",
    "- Python utilise l'indentation du code avec des caractères blancs (TAB ou ESPACE) plutôt que des mots clés (begin/end en pascal) ou des symboles (``{}`` en java et C++). Cela permet de rendre le code plus compact.\n",
    "- Elle va servir a délimiter des blocs de code sur lesquels les structures de contrôle comme les boucles ou les tests de conditions vont s'appliquer.\n",
    "- De toute façon, dans les autres langages, on indente aussi le code pour l'aspect visuel et la lisibilité.\n",
    "- L'indentation faisant partie de la syntaxe du langage, il faut y préter une grande attention, et être rigoureux quant au mélange de caractères blancs TAB et ESPACE. Car cela peut conduire à des erreurs à l'exécution voire des comportements erratiques."
   ]
  },
  {
   "cell_type": "code",
   "execution_count": null,
   "metadata": {
    "slideshow": {
     "slide_type": "subslide"
    }
   },
   "outputs": [],
   "source": [
    "if True:\n",
    "    print(\"toutes\")\n",
    "    print(\"les\")\n",
    "    print(\"lignes\")\n",
    "    print(\"au même niveau d'indentation forment un bloc de code\")\n",
    "print('et quand on remonte, on \"termine\" un bloc de code')"
   ]
  },
  {
   "cell_type": "markdown",
   "metadata": {},
   "source": [
    "> **Exercice** : changez le True en False, et observez quelles lignes de code ne sont plus exécutées."
   ]
  },
  {
   "cell_type": "markdown",
   "metadata": {
    "slideshow": {
     "slide_type": "slide"
    }
   },
   "source": [
    "# ``Pass``\n",
    "\n",
    "En cas de besoin d'un bloc de code qui ne fait rien, on utilise le mot clé ``pass`` (équivalent à NOP ou NO-OP)"
   ]
  },
  {
   "cell_type": "markdown",
   "metadata": {
    "slideshow": {
     "slide_type": "-"
    }
   },
   "source": [
    "#### Exemple : une boucle infinie\n",
    "\n",
    "```python\n",
    "condition = True\n",
    "while condition:\n",
    "    pass\n",
    "```\n",
    "> (à ne pas exécuter sous peine de bloquer le noyau de ce notebook)"
   ]
  },
  {
   "cell_type": "markdown",
   "metadata": {
    "slideshow": {
     "slide_type": "slide"
    }
   },
   "source": [
    "## Tests conditionnels\n",
    "\n",
    "Les instructions ``if/elif/else`` permettent d'exécuter des blocs d'instructions en fonction de conditions : \n",
    "\n",
    "```python\n",
    "if test1:\n",
    "    <bloc d instructions 1>\n",
    "elif test2:\n",
    "    <bloc d instructions 2>\n",
    "else:\n",
    "    <bloc d instructions 3>\n",
    "```\n",
    "  Pour les connaisseurs ``elif`` est similaire au ``switch`` en C et C++..."
   ]
  },
  {
   "cell_type": "code",
   "execution_count": null,
   "metadata": {},
   "outputs": [],
   "source": [
    "if True:\n",
    "    print(\"c'est vrai!\")"
   ]
  },
  {
   "cell_type": "code",
   "execution_count": null,
   "metadata": {},
   "outputs": [],
   "source": [
    "if False:\n",
    "    print(\"je suis caché!\")\n",
    "else:\n",
    "    print(\"mais moi je suis en pleine lumière...\")"
   ]
  },
  {
   "cell_type": "code",
   "execution_count": null,
   "metadata": {
    "slideshow": {
     "slide_type": "subslide"
    }
   },
   "outputs": [],
   "source": [
    "# Pour cet exemple, on itère sur les éléments d'un tuple (cf. boucle for plus loin)\n",
    "for position in 2, 9, 3, 1, 8:\n",
    "    if position == 1:\n",
    "        print(position, \"Or\")\n",
    "    elif position == 2:\n",
    "        print(position, \"Argent\")\n",
    "    elif position == 3:\n",
    "        print(position, \"Bronze\")\n",
    "    else:\n",
    "        print(position, \"Vestiaires\")"
   ]
  },
  {
   "cell_type": "code",
   "execution_count": null,
   "metadata": {
    "slideshow": {
     "slide_type": "subslide"
    }
   },
   "outputs": [],
   "source": [
    "taille = float(input(\"Votre taille ? \"))\n",
    "if taille >= 1.70: # La taille moyenne en France\n",
    "    print('grand')\n",
    "else:\n",
    "    print('petit')"
   ]
  },
  {
   "cell_type": "markdown",
   "metadata": {},
   "source": [
    "> **Exercices** :\n",
    ">\n",
    "> 1. Editez la cellule pour y mettre votre taille et exécutez-la pour savoir si vous êtes grand ou petit.\n",
    "> 2. Gérez le cas des gens de taille moyenne.\n",
    "> 3. Utilisez la fonction input() pour demander sa taille à l'utilisateur."
   ]
  },
  {
   "cell_type": "markdown",
   "metadata": {},
   "source": [
    "<button data-toggle=\"collapse\" data-target=\"#exo_taille\" class='btn btn-primary'>Solution</button>\n",
    "<div id=\"exo_taille\" class=\"collapse\">\n",
    "    \n",
    "```python\n",
    "taille = float(input('Quelle est votre taille ? '))\n",
    "\n",
    "if taille >= 2.0:\n",
    "    print('grand')\n",
    "elif taille >= 1.70: # La taille moyenne en France\n",
    "    print('moyen')\n",
    "else:\n",
    "    print('petit')\n",
    "```"
   ]
  },
  {
   "cell_type": "markdown",
   "metadata": {
    "slideshow": {
     "slide_type": "slide"
    }
   },
   "source": [
    "# Boucles\n",
    "\n",
    "Les boucles sont les structures de contrôle permettant de répéter l'exécution d'un bloc de code plusieurs fois."
   ]
  },
  {
   "cell_type": "markdown",
   "metadata": {},
   "source": [
    "## Boucle ``while``\n",
    "\n",
    "La plus simple est la boucle de type ``while`` :\n",
    "\n",
    "```python\n",
    "while <condition>:\n",
    "    <bloc 1>\n",
    "<bloc 2>\n",
    "```\n",
    "Tant que ``<condition>`` est True, le ``<bloc 1>`` est exécuté, quand la condition passe à False, l'exécution continue au ``<bloc 2>``."
   ]
  },
  {
   "cell_type": "code",
   "execution_count": null,
   "metadata": {},
   "outputs": [],
   "source": [
    "compteur = 3\n",
    "while compteur > 0:\n",
    "    print('le compteur vaut :', compteur)\n",
    "    compteur -= 1\n",
    "print('le compteur a été décrémenté 3 fois et vaut maintenant', compteur)"
   ]
  },
  {
   "cell_type": "markdown",
   "metadata": {
    "slideshow": {
     "slide_type": "subslide"
    }
   },
   "source": [
    "> **Exercice** :\n",
    ">\n",
    "> 1. Ecrivez une boucle ``while`` qui décompte les secondes pour la soirée du réveillon.\n",
    "> 2. Allez voir [par ici](https://docs.python.org/3/library/time.html#time.sleep) pour passer le temps..."
   ]
  },
  {
   "cell_type": "code",
   "execution_count": null,
   "metadata": {},
   "outputs": [],
   "source": [
    "import time\n",
    "# Votre code ici"
   ]
  },
  {
   "cell_type": "markdown",
   "metadata": {},
   "source": [
    "<button data-toggle=\"collapse\" data-target=\"#decompte\" class='btn btn-primary'>Solution</button>\n",
    "<div id=\"decompte\" class=\"collapse\">\n",
    "\n",
    "```python\n",
    "import time\n",
    "\n",
    "secs = 10\n",
    "\n",
    "while secs >= 0:\n",
    "    print(str(secs))\n",
    "    secs -= 1\n",
    "    time.sleep(1)\n",
    "\n",
    "print('Happy new year !')\n",
    "```"
   ]
  },
  {
   "cell_type": "markdown",
   "metadata": {
    "slideshow": {
     "slide_type": "subslide"
    }
   },
   "source": [
    "## Boucle ``for``\n",
    "\n",
    "Une boucle plus complexe : ``for/in``\n",
    "\n",
    "```python\n",
    "for <variable> in <iterable>:\n",
    "    <bloc 1>\n",
    "<bloc 2>\n",
    "```\n",
    "\n",
    "A chaque tour de boucle, la variable ``<variable>`` va référencer un des éléménts de l'``<iterable>``. La boucle s'arrête quand tous les éléménts de l'itérable ont été traités. Il est fortement déconseillé de modifier l'itérable en question dans le ``<bloc 1>``."
   ]
  },
  {
   "cell_type": "code",
   "execution_count": null,
   "metadata": {},
   "outputs": [],
   "source": [
    "invites = ('Aline', 'Bernard', 'Céline', 'Dédé')\n",
    "for invite in invites:\n",
    "    print('Bonjour {}, bienvenue à la soirée de gala !'.format(invite))\n",
    "print('Maintenant tout le monde à été bien accueilli...')"
   ]
  },
  {
   "cell_type": "markdown",
   "metadata": {},
   "source": [
    "> **Exercice** : Rajoutez des invités à la fête. Vérifiez que tout le monde est accueilli correctement."
   ]
  },
  {
   "cell_type": "code",
   "execution_count": null,
   "metadata": {
    "slideshow": {
     "slide_type": "subslide"
    }
   },
   "outputs": [],
   "source": [
    "# Maintenant, si nous avons reçu des réponses à notre invitation et stocké ceux qui ne peuvent pas venir\n",
    "invites = {'Aline': True, 'Bernard': False, 'Céline': True, 'Dédé': True}\n",
    "for (personne, presence) in invites.items():\n",
    "    if presence:\n",
    "        print('Bonjour {}, bienvenue à la soirée de gala !'.format(personne))\n",
    "    else:\n",
    "        print('Malheureusement, {} ne sera pas avec nous ce soir.'.format(personne))\n",
    "print('Maintenant tout le monde à été bien accueilli ou excusé...')"
   ]
  },
  {
   "cell_type": "markdown",
   "metadata": {},
   "source": [
    "> **Exercice** : Rajoutez des invités à la fête. Certains ayant répondu qu'ils ne pourraient pas venir. Vérifiez que tout le monde est accueilli ou excusé correctement."
   ]
  },
  {
   "cell_type": "markdown",
   "metadata": {
    "slideshow": {
     "slide_type": "subslide"
    }
   },
   "source": [
    "Si nous voulons itérer sur une liste mais avons besoin des indices liés a chaque élément, nous utilisons une combinaison de [``range()``](https://docs.python.org/3/library/functions.html#func-range) et [``len()``](https://docs.python.org/3/library/functions.html#len)."
   ]
  },
  {
   "cell_type": "code",
   "execution_count": null,
   "metadata": {},
   "outputs": [],
   "source": [
    "nombres = [2, 4, 8, 6, 8, 1, 0, 1j]\n",
    "print(list(range(len(nombres))))\n",
    "for idx in range(len(nombres)):\n",
    "    nombres[idx] **= 2\n",
    "# Les carrés\n",
    "print(nombres)"
   ]
  },
  {
   "cell_type": "markdown",
   "metadata": {
    "slideshow": {
     "slide_type": "fragment"
    }
   },
   "source": [
    "Il existe une forme raccourcie pour faire ce genre de choses, la fonction interne [``enumerate()``](https://docs.python.org/3/library/functions.html#enumerate)"
   ]
  },
  {
   "cell_type": "code",
   "execution_count": null,
   "metadata": {},
   "outputs": [],
   "source": [
    "nombres = [2, 4, 8, 6, 8, 1, 0]\n",
    "for (idx, item) in enumerate(nombres):\n",
    "    nombres[idx] = bool(item % 2)\n",
    "# Les impairs\n",
    "print(nombres)"
   ]
  },
  {
   "cell_type": "markdown",
   "metadata": {
    "slideshow": {
     "slide_type": "subslide"
    }
   },
   "source": [
    "### Note :\n",
    "\n",
    "La fonction interne [``range()``](https://docs.python.org/3/library/functions.html#func-range) retourne un itérateur. C'est un objet qui se comporte comme une liste sans pour autant allouer la mémoire nécessaire au stockage de tous ses éléments. Le coût de création d'une vraie liste augmente avec sa taille (son empreinte mémoire aussi !).\n",
    "\n",
    "#### Note de la note :\n",
    "\n",
    "En Python version 2.x, Il existait deux versions de cette fonctionnalité: ``range()`` et ``xrange()``. La première retournait une vraie liste, allouée complètement, alors que ``xrange()`` retournait un itérateur."
   ]
  },
  {
   "cell_type": "code",
   "execution_count": null,
   "metadata": {
    "slideshow": {
     "slide_type": "-"
    }
   },
   "outputs": [],
   "source": [
    "print(type(range(3))) # Like xrange() in python2\n",
    "print(repr(range(3))) # Like xrange() in python2\n",
    "print(type(list(range(3)))) # Like range in python2"
   ]
  },
  {
   "cell_type": "markdown",
   "metadata": {
    "slideshow": {
     "slide_type": "subslide"
    }
   },
   "source": [
    "## Instruction ``break``\n",
    "\n",
    "Il est possible d'arrêter prématurément une boucle grâce a l'instruction ``break``.\n",
    "\n",
    "L'instruction ``break`` est utilisable indifférement dans les boucles ``for`` ou ``while``. "
   ]
  },
  {
   "cell_type": "code",
   "execution_count": null,
   "metadata": {},
   "outputs": [],
   "source": [
    "compteur = 3\n",
    "while True:  # Notre boucle infinie\n",
    "    compteur -= 1\n",
    "    print('Dans la boucle infinie! compteur =', compteur)\n",
    "    if compteur <= 0:\n",
    "        break  # On sort de la boucle while immédiatement\n",
    "    print('on contine, compteur =', compteur)\n",
    "print(\"c'était pas vraiment une boucle infinie...\")"
   ]
  },
  {
   "cell_type": "markdown",
   "metadata": {
    "slideshow": {
     "slide_type": "subslide"
    }
   },
   "source": [
    "En cas d'imbrication de plusieurs boucles, l'instruction ``break`` sort de la plus imbriquée (la plus proche)."
   ]
  },
  {
   "cell_type": "code",
   "execution_count": null,
   "metadata": {},
   "outputs": [],
   "source": [
    "for i in (1, 2, 3):\n",
    "    for j in (1, 2, 3, 4):\n",
    "        if i == 2:\n",
    "            break\n",
    "        print(\"i, j = %d, %d\" % (i, j))"
   ]
  },
  {
   "cell_type": "markdown",
   "metadata": {
    "slideshow": {
     "slide_type": "subslide"
    }
   },
   "source": [
    "## Instruction ``continue``\n",
    "\n",
    "Si, dans une boucle, on veut passer immédiatement à l'itération suivante, on utilise l'instruction ``continue``."
   ]
  },
  {
   "cell_type": "code",
   "execution_count": null,
   "metadata": {},
   "outputs": [],
   "source": [
    "compteur = 9\n",
    "while compteur > 0:\n",
    "    compteur -= 1\n",
    "    if compteur % 2:\n",
    "        compteur /= 2\n",
    "        print('impair, on divise :', compteur)\n",
    "        continue # retourne immédiatement au début de la boucle\n",
    "    print(\"pair, RAS\")\n",
    "print(\"c'est fini...\")"
   ]
  },
  {
   "cell_type": "markdown",
   "metadata": {
    "slideshow": {
     "slide_type": "slide"
    }
   },
   "source": [
    "# Fonctions\n",
    "\n",
    "Les fonctions permettent de réutiliser des blocs de code plusieurs endroits différents sans avoir a copier ce bloc.\n",
    "\n",
    "En python, il n'y a pas de notion de sous-routine. Les procédures sont gérées par les objets de type fonctions, avec ou sans valeur de retour.\n",
    "\n",
    "```python\n",
    "def <nom fonction>(arg1, arg2, ...):\n",
    "    <bloc d instructions>\n",
    "    return <valeur>  # Instruction optionnelle\n",
    "```\n",
    "On distingue :\n",
    "\n",
    "- les fonctions avec ``return`` des fonctions sans ``return``\n",
    "- les fonctions sans arguments (pour lesquelles ``()`` est vide) des fonctions avec arguments ``(arg1, arg2, ...)``"
   ]
  },
  {
   "cell_type": "markdown",
   "metadata": {
    "slideshow": {
     "slide_type": "slide"
    }
   },
   "source": [
    "## Fonctions sans arguments\n",
    "\n",
    "### Fonction sans ``return``"
   ]
  },
  {
   "cell_type": "markdown",
   "metadata": {},
   "source": [
    "Pour définir une fonction :"
   ]
  },
  {
   "cell_type": "code",
   "execution_count": null,
   "metadata": {
    "collapsed": true
   },
   "outputs": [],
   "source": [
    "def func():  # Definition de la fonction\n",
    "    print('You know what?')\n",
    "    print(\"I'm happy!\")"
   ]
  },
  {
   "cell_type": "markdown",
   "metadata": {},
   "source": [
    "Pour utiliser une fonction que l'on a défini :"
   ]
  },
  {
   "cell_type": "code",
   "execution_count": null,
   "metadata": {
    "collapsed": true
   },
   "outputs": [],
   "source": [
    "func()  # 1er Appel de la fonction\n",
    "func()  # 2eme appel\n",
    "func()  # 3eme appel, etc..."
   ]
  },
  {
   "cell_type": "markdown",
   "metadata": {
    "slideshow": {
     "slide_type": "subslide"
    }
   },
   "source": [
    "> **Exercice** : Ecrivez une fonction nommée \"rien\" qui ne fait rien et appelez là deux fois."
   ]
  },
  {
   "cell_type": "code",
   "execution_count": null,
   "metadata": {
    "collapsed": true
   },
   "outputs": [],
   "source": [
    "# Votre code ici"
   ]
  },
  {
   "cell_type": "markdown",
   "metadata": {},
   "source": [
    "<button data-toggle=\"collapse\" data-target=\"#pass\" class='btn btn-primary'>Solution</button>\n",
    "<div id=\"pass\" class=\"collapse\">\n",
    "\n",
    "```python\n",
    "def rien():\n",
    "    pass\n",
    "\n",
    "rien()\n",
    "rien()\n",
    "```"
   ]
  },
  {
   "cell_type": "markdown",
   "metadata": {
    "slideshow": {
     "slide_type": "subslide"
    }
   },
   "source": [
    "### Fonction avec ``return``"
   ]
  },
  {
   "cell_type": "code",
   "execution_count": null,
   "metadata": {
    "collapsed": true
   },
   "outputs": [],
   "source": [
    "def func():  # Definition de la fonction\n",
    "    return \"I'm happy\"  # La fonction retourne une chaine de caractère\n",
    "\n",
    "print(\"1er appel:\")\n",
    "func()  # 1er Appel de la fonction : la valeur retournée n'est pas utilisée\n",
    "print(\"2eme appel:\")\n",
    "ret_val = func()  # Le retour du 2eme appel est stocké\n",
    "print(\"La fonction func() nous a renvoyé la valeur:\", ret_val)"
   ]
  },
  {
   "cell_type": "markdown",
   "metadata": {},
   "source": [
    "> **Exercice** : Ecrivez une fonction nommée \"donne_rien\" qui retourne la chaine de caractères 'rien'. Appelez-là et affichez sa valeur de retour."
   ]
  },
  {
   "cell_type": "code",
   "execution_count": null,
   "metadata": {},
   "outputs": [],
   "source": [
    "# Votre code ici"
   ]
  },
  {
   "cell_type": "markdown",
   "metadata": {},
   "source": [
    "<button data-toggle=\"collapse\" data-target=\"#donne_rien\" class='btn btn-primary'>Solution</button>\n",
    "<div id=\"donne_rien\" class=\"collapse\">\n",
    "   \n",
    "```python\n",
    "def donne_rien():\n",
    "    return 'rien'\n",
    "\n",
    "print(donne_rien())\n",
    "```"
   ]
  },
  {
   "cell_type": "markdown",
   "metadata": {
    "slideshow": {
     "slide_type": "slide"
    }
   },
   "source": [
    "## Fonctions avec arguments\n",
    "\n",
    "Pour définir une fonction qui prend des arguments, on leur donne juste des noms entre les parenthèses de la ligne ``def``. Ces paramètres seront définis comme des variables à l'intérieur de la fonction et recevrons les valeurs passées lors des appels de celle-ci."
   ]
  },
  {
   "cell_type": "code",
   "execution_count": null,
   "metadata": {
    "collapsed": true
   },
   "outputs": [],
   "source": [
    "def somme(x, y):\n",
    "    return x + y"
   ]
  },
  {
   "cell_type": "markdown",
   "metadata": {},
   "source": [
    "Pour utiliser cette fonction avec diverses valeurs, il suffit de l'appeler plusieurs fois :"
   ]
  },
  {
   "cell_type": "code",
   "execution_count": null,
   "metadata": {
    "collapsed": true
   },
   "outputs": [],
   "source": [
    "print(somme(1, 2))\n",
    "print(somme(4, 7))\n",
    "print(somme(2 + 2, 7))\n",
    "print(somme(somme(2, 2), 7))"
   ]
  },
  {
   "cell_type": "markdown",
   "metadata": {
    "slideshow": {
     "slide_type": "subslide"
    }
   },
   "source": [
    "> **Exercice** : Définissez une fonction nommée \"chevalier\", qui prend un paramètre, et qui répète (avec ``print``) la chaîne de caractères 'Ni!' ce nombre de fois, et appelez cette fonction pour vérifier que ce ``chevalier(3)`` dit bien Ni trois fois comme il convient !\n",
    "\n",
    "Voici quelques exemples montrant comment cette fonction doit se comporter:\n",
    "\n",
    "    chevalier(1)\n",
    "    Ni!\n",
    "    chevalier(3)\n",
    "    Ni!Ni!Ni!\n",
    "    chevalier(6)\n",
    "    Ni!Ni!Ni!Ni!Ni!Ni!"
   ]
  },
  {
   "cell_type": "code",
   "execution_count": null,
   "metadata": {
    "collapsed": true
   },
   "outputs": [],
   "source": [
    "# Votre code ici"
   ]
  },
  {
   "cell_type": "code",
   "execution_count": null,
   "metadata": {},
   "outputs": [],
   "source": [
    "# Vérifions que tout fonctionne bien:\n",
    "chevalier(1)\n",
    "chevalier(3)\n",
    "chevalier(6)"
   ]
  },
  {
   "cell_type": "markdown",
   "metadata": {},
   "source": [
    "<button data-toggle=\"collapse\" data-target=\"#chevalier\" class='btn btn-primary'>Solution</button>\n",
    "<div id=\"chevalier\" class=\"collapse\">\n",
    "\n",
    "```python\n",
    "def chevalier(repetitions):\n",
    "    print('Ni!' * repetitions)\n",
    "\n",
    "chevalier(3)\n",
    "```"
   ]
  },
  {
   "cell_type": "markdown",
   "metadata": {
    "slideshow": {
     "slide_type": "subslide"
    }
   },
   "source": [
    "> **Exercice** : Ecrivez une autre fonction, nommée \"chevalier_ret\", qui prend deux paramètres : un nombre et un booléen, et qui retourne une chaine de caractères constituée du nombre de répétitions de la chaine 'ni!' ou 'NI!' en fonction du paramètre booléen. Appelez cette fonction et affichez sa valeur de retour.\n",
    "\n",
    "Voici quelques exemples montrant comment cette fonction doit se comporter:\n",
    "\n",
    "    a = chevalier(1, True)\n",
    "    print(a)\n",
    "    NI!\n",
    "    a = chevalier(3, False)\n",
    "    print(a)\n",
    "    ni!ni!ni!\n",
    "    a = chevalier(6, True)\n",
    "    print(a)\n",
    "    NI!NI!NI!NI!NI!NI!"
   ]
  },
  {
   "cell_type": "code",
   "execution_count": null,
   "metadata": {
    "collapsed": true
   },
   "outputs": [],
   "source": [
    "# Votre code ici"
   ]
  },
  {
   "cell_type": "code",
   "execution_count": null,
   "metadata": {},
   "outputs": [],
   "source": [
    "# Vérifions que tout fonctionne bien:\n",
    "a = chevalier_ret(1, True)\n",
    "print(a)\n",
    "a = chevalier_ret(3, False)\n",
    "print(a)\n",
    "a = chevalier_ret(6, True)\n",
    "print(a)"
   ]
  },
  {
   "cell_type": "markdown",
   "metadata": {},
   "source": [
    "<button data-toggle=\"collapse\" data-target=\"#chevalier_ret\" class='btn btn-primary'>Solution</button>\n",
    "<div id=\"chevalier_ret\" class=\"collapse\">\n",
    "\n",
    "```python\n",
    "def chevalier_ret(repetitions, cri=False):\n",
    "    if cri:\n",
    "        ret = 'NI!'\n",
    "    else:\n",
    "        ret = 'ni!'\n",
    "    return ret * repetitions\n",
    "\n",
    "print(chevalier_ret(3, True))\n",
    "```"
   ]
  },
  {
   "cell_type": "markdown",
   "metadata": {
    "slideshow": {
     "slide_type": "subslide"
    }
   },
   "source": [
    "### Utilisation de valeurs par défaut"
   ]
  },
  {
   "cell_type": "code",
   "execution_count": null,
   "metadata": {
    "collapsed": true
   },
   "outputs": [],
   "source": [
    "def somme(x, y=1):\n",
    "    return x + y\n",
    "\n",
    "print(somme(1, 2))\n",
    "print(somme(4))  # Si la valeur de y n'est pas spécifiée, le paramètre 'y' prend la valeur par défaut (ici : 1)"
   ]
  },
  {
   "cell_type": "markdown",
   "metadata": {},
   "source": [
    "**Note :** Les arguments ayant une valeur par défaut doivent être placés en dernier."
   ]
  },
  {
   "cell_type": "markdown",
   "metadata": {
    "slideshow": {
     "slide_type": "fragment"
    }
   },
   "source": [
    "### Utilisation des arguments par leur nom"
   ]
  },
  {
   "cell_type": "code",
   "execution_count": null,
   "metadata": {
    "collapsed": true
   },
   "outputs": [],
   "source": [
    "print(somme(y=7, x=4)) # L'ordre peut être changé lors de l'appel si les arguments sont nommés"
   ]
  },
  {
   "cell_type": "markdown",
   "metadata": {
    "slideshow": {
     "slide_type": "slide"
    }
   },
   "source": [
    "### Capture d'arguments non définis\n",
    "\n",
    "#### Dans un tuple"
   ]
  },
  {
   "cell_type": "code",
   "execution_count": null,
   "metadata": {
    "collapsed": true,
    "scrolled": false
   },
   "outputs": [],
   "source": [
    "def fonc(*args):\n",
    "    print(type(args))\n",
    "    print(args)  # args est un tuple dont les éléments sont les arguments passés lors de l'appel\n",
    "\n",
    "fonc(\"n'importe\", \"quel nombre et type de\", \"paramètres\", 5, [1, 'toto'], None)"
   ]
  },
  {
   "cell_type": "markdown",
   "metadata": {
    "slideshow": {
     "slide_type": "fragment"
    }
   },
   "source": [
    "#### Dans un dictionnaire"
   ]
  },
  {
   "cell_type": "code",
   "execution_count": null,
   "metadata": {
    "collapsed": true,
    "slideshow": {
     "slide_type": "-"
    }
   },
   "outputs": [],
   "source": [
    "def fonc(**kwargs):\n",
    "    print(type(kwargs))\n",
    "    print(kwargs)  # kwargs est un dictionnaire dont les éléments sont les arguments nommés passés lors de l'appel\n",
    "    \n",
    "fonc(x=1, y=2, couleur='rouge', epaisseur=2)  "
   ]
  },
  {
   "cell_type": "markdown",
   "metadata": {
    "slideshow": {
     "slide_type": "subslide"
    }
   },
   "source": [
    "On peut combiner ce type d'arguments pour une même fonction :"
   ]
  },
  {
   "cell_type": "code",
   "execution_count": null,
   "metadata": {
    "collapsed": true
   },
   "outputs": [],
   "source": [
    "def fonc(n, *args, **kwargs):  # cet ordre est important\n",
    "    print(\"n =\", n)\n",
    "    print(\"args =\", args)\n",
    "    print(\"kwargs =\", kwargs)\n",
    "    \n",
    "fonc(2, 'spam', 'egg', x=1, y=2, couleur='rouge', epaisseur=2)  "
   ]
  },
  {
   "cell_type": "markdown",
   "metadata": {},
   "source": [
    "**Note** : les noms `args` et `kwargs` ne sont que des conventions (à respecter, toutefois !), seul le caractère `*` est important."
   ]
  },
  {
   "cell_type": "markdown",
   "metadata": {
    "slideshow": {
     "slide_type": "subslide"
    }
   },
   "source": [
    "### *Packing/unpacking*\n",
    "\n",
    "La syntaxe `*args` dans la définition de la fonction correspond à une opération de *packing* : Python transforme une séquence de variables en tuple.\n",
    "L'inverse existe : ça s'appelle l'*unpacking*.\n",
    "\n",
    "Le *packing/unpacking* se pratique déjà par la manipulation des tuples :"
   ]
  },
  {
   "cell_type": "code",
   "execution_count": null,
   "metadata": {
    "collapsed": true
   },
   "outputs": [],
   "source": [
    "trio = \"sax\", \"drums\", \"bass\"  # packing\n",
    "you, her, him = trio           # unpacking\n",
    "print(you, her, him)"
   ]
  },
  {
   "cell_type": "markdown",
   "metadata": {
    "slideshow": {
     "slide_type": "fragment"
    }
   },
   "source": [
    "Il peut également se pratiquer dans le passage d'arguments de fonction"
   ]
  },
  {
   "cell_type": "code",
   "execution_count": null,
   "metadata": {
    "collapsed": true
   },
   "outputs": [],
   "source": [
    "def fonc(*args):\n",
    "    print(args)\n",
    "\n",
    "fonc(you, her, him)  # On liste directement les arguments\n",
    "fonc(*trio)          # On \"unpack\" un tuple"
   ]
  },
  {
   "cell_type": "markdown",
   "metadata": {
    "slideshow": {
     "slide_type": "subslide"
    }
   },
   "source": [
    "Et de la même façon pour un dictionnaire :"
   ]
  },
  {
   "cell_type": "code",
   "execution_count": null,
   "metadata": {
    "collapsed": true
   },
   "outputs": [],
   "source": [
    "def fonc(**kwargs):\n",
    "    print(kwargs)\n",
    "\n",
    "trio_dict = {\"sax\": \"you\", \"drums\": \"her\", \"bass\": \"him\"}\n",
    "fonc(sax=\"you\", drums=\"her\", bass=\"him\")  # On liste directement les arguments nommés\n",
    "fonc(**trio_dict)                         # On \"unpack\" un dictionnaire"
   ]
  },
  {
   "cell_type": "markdown",
   "metadata": {
    "slideshow": {
     "slide_type": "slide"
    }
   },
   "source": [
    "## Espace de nommage et portée des variables\n",
    "\n",
    "### 1er exemple\n",
    "\n",
    "On veut illustrer le mécanisme de l'espace de nommage des variables :\n"
   ]
  },
  {
   "cell_type": "code",
   "execution_count": null,
   "metadata": {
    "collapsed": true
   },
   "outputs": [],
   "source": [
    "def func1():\n",
    "    a = 1\n",
    "    print(\"Dans func1(), a =\", a)\n",
    "\n",
    "def func2():\n",
    "    print(\"Dans func2(), a =\", a)\n",
    "    \n",
    "a = 2\n",
    "func1()\n",
    "func2()\n",
    "print(\"Dans l'espace englobant, a =\", a)"
   ]
  },
  {
   "cell_type": "markdown",
   "metadata": {
    "slideshow": {
     "slide_type": "subslide"
    }
   },
   "source": [
    "Cet exemple montre deux choses :\n",
    "\n",
    "1. Une variable définie localement à l'intérieur d'une fonction cache une variable du même nom définie dans l'espace englobant.\n",
    "2. Quand une variable n'est pas définie localement à l'intérieur d'une fonction, Python va chercher sa valeur dans l'espace englobant (cas de ``func2()``)."
   ]
  },
  {
   "cell_type": "markdown",
   "metadata": {
    "slideshow": {
     "slide_type": "subslide"
    }
   },
   "source": [
    "### 2ème exemple\n",
    "\n",
    "On veut illustrer le mécanisme de portée des variables au sein des fonctions :"
   ]
  },
  {
   "cell_type": "code",
   "execution_count": null,
   "metadata": {
    "collapsed": true
   },
   "outputs": [],
   "source": [
    "def func():\n",
    "    a = 1\n",
    "    bbb = 2\n",
    "    print('Dans func(): a =', a)\n",
    "    \n",
    "a = 2\n",
    "func()\n",
    "print(\"Après func(): a =\", a)"
   ]
  },
  {
   "cell_type": "markdown",
   "metadata": {},
   "source": [
    "Les variables définies localement à l'intérieur d'une fonction sont détruites à la sortie de cette fonction. Ici, la variable ``bbb`` n'existe pas hors de la fonction ``func()``, donc Python renvoie une erreur si on essaye d'utiliser ``bbb`` depuis l'espace englobant :"
   ]
  },
  {
   "cell_type": "code",
   "execution_count": null,
   "metadata": {
    "collapsed": true
   },
   "outputs": [],
   "source": [
    "# Cette cellule génère une erreur\n",
    "print(bbb)"
   ]
  },
  {
   "cell_type": "markdown",
   "metadata": {
    "slideshow": {
     "slide_type": "slide"
    }
   },
   "source": [
    "## Fonctions *built-in*\n",
    "\n",
    "Ces fonctions sont disponibles dans tous les contextes. La liste complète est détaillée [ici](https://docs.python.org/3/library/functions.html#). En voici une sélection :\n",
    "\n",
    "- ``dir(obj)`` : retourne une liste des toutes les méthodes et attributs de l'objet ``obj``\n",
    "- ``dir()`` : retourne une liste de tous les objets du contexte courant\n",
    "- ``eval(expr)`` : analyse et exécute la chaîne de caractère ``expr``"
   ]
  },
  {
   "cell_type": "code",
   "execution_count": null,
   "metadata": {
    "collapsed": true
   },
   "outputs": [],
   "source": [
    "a = 1\n",
    "b = eval('a + 1')\n",
    "print(\"b est de type\", type(b), \"et vaut\", b)"
   ]
  },
  {
   "cell_type": "markdown",
   "metadata": {},
   "source": [
    "- ``globals()`` : retourne un dictionnaire des variables présentes dans le contexte global\n",
    "- ``locals()`` : idem ``globals()`` mais avec le contexte local\n",
    "- ``help(obj)`` : affiche l’aide au sujet d’un objet\n",
    "- ``help()`` : affiche l’aide générale (s'appelle depuis l'interpréteur interactif)"
   ]
  },
  {
   "cell_type": "markdown",
   "metadata": {
    "slideshow": {
     "slide_type": "subslide"
    }
   },
   "source": [
    "- ``input(prompt)`` : retourne une chaîne de caractère lue dans la console après le message ``prompt``"
   ]
  },
  {
   "cell_type": "code",
   "execution_count": null,
   "metadata": {
    "collapsed": true
   },
   "outputs": [],
   "source": [
    "reponse = input('Ca va ? ')  # Seule la variante input() fonctionne dans un notebook\n",
    "if reponse.lower() in ('o', 'oui', 'yes', 'y', 'ok', 'da', 'jawohl', 'ja'):\n",
    "    print('Supercalifragilisticexpialidocious')\n",
    "else:\n",
    "    print('Faut prendre des vacances...')"
   ]
  },
  {
   "cell_type": "markdown",
   "metadata": {
    "slideshow": {
     "slide_type": "subslide"
    }
   },
   "source": [
    "- ``len(seq)`` : retourne la longueur de la séquence ``seq``\n",
    "- ``max(seq)`` : retourne le maximum de la séquence ``seq`` \n",
    "- ``min(seq)`` : retourne le minimum de la séquence ``seq``\n",
    "\n",
    "- ``range([start=0], stop[, step=1])`` : retourne une liste d'entiers allant de ``start`` à ``stop - 1``, par pas de ``step``."
   ]
  },
  {
   "cell_type": "code",
   "execution_count": null,
   "metadata": {
    "collapsed": true
   },
   "outputs": [],
   "source": [
    "print(list(range(10)))\n",
    "print(list(range(5, 10, 2)))"
   ]
  },
  {
   "cell_type": "markdown",
   "metadata": {
    "slideshow": {
     "slide_type": "-"
    }
   },
   "source": [
    "- ``repr(obj)``: affiche la représentation de l'objet ``obj``.\n",
    "- ``reversed(seq)`` : retourne l’inverse de la séquence ``seq``\n",
    "- ``sorted(seq)`` : retourne une séquence triée à partir de la séquence ``seq``\n",
    "- ``sum(seq)`` : retourne la somme des éléments de la séquence ``seq``"
   ]
  },
  {
   "cell_type": "markdown",
   "metadata": {
    "slideshow": {
     "slide_type": "slide"
    }
   },
   "source": [
    "## Exercices sur les fonctions"
   ]
  },
  {
   "cell_type": "markdown",
   "metadata": {
    "slideshow": {
     "slide_type": "-"
    }
   },
   "source": [
    "### Exercice 1\n",
    "\n",
    "Ecrire une fonction ``stat()`` qui prend en argument une séquence d'entiers et retourne un tuple contenant :\n",
    "\n",
    "- la somme\n",
    "- le minimum\n",
    "- le maximum\n",
    "\n",
    "\n",
    "des éléments de la liste"
   ]
  },
  {
   "cell_type": "code",
   "execution_count": null,
   "metadata": {},
   "outputs": [],
   "source": [
    "def stat(a_list):\n",
    "    # votre fonction\n",
    "    return sum(a_list), min(a_list), max(a_list)\n",
    "\n",
    "print(stat([1, 4, 6, 9]))\n",
    "\n",
    "def stat(*args):\n",
    "    # votre fonction\n",
    "    return sum(args), min(args), max(args)\n",
    "\n",
    "print(stat(1, 4, 6, 9))\n"
   ]
  },
  {
   "cell_type": "markdown",
   "metadata": {},
   "source": [
    "<button data-toggle=\"collapse\" data-target=\"#mystat\" class='btn btn-primary'>Solution</button>\n",
    "<div id=\"mystat\" class=\"collapse\">\n",
    "\n",
    "```python\n",
    "def stat(a_list):\n",
    "    \"\"\"return sum, min and max of a list as a tuple\"\"\"\n",
    "    return sum(a_list), min(a_list), max(a_list)\n",
    "\n",
    "print(stat([1, 4, 6, 9]))\n",
    "\n",
    "def stat(*args):\n",
    "    \"\"\"return sum, min and max of a sequence of arguments as a tuple\"\"\"\n",
    "    return sum(args), min(args), max(args)\n",
    "\n",
    "print(stat(1, 4, 6, 9))\n",
    "```"
   ]
  },
  {
   "cell_type": "markdown",
   "metadata": {
    "slideshow": {
     "slide_type": "subslide"
    }
   },
   "source": [
    "### Exercice 2 : écriture d'un *wrapper* de fonction\n",
    "\n",
    "Noël approche... Amusez-vous avec les boules de décoration !\n",
    "\n",
    "Soit une fonction ``boule()`` capable d'accrocher une boule de couleur à la position ``(x, y)`` d'un sapin.\n",
    "\n",
    "\n",
    "> <span style=\"font-size:0.7em;\">Exercice inspiré du Mooc de l'INRIA [Python : des fondamentaux à l'utilisation du langage](https://www.france-universite-numerique-mooc.fr/courses/inria/41001S02/session02/about)</span>\n"
   ]
  },
  {
   "cell_type": "code",
   "execution_count": null,
   "metadata": {},
   "outputs": [],
   "source": [
    "def boule(x, y, couleur='bleue'):\n",
    "    print(\"J'accroche une boule en ({}, {}) de couleur {}\".format(x, y, couleur))\n",
    "\n",
    "# On place la première boule sur le sapin\n",
    "boule(1, 2)\n",
    "# Puis une autre, etc.\n",
    "boule(3, 4)"
   ]
  },
  {
   "cell_type": "markdown",
   "metadata": {
    "slideshow": {
     "slide_type": "subslide"
    }
   },
   "source": [
    "Ecrire une fonction *wrapper* ``boule_or()`` qui crée des boules dorées en appelant la fonction ``boule()``. Dans le futur, on souhaite modifier la fonction ``boule()`` pour lui faire accepter un nouvel argument ``rendu (brillant, mat, etc.)``.\n",
    "La fonction ``boule_or()`` devra continuer à fonctionner après cette modification de la fonction ``boule()`` et intégrer la nouvelle fonctionnalité ``rendu`` sans qu'il soit nécessaire de la modifier."
   ]
  },
  {
   "cell_type": "code",
   "execution_count": null,
   "metadata": {},
   "outputs": [],
   "source": [
    "# Cellule à modifier\n",
    "def boule_or(*args, **kwargs):\n",
    "    # Votre code ici\n",
    "\n",
    "# On place une boule en or sur le sapin\n",
    "boule_or(1, 2)"
   ]
  },
  {
   "cell_type": "markdown",
   "metadata": {
    "slideshow": {
     "slide_type": "subslide"
    }
   },
   "source": [
    "Maintenant, on met à jour la fonction ``boule()`` :"
   ]
  },
  {
   "cell_type": "code",
   "execution_count": 1,
   "metadata": {},
   "outputs": [
    {
     "name": "stdout",
     "output_type": "stream",
     "text": [
      "J'accroche une boule en (1, 3) de couleur jaune et de rendu brillant.\n"
     ]
    }
   ],
   "source": [
    "def boule(x, y, couleur='bleue', rendu='mat', forme=\"ronde\" ):\n",
    "    print(\"J'accroche une boule en ({}, {}) de couleur {} et de rendu {}.\".format(x, y, couleur, rendu))\n",
    "boule(1, 3, couleur='jaune', rendu='brillant')"
   ]
  },
  {
   "cell_type": "markdown",
   "metadata": {},
   "source": [
    "Vérifier que votre fonction ``boule_or()`` marche encore et gère la nouvelle fonctionnalité :"
   ]
  },
  {
   "cell_type": "code",
   "execution_count": 2,
   "metadata": {},
   "outputs": [
    {
     "ename": "NameError",
     "evalue": "name 'boule_or' is not defined",
     "output_type": "error",
     "traceback": [
      "\u001b[0;31m---------------------------------------------------------------------------\u001b[0m",
      "\u001b[0;31mNameError\u001b[0m                                 Traceback (most recent call last)",
      "\u001b[0;32m<ipython-input-2-7b0890870e4d>\u001b[0m in \u001b[0;36m<module>\u001b[0;34m()\u001b[0m\n\u001b[0;32m----> 1\u001b[0;31m \u001b[0mboule_or\u001b[0m\u001b[0;34m(\u001b[0m\u001b[0;36m3\u001b[0m\u001b[0;34m,\u001b[0m \u001b[0;36m1\u001b[0m\u001b[0;34m,\u001b[0m \u001b[0mrendu\u001b[0m\u001b[0;34m=\u001b[0m\u001b[0;34m'brillant'\u001b[0m\u001b[0;34m)\u001b[0m \u001b[0;31m# doit retourner :\u001b[0m\u001b[0;34m\u001b[0m\u001b[0m\n\u001b[0m\u001b[1;32m      2\u001b[0m \u001b[0;31m# J'accroche une boule en (3, 1) de couleur or et de rendu brillant.\u001b[0m\u001b[0;34m\u001b[0m\u001b[0;34m\u001b[0m\u001b[0m\n",
      "\u001b[0;31mNameError\u001b[0m: name 'boule_or' is not defined"
     ]
    }
   ],
   "source": [
    "boule_or(3, 1, rendu='brillant') # doit retourner :\n",
    "# J'accroche une boule en (3, 1) de couleur or et de rendu brillant."
   ]
  },
  {
   "cell_type": "markdown",
   "metadata": {},
   "source": [
    "<button data-toggle=\"collapse\" data-target=\"#boule\" class='btn btn-primary'>Solution</button>\n",
    "<div id=\"boule\" class=\"collapse\">\n",
    "\n",
    "```python\n",
    "def boule_or(*args, **kwargs):\n",
    "    kwargs['couleur'] = \"or\"  # seule instruction qui fait une hypothèse sur la fonction boule() \n",
    "    return boule(*args, **kwargs)\n",
    "boule_or(1, 2, rendu='brillant')\n",
    "```"
   ]
  },
  {
   "cell_type": "markdown",
   "metadata": {
    "slideshow": {
     "slide_type": "slide"
    }
   },
   "source": [
    "# Exceptions\n",
    "\n",
    "Pour signaler des conditions particulières (erreurs, évenements exceptionnels), Python utilise un mécanisme de levée d'exceptions."
   ]
  },
  {
   "cell_type": "code",
   "execution_count": null,
   "metadata": {
    "collapsed": true
   },
   "outputs": [],
   "source": [
    "# Cette cellule génère une erreur\n",
    "raise Exception"
   ]
  },
  {
   "cell_type": "markdown",
   "metadata": {
    "slideshow": {
     "slide_type": "fragment"
    }
   },
   "source": [
    "Ces exceptions peuvent embarquer des données permettant d'identifier l'évenement producteur."
   ]
  },
  {
   "cell_type": "code",
   "execution_count": null,
   "metadata": {
    "collapsed": true
   },
   "outputs": [],
   "source": [
    "# Cette cellule génère une erreur\n",
    "raise Exception('Y a une erreur')"
   ]
  },
  {
   "cell_type": "markdown",
   "metadata": {
    "slideshow": {
     "slide_type": "subslide"
    }
   },
   "source": [
    "La levée d'une exception interrompt le cours normal de l'exécution du code et \"remonte\" jusqu'à l'endroit le plus proche gérant cette exception.\n",
    "\n",
    "Pour intercepter les exceptions, on écrit :\n",
    "\n",
    "```python\n",
    "try:\n",
    "    <bloc de code 1>\n",
    "except Exception:\n",
    "    <bloc de code 2>\n",
    "```"
   ]
  },
  {
   "cell_type": "code",
   "execution_count": null,
   "metadata": {
    "collapsed": true
   },
   "outputs": [],
   "source": [
    "try:\n",
    "    print('ici ca fonctionne')\n",
    "    # ici on détecte une condition exceptionnelle, on signale une exception\n",
    "    raise Exception('y a un bug')\n",
    "    print('on arrive jamais ici')\n",
    "except Exception as e:\n",
    "    # L'excécution continue ici\n",
    "    print(\"ici on peut essayer de corriger le problème lié à l'exception : Exception('%s')\" % str(e))\n",
    "print(\"et après, cela continue ici\")"
   ]
  },
  {
   "cell_type": "markdown",
   "metadata": {
    "slideshow": {
     "slide_type": "subslide"
    }
   },
   "source": [
    "Exemple illustrant le mécanisme de remontée des exceptions d'un bloc à l'autre :"
   ]
  },
  {
   "cell_type": "code",
   "execution_count": null,
   "metadata": {
    "collapsed": true
   },
   "outputs": [],
   "source": [
    "def a():\n",
    "    raise Exception('coucou de A')\n",
    "\n",
    "def b():\n",
    "    print('début B')\n",
    "    a()\n",
    "    print('fini B')\n",
    "\n",
    "try:\n",
    "    b()\n",
    "except Exception as e:\n",
    "    print(\"l'exception vous envoie le message :\", e)"
   ]
  },
  {
   "cell_type": "markdown",
   "metadata": {
    "slideshow": {
     "slide_type": "subslide"
    }
   },
   "source": [
    "> **Exercice** : Ecrivez une fonction qui demande à l'utilisateur un fichier a ouvrir, et qui gère correctement les fichiers inexistants. Ensuite cette fonction affichera la première ligne du fichier. Finalement la fonction retournera une valeur booléenne indiquant que le fichier a été ouvert ou non.\n",
    "\n",
    "Attention: sous windows, par defaut les extensions de fichier sont cachées..."
   ]
  },
  {
   "cell_type": "code",
   "execution_count": null,
   "metadata": {
    "collapsed": true
   },
   "outputs": [],
   "source": [
    "# Votre code ici"
   ]
  },
  {
   "cell_type": "markdown",
   "metadata": {},
   "source": [
    "<button data-toggle=\"collapse\" data-target=\"#filefail\" class='btn btn-primary'>Solution</button>\n",
    "<div id=\"filefail\" class=\"collapse\">\n",
    "    \n",
    "```python\n",
    "def openfile():\n",
    "    fn = input('Donnez un chemin de fichier : ')\n",
    "    try:\n",
    "        fin = open(fn, 'rb')\n",
    "        print(fin.readline())\n",
    "        fin.close()\n",
    "        return True\n",
    "    except OSError as err:\n",
    "        # Ignore errors while trying to open file\n",
    "        pass\n",
    "    return False\n",
    "\n",
    "print(openfile())\n",
    "```"
   ]
  },
  {
   "cell_type": "markdown",
   "metadata": {},
   "source": [
    "Pour plus d'informations sur les exceptions, se référer [ici](https://docs.python.org/3/tutorial/errors.html)."
   ]
  },
  {
   "cell_type": "markdown",
   "metadata": {
    "slideshow": {
     "slide_type": "slide"
    }
   },
   "source": [
    "# Les gestionnaires de contexte\n",
    "\n",
    "Pour faciliter la gestion des obligations liées à la libération de ressources, la fermeture de fichiers, etc... Python propose des gestionnaires de contexte introduits par le mot clé ``with``."
   ]
  },
  {
   "cell_type": "code",
   "execution_count": null,
   "metadata": {},
   "outputs": [],
   "source": [
    "with open('interessant.txt', 'r') as fichier_ouvert:\n",
    "    # Dans ce bloc de code le fichier est ouvert en lecture, on peut l'utiliser normalement\n",
    "    print(fichier_ouvert.read())\n",
    "# Ici, on est sorti du bloc et du contexte, le fichier à été fermé automatiquement"
   ]
  },
  {
   "cell_type": "code",
   "execution_count": null,
   "metadata": {},
   "outputs": [],
   "source": [
    "# Cette cellule génère une erreur\n",
    "print(fichier_ouvert.read())"
   ]
  },
  {
   "cell_type": "markdown",
   "metadata": {
    "slideshow": {
     "slide_type": "subslide"
    }
   },
   "source": [
    "> **Exercice** : Reprenez le code de l'exercice précédent, et utilisez ``with`` pour ne pas avoir à utiliser la méthode ``close()``."
   ]
  },
  {
   "cell_type": "code",
   "execution_count": null,
   "metadata": {
    "collapsed": true
   },
   "outputs": [],
   "source": [
    "# Votre code ici"
   ]
  },
  {
   "cell_type": "markdown",
   "metadata": {},
   "source": [
    "<button data-toggle=\"collapse\" data-target=\"#filewithfail\" class='btn btn-primary'>Solution</button>\n",
    "<div id=\"filewithfail\" class=\"collapse\">\n",
    "```python\n",
    "def openfile():\n",
    "    fn = input('Donnez un chemin de fichier : ')\n",
    "    try:\n",
    "        with open(fn, 'rb') as fin:\n",
    "            print(fin.readline())\n",
    "            return True\n",
    "    except OSError as err:\n",
    "        # Ignore errors while trying to open file\n",
    "        pass\n",
    "    return False\n",
    "\n",
    "print(openfile())\n",
    "```"
   ]
  },
  {
   "cell_type": "markdown",
   "metadata": {
    "slideshow": {
     "slide_type": "-"
    }
   },
   "source": [
    "Il est possible de créer de nouveaux gestionnaires de contexte, pour que vos objets puissent être utilisés avec ``with`` et que les ressources associées soient correctement libérées.\n",
    "\n",
    "Pour plus d'informations sur la création de gestionnaires de contexte, voir [ici](https://docs.python.org/3/library/stdtypes.html#context-manager-types)."
   ]
  },
  {
   "cell_type": "markdown",
   "metadata": {
    "slideshow": {
     "slide_type": "subslide"
    }
   },
   "source": [
    "# Les compréhensions de listes\n",
    "\n",
    "Python a introduit une facilité d'écriture pour les listes qui permet de rendre le code plus lisible car plus concis."
   ]
  },
  {
   "cell_type": "code",
   "execution_count": null,
   "metadata": {
    "collapsed": true
   },
   "outputs": [],
   "source": [
    "# Ce code construit une liste ne contenant que les éléments pairs de la liste Liste1\n",
    "Liste1 = list(range(10))\n",
    "print(Liste1)\n",
    "ListePaire = []\n",
    "for i in Liste1:\n",
    "    if (i % 2) == 0:\n",
    "        ListePaire.append(i)\n",
    "print(ListePaire)"
   ]
  },
  {
   "cell_type": "code",
   "execution_count": null,
   "metadata": {
    "collapsed": true,
    "slideshow": {
     "slide_type": "fragment"
    }
   },
   "outputs": [],
   "source": [
    "# Ici, on fait la même chose, en liste...\n",
    "ListePaire = [i for i in Liste1 if (i % 2) == 0]\n",
    "print(ListePaire)"
   ]
  },
  {
   "cell_type": "markdown",
   "metadata": {},
   "source": [
    "Cette concision peut être utile, mais n'en abusez pas, si vous commencez à avoir une compréhension de liste trop complexe à écrire en une simple ligne, utilisez plutôt des boucles et conditions explicites.  \n",
    "Plus d'informations [ici](https://docs.python.org/3/tutorial/datastructures.html#list-comprehensions)."
   ]
  },
  {
   "cell_type": "markdown",
   "metadata": {
    "slideshow": {
     "slide_type": "slide"
    }
   },
   "source": [
    "# Les expressions génératrices\n",
    "\n",
    "C'est une forme d'écriture, très proche des compréhensions de listes, mais qui ne crée pas de nouvel objet liste immédiatement. Les items sont produits à la demande."
   ]
  },
  {
   "cell_type": "code",
   "execution_count": null,
   "metadata": {
    "collapsed": true
   },
   "outputs": [],
   "source": [
    "tuplePairs = (i for i in Liste1 if (i % 2) == 0)\n",
    "print(tuplePairs)\n",
    "print(list(tuplePairs))"
   ]
  },
  {
   "cell_type": "markdown",
   "metadata": {},
   "source": [
    "Plus d'informations [ici](https://docs.python.org/3/tutorial/classes.html#generator-expressions)."
   ]
  },
  {
   "cell_type": "markdown",
   "metadata": {
    "slideshow": {
     "slide_type": "slide"
    }
   },
   "source": [
    "# Modules\n",
    "\n",
    "- Python fournit un système de modularisation du code qui permet d'organiser un projet contenant de grandes quantités de code et de réutiliser et de partager ce code entre plusieurs applications.\n",
    "\n",
    "- L'instruction ``import`` permet d'accéder à du code situé dans d'autres fichiers. Cela inclut les nombreux modules de la librairie standard, tout comme vos propres fichiers contenant du code.\n",
    "\n",
    "- Les fonctions et variables du module sont accessibles de la manière suivante :\n",
    "\n",
    "\n",
    "    <nom du module>.<nom de variable>\n",
    "    <nom du module>.<nom de fonction>([<parametre1>][, <parametre N>]...)\n",
    "    "
   ]
  },
  {
   "cell_type": "code",
   "execution_count": null,
   "metadata": {
    "collapsed": true
   },
   "outputs": [],
   "source": [
    "# Pour utiliser les fonctions mathématiques du module 'math'\n",
    "import math\n",
    "\n",
    "pi = math.pi\n",
    "print('%.2f' % pi)\n",
    "print('%.2f' % math.sin(pi))"
   ]
  },
  {
   "cell_type": "markdown",
   "metadata": {
    "slideshow": {
     "slide_type": "subslide"
    }
   },
   "source": [
    "Pour créer vos propres modules, il suffit de placer votre code dans un fichier avec l'extension '.py', et ensuite vous pourrez l'importer comme module dans le reste de votre code.\n",
    "\n",
    "Il y a un fichier mon_module.py a coté du notebook, il contient du code définissant ``ma_variable`` et ``ma_fonction()``."
   ]
  },
  {
   "cell_type": "code",
   "execution_count": null,
   "metadata": {
    "collapsed": true
   },
   "outputs": [],
   "source": [
    "import mon_module\n",
    "print(mon_module.ma_variable)\n",
    "mon_module.ma_fonction()  # On accede ainsi à l'attribut ma_fonction() du module mon_module"
   ]
  },
  {
   "cell_type": "markdown",
   "metadata": {
    "slideshow": {
     "slide_type": "subslide"
    }
   },
   "source": [
    "On peut importer un module sous un autre nom (pour le raccourcir, en général) :"
   ]
  },
  {
   "cell_type": "code",
   "execution_count": null,
   "metadata": {
    "collapsed": true
   },
   "outputs": [],
   "source": [
    "import mon_module as mm\n",
    "mm.ma_fonction()"
   ]
  },
  {
   "cell_type": "markdown",
   "metadata": {},
   "source": [
    "**Note** : un module n'est importé qu'une seule fois au sein d'une même instance Python."
   ]
  },
  {
   "cell_type": "markdown",
   "metadata": {},
   "source": [
    "> **Exercice** : Modifiez le code contenu dans le fichier [mon_module.py](mon_module.py), et reexécutez la cellule ci-dessus."
   ]
  },
  {
   "cell_type": "markdown",
   "metadata": {},
   "source": [
    "Pour plus d'informations sur les modules, allez voir [ici](https://docs.python.org/3/tutorial/modules.html)."
   ]
  },
  {
   "cell_type": "markdown",
   "metadata": {
    "slideshow": {
     "slide_type": "subslide"
    }
   },
   "source": [
    "## Quelques modules de la stdlib\n",
    "\n",
    "La bibliothèque standard de Python est incluse dans toute distribution de Python. Elle contient en particulier une panoplie de modules à la disposition du développeur.\n",
    "\n",
    "### ``string``\n",
    "\n",
    "- ``find()``\n",
    "- ``count()``\n",
    "- ``split()``\n",
    "- ``join()``\n",
    "- ``strip()``\n",
    "- ``upper()``\n",
    "- ``replace()``"
   ]
  },
  {
   "cell_type": "markdown",
   "metadata": {
    "slideshow": {
     "slide_type": "subslide"
    }
   },
   "source": [
    "### ``math``\n",
    "\n",
    "- ``log()``\n",
    "- ``sqrt()``\n",
    "- ``cos()``\n",
    "- ``pi``\n",
    "- ``e``"
   ]
  },
  {
   "cell_type": "markdown",
   "metadata": {
    "slideshow": {
     "slide_type": "subslide"
    }
   },
   "source": [
    "### ``os``\n",
    "\n",
    "- ``listdir()``\n",
    "- ``getcwd()``\n",
    "- ``getenv()``\n",
    "- ``chdir()``\n",
    "- ``environ()``\n",
    "- ``os.path : exists(), getsize(), isdir(), join()``"
   ]
  },
  {
   "cell_type": "markdown",
   "metadata": {
    "slideshow": {
     "slide_type": "subslide"
    }
   },
   "source": [
    "### ``sys``\n",
    "- ``argv``\n",
    "- ``exit()``\n",
    "- ``path``"
   ]
  },
  {
   "cell_type": "markdown",
   "metadata": {},
   "source": [
    "Mais bien plus sur la [doc officielle de la stdlib](https://docs.python.org/3/library/) !"
   ]
  },
  {
   "cell_type": "markdown",
   "metadata": {
    "slideshow": {
     "slide_type": "slide"
    }
   },
   "source": [
    "# Bonnes pratiques\n",
    "\n",
    "###  Commentez votre code\n",
    "- pour le rendre plus lisible\n",
    "- pour préciser l'utilité des fonctions, méthodes, classes, modules, etc...\n",
    "- pour expliquer les parties complexes"
   ]
  },
  {
   "cell_type": "markdown",
   "metadata": {},
   "source": [
    "Habituez-vous assez tôt aux conventions préconisées dans la communauté des utilisateurs de python.\n",
    "Cela vous aidera a relire plus facilement le code écrit par d'autres, et aidera les autres (et vous-même !) à relire votre propore code. Collaborez !\n",
    "\n",
    "Ces conventions sont décrites dans le document [PEP n°8](https://www.python.org/dev/peps/pep-0008/) (Python Enhancement Proposal).\n",
    "L'outil [pep8](https://pypi.python.org/pypi/pep8) permet d'automatiser la vérification du respect de ces règles."
   ]
  },
  {
   "cell_type": "markdown",
   "metadata": {},
   "source": [
    "> **Exercice** :\n",
    ">\n",
    "> 1. Lisez le PEP8, et corrigez toutes les fautes commises dans ce notebook\n",
    "> 2. Envoyez le résultat à votre formateur"
   ]
  },
  {
   "cell_type": "markdown",
   "metadata": {
    "slideshow": {
     "slide_type": "subslide"
    }
   },
   "source": [
    "###  Organisez vos modules en packages\n",
    "\n",
    "Un package est un répertoire qui contient des modules (fichiers ``.py``) et un fichier ``__init__.py``. Une arborescence de packages permet de les organiser de manière hiérarchique.\n",
    "\n",
    "On peut accéder aux sous-packages avec la notation :\n",
    "\n",
    "```python\n",
    "import <package1>.<subpackage1>[.<subsubpackage>]...\n",
    "```\n",
    "\n",
    "Pour plus d'informations sur la construction de packages, voir [ici](https://docs.python.org/3/tutorial/modules.html#packages)"
   ]
  },
  {
   "cell_type": "markdown",
   "metadata": {
    "slideshow": {
     "slide_type": "subslide"
    }
   },
   "source": [
    "### Environnements de développement intégrés :\n",
    "\n",
    "* [pydev](http://pydev.org)\n",
    "* [eclipse](http://www.eclipse.org)\n",
    "* [spyder](http://pythonhosted.org/spyder)\n",
    "\n",
    "![](fig/spyder.png)"
   ]
  },
  {
   "cell_type": "markdown",
   "metadata": {
    "slideshow": {
     "slide_type": "subslide"
    }
   },
   "source": [
    "### Gestionnaires de versions\n",
    "\n",
    "* [git](http://www.git-scm.com)\n",
    "* [subversion](https://subversion.apache.org)\n",
    "\n",
    "### Héberger vos dépôts de sources\n",
    "\n",
    "* [github](https://github.com)\n",
    "* [gitlab](https://gitlab.com)\n"
   ]
  },
  {
   "cell_type": "markdown",
   "metadata": {
    "slideshow": {
     "slide_type": "subslide"
    }
   },
   "source": [
    "### Visualisation de différences :\n",
    "\n",
    "* [tkdiff](http://tkdiff.sourceforge.net)\n",
    "* [kdiff3](http://kdiff3.sourceforge.net)\n",
    "* [meld](http://meldmerge.org) - écrit en python !\n",
    "\n",
    "![](fig/meld.png)"
   ]
  },
  {
   "cell_type": "markdown",
   "metadata": {
    "slideshow": {
     "slide_type": "subslide"
    }
   },
   "source": [
    "### Vérificateurs de code source\n",
    "\n",
    "* [pep8](https://pypi.python.org/pypi/pep8)\n",
    "* [pylint](http://www.pylint.org)\n",
    "\n",
    "### Documentation dans le code\n",
    "\n",
    "* [docstring](https://www.python.org/dev/peps/pep-0257)"
   ]
  },
  {
   "cell_type": "markdown",
   "metadata": {
    "slideshow": {
     "slide_type": "subslide"
    }
   },
   "source": [
    "### Automatisation de tests, environnements virtuels :\n",
    "\n",
    "* [unittest](https://docs.python.org/3/library/unittest.html)\n",
    "* [doctest](https://docs.python.org/3/library/doctest.html)\n",
    "* [nose](http://readthedocs.org/docs/nose)\n",
    "* [py.test](http://pytest.org)\n",
    "* [tox](http://tox.testrun.org)\n",
    "* [virtualenv](https://virtualenv.pypa.io)"
   ]
  },
  {
   "cell_type": "markdown",
   "metadata": {
    "slideshow": {
     "slide_type": "slide"
    }
   },
   "source": [
    "![](fig/python-logo.png)\n",
    "\n",
    "# Philosophie du langage : le zen de Python\n",
    "\n",
    "[PEP 20](https://www.python.org/dev/peps/pep-0020)"
   ]
  },
  {
   "cell_type": "code",
   "execution_count": 1,
   "metadata": {
    "scrolled": false
   },
   "outputs": [
    {
     "name": "stdout",
     "output_type": "stream",
     "text": [
      "The Zen of Python, by Tim Peters\n",
      "\n",
      "Beautiful is better than ugly.\n",
      "Explicit is better than implicit.\n",
      "Simple is better than complex.\n",
      "Complex is better than complicated.\n",
      "Flat is better than nested.\n",
      "Sparse is better than dense.\n",
      "Readability counts.\n",
      "Special cases aren't special enough to break the rules.\n",
      "Although practicality beats purity.\n",
      "Errors should never pass silently.\n",
      "Unless explicitly silenced.\n",
      "In the face of ambiguity, refuse the temptation to guess.\n",
      "There should be one-- and preferably only one --obvious way to do it.\n",
      "Although that way may not be obvious at first unless you're Dutch.\n",
      "Now is better than never.\n",
      "Although never is often better than *right* now.\n",
      "If the implementation is hard to explain, it's a bad idea.\n",
      "If the implementation is easy to explain, it may be a good idea.\n",
      "Namespaces are one honking great idea -- let's do more of those!\n"
     ]
    }
   ],
   "source": [
    "import this"
   ]
  },
  {
   "cell_type": "markdown",
   "metadata": {
    "slideshow": {
     "slide_type": "slide"
    }
   },
   "source": [
    "# Python 3.x vs 2.x\n",
    "\n",
    "C'est le futur, et incidemment aussi le présent voire même le passé...\n",
    "\n",
    "- Quoi : une version qui casse la compatibilité ascendante\n",
    "- Pourquoi : nettoyage de parties bancales du langage accumulées au fil du temps\n",
    "- Python 3.0 est sorti en 2008\n",
    "- Python 2.7 est sorti en 2010 : EOL, fin de vie, (mal-)heureusement longue à venir\n",
    "- Un certain nombre de choses n'a pas encore été converti pour fonctionner avec\n",
    "- Les distributions linux majeures proposent encore la 2.X par défaut, mais la 3 est disponible en parallèle\n",
    "- Une partie, la moins disruptive, à quand même été portée vers 2.6 et 2.7 pour aider à la transition\n",
    "- Les tutoriels, et autres documentations disponibles sur internet ne sont pas forcément migrées\n",
    "- Pour un nouveau projet, recherchez un peu avant de vous lancer, pour vérifier les besoins en librairies externes\n",
    "- Les implémentations tierces d'interpréteurs python peuvent avoir des degrés variables de compatibilité avec les versions 3.x\n",
    "- Les modules comportant des extentions en C sont plus compliqués à porter."
   ]
  },
  {
   "cell_type": "markdown",
   "metadata": {
    "slideshow": {
     "slide_type": "subslide"
    }
   },
   "source": [
    "## Différences notables entre Python 2 et Python 3\n",
    "\n",
    "- Division entière\n",
    "- ``print()``\n",
    "- variable à durée de vie plus stricte (boucles, etc...)\n",
    "- toutes les classes sont du nouveau type\n",
    "- Les chaînes de caractères sont en UTF-8 par défaut & encoding(s) & byte() interface\n",
    "- stdlib changée\n",
    "- ``range()`` vs ``xrange()``\n",
    "- outils ``2to3.py, 3to2, python-modernize, futurize``\n",
    "- ``pylint --py3k``\n",
    "- module de compatibilité: six \n",
    "\n",
    "Plus d'informations sur le [wiki officiel](https://wiki.python.org/moin/Python2orPython3)."
   ]
  },
  {
   "cell_type": "markdown",
   "metadata": {
    "slideshow": {
     "slide_type": "slide"
    }
   },
   "source": [
    "# Exercices complémentaires"
   ]
  },
  {
   "cell_type": "markdown",
   "metadata": {
    "slideshow": {
     "slide_type": "subslide"
    }
   },
   "source": [
    "### Listes\n",
    "\n",
    "Ecrivez la fonction ``odds()`` qui prend une liste de nombres, et qui retourne une liste ne contenant que les nombres impairs.\n",
    "\n",
    "- ``odds([1,2,3,4,5]) => [1,3,5]``"
   ]
  },
  {
   "cell_type": "code",
   "execution_count": null,
   "metadata": {
    "collapsed": true
   },
   "outputs": [],
   "source": [
    "def odds(numbers):\n",
    "    # Votre code ici\n",
    "    pass"
   ]
  },
  {
   "cell_type": "markdown",
   "metadata": {},
   "source": [
    "<button data-toggle=\"collapse\" data-target=\"#odds\" class='btn btn-primary'>Solution</button>\n",
    "<div id=\"odds\" class=\"collapse\">\n",
    "    \n",
    "```python\n",
    "def odds(nums):\n",
    "    return [n for n in nums if (n % 2) == 1]\n",
    "\n",
    "print(odds([1,2,3,4,5]))\n",
    "```"
   ]
  },
  {
   "cell_type": "markdown",
   "metadata": {
    "slideshow": {
     "slide_type": "subslide"
    }
   },
   "source": [
    "### Chaines de caractères\n",
    "\n",
    "Ecrivez les fonctions suivantes, sans utiliser upper() / lower():\n",
    "\n",
    "- ``majuscule('azERtyUI')`` -> ``'AZERTYUI'``\n",
    "- ``minuscule('azERtyUI')`` -> ``'azertyui'``\n",
    "- ``inverse_casse('azERtyUI')`` -> ``'AZerTYui'``\n",
    "- ``nom_propre('azERtyUI')`` -> ``'Azertyui'``\n",
    "\n",
    "> **Indice:** cet exercice s'apparente a de la \"traduction\"..."
   ]
  },
  {
   "cell_type": "code",
   "execution_count": 3,
   "metadata": {},
   "outputs": [
    {
     "ename": "AssertionError",
     "evalue": "",
     "output_type": "error",
     "traceback": [
      "\u001b[0;31m---------------------------------------------------------------------------\u001b[0m",
      "\u001b[0;31mAssertionError\u001b[0m                            Traceback (most recent call last)",
      "\u001b[0;32m<ipython-input-3-037352f22e02>\u001b[0m in \u001b[0;36m<module>\u001b[0;34m()\u001b[0m\n\u001b[1;32m     15\u001b[0m     \u001b[0;32mpass\u001b[0m\u001b[0;34m\u001b[0m\u001b[0m\n\u001b[1;32m     16\u001b[0m \u001b[0;34m\u001b[0m\u001b[0m\n\u001b[0;32m---> 17\u001b[0;31m \u001b[0;32massert\u001b[0m \u001b[0mmajuscule\u001b[0m\u001b[0;34m(\u001b[0m\u001b[0;34m'azERtyUI'\u001b[0m\u001b[0;34m)\u001b[0m \u001b[0;34m==\u001b[0m \u001b[0;34m'AZERTYUI'\u001b[0m\u001b[0;34m\u001b[0m\u001b[0m\n\u001b[0m\u001b[1;32m     18\u001b[0m \u001b[0;32massert\u001b[0m \u001b[0mminuscule\u001b[0m\u001b[0;34m(\u001b[0m\u001b[0;34m'azERtyUI'\u001b[0m\u001b[0;34m)\u001b[0m \u001b[0;34m==\u001b[0m \u001b[0;34m'azertyui'\u001b[0m\u001b[0;34m\u001b[0m\u001b[0m\n\u001b[1;32m     19\u001b[0m \u001b[0;32massert\u001b[0m \u001b[0minverse_casse\u001b[0m\u001b[0;34m(\u001b[0m\u001b[0;34m'azERtyUI'\u001b[0m\u001b[0;34m)\u001b[0m \u001b[0;34m==\u001b[0m \u001b[0;34m'AZerTYui'\u001b[0m\u001b[0;34m\u001b[0m\u001b[0m\n",
      "\u001b[0;31mAssertionError\u001b[0m: "
     ]
    }
   ],
   "source": [
    "def majuscule(chaine):\n",
    "    # Votre code ici\n",
    "    pass\n",
    "\n",
    "def minuscules(chaine):\n",
    "    # Votre code ici\n",
    "    pass\n",
    "\n",
    "def inverse_casse(chaine):\n",
    "    # Votre code ici\n",
    "    pass\n",
    "\n",
    "def nom_propre(chaine):\n",
    "    # Votre code ici\n",
    "    pass\n",
    "    \n",
    "assert majuscule('azERtyUI') == 'AZERTYUI'\n",
    "assert minuscule('azERtyUI') == 'azertyui'\n",
    "assert inverse_casse('azERtyUI') == 'AZerTYui'\n",
    "assert nom_propre('azERtyUI') == 'Azertyui'"
   ]
  },
  {
   "cell_type": "markdown",
   "metadata": {},
   "source": [
    "<button data-toggle=\"collapse\" data-target=\"#chaines\" class='btn btn-primary'>Solution</button>\n",
    "<div id=\"chaines\" class=\"collapse\">\n",
    "    \n",
    "```python\n",
    "lower = 'abcdefghijklmnopqrstuvwxyz'\n",
    "upper = 'ABCDEFGHIJKLMNOPQRSTUVWXYZ'\n",
    "\n",
    "toupper = dict(zip(lower, upper))\n",
    "tolower = dict(zip(upper, lower))\n",
    "\n",
    "inverse = dict(toupper)\n",
    "inverse.update(tolower)\n",
    "\n",
    "def to_case(chaine, dico):\n",
    "    ret = []\n",
    "    for c in chaine:\n",
    "        d = dico.get(c, None)\n",
    "        ret . append(d or c)\n",
    "    return ''.join(ret)\n",
    "\n",
    "def majuscules(chaine):\n",
    "    return to_case(chaine, toupper)\n",
    "\n",
    "def minuscules(chaine):\n",
    "    return to_case(chaine, tolower)\n",
    "\n",
    "def inverse_casse(chaine):\n",
    "    return to_case(chaine, inverse)\n",
    "    \n",
    "def nom_propre(chaine):\n",
    "    return majuscules(chaine[0]) + minuscules(chaine[1:])\n",
    "\n",
    "print(majuscules('aTtEnTioN'))\n",
    "print(minuscules('aTtEnTioN'))\n",
    "\n",
    "print(inverse_casse('aTtEnTioN'))\n",
    "print(nom_propre('aTtEnTioN'))\n",
    "```"
   ]
  },
  {
   "cell_type": "markdown",
   "metadata": {
    "slideshow": {
     "slide_type": "subslide"
    }
   },
   "source": [
    "### Récursion\n",
    "\n",
    "Les fonctions dites \"récursives\" sont des fonctions qui font appel à elles-même, en résolvant une partie plus petite du problème à chaque appel, jusqu'à avoir un cas trivial à résoudre.\n",
    "\n",
    "Par exemple pour calculer : \"la somme de tout les nombres de 0 jusqu'à x\", on peut utiliser une fonction récursive:\n",
    "\n",
    "La somme de tous les nombres de 0 à 10 est égale à 10 plus la somme de tous les nombres de 0 à 9, etc...\n"
   ]
  },
  {
   "cell_type": "code",
   "execution_count": null,
   "metadata": {
    "collapsed": true
   },
   "outputs": [],
   "source": [
    "def sum_to(x):\n",
    "    if x == 0:\n",
    "        return 0\n",
    "    return x + sum_to(x - 1)"
   ]
  },
  {
   "cell_type": "code",
   "execution_count": null,
   "metadata": {
    "collapsed": true
   },
   "outputs": [],
   "source": [
    "print(sum_to(9))"
   ]
  },
  {
   "cell_type": "markdown",
   "metadata": {},
   "source": [
    "La fonction mathématique factorielle est similaire, mais calcule : \"le produit de tout les nombres de 1 jusqu'à x\"."
   ]
  },
  {
   "cell_type": "code",
   "execution_count": null,
   "metadata": {
    "collapsed": true
   },
   "outputs": [],
   "source": [
    "def fact(x):\n",
    "    if x == 1:\n",
    "        return 1\n",
    "    return x * fact(x - 1)"
   ]
  },
  {
   "cell_type": "code",
   "execution_count": null,
   "metadata": {
    "collapsed": true
   },
   "outputs": [],
   "source": [
    "print(fact(5), fact(9))"
   ]
  },
  {
   "cell_type": "markdown",
   "metadata": {},
   "source": [
    "La fonction mathématique qui calcule [la suite des nombres de Fibonacci](https://fr.wikipedia.org/wiki/Suite_de_Fibonacci), peut être décrite comme suit:\n",
    "\n",
    "- ``fibo(0) = 0``\n",
    "- ``fibo(1) = 1``\n",
    "\n",
    "Et pour toutes les autres valeurs:\n",
    "\n",
    "- ``fibo(x) = fibo(x - 1) + fibo(x - 2)``\n",
    "\n",
    "> **Exercice** : écrivez une fonction récursive ``fibo(x)`` qui renvoie le x-ième nombre de la suite de Fibonnaci."
   ]
  },
  {
   "cell_type": "code",
   "execution_count": null,
   "metadata": {
    "collapsed": true
   },
   "outputs": [],
   "source": [
    "def fibo(x):\n",
    "    # Votre code ici\n",
    "    pass"
   ]
  },
  {
   "cell_type": "code",
   "execution_count": null,
   "metadata": {
    "collapsed": true
   },
   "outputs": [],
   "source": [
    "print(fibo(9))"
   ]
  },
  {
   "cell_type": "markdown",
   "metadata": {},
   "source": [
    "<button data-toggle=\"collapse\" data-target=\"#fibo\" class='btn btn-primary'>Solution</button>\n",
    "<div id=\"fibo\" class=\"collapse\">\n",
    "    \n",
    "```python\n",
    "def fibo(x):\n",
    "    if x < 2:\n",
    "        return 1\n",
    "    return fibo(x - 1) + fibo(x - 2)\n",
    "\n",
    "print(fibo(8))\n",
    "```"
   ]
  },
  {
   "cell_type": "markdown",
   "metadata": {
    "slideshow": {
     "slide_type": "subslide"
    }
   },
   "source": [
    "### [Les tours de hanoï](https://fr.wikipedia.org/wiki/Tours_de_Hano%C3%AF)\n",
    "\n",
    "![](fig/Tower_of_Hanoi.jpeg)\n",
    "\n",
    "Le but de ce jeu est de déplacer la pile de disques de la première colonne à la dernière, en s'aidant de la colonne intermédiaire, en suivant ces règles simples:\n",
    "\n",
    "- On ne peut déplacer qu'un seul disque à la fois\n",
    "- On ne peut placer un disque que sur un autre qui est plus grand\n",
    "\n",
    "Exemple de solution pour une pile de quatre disques :\n",
    "\n",
    "![](fig/Tower_of_Hanoi.jpeg)\n",
    "\n",
    "Pour cet exercice, on va représenter les colonnes avec des listes :"
   ]
  },
  {
   "cell_type": "code",
   "execution_count": null,
   "metadata": {
    "collapsed": true
   },
   "outputs": [],
   "source": [
    "source = [4,3,2,1]\n",
    "interm = []\n",
    "destin = []"
   ]
  },
  {
   "cell_type": "markdown",
   "metadata": {},
   "source": [
    "Le but est de tout déplacer vers la destination :"
   ]
  },
  {
   "cell_type": "code",
   "execution_count": null,
   "metadata": {
    "collapsed": true
   },
   "outputs": [],
   "source": [
    "# Cette cellule génère une erreur\n",
    "assert (source, interm, destin) == ([], [], [4,3,2,1]), \"Le résultat n'est pas correct\""
   ]
  },
  {
   "cell_type": "markdown",
   "metadata": {},
   "source": [
    "Nous allons utiliser pour déplacer un disque d'une colonne à une autre, la fonction ``move(a, b)`` :"
   ]
  },
  {
   "cell_type": "code",
   "execution_count": null,
   "metadata": {
    "collapsed": true
   },
   "outputs": [],
   "source": [
    "# Ne pas modifier cette fonction, utilisez-la dans votre fonction hanoi()\n",
    "def move(a, b):\n",
    "    if not a:\n",
    "        raise Exception('Interdit: la colonne source est vide !')\n",
    "    item = a.pop()\n",
    "    if b and item > b[-1]:\n",
    "        raise Exception('Interdit: le disque {} est trop grand pour la colonne destination: {} => {}'.format(item, a, b))\n",
    "    b.append(item)\n",
    "    print('Déplaçons {}: source={}, interm={}, destin={}'.format(item, source, interm, destin))"
   ]
  },
  {
   "cell_type": "markdown",
   "metadata": {},
   "source": [
    "> **Exercice** : écrivez une fonction récursive ``hanoi(taille, col_src, col_tmp, col_dst)`` qui va déplacer les disques de la colonne ``col_src`` à la colonne ``col_dst`` en utilisant la fonction ``move()``."
   ]
  },
  {
   "cell_type": "code",
   "execution_count": null,
   "metadata": {
    "collapsed": true
   },
   "outputs": [],
   "source": [
    "def hanoi(size, source, interm, destin):\n",
    "    # Votre code ici\n",
    "    pass"
   ]
  },
  {
   "cell_type": "markdown",
   "metadata": {},
   "source": [
    "Pour vérifier son fonctionnement :"
   ]
  },
  {
   "cell_type": "code",
   "execution_count": null,
   "metadata": {
    "collapsed": true
   },
   "outputs": [],
   "source": [
    "hanoi(len(source), source, interm, destin)\n",
    "\n",
    "assert (source, interm, destin) == ([], [], [4,3,2,1]), \"Le résultat n'est pas correct\""
   ]
  },
  {
   "cell_type": "markdown",
   "metadata": {},
   "source": [
    "<button data-toggle=\"collapse\" data-target=\"#hanoi\" class='btn btn-primary'>Solution</button>\n",
    "<div id=\"hanoi\" class=\"collapse\">\n",
    "    \n",
    "```python\n",
    "source = [4,3,2,1]\n",
    "interm = []\n",
    "destin = []\n",
    "\n",
    "def move(a, b):\n",
    "    if not a:\n",
    "        raise Exception('Interdit: la colonne source est vide !')\n",
    "    item = a.pop()\n",
    "    if b and item > b[-1]:\n",
    "        raise Exception('Interdit: le disque {} est trop grand pour la colonne destination: {} => {}'.format(item, a, b))\n",
    "    b.append(item)\n",
    "    print('Déplaçons {}: source={}, interm={}, destin={}'.format(item, source, interm, destin))\n",
    "\n",
    "def hanoi(size, source, interm, destin):\n",
    "    if size > 0:\n",
    "        hanoi(size - 1, source, destin, interm)\n",
    "        move(source, destin)\n",
    "        hanoi(size - 1, interm, source, destin)\n",
    "\n",
    "hanoi(len(source), source, interm, destin)\n",
    "\n",
    "assert (source, interm, destin) == ([], [], [4,3,2,1])\n",
    "```"
   ]
  }
 ],
 "metadata": {
  "kernelspec": {
   "display_name": "Python 3",
   "language": "python",
   "name": "python3"
  },
  "language_info": {
   "codemirror_mode": {
    "name": "ipython",
    "version": 3
   },
   "file_extension": ".py",
   "mimetype": "text/x-python",
   "name": "python",
   "nbconvert_exporter": "python",
   "pygments_lexer": "ipython3",
   "version": "3.6.2"
  }
 },
 "nbformat": 4,
 "nbformat_minor": 1
}
